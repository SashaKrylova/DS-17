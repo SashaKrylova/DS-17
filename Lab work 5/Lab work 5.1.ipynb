{
 "cells":[
  {
   "cell_type":"markdown",
   "source":[
    "___\n",
    "\n",
    "<a href='https:\/\/mainacademy.ua\/'> <img src='https:\/\/mainacademy.ua\/wp-content\/uploads\/2019\/03\/logo-main.png' alt = 'Хмм, щось з інтернетом'\/><\/a>\n",
    "___\n",
    "\n",
    "# Module 5: Data analysis with NumPy and Pandas"
   ],
   "attachments":{
    
   },
   "metadata":{
    "datalore":{
     "node_id":"3hwjAG85CeLu0eLRb5JBik",
     "type":"MD",
     "hide_input_from_viewers":false,
     "hide_output_from_viewers":false,
     "report_properties":{
      "rowId":"JRGekCXlD9jIdpUncJy0Dy"
     }
    }
   }
  },
  {
   "cell_type":"markdown",
   "source":[
    "## Lab work 5.1\n"
   ],
   "attachments":{
    
   },
   "metadata":{
    "datalore":{
     "node_id":"6n6xY8YA68Lb6SVMTljHaL",
     "type":"MD",
     "hide_input_from_viewers":false,
     "hide_output_from_viewers":false,
     "report_properties":{
      "rowId":"2Wjz5ej5yUGCnzaeRwCANC"
     }
    }
   }
  },
  {
   "cell_type":"markdown",
   "source":[
    "#### Мета: \n",
    "\n",
    "* навчитися працювати із бібліотекою NumPy в Python"
   ],
   "attachments":{
    
   },
   "metadata":{
    "datalore":{
     "node_id":"p2ES5Es8bIq0BylC78whPV",
     "type":"MD",
     "hide_input_from_viewers":false,
     "hide_output_from_viewers":false,
     "report_properties":{
      "rowId":"3u2zE0kVOMqzr0VYGKPfOR"
     }
    }
   }
  },
  {
   "cell_type":"markdown",
   "source":[
    "### Завдання:"
   ],
   "attachments":{
    
   },
   "metadata":{
    "datalore":{
     "node_id":"Ob66ygED7fGGW0SQdCLk9x",
     "type":"MD",
     "hide_input_from_viewers":false,
     "hide_output_from_viewers":false,
     "report_properties":{
      "rowId":"0y1l3U7emQjOlQSI1soTll"
     }
    }
   }
  },
  {
   "cell_type":"code",
   "source":[
    "import numpy as np"
   ],
   "execution_count":2,
   "outputs":[
    
   ],
   "metadata":{
    "datalore":{
     "node_id":"ASge9bHSdam1NTBbZgJTZm",
     "type":"CODE",
     "hide_input_from_viewers":false,
     "hide_output_from_viewers":false,
     "report_properties":{
      "rowId":"Xbi7DG2qLqmECzr1U9yBNQ"
     }
    }
   }
  },
  {
   "cell_type":"markdown",
   "source":[
    "Вивести версію та конфігурацію бібліотеки:"
   ],
   "attachments":{
    
   },
   "metadata":{
    "datalore":{
     "node_id":"IERqYC1WKVD35ckyMQiNC0",
     "type":"MD",
     "hide_input_from_viewers":false,
     "hide_output_from_viewers":false,
     "report_properties":{
      "rowId":"xrUrWYyP10NmuRTUBwrVFn"
     }
    }
   }
  },
  {
   "cell_type":"code",
   "source":[
    "np.__version__"
   ],
   "execution_count":3,
   "outputs":[
    {
     "data":{
      "text\/plain":[
       "'1.23.5'"
      ]
     },
     "metadata":{
      
     },
     "output_type":"display_data"
    }
   ],
   "metadata":{
    "datalore":{
     "node_id":"KbKbJkzFSGOPT8b1EGCoId",
     "type":"CODE",
     "hide_input_from_viewers":false,
     "hide_output_from_viewers":false,
     "report_properties":{
      "rowId":"JQzgdE5x4qkWwziR51oBvI"
     }
    }
   }
  },
  {
   "cell_type":"code",
   "source":[
    "np.__config__"
   ],
   "execution_count":4,
   "outputs":[
    {
     "data":{
      "text\/plain":[
       "<module 'numpy.__config__' from '\/opt\/python\/envs\/default\/lib\/python3.8\/site-packages\/numpy\/__config__.py'>"
      ]
     },
     "metadata":{
      
     },
     "output_type":"display_data"
    }
   ],
   "metadata":{
    "datalore":{
     "node_id":"asaN0hrweY8tdLCk3EOE8I",
     "type":"CODE",
     "hide_input_from_viewers":true,
     "hide_output_from_viewers":true
    }
   }
  },
  {
   "cell_type":"markdown",
   "source":[
    "Створити вектор з 10 елементів, заповнений одиницями:"
   ],
   "attachments":{
    
   },
   "metadata":{
    "datalore":{
     "node_id":"5bOuN4T7aWWOrGvPmjgnqr",
     "type":"MD",
     "hide_input_from_viewers":false,
     "hide_output_from_viewers":false,
     "report_properties":{
      "rowId":"horYmcW9yyn63yhfAtVtUM"
     }
    }
   }
  },
  {
   "cell_type":"code",
   "source":[
    "arrey = np.ones(10)\n",
    "arrey"
   ],
   "execution_count":6,
   "outputs":[
    {
     "data":{
      "text\/html":[
       "<pre>array([1., 1., 1., 1., 1., 1., 1., 1., 1., 1.])<\/pre>"
      ]
     },
     "metadata":{
      
     },
     "output_type":"display_data"
    }
   ],
   "metadata":{
    "datalore":{
     "node_id":"gc7WZRCE6vTsdeUpBIcvW9",
     "type":"CODE",
     "hide_input_from_viewers":false,
     "hide_output_from_viewers":false,
     "report_properties":{
      "rowId":"Iwp2bIIDgS1cKXHWW3kNoe"
     }
    }
   }
  },
  {
   "cell_type":"markdown",
   "source":[
    "Створити вектор із значеннями від 0 до 10:"
   ],
   "attachments":{
    
   },
   "metadata":{
    "datalore":{
     "node_id":"MpXvk6oYhHt6IGzqJxFyHY",
     "type":"MD",
     "hide_input_from_viewers":false,
     "hide_output_from_viewers":false,
     "report_properties":{
      "rowId":"KnRtULn9cLZk375sr6dxCl"
     }
    }
   }
  },
  {
   "cell_type":"code",
   "source":[
    "arrey = np.arange(11)\n",
    "arrey"
   ],
   "execution_count":7,
   "outputs":[
    {
     "data":{
      "text\/html":[
       "<pre>array([ 0,  1,  2,  3,  4,  5,  6,  7,  8,  9, 10])<\/pre>"
      ]
     },
     "metadata":{
      
     },
     "output_type":"display_data"
    }
   ],
   "metadata":{
    "datalore":{
     "node_id":"Qjf3CeNCCwxCOcP2Onjl98",
     "type":"CODE",
     "hide_input_from_viewers":false,
     "hide_output_from_viewers":false,
     "report_properties":{
      "rowId":"Yr2g93IY3dpX8PSvRfLIBH"
     }
    }
   }
  },
  {
   "cell_type":"markdown",
   "source":[
    "Створити матрицю 5 на 5, заповнену нулями:"
   ],
   "attachments":{
    
   },
   "metadata":{
    "datalore":{
     "node_id":"iPdt6U5qvf3gahH5SHK28i",
     "type":"MD",
     "hide_input_from_viewers":false,
     "hide_output_from_viewers":false,
     "report_properties":{
      "rowId":"gIPlFfrDo92lzWuvvVCdSF"
     }
    }
   }
  },
  {
   "cell_type":"code",
   "source":[
    "matr = np.zeros(25).reshape(5,5)\n",
    "matr"
   ],
   "execution_count":10,
   "outputs":[
    {
     "data":{
      "text\/html":[
       "<pre>array([[0., 0., 0., 0., 0.],\n",
       "       [0., 0., 0., 0., 0.],\n",
       "       [0., 0., 0., 0., 0.],\n",
       "       [0., 0., 0., 0., 0.],\n",
       "       [0., 0., 0., 0., 0.]])<\/pre>"
      ]
     },
     "metadata":{
      
     },
     "output_type":"display_data"
    }
   ],
   "metadata":{
    "datalore":{
     "node_id":"bR5pJ1UfS4zQknkw8fw7U7",
     "type":"CODE",
     "hide_input_from_viewers":false,
     "hide_output_from_viewers":false,
     "report_properties":{
      "rowId":"f6YPhYpqYpFsAxKom68KzL"
     }
    }
   }
  },
  {
   "cell_type":"markdown",
   "source":[
    "Заповнити вектор з 20 елементів випадковими цілими числами. Знайти індекси ненульових елементів:"
   ],
   "attachments":{
    
   },
   "metadata":{
    "datalore":{
     "node_id":"Di59ayDqF98nM1WvIg0f1K",
     "type":"MD",
     "hide_input_from_viewers":false,
     "hide_output_from_viewers":false,
     "report_properties":{
      "rowId":"xNXaGuSJhV5C8erqnwCSv7"
     }
    }
   }
  },
  {
   "cell_type":"code",
   "source":[
    "arrey = np.random.randint(0,100,20,'int')\n",
    "arrey"
   ],
   "execution_count":37,
   "outputs":[
    {
     "data":{
      "text\/html":[
       "<pre>array([90, 73, 34, 45, 19, 69, 10, 72, 76, 20, 39,  0,  6, 73, 96, 54,  4,\n",
       "        4, 68, 99])<\/pre>"
      ]
     },
     "metadata":{
      
     },
     "output_type":"display_data"
    }
   ],
   "metadata":{
    "datalore":{
     "node_id":"0i0eJCKb1d8bDRikko8MfR",
     "type":"CODE",
     "hide_input_from_viewers":false,
     "hide_output_from_viewers":false,
     "report_properties":{
      "rowId":"GEOgS7qY3n0GYeP4QC8mUC"
     }
    }
   }
  },
  {
   "cell_type":"code",
   "source":[
    "np.nonzero(arrey)"
   ],
   "execution_count":38,
   "outputs":[
    {
     "data":{
      "text\/plain":[
       "(array([ 0,  1,  2,  3,  4,  5,  6,  7,  8,  9, 10, 12, 13, 14, 15, 16, 17,\n",
       "        18, 19]),)"
      ]
     },
     "metadata":{
      
     },
     "output_type":"display_data"
    }
   ],
   "metadata":{
    "datalore":{
     "node_id":"H2qudpUIe1P87zPxiBnA4h",
     "type":"CODE",
     "hide_input_from_viewers":true,
     "hide_output_from_viewers":true
    }
   }
  },
  {
   "cell_type":"markdown",
   "source":[
    "Для вектора із попередньої задачі знайти середнє значення, медіану, стандартне відхилення:"
   ],
   "attachments":{
    
   },
   "metadata":{
    "datalore":{
     "node_id":"EudxIFdy5BmTf5feBFsQV1",
     "type":"MD",
     "hide_input_from_viewers":false,
     "hide_output_from_viewers":false,
     "report_properties":{
      "rowId":"tgq33EoBlfjVEtN1ouIino"
     }
    }
   }
  },
  {
   "cell_type":"code",
   "source":[
    "np.mean(arrey)"
   ],
   "execution_count":39,
   "outputs":[
    {
     "data":{
      "text\/plain":[
       "47.55"
      ]
     },
     "metadata":{
      
     },
     "output_type":"display_data"
    }
   ],
   "metadata":{
    "datalore":{
     "node_id":"KyPesZNXhV7yJIqhzugg74",
     "type":"CODE",
     "hide_input_from_viewers":false,
     "hide_output_from_viewers":false,
     "report_properties":{
      "rowId":"DYd0Dncg8cUpVtm2ghqogQ"
     }
    }
   }
  },
  {
   "cell_type":"code",
   "source":[
    "np.median(arrey)"
   ],
   "execution_count":40,
   "outputs":[
    {
     "data":{
      "text\/plain":[
       "49.5"
      ]
     },
     "metadata":{
      
     },
     "output_type":"display_data"
    }
   ],
   "metadata":{
    "datalore":{
     "node_id":"Ub2Kj1xtzFL1Fsd5ph36gf",
     "type":"CODE",
     "hide_input_from_viewers":true,
     "hide_output_from_viewers":true
    }
   }
  },
  {
   "cell_type":"code",
   "source":[
    "np.std(arrey)"
   ],
   "execution_count":41,
   "outputs":[
    {
     "data":{
      "text\/plain":[
       "32.7467173927403"
      ]
     },
     "metadata":{
      
     },
     "output_type":"display_data"
    }
   ],
   "metadata":{
    "datalore":{
     "node_id":"8dOwvu7wLIjaQcVGah10kB",
     "type":"CODE",
     "hide_input_from_viewers":true,
     "hide_output_from_viewers":true
    }
   }
  },
  {
   "cell_type":"markdown",
   "source":[
    "Створити дві матриці випадкових чисел розміром 4х2 та 2х2. Перемножити їх:"
   ],
   "attachments":{
    
   },
   "metadata":{
    "datalore":{
     "node_id":"ee0y82ysDdk1D0gYrn6A8s",
     "type":"MD",
     "hide_input_from_viewers":false,
     "hide_output_from_viewers":false,
     "report_properties":{
      "rowId":"qpG8vRjwnLW0HGGOBSgqwu"
     }
    }
   }
  },
  {
   "cell_type":"code",
   "source":[
    "matr_1 = np.random.randint(10, size=(4,2))\n",
    "matr_2 = np.random.randint(10, size=(2,2))\n",
    "\n",
    "matr_3 = np.dot(matr_1,matr_2)\n",
    "matr_3"
   ],
   "execution_count":53,
   "outputs":[
    {
     "data":{
      "text\/html":[
       "<pre>array([[ 0, 79],\n",
       "       [ 0, 52],\n",
       "       [ 0, 35],\n",
       "       [ 0,  3]])<\/pre>"
      ]
     },
     "metadata":{
      
     },
     "output_type":"display_data"
    }
   ],
   "metadata":{
    "datalore":{
     "node_id":"XKJacf9eV09uYNnGBBLXhz",
     "type":"CODE",
     "hide_input_from_viewers":false,
     "hide_output_from_viewers":false,
     "report_properties":{
      "rowId":"I4FD8w0izLP0DKDu07s2k1"
     }
    }
   }
  },
  {
   "cell_type":"markdown",
   "source":[
    "Результуючу матрицю із попередньої задачі перетворити у вектор. Знайти мінімальне та максимальне значення. \n",
    "\n",
    "Максимальне значення замінити на 0:"
   ],
   "attachments":{
    
   },
   "metadata":{
    "datalore":{
     "node_id":"HD65Ns7A3NCYFTnlIiyErV",
     "type":"MD",
     "hide_input_from_viewers":false,
     "hide_output_from_viewers":false,
     "report_properties":{
      "rowId":"GZi5kzOQQe8n81g997uyw7"
     }
    }
   }
  },
  {
   "cell_type":"code",
   "source":[
    "matr_3.reshape(-1)"
   ],
   "execution_count":54,
   "outputs":[
    {
     "data":{
      "text\/html":[
       "<pre>array([ 0, 79,  0, 52,  0, 35,  0,  3])<\/pre>"
      ]
     },
     "metadata":{
      
     },
     "output_type":"display_data"
    }
   ],
   "metadata":{
    "datalore":{
     "node_id":"C9cRLIrbfyTmAfoX7APTxi",
     "type":"CODE",
     "hide_input_from_viewers":false,
     "hide_output_from_viewers":false,
     "report_properties":{
      "rowId":"gJmTlTznZS5j3oNJVoaLUn"
     }
    }
   }
  },
  {
   "cell_type":"code",
   "source":[
    "matr_3.min()"
   ],
   "execution_count":55,
   "outputs":[
    {
     "data":{
      "text\/plain":[
       "0"
      ]
     },
     "metadata":{
      
     },
     "output_type":"display_data"
    }
   ],
   "metadata":{
    "datalore":{
     "node_id":"BYZJVEbUP2MSnZzJzBin8I",
     "type":"CODE",
     "hide_input_from_viewers":true,
     "hide_output_from_viewers":true
    }
   }
  },
  {
   "cell_type":"code",
   "source":[
    "matr_3.max()"
   ],
   "execution_count":56,
   "outputs":[
    {
     "data":{
      "text\/plain":[
       "79"
      ]
     },
     "metadata":{
      
     },
     "output_type":"display_data"
    }
   ],
   "metadata":{
    "datalore":{
     "node_id":"gw6biCtdpTC5Y9jxBTWi3I",
     "type":"CODE",
     "hide_input_from_viewers":true,
     "hide_output_from_viewers":true
    }
   }
  },
  {
   "cell_type":"code",
   "source":[
    "matr_3[matr_3 == matr_3.max()]= 0\n",
    "matr_3"
   ],
   "execution_count":57,
   "outputs":[
    {
     "data":{
      "text\/html":[
       "<pre>array([[ 0,  0],\n",
       "       [ 0, 52],\n",
       "       [ 0, 35],\n",
       "       [ 0,  3]])<\/pre>"
      ]
     },
     "metadata":{
      
     },
     "output_type":"display_data"
    }
   ],
   "metadata":{
    "datalore":{
     "node_id":"cszhp70H2qFnWVsN9dqOZq",
     "type":"CODE",
     "hide_input_from_viewers":true,
     "hide_output_from_viewers":true
    }
   }
  },
  {
   "cell_type":"markdown",
   "source":[
    "Знайдіть кореляцію першого рядка матриці із попереднього завдання із іншими рядками:"
   ],
   "attachments":{
    
   },
   "metadata":{
    "datalore":{
     "node_id":"NCN9rlnZBOZkhtTbrxgWta",
     "type":"MD",
     "hide_input_from_viewers":false,
     "hide_output_from_viewers":false,
     "report_properties":{
      "rowId":"cWe8lEvZ0mNAiFoOWzjAcs"
     }
    }
   }
  },
  {
   "cell_type":"code",
   "source":[
    "np.corrcoef(matr_1)[0,1:]"
   ],
   "execution_count":65,
   "outputs":[
    {
     "data":{
      "text\/html":[
       "<pre>array([ 1.,  1., -1.])<\/pre>"
      ]
     },
     "metadata":{
      
     },
     "output_type":"display_data"
    }
   ],
   "metadata":{
    "datalore":{
     "node_id":"Q2Jl6tsnju4LVItAkBXjc9",
     "type":"CODE",
     "hide_input_from_viewers":false,
     "hide_output_from_viewers":false,
     "report_properties":{
      "rowId":"mQkrndDmj13i0dIBG8Z4ry"
     }
    }
   }
  },
  {
   "cell_type":"markdown",
   "source":[
    "Дано матрицю. Знайти ранг матриці:"
   ],
   "attachments":{
    
   },
   "metadata":{
    "datalore":{
     "node_id":"n2b8eYsITDn1Bul90wYmBa",
     "type":"MD",
     "hide_input_from_viewers":false,
     "hide_output_from_viewers":false,
     "report_properties":{
      "rowId":"MQfMdy7U3cDbFFifl9FLwq"
     }
    }
   }
  },
  {
   "cell_type":"code",
   "source":[
    "a = np.array([[ 1,  4, 5],\n",
    "              [7, 3, 2],\n",
    "              [9, 16, 1]])"
   ],
   "execution_count":66,
   "outputs":[
    
   ],
   "metadata":{
    "datalore":{
     "node_id":"dwvSdqoxff2D0SX9fAjxb1",
     "type":"CODE",
     "hide_input_from_viewers":false,
     "hide_output_from_viewers":false,
     "report_properties":{
      "rowId":"AjeN7L36OadhN1U62E5Xys"
     }
    }
   }
  },
  {
   "cell_type":"code",
   "source":[
    "np.linalg.matrix_rank(a)"
   ],
   "execution_count":67,
   "outputs":[
    {
     "data":{
      "text\/plain":[
       "3"
      ]
     },
     "metadata":{
      
     },
     "output_type":"display_data"
    }
   ],
   "metadata":{
    "datalore":{
     "node_id":"qeJlidlTRZst1TN8JMrlIw",
     "type":"CODE",
     "hide_input_from_viewers":true,
     "hide_output_from_viewers":true
    }
   }
  },
  {
   "cell_type":"markdown",
   "source":[
    "Знайти визначник матриці:"
   ],
   "attachments":{
    
   },
   "metadata":{
    "datalore":{
     "node_id":"avX2NcjLStvb3gDYgtlNe4",
     "type":"MD",
     "hide_input_from_viewers":false,
     "hide_output_from_viewers":false,
     "report_properties":{
      "rowId":"U7yzCKQHEYAK3LgsllADsY"
     }
    }
   }
  },
  {
   "cell_type":"code",
   "source":[
    "np.linalg.det(a)"
   ],
   "execution_count":68,
   "outputs":[
    {
     "data":{
      "text\/plain":[
       "440.0000000000002"
      ]
     },
     "metadata":{
      
     },
     "output_type":"display_data"
    }
   ],
   "metadata":{
    "datalore":{
     "node_id":"UsFwkbK1Xni0PyVWHTf3wu",
     "type":"CODE",
     "hide_input_from_viewers":false,
     "hide_output_from_viewers":false,
     "report_properties":{
      "rowId":"zAtKJ7Qm9W9iNljTzeN9C5"
     }
    }
   }
  },
  {
   "cell_type":"markdown",
   "source":[
    "Знайти власні значення та власні вектори матриці: "
   ],
   "attachments":{
    
   },
   "metadata":{
    "datalore":{
     "node_id":"1WopQzgVpYO17DPAZk3uAR",
     "type":"MD",
     "hide_input_from_viewers":false,
     "hide_output_from_viewers":false,
     "report_properties":{
      "rowId":"AA0j9RWzJV1ETT6weKlvnJ"
     }
    }
   }
  },
  {
   "cell_type":"code",
   "source":[
    "np.linalg.eig(a)"
   ],
   "execution_count":69,
   "outputs":[
    {
     "data":{
      "text\/plain":[
       "(array([14.13520334+0.j        , -4.56760167+3.20389947j,\n",
       "        -4.56760167-3.20389947j]),\n",
       " array([[ 0.43131913+0.j        , -0.31386258-0.47450898j,\n",
       "         -0.31386258+0.47450898j],\n",
       "        [ 0.41502436+0.j        , -0.07049527+0.4090732j ,\n",
       "         -0.07049527-0.4090732j ],\n",
       "        [ 0.8010734 +0.j        ,  0.7099444 +0.j        ,\n",
       "          0.7099444 -0.j        ]]))"
      ]
     },
     "metadata":{
      
     },
     "output_type":"display_data"
    }
   ],
   "metadata":{
    "datalore":{
     "node_id":"UyDUjOTUPYO09g1RXrYRzD",
     "type":"CODE",
     "hide_input_from_viewers":false,
     "hide_output_from_viewers":false,
     "report_properties":{
      "rowId":"vy7GkRMnmn0eCt937HHdim"
     }
    }
   }
  },
  {
   "cell_type":"markdown",
   "source":[
    "Знайдіть число, що найчастіше зустрічається в масиві:"
   ],
   "attachments":{
    
   },
   "metadata":{
    "datalore":{
     "node_id":"HVX7xP6XFEHkQnJHXA803t",
     "type":"MD",
     "hide_input_from_viewers":false,
     "hide_output_from_viewers":false,
     "report_properties":{
      "rowId":"L0hh3cFlbcCAyld7QuGRzD"
     }
    }
   }
  },
  {
   "cell_type":"code",
   "source":[
    "a = np.random.randint(0,10,50)"
   ],
   "execution_count":70,
   "outputs":[
    
   ],
   "metadata":{
    "datalore":{
     "node_id":"Czc412hSMzSDOgHyHczeba",
     "type":"CODE",
     "hide_input_from_viewers":false,
     "hide_output_from_viewers":false,
     "report_properties":{
      "rowId":"DKRTUbOvnEkCCIYkxMZCVC"
     }
    }
   }
  },
  {
   "cell_type":"code",
   "source":[
    "np.bincount(a).argmax()"
   ],
   "execution_count":73,
   "outputs":[
    {
     "data":{
      "text\/plain":[
       "3"
      ]
     },
     "metadata":{
      
     },
     "output_type":"display_data"
    }
   ],
   "metadata":{
    "datalore":{
     "node_id":"j9NW46pFR0LP6vYM0aAl0s",
     "type":"CODE",
     "hide_input_from_viewers":true,
     "hide_output_from_viewers":true
    }
   }
  },
  {
   "cell_type":"markdown",
   "source":[
    "Виведіть лише парні числа, що діляться на 5:"
   ],
   "attachments":{
    
   },
   "metadata":{
    "datalore":{
     "node_id":"uANHVCdnNq8au9ORScM2tu",
     "type":"MD",
     "hide_input_from_viewers":false,
     "hide_output_from_viewers":false,
     "report_properties":{
      "rowId":"Cigj4ziOCYzLQ4P7ikQBRP"
     }
    }
   }
  },
  {
   "cell_type":"code",
   "source":[
    "a = np.random.randint(0,10,50)\n",
    "a = a[(a % 2 == 0) & (a % 5 == 0)]\n",
    "a"
   ],
   "execution_count":11,
   "outputs":[
    {
     "data":{
      "text\/html":[
       "<pre>array([0, 0, 0, 0, 0])<\/pre>"
      ]
     },
     "metadata":{
      
     },
     "output_type":"display_data"
    }
   ],
   "metadata":{
    "datalore":{
     "node_id":"w1XTWLE3e2l78ierUrTM6w",
     "type":"CODE",
     "hide_input_from_viewers":false,
     "hide_output_from_viewers":false,
     "report_properties":{
      "rowId":"0TE440ViAFyV7pUeI1Z2Rq"
     }
    }
   }
  },
  {
   "cell_type":"markdown",
   "source":[
    "Розв'яжіть систему рівнянь:\n",
    "$$2x + 5y = 1 $$\n",
    "\n",
    "$$x - 10y = 3  $$\n",
    "   "
   ],
   "attachments":{
    
   },
   "metadata":{
    "datalore":{
     "node_id":"wHbWV4ONjDvDxusl3fgD2p",
     "type":"MD",
     "hide_input_from_viewers":false,
     "hide_output_from_viewers":false,
     "report_properties":{
      "rowId":"0GG8RuQ6zASE8uUcZlzoVt"
     }
    }
   }
  },
  {
   "cell_type":"code",
   "source":[
    "\n",
    "# матриця коефіцієнтів\n",
    "a = np.array([[2, 5], [1, -10]])\n",
    "\n",
    "# вектор вільних членів\n",
    "b = np.array([1, 3])\n",
    "\n",
    "# розв'язуємо систему рівнянь\n",
    "np.linalg.solve(a, b)   "
   ],
   "execution_count":12,
   "outputs":[
    {
     "data":{
      "text\/html":[
       "<pre>array([ 1. , -0.2])<\/pre>"
      ]
     },
     "metadata":{
      
     },
     "output_type":"display_data"
    }
   ],
   "metadata":{
    "datalore":{
     "node_id":"tBdPnXfwFf1Y77PtZzrNHx",
     "type":"CODE",
     "hide_input_from_viewers":false,
     "hide_output_from_viewers":false,
     "report_properties":{
      "rowId":"Bx0CRfqRDLmdsQbaZpOrJg"
     }
    }
   }
  }
 ],
 "metadata":{
  "kernelspec":{
   "display_name":"Python",
   "language":"python",
   "name":"python"
  },
  "datalore":{
   "computation_mode":"JUPYTER",
   "package_manager":"pip",
   "base_environment":"default",
   "packages":[
    
   ],
   "report_row_ids":[
    "JRGekCXlD9jIdpUncJy0Dy",
    "2Wjz5ej5yUGCnzaeRwCANC",
    "3u2zE0kVOMqzr0VYGKPfOR",
    "0y1l3U7emQjOlQSI1soTll",
    "Xbi7DG2qLqmECzr1U9yBNQ",
    "xrUrWYyP10NmuRTUBwrVFn",
    "JQzgdE5x4qkWwziR51oBvI",
    "horYmcW9yyn63yhfAtVtUM",
    "Iwp2bIIDgS1cKXHWW3kNoe",
    "KnRtULn9cLZk375sr6dxCl",
    "Yr2g93IY3dpX8PSvRfLIBH",
    "gIPlFfrDo92lzWuvvVCdSF",
    "f6YPhYpqYpFsAxKom68KzL",
    "xNXaGuSJhV5C8erqnwCSv7",
    "GEOgS7qY3n0GYeP4QC8mUC",
    "tgq33EoBlfjVEtN1ouIino",
    "DYd0Dncg8cUpVtm2ghqogQ",
    "qpG8vRjwnLW0HGGOBSgqwu",
    "I4FD8w0izLP0DKDu07s2k1",
    "GZi5kzOQQe8n81g997uyw7",
    "gJmTlTznZS5j3oNJVoaLUn",
    "cWe8lEvZ0mNAiFoOWzjAcs",
    "mQkrndDmj13i0dIBG8Z4ry",
    "MQfMdy7U3cDbFFifl9FLwq",
    "AjeN7L36OadhN1U62E5Xys",
    "U7yzCKQHEYAK3LgsllADsY",
    "zAtKJ7Qm9W9iNljTzeN9C5",
    "AA0j9RWzJV1ETT6weKlvnJ",
    "vy7GkRMnmn0eCt937HHdim",
    "L0hh3cFlbcCAyld7QuGRzD",
    "DKRTUbOvnEkCCIYkxMZCVC",
    "Cigj4ziOCYzLQ4P7ikQBRP",
    "0TE440ViAFyV7pUeI1Z2Rq",
    "0GG8RuQ6zASE8uUcZlzoVt",
    "Bx0CRfqRDLmdsQbaZpOrJg"
   ],
   "version":2
  }
 },
 "nbformat":4,
 "nbformat_minor":4
}