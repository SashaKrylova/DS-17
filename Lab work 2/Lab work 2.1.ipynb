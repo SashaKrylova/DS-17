{
 "cells":[
  {
   "cell_type":"markdown",
   "source":[
    "___\n",
    "\n",
    "<a href='https:\/\/mainacademy.ua\/'> <img src='https:\/\/mainacademy.ua\/wp-content\/uploads\/2019\/03\/logo-main.png' alt = 'Хмм, щось з інтернетом'\/><\/a>\n",
    "___\n",
    "\n",
    "# Module 2: Basic Python"
   ],
   "attachments":{
    
   },
   "metadata":{
    "datalore":{
     "node_id":"OAy5Gmi2lutveKz9oye2Rw",
     "type":"MD",
     "hide_input_from_viewers":false,
     "hide_output_from_viewers":false,
     "report_properties":{
      
     }
    }
   }
  },
  {
   "cell_type":"markdown",
   "source":[
    "## Lab work 2.1\n"
   ],
   "attachments":{
    
   },
   "metadata":{
    "datalore":{
     "node_id":"nRPEuYOEIGqnScNcY6IkrL",
     "type":"MD",
     "hide_input_from_viewers":false,
     "hide_output_from_viewers":false,
     "report_properties":{
      
     }
    }
   }
  },
  {
   "cell_type":"markdown",
   "source":[
    "#### Мета: \n",
    "\n",
    "* навчитися працювати із основними типами та структурами даних в Python;\n",
    "* ознайомитися із базовими алгоритмами;"
   ],
   "attachments":{
    
   },
   "metadata":{
    "datalore":{
     "node_id":"fMdHibD1ArSjKxNfX7rSgF",
     "type":"MD",
     "hide_input_from_viewers":false,
     "hide_output_from_viewers":false,
     "report_properties":{
      
     }
    }
   }
  },
  {
   "cell_type":"markdown",
   "source":[
    "#### Завдання 1"
   ],
   "attachments":{
    
   },
   "metadata":{
    "datalore":{
     "node_id":"NURpzPKDfiSeCZqnTPkUJX",
     "type":"MD",
     "hide_input_from_viewers":false,
     "hide_output_from_viewers":false,
     "report_properties":{
      
     }
    }
   }
  },
  {
   "cell_type":"markdown",
   "source":[
    "Обчислити площу трикутника, коли відома сторона та проведена висота до неї"
   ],
   "attachments":{
    
   },
   "metadata":{
    "datalore":{
     "node_id":"i8lVfFvLmRgmWLQhEtHr7L",
     "type":"MD",
     "hide_input_from_viewers":false,
     "hide_output_from_viewers":false,
     "report_properties":{
      
     }
    }
   }
  },
  {
   "cell_type":"code",
   "source":[
    "a = int(input(\"Введіть сторону трикутника: \"))\n",
    "h = int(input(\"Введіть висоту, опущену до цієї сторони: \"))\n",
    "\n",
    "P = a * h \/ 2\n",
    "\n",
    "print(f\"Площа трикутника складає: {P} одиниць\")"
   ],
   "execution_count":18,
   "outputs":[
    {
     "name":"stdout",
     "text":[
      "Введіть сторону трикутника:  7\n",
      "Введіть висоту, опущену до цієї сторони:  3\n",
      "Площа трикутника складає: 10.5 одиниць\n"
     ],
     "output_type":"stream"
    }
   ],
   "metadata":{
    "datalore":{
     "node_id":"vnzGyKroI19zSz62aVq9Ka",
     "type":"CODE",
     "hide_input_from_viewers":false,
     "hide_output_from_viewers":false,
     "report_properties":{
      
     }
    }
   }
  },
  {
   "cell_type":"markdown",
   "source":[
    "#### Завдання 2"
   ],
   "attachments":{
    
   },
   "metadata":{
    "datalore":{
     "node_id":"vs6OfU9LIhYgjIwhJPi1ej",
     "type":"MD",
     "hide_input_from_viewers":false,
     "hide_output_from_viewers":false,
     "report_properties":{
      
     }
    }
   }
  },
  {
   "cell_type":"markdown",
   "source":[
    "Дано трицифрове число. Виведіть окремо кожну цифру числа та суми цифр число\n",
    "\n",
    "Реалізуйте завдання двома способами (використовуючи стрічки та оператори `%`, `\/\/`)"
   ],
   "attachments":{
    
   },
   "metadata":{
    "datalore":{
     "node_id":"xUC7YjbRxHHkcVIjRk2L8o",
     "type":"MD",
     "hide_input_from_viewers":false,
     "hide_output_from_viewers":false,
     "report_properties":{
      
     }
    }
   }
  },
  {
   "cell_type":"code",
   "source":[
    "# 1-й спосіб \n",
    "\n",
    "N = input(\"Введіть тризначне число: \")\n",
    "\n",
    "n1 = N[0]\n",
    "n2 = N[1]\n",
    "n3 = N[2]\n",
    "\n",
    "print(f'Ваші цифри : {n1}, {n2}, {n3}') \n",
    "print(f'Сумма цифр : {int(n1) + int(n2) + int(n3)}') "
   ],
   "execution_count":19,
   "outputs":[
    {
     "name":"stdout",
     "text":[
      "Введіть тризначне число:  345\n",
      "Ваші цифри : 3, 4, 5\n",
      "Сумма цифр : 12\n"
     ],
     "output_type":"stream"
    }
   ],
   "metadata":{
    "datalore":{
     "node_id":"pzJn3ctlcvLOxH2o6DjrEu",
     "type":"CODE",
     "hide_input_from_viewers":false,
     "hide_output_from_viewers":false,
     "report_properties":{
      
     }
    }
   }
  },
  {
   "cell_type":"code",
   "source":[
    "# 2-й спосіб \n",
    "\n",
    "N = int(input(\"Введіть тризначне число: \"))\n",
    "\n",
    "n1 = N \/\/ 100\n",
    "n2 = N \/\/ 10 % 10\n",
    "n3 = N % 10\n",
    "    \n",
    "print(f'Ваші цифри : {n1}, {n2}, {n3}') \n",
    "print(f'Сумма цифр : {n1 + n2 + n3}') "
   ],
   "execution_count":20,
   "outputs":[
    {
     "name":"stdout",
     "text":[
      "Введіть тризначне число:  111\n",
      "Ваші цифри : 1, 1, 1\n",
      "Сумма цифр : 3\n"
     ],
     "output_type":"stream"
    }
   ],
   "metadata":{
    "datalore":{
     "node_id":"OTg4uUWB3d7CJYqVafy7hX",
     "type":"CODE",
     "hide_input_from_viewers":false,
     "hide_output_from_viewers":false,
     "report_properties":{
      
     }
    }
   }
  },
  {
   "cell_type":"markdown",
   "source":[
    "#### Завдання 3"
   ],
   "attachments":{
    
   },
   "metadata":{
    "datalore":{
     "node_id":"fcqexTEFKKRMXkWm2U37aO",
     "type":"MD",
     "hide_input_from_viewers":false,
     "hide_output_from_viewers":false,
     "report_properties":{
      
     }
    }
   }
  },
  {
   "cell_type":"markdown",
   "source":[
    "Дано речення (стрічка). \n",
    "* Розбийте речення по словах і помістіть їх у список. \n",
    "* Виведіть кількість слів у речені.\n",
    "* Утворіть нове речення, що складається з першого та останнього слова із початкового речення."
   ],
   "attachments":{
    
   },
   "metadata":{
    "datalore":{
     "node_id":"vxVhIcrgR7FENVKDAaeZGL",
     "type":"MD",
     "hide_input_from_viewers":false,
     "hide_output_from_viewers":false,
     "report_properties":{
      
     }
    }
   }
  },
  {
   "cell_type":"code",
   "source":[
    "sentence = 'My favourite tutor in academy is Ihor'"
   ],
   "execution_count":4,
   "outputs":[
    
   ],
   "metadata":{
    "datalore":{
     "node_id":"63hh5O8OBjkDosvkaZAnN2",
     "type":"CODE",
     "hide_input_from_viewers":false,
     "hide_output_from_viewers":false,
     "report_properties":{
      
     }
    }
   }
  },
  {
   "cell_type":"code",
   "source":[
    "# Розбийте речення по словах і помістіть їх у список.\n",
    "\n",
    "new_list = list(sentence.split())"
   ],
   "execution_count":5,
   "outputs":[
    
   ],
   "metadata":{
    "datalore":{
     "node_id":"vb1WSTB2S10fynSA0kIznZ",
     "type":"CODE",
     "hide_input_from_viewers":false,
     "hide_output_from_viewers":false,
     "report_properties":{
      
     }
    }
   }
  },
  {
   "cell_type":"code",
   "source":[
    "# Виведіть кількість слів у речені.\n",
    "\n",
    "words = len(new_list)\n",
    "words"
   ],
   "execution_count":9,
   "outputs":[
    {
     "data":{
      "text\/plain":[
       "7"
      ]
     },
     "metadata":{
      
     },
     "output_type":"display_data"
    }
   ],
   "metadata":{
    "datalore":{
     "node_id":"VrxGUDk73MdUcY1P8rbHtt",
     "type":"CODE",
     "hide_input_from_viewers":false,
     "hide_output_from_viewers":false,
     "report_properties":{
      
     }
    }
   }
  },
  {
   "cell_type":"code",
   "source":[
    "# Утворіть нове речення, що складається з першого та останнього слова із початкового речення.\n",
    "\n",
    "new_sentence = new_list[0] +' '+ new_list[-1]\n",
    "new_sentence"
   ],
   "execution_count":10,
   "outputs":[
    {
     "data":{
      "text\/plain":[
       "'My Ihor'"
      ]
     },
     "metadata":{
      
     },
     "output_type":"display_data"
    }
   ],
   "metadata":{
    "datalore":{
     "node_id":"MSFGSUJ0NT9BFYcn8dT40B",
     "type":"CODE",
     "hide_input_from_viewers":false,
     "hide_output_from_viewers":false,
     "report_properties":{
      
     }
    }
   }
  },
  {
   "cell_type":"markdown",
   "source":[
    "#### Завдання 4"
   ],
   "attachments":{
    
   },
   "metadata":{
    "datalore":{
     "node_id":"3KfXizFwHHP7bcfaV42iUC",
     "type":"MD",
     "hide_input_from_viewers":false,
     "hide_output_from_viewers":false,
     "report_properties":{
      
     }
    }
   }
  },
  {
   "cell_type":"markdown",
   "source":[
    "Перевірте, чи справджується формула: $$ sin^2x + cos^2x = 1$$\n",
    "\n",
    "Напишіть код, що реалізує цю формулу. Нагадую, що тригонометричні функції приймають аргументи в радіанній мірі"
   ],
   "attachments":{
    
   },
   "metadata":{
    "datalore":{
     "node_id":"b4dUgCK57pOTMo2gDCeir6",
     "type":"MD",
     "hide_input_from_viewers":false,
     "hide_output_from_viewers":false,
     "report_properties":{
      
     }
    }
   }
  },
  {
   "cell_type":"code",
   "source":[
    "import math\n",
    "\n",
    "\n",
    "x = int(input(\"Введіть кут в градусах: \"))\n",
    "\n",
    "x_radians = math.radians(x)\n",
    "\n",
    "if math.sin(x_radians)**2 + math.cos(x_radians)**2 == 1:\n",
    "    print(\"Тотожність вірна\")\n",
    "else: \n",
    "    print(\"Тотожність не вірна\")"
   ],
   "execution_count":12,
   "outputs":[
    {
     "name":"stdout",
     "text":[
      "Введіть кут в градусах:  30\n",
      "Тотожність вірна\n"
     ],
     "output_type":"stream"
    }
   ],
   "metadata":{
    "datalore":{
     "node_id":"f7QPNqI8k3tq7VmglaSkEz",
     "type":"CODE",
     "hide_input_from_viewers":false,
     "hide_output_from_viewers":false,
     "report_properties":{
      
     }
    }
   }
  },
  {
   "cell_type":"markdown",
   "source":[
    "#### Завдання 5"
   ],
   "attachments":{
    
   },
   "metadata":{
    "datalore":{
     "node_id":"JMfgMGefi60880zaIINIUp",
     "type":"MD",
     "hide_input_from_viewers":false,
     "hide_output_from_viewers":false,
     "report_properties":{
      
     }
    }
   }
  },
  {
   "cell_type":"markdown",
   "source":[
    "Напишіть програму для обчислення коренів квадратного рівняння.\n",
    "\n",
    "Нагадую, що `n`-го степеня має `n` коренів. (Корені можуть бути комплексні)"
   ],
   "attachments":{
    
   },
   "metadata":{
    "datalore":{
     "node_id":"7xGqt6V61Ilj1eON6VlEV8",
     "type":"MD",
     "hide_input_from_viewers":false,
     "hide_output_from_viewers":false,
     "report_properties":{
      
     }
    }
   }
  },
  {
   "cell_type":"code",
   "source":[
    "import cmath\n",
    "\n",
    "\n",
    "print(\"Введіть коеффцієнти для рівняння: ax^2 + bx + c = 0: \")\n",
    "\n",
    "a = int(input(\"a = \"))\n",
    "b = int(input(\"b = \"))\n",
    "c = int(input(\"c = \"))\n",
    "\n",
    "D = b ** 2 - 4 * a * c\n",
    "\n",
    "if D == 0 :\n",
    "    x = -(b \/ (2 * a))\n",
    "    print(f\"x = {x}\")\n",
    "else:\n",
    "    x1 = (-b + cmath.sqrt(D)) \/ (2 * a)\n",
    "    x2 = (-b - cmath.sqrt(D)) \/ (2 * a)\n",
    "    print(f\"x1 = {x1}, x2 = {x2}\")"
   ],
   "execution_count":15,
   "outputs":[
    {
     "name":"stdout",
     "text":[
      "Введіть коеффцієнти для рівняння: ax^2 + bx + c = 0: \n",
      "a =  1\n",
      "b =  6\n",
      "c =  13\n",
      "x1 = (-3+2j), x2 = (-3-2j)\n"
     ],
     "output_type":"stream"
    }
   ],
   "metadata":{
    "datalore":{
     "node_id":"2f0lF7srqqOfg9SZou2P0x",
     "type":"CODE",
     "hide_input_from_viewers":false,
     "hide_output_from_viewers":false,
     "report_properties":{
      
     }
    }
   }
  },
  {
   "cell_type":"markdown",
   "source":[
    "#### Завдання 6"
   ],
   "attachments":{
    
   },
   "metadata":{
    "datalore":{
     "node_id":"mOTEDBpG8VVdtWOGK5IkUU",
     "type":"MD",
     "hide_input_from_viewers":false,
     "hide_output_from_viewers":false,
     "report_properties":{
      
     }
    }
   }
  },
  {
   "cell_type":"markdown",
   "source":[
    "Напишіть програму, що виводить речення: <i>\"Діаметр планети `Planet` дорівнює` Diament`\"<\/i>, \n",
    "\n",
    "де `Planet` та `Diament` вводить користувач"
   ],
   "attachments":{
    
   },
   "metadata":{
    "datalore":{
     "node_id":"WBJCGgWINHeE2K6bwTCjPV",
     "type":"MD",
     "hide_input_from_viewers":false,
     "hide_output_from_viewers":false,
     "report_properties":{
      
     }
    }
   }
  },
  {
   "cell_type":"code",
   "source":[
    "Planet = input('Введіть назву планети: ')\n",
    "Diament = input(f'Введіть діаметр плаенети {Planet}, км : ')\n",
    "\n",
    "print(f'Діаметр планети {Planet} дорівнює {Diament} км')"
   ],
   "execution_count":17,
   "outputs":[
    {
     "name":"stdout",
     "text":[
      "Введіть назву планети:  Чувак\n",
      "Введіть діаметр плаенети Чувак, км :  245 000\n",
      "Діаметр планети Чувак дорівнює 245 000 км\n"
     ],
     "output_type":"stream"
    }
   ],
   "metadata":{
    "datalore":{
     "node_id":"V80Sf5ho7d2Y9hw3HE3MxR",
     "type":"CODE",
     "hide_input_from_viewers":false,
     "hide_output_from_viewers":false,
     "report_properties":{
      
     }
    }
   }
  }
 ],
 "metadata":{
  "kernelspec":{
   "display_name":"Python",
   "language":"python",
   "name":"python"
  },
  "datalore":{
   "version":1,
   "computation_mode":"JUPYTER",
   "package_manager":"pip",
   "base_environment":"default",
   "packages":[
    
   ]
  }
 },
 "nbformat":4,
 "nbformat_minor":4
}
