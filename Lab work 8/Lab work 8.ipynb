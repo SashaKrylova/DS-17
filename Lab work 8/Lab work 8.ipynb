{
 "cells":[
  {
   "cell_type":"markdown",
   "source":[
    "___\n",
    "\n",
    "<a href='https:\/\/mainacademy.ua\/'> <img src='https:\/\/mainacademy.ua\/wp-content\/uploads\/2019\/03\/logo-main.png' alt = 'Хмм, щось з інтернетом'\/><\/a>\n",
    "___\n",
    "\n",
    "# Module 8: Unsupervised learning"
   ],
   "attachments":{
    
   },
   "metadata":{
    "datalore":{
     "node_id":"T5OzPuU2cr9Cu9sJC6yIpa",
     "type":"MD",
     "hide_input_from_viewers":false,
     "hide_output_from_viewers":false,
     "report_properties":{
      "rowId":"y7GmPSCzdBuB13EMrgZML3"
     }
    }
   }
  },
  {
   "cell_type":"markdown",
   "source":[
    "## Lab work 8\n"
   ],
   "attachments":{
    
   },
   "metadata":{
    "datalore":{
     "node_id":"VdDt8q8ha156vmJCYVlmrQ",
     "type":"MD",
     "hide_input_from_viewers":false,
     "hide_output_from_viewers":false,
     "report_properties":{
      "rowId":"3p4qFFC6kz99hfSkPpy0P5"
     }
    }
   }
  },
  {
   "cell_type":"markdown",
   "source":[
    "#### Мета: \n",
    "\n",
    "* навчитися використовувати моделі без учителем"
   ],
   "attachments":{
    
   },
   "metadata":{
    "datalore":{
     "node_id":"lRzhgOFBuZUl69jvlUmiRL",
     "type":"MD",
     "hide_input_from_viewers":false,
     "hide_output_from_viewers":false,
     "report_properties":{
      "rowId":"lnCKmfStT47NvyxXedoJcm"
     }
    }
   }
  },
  {
   "cell_type":"markdown",
   "source":[
    "### Завдання 1:"
   ],
   "attachments":{
    
   },
   "metadata":{
    "datalore":{
     "node_id":"mZNileTfm18IcPfuy7rJnN",
     "type":"MD",
     "hide_input_from_viewers":false,
     "hide_output_from_viewers":false,
     "report_properties":{
      "rowId":"GEZ6lVMZhtvWjnOfID6rZt"
     }
    }
   }
  },
  {
   "cell_type":"markdown",
   "source":[
    "Опрацюйте файл `Groceries.csv`. Використовуючи алгоритм асоціативних зв'язків, знайдіть:\n",
    "- зробіть описову статистику даного файлу\n",
    "- ведіть топ-3 продукти, що продаються\n",
    "- виведіть топ-2 пари продуктів, що продаються\n",
    "- придумайте, як отриману інформацію можна використатти (опишіть в 3-4 реченнях)"
   ],
   "attachments":{
    
   },
   "metadata":{
    "datalore":{
     "node_id":"oYbc5uEBr5bAi7yH7yhQ9X",
     "type":"MD",
     "hide_input_from_viewers":false,
     "hide_output_from_viewers":false,
     "report_properties":{
      "rowId":"OtBsGG7uIEivrOrWleVign"
     }
    }
   }
  },
  {
   "cell_type":"code",
   "source":[
    "# !pip install apyori"
   ],
   "execution_count":59,
   "outputs":[
    
   ],
   "metadata":{
    "datalore":{
     "node_id":"hmHOyHjB14kJGLcy8c6ps3",
     "type":"CODE",
     "hide_input_from_viewers":true,
     "hide_output_from_viewers":true
    }
   }
  },
  {
   "cell_type":"code",
   "source":[
    "import pandas as pd\n",
    "from apyori import apriori\n",
    "\n",
    "df = pd.read_csv('\/data\/notebook_files\/groceries.csv')\n",
    "df.describe()"
   ],
   "execution_count":1,
   "outputs":[
    {
     "data":{
      "text\/html":[
       "<div>\n",
       "<style scoped>\n",
       "    .dataframe tbody tr th:only-of-type {\n",
       "        vertical-align: middle;\n",
       "    }\n",
       "\n",
       "    .dataframe tbody tr th {\n",
       "        vertical-align: top;\n",
       "    }\n",
       "\n",
       "    .dataframe thead th {\n",
       "        text-align: right;\n",
       "    }\n",
       "<\/style>\n",
       "<table border=\"1\" class=\"dataframe\">\n",
       "  <thead>\n",
       "    <tr style=\"text-align: right;\">\n",
       "      <th><\/th>\n",
       "      <th>Item(s)<\/th>\n",
       "    <\/tr>\n",
       "  <\/thead>\n",
       "  <tbody>\n",
       "    <tr>\n",
       "      <th>count<\/th>\n",
       "      <td>9835.000000<\/td>\n",
       "    <\/tr>\n",
       "    <tr>\n",
       "      <th>mean<\/th>\n",
       "      <td>4.409456<\/td>\n",
       "    <\/tr>\n",
       "    <tr>\n",
       "      <th>std<\/th>\n",
       "      <td>3.589385<\/td>\n",
       "    <\/tr>\n",
       "    <tr>\n",
       "      <th>min<\/th>\n",
       "      <td>1.000000<\/td>\n",
       "    <\/tr>\n",
       "    <tr>\n",
       "      <th>25%<\/th>\n",
       "      <td>2.000000<\/td>\n",
       "    <\/tr>\n",
       "    <tr>\n",
       "      <th>50%<\/th>\n",
       "      <td>3.000000<\/td>\n",
       "    <\/tr>\n",
       "    <tr>\n",
       "      <th>75%<\/th>\n",
       "      <td>6.000000<\/td>\n",
       "    <\/tr>\n",
       "    <tr>\n",
       "      <th>max<\/th>\n",
       "      <td>32.000000<\/td>\n",
       "    <\/tr>\n",
       "  <\/tbody>\n",
       "<\/table>\n",
       "<\/div>"
      ]
     },
     "metadata":{
      
     },
     "output_type":"display_data"
    }
   ],
   "metadata":{
    "datalore":{
     "node_id":"SlgBiKji6BAIYLXjeGKOLJ",
     "type":"CODE",
     "hide_input_from_viewers":false,
     "hide_output_from_viewers":false,
     "report_properties":{
      "rowId":"7j5XUqIP52J00ZGPv4WHPl"
     }
    }
   }
  },
  {
   "cell_type":"code",
   "source":[
    "df.shape"
   ],
   "execution_count":2,
   "outputs":[
    {
     "data":{
      "text\/plain":[
       "(9835, 33)"
      ]
     },
     "metadata":{
      
     },
     "output_type":"display_data"
    }
   ],
   "metadata":{
    "datalore":{
     "node_id":"XBZTBQtaGjI1WJ3s0wwu29",
     "type":"CODE",
     "hide_input_from_viewers":true,
     "hide_output_from_viewers":true
    }
   }
  },
  {
   "cell_type":"code",
   "source":[
    "item_counts = df.iloc[:, 1:].stack().value_counts()\n",
    "item_counts.head(3)"
   ],
   "execution_count":3,
   "outputs":[
    {
     "data":{
      "text\/html":[
       "<pre>whole milk          2513\n",
       "other vegetables    1903\n",
       "rolls\/buns          1809\n",
       "dtype: int64<\/pre>"
      ]
     },
     "metadata":{
      
     },
     "output_type":"display_data"
    }
   ],
   "metadata":{
    "datalore":{
     "node_id":"51IAkWnCZ7o6bIoxRzuKF7",
     "type":"CODE",
     "hide_input_from_viewers":true,
     "hide_output_from_viewers":true
    }
   }
  },
  {
   "cell_type":"code",
   "source":[
    "item_list_df = df.drop(['Item(s)'], axis=1)"
   ],
   "execution_count":4,
   "outputs":[
    
   ],
   "metadata":{
    "datalore":{
     "node_id":"lkF8tILJq1QztXC0MMADan",
     "type":"CODE",
     "hide_input_from_viewers":true,
     "hide_output_from_viewers":true
    }
   }
  },
  {
   "cell_type":"code",
   "source":[
    "# recipts = []\n",
    "\n",
    "# for i in range(df.shape[0]):\n",
    "#     N = df['Item(s)'][i] \n",
    "#     list_of_items = item_list_df.iloc[i:i+1, :N].values.tolist()\n",
    "#     recipts.append(list_of_items[0])\n",
    "\n",
    "# recipts"
   ],
   "execution_count":5,
   "outputs":[
    
   ],
   "metadata":{
    "datalore":{
     "node_id":"CMDjnDYsuGjvibneblKraa",
     "type":"CODE",
     "hide_input_from_viewers":true,
     "hide_output_from_viewers":true
    }
   }
  },
  {
   "cell_type":"code",
   "source":[
    "transactions = []\n",
    "for i in range(df.shape[0]):\n",
    "    transactions.append([str(item_list_df.values[i,j]) for j in range(df.shape[1]-1) if not pd.isnull(item_list_df.values[i, j])])"
   ],
   "execution_count":6,
   "outputs":[
    
   ],
   "metadata":{
    "datalore":{
     "node_id":"f2HprG6JxpIG8XkfysmaFk",
     "type":"CODE",
     "hide_input_from_viewers":true,
     "hide_output_from_viewers":true
    }
   }
  },
  {
   "cell_type":"code",
   "source":[
    "def create_rules(transactions, min_support, min_cinfidence, min_lift, min_length, max_length):\n",
    "    rules = apriori(transactions,\n",
    "                min_support = min_support, \n",
    "                min_cinfidence = min_cinfidence, \n",
    "                min_lift = min_lift, \n",
    "                min_length = min_length,\n",
    "                max_length = max_length)\n",
    "    results = list(rules)\n",
    "    return results\n",
    "\n",
    "def inspect(results):\n",
    "    lhs         =[tuple(result[2][0][0])[0] for result in results]\n",
    "    rhs         =[tuple(result[2][0][1])[0] for result in results]\n",
    "    supports    =[result[1] for result in results]\n",
    "    confidences =[result[2][0][2] for result in results]\n",
    "    lifts        =[result[2][0][3] for result in results]\n",
    "    return list (zip(lhs, rhs, supports, confidences, lifts))\n",
    "\n",
    "def result_to_DF(result):\n",
    "    result_to_DF = pd.DataFrame(inspect(result), \n",
    "                                  columns = [\"Left hand side\", \"Right hand side\", \"Support\", \"Confidence\", \"Lift\"])\n",
    "    return result_to_DF"
   ],
   "execution_count":7,
   "outputs":[
    
   ],
   "metadata":{
    "datalore":{
     "node_id":"PsPjLRgZiZVOnefQSCEEhb",
     "type":"CODE",
     "hide_input_from_viewers":true,
     "hide_output_from_viewers":true
    }
   }
  },
  {
   "cell_type":"code",
   "source":[
    "result1 = create_rules(transactions, 0.001, 0.2, 3, 2, 2)\n",
    "result_to_DF(result1).nlargest(n = 10, columns = \"Lift\")"
   ],
   "execution_count":8,
   "outputs":[
    {
     "data":{
      "text\/html":[
       "<div>\n",
       "<style scoped>\n",
       "    .dataframe tbody tr th:only-of-type {\n",
       "        vertical-align: middle;\n",
       "    }\n",
       "\n",
       "    .dataframe tbody tr th {\n",
       "        vertical-align: top;\n",
       "    }\n",
       "\n",
       "    .dataframe thead th {\n",
       "        text-align: right;\n",
       "    }\n",
       "<\/style>\n",
       "<table border=\"1\" class=\"dataframe\">\n",
       "  <thead>\n",
       "    <tr style=\"text-align: right;\">\n",
       "      <th><\/th>\n",
       "      <th>Left hand side<\/th>\n",
       "      <th>Right hand side<\/th>\n",
       "      <th>Support<\/th>\n",
       "      <th>Confidence<\/th>\n",
       "      <th>Lift<\/th>\n",
       "    <\/tr>\n",
       "  <\/thead>\n",
       "  <tbody>\n",
       "    <tr>\n",
       "      <th>136<\/th>\n",
       "      <td>mayonnaise<\/td>\n",
       "      <td>mustard<\/td>\n",
       "      <td>0.001423<\/td>\n",
       "      <td>0.155556<\/td>\n",
       "      <td>12.965160<\/td>\n",
       "    <\/tr>\n",
       "    <tr>\n",
       "      <th>1<\/th>\n",
       "      <td>Instant food products<\/td>\n",
       "      <td>hamburger meat<\/td>\n",
       "      <td>0.003050<\/td>\n",
       "      <td>0.379747<\/td>\n",
       "      <td>11.421438<\/td>\n",
       "    <\/tr>\n",
       "    <tr>\n",
       "      <th>73<\/th>\n",
       "      <td>detergent<\/td>\n",
       "      <td>softener<\/td>\n",
       "      <td>0.001118<\/td>\n",
       "      <td>0.058201<\/td>\n",
       "      <td>10.600137<\/td>\n",
       "    <\/tr>\n",
       "    <tr>\n",
       "      <th>130<\/th>\n",
       "      <td>liquor<\/td>\n",
       "      <td>red\/blush wine<\/td>\n",
       "      <td>0.002135<\/td>\n",
       "      <td>0.192661<\/td>\n",
       "      <td>10.025484<\/td>\n",
       "    <\/tr>\n",
       "    <tr>\n",
       "      <th>81<\/th>\n",
       "      <td>flour<\/td>\n",
       "      <td>sugar<\/td>\n",
       "      <td>0.004982<\/td>\n",
       "      <td>0.286550<\/td>\n",
       "      <td>8.463112<\/td>\n",
       "    <\/tr>\n",
       "    <tr>\n",
       "      <th>153<\/th>\n",
       "      <td>popcorn<\/td>\n",
       "      <td>salty snack<\/td>\n",
       "      <td>0.002237<\/td>\n",
       "      <td>0.309859<\/td>\n",
       "      <td>8.192110<\/td>\n",
       "    <\/tr>\n",
       "    <tr>\n",
       "      <th>105<\/th>\n",
       "      <td>ham<\/td>\n",
       "      <td>processed cheese<\/td>\n",
       "      <td>0.003050<\/td>\n",
       "      <td>0.117188<\/td>\n",
       "      <td>7.070792<\/td>\n",
       "    <\/tr>\n",
       "    <tr>\n",
       "      <th>114<\/th>\n",
       "      <td>hamburger meat<\/td>\n",
       "      <td>sauces<\/td>\n",
       "      <td>0.001220<\/td>\n",
       "      <td>0.036697<\/td>\n",
       "      <td>6.683656<\/td>\n",
       "    <\/tr>\n",
       "    <tr>\n",
       "      <th>63<\/th>\n",
       "      <td>cream cheese<\/td>\n",
       "      <td>meat spreads<\/td>\n",
       "      <td>0.001118<\/td>\n",
       "      <td>0.028205<\/td>\n",
       "      <td>6.604701<\/td>\n",
       "    <\/tr>\n",
       "    <tr>\n",
       "      <th>69<\/th>\n",
       "      <td>detergent<\/td>\n",
       "      <td>house keeping products<\/td>\n",
       "      <td>0.001017<\/td>\n",
       "      <td>0.052910<\/td>\n",
       "      <td>6.345980<\/td>\n",
       "    <\/tr>\n",
       "  <\/tbody>\n",
       "<\/table>\n",
       "<\/div>"
      ]
     },
     "metadata":{
      
     },
     "output_type":"display_data"
    }
   ],
   "metadata":{
    "datalore":{
     "node_id":"opL4JBHWPkQHFa0nEMCvLE",
     "type":"CODE",
     "hide_input_from_viewers":true,
     "hide_output_from_viewers":true
    }
   }
  },
  {
   "cell_type":"code",
   "source":[
    "result2 = create_rules(transactions, 0.002, 0.2, 3, 2, 2)\n",
    "result_to_DF(result2).nlargest(n = 10, columns = \"Lift\")"
   ],
   "execution_count":9,
   "outputs":[
    {
     "data":{
      "text\/html":[
       "<div>\n",
       "<style scoped>\n",
       "    .dataframe tbody tr th:only-of-type {\n",
       "        vertical-align: middle;\n",
       "    }\n",
       "\n",
       "    .dataframe tbody tr th {\n",
       "        vertical-align: top;\n",
       "    }\n",
       "\n",
       "    .dataframe thead th {\n",
       "        text-align: right;\n",
       "    }\n",
       "<\/style>\n",
       "<table border=\"1\" class=\"dataframe\">\n",
       "  <thead>\n",
       "    <tr style=\"text-align: right;\">\n",
       "      <th><\/th>\n",
       "      <th>Left hand side<\/th>\n",
       "      <th>Right hand side<\/th>\n",
       "      <th>Support<\/th>\n",
       "      <th>Confidence<\/th>\n",
       "      <th>Lift<\/th>\n",
       "    <\/tr>\n",
       "  <\/thead>\n",
       "  <tbody>\n",
       "    <tr>\n",
       "      <th>0<\/th>\n",
       "      <td>Instant food products<\/td>\n",
       "      <td>hamburger meat<\/td>\n",
       "      <td>0.003050<\/td>\n",
       "      <td>0.379747<\/td>\n",
       "      <td>11.421438<\/td>\n",
       "    <\/tr>\n",
       "    <tr>\n",
       "      <th>37<\/th>\n",
       "      <td>liquor<\/td>\n",
       "      <td>red\/blush wine<\/td>\n",
       "      <td>0.002135<\/td>\n",
       "      <td>0.192661<\/td>\n",
       "      <td>10.025484<\/td>\n",
       "    <\/tr>\n",
       "    <tr>\n",
       "      <th>22<\/th>\n",
       "      <td>flour<\/td>\n",
       "      <td>sugar<\/td>\n",
       "      <td>0.004982<\/td>\n",
       "      <td>0.286550<\/td>\n",
       "      <td>8.463112<\/td>\n",
       "    <\/tr>\n",
       "    <tr>\n",
       "      <th>38<\/th>\n",
       "      <td>popcorn<\/td>\n",
       "      <td>salty snack<\/td>\n",
       "      <td>0.002237<\/td>\n",
       "      <td>0.309859<\/td>\n",
       "      <td>8.192110<\/td>\n",
       "    <\/tr>\n",
       "    <tr>\n",
       "      <th>30<\/th>\n",
       "      <td>ham<\/td>\n",
       "      <td>processed cheese<\/td>\n",
       "      <td>0.003050<\/td>\n",
       "      <td>0.117188<\/td>\n",
       "      <td>7.070792<\/td>\n",
       "    <\/tr>\n",
       "    <tr>\n",
       "      <th>39<\/th>\n",
       "      <td>processed cheese<\/td>\n",
       "      <td>white bread<\/td>\n",
       "      <td>0.004169<\/td>\n",
       "      <td>0.251534<\/td>\n",
       "      <td>5.975445<\/td>\n",
       "    <\/tr>\n",
       "    <tr>\n",
       "      <th>33<\/th>\n",
       "      <td>hamburger meat<\/td>\n",
       "      <td>pasta<\/td>\n",
       "      <td>0.002745<\/td>\n",
       "      <td>0.082569<\/td>\n",
       "      <td>5.486920<\/td>\n",
       "    <\/tr>\n",
       "    <tr>\n",
       "      <th>1<\/th>\n",
       "      <td>baking powder<\/td>\n",
       "      <td>sugar<\/td>\n",
       "      <td>0.003254<\/td>\n",
       "      <td>0.183908<\/td>\n",
       "      <td>5.431639<\/td>\n",
       "    <\/tr>\n",
       "    <tr>\n",
       "      <th>8<\/th>\n",
       "      <td>bottled beer<\/td>\n",
       "      <td>liquor<\/td>\n",
       "      <td>0.004677<\/td>\n",
       "      <td>0.058081<\/td>\n",
       "      <td>5.240594<\/td>\n",
       "    <\/tr>\n",
       "    <tr>\n",
       "      <th>32<\/th>\n",
       "      <td>ham<\/td>\n",
       "      <td>white bread<\/td>\n",
       "      <td>0.005084<\/td>\n",
       "      <td>0.195312<\/td>\n",
       "      <td>4.639851<\/td>\n",
       "    <\/tr>\n",
       "  <\/tbody>\n",
       "<\/table>\n",
       "<\/div>"
      ]
     },
     "metadata":{
      
     },
     "output_type":"display_data"
    }
   ],
   "metadata":{
    "datalore":{
     "node_id":"xLOLC6MmzTcA8Qk0JWKY2A",
     "type":"CODE",
     "hide_input_from_viewers":true,
     "hide_output_from_viewers":true
    }
   }
  },
  {
   "cell_type":"code",
   "source":[
    "result3 = create_rules(transactions, 0.005, 0.5, 3, 2, 2)\n",
    "result_to_DF(result3).nlargest(n = 10, columns = \"Lift\")"
   ],
   "execution_count":10,
   "outputs":[
    {
     "data":{
      "text\/html":[
       "<div>\n",
       "<style scoped>\n",
       "    .dataframe tbody tr th:only-of-type {\n",
       "        vertical-align: middle;\n",
       "    }\n",
       "\n",
       "    .dataframe tbody tr th {\n",
       "        vertical-align: top;\n",
       "    }\n",
       "\n",
       "    .dataframe thead th {\n",
       "        text-align: right;\n",
       "    }\n",
       "<\/style>\n",
       "<table border=\"1\" class=\"dataframe\">\n",
       "  <thead>\n",
       "    <tr style=\"text-align: right;\">\n",
       "      <th><\/th>\n",
       "      <th>Left hand side<\/th>\n",
       "      <th>Right hand side<\/th>\n",
       "      <th>Support<\/th>\n",
       "      <th>Confidence<\/th>\n",
       "      <th>Lift<\/th>\n",
       "    <\/tr>\n",
       "  <\/thead>\n",
       "  <tbody>\n",
       "    <tr>\n",
       "      <th>4<\/th>\n",
       "      <td>ham<\/td>\n",
       "      <td>white bread<\/td>\n",
       "      <td>0.005084<\/td>\n",
       "      <td>0.195312<\/td>\n",
       "      <td>4.639851<\/td>\n",
       "    <\/tr>\n",
       "    <tr>\n",
       "      <th>5<\/th>\n",
       "      <td>herbs<\/td>\n",
       "      <td>root vegetables<\/td>\n",
       "      <td>0.007016<\/td>\n",
       "      <td>0.431250<\/td>\n",
       "      <td>3.956477<\/td>\n",
       "    <\/tr>\n",
       "    <tr>\n",
       "      <th>1<\/th>\n",
       "      <td>berries<\/td>\n",
       "      <td>whipped\/sour cream<\/td>\n",
       "      <td>0.009049<\/td>\n",
       "      <td>0.272171<\/td>\n",
       "      <td>3.796886<\/td>\n",
       "    <\/tr>\n",
       "    <tr>\n",
       "      <th>6<\/th>\n",
       "      <td>hygiene articles<\/td>\n",
       "      <td>napkins<\/td>\n",
       "      <td>0.006101<\/td>\n",
       "      <td>0.185185<\/td>\n",
       "      <td>3.536498<\/td>\n",
       "    <\/tr>\n",
       "    <tr>\n",
       "      <th>2<\/th>\n",
       "      <td>chicken<\/td>\n",
       "      <td>frozen vegetables<\/td>\n",
       "      <td>0.006711<\/td>\n",
       "      <td>0.156398<\/td>\n",
       "      <td>3.251956<\/td>\n",
       "    <\/tr>\n",
       "    <tr>\n",
       "      <th>7<\/th>\n",
       "      <td>sausage<\/td>\n",
       "      <td>sliced cheese<\/td>\n",
       "      <td>0.007016<\/td>\n",
       "      <td>0.074675<\/td>\n",
       "      <td>3.047435<\/td>\n",
       "    <\/tr>\n",
       "    <tr>\n",
       "      <th>0<\/th>\n",
       "      <td>beef<\/td>\n",
       "      <td>root vegetables<\/td>\n",
       "      <td>0.017387<\/td>\n",
       "      <td>0.331395<\/td>\n",
       "      <td>3.040367<\/td>\n",
       "    <\/tr>\n",
       "    <tr>\n",
       "      <th>3<\/th>\n",
       "      <td>chocolate<\/td>\n",
       "      <td>waffles<\/td>\n",
       "      <td>0.005796<\/td>\n",
       "      <td>0.116803<\/td>\n",
       "      <td>3.039048<\/td>\n",
       "    <\/tr>\n",
       "  <\/tbody>\n",
       "<\/table>\n",
       "<\/div>"
      ]
     },
     "metadata":{
      
     },
     "output_type":"display_data"
    }
   ],
   "metadata":{
    "datalore":{
     "node_id":"PR3yjfJ9rZxPZ62qnrtsBl",
     "type":"CODE",
     "hide_input_from_viewers":true,
     "hide_output_from_viewers":true
    }
   }
  },
  {
   "cell_type":"code",
   "source":[
    "result_to_DF(result1).nlargest(n = 2, columns = \"Support\")"
   ],
   "execution_count":11,
   "outputs":[
    {
     "data":{
      "text\/html":[
       "<div>\n",
       "<style scoped>\n",
       "    .dataframe tbody tr th:only-of-type {\n",
       "        vertical-align: middle;\n",
       "    }\n",
       "\n",
       "    .dataframe tbody tr th {\n",
       "        vertical-align: top;\n",
       "    }\n",
       "\n",
       "    .dataframe thead th {\n",
       "        text-align: right;\n",
       "    }\n",
       "<\/style>\n",
       "<table border=\"1\" class=\"dataframe\">\n",
       "  <thead>\n",
       "    <tr style=\"text-align: right;\">\n",
       "      <th><\/th>\n",
       "      <th>Left hand side<\/th>\n",
       "      <th>Right hand side<\/th>\n",
       "      <th>Support<\/th>\n",
       "      <th>Confidence<\/th>\n",
       "      <th>Lift<\/th>\n",
       "    <\/tr>\n",
       "  <\/thead>\n",
       "  <tbody>\n",
       "    <tr>\n",
       "      <th>14<\/th>\n",
       "      <td>beef<\/td>\n",
       "      <td>root vegetables<\/td>\n",
       "      <td>0.017387<\/td>\n",
       "      <td>0.331395<\/td>\n",
       "      <td>3.040367<\/td>\n",
       "    <\/tr>\n",
       "    <tr>\n",
       "      <th>18<\/th>\n",
       "      <td>berries<\/td>\n",
       "      <td>whipped\/sour cream<\/td>\n",
       "      <td>0.009049<\/td>\n",
       "      <td>0.272171<\/td>\n",
       "      <td>3.796886<\/td>\n",
       "    <\/tr>\n",
       "  <\/tbody>\n",
       "<\/table>\n",
       "<\/div>"
      ]
     },
     "metadata":{
      
     },
     "output_type":"display_data"
    }
   ],
   "metadata":{
    "datalore":{
     "node_id":"STMRuVIT3QsBol7RQW7hHt",
     "type":"CODE",
     "hide_input_from_viewers":true,
     "hide_output_from_viewers":true
    }
   }
  },
  {
   "cell_type":"code",
   "source":[
    "result_to_DF(result1).nlargest(n = 2, columns = \"Confidence\")"
   ],
   "execution_count":12,
   "outputs":[
    {
     "data":{
      "text\/html":[
       "<div>\n",
       "<style scoped>\n",
       "    .dataframe tbody tr th:only-of-type {\n",
       "        vertical-align: middle;\n",
       "    }\n",
       "\n",
       "    .dataframe tbody tr th {\n",
       "        vertical-align: top;\n",
       "    }\n",
       "\n",
       "    .dataframe thead th {\n",
       "        text-align: right;\n",
       "    }\n",
       "<\/style>\n",
       "<table border=\"1\" class=\"dataframe\">\n",
       "  <thead>\n",
       "    <tr style=\"text-align: right;\">\n",
       "      <th><\/th>\n",
       "      <th>Left hand side<\/th>\n",
       "      <th>Right hand side<\/th>\n",
       "      <th>Support<\/th>\n",
       "      <th>Confidence<\/th>\n",
       "      <th>Lift<\/th>\n",
       "    <\/tr>\n",
       "  <\/thead>\n",
       "  <tbody>\n",
       "    <tr>\n",
       "      <th>122<\/th>\n",
       "      <td>herbs<\/td>\n",
       "      <td>root vegetables<\/td>\n",
       "      <td>0.007016<\/td>\n",
       "      <td>0.431250<\/td>\n",
       "      <td>3.956477<\/td>\n",
       "    <\/tr>\n",
       "    <tr>\n",
       "      <th>138<\/th>\n",
       "      <td>meat spreads<\/td>\n",
       "      <td>yogurt<\/td>\n",
       "      <td>0.001830<\/td>\n",
       "      <td>0.428571<\/td>\n",
       "      <td>3.072157<\/td>\n",
       "    <\/tr>\n",
       "  <\/tbody>\n",
       "<\/table>\n",
       "<\/div>"
      ]
     },
     "metadata":{
      
     },
     "output_type":"display_data"
    }
   ],
   "metadata":{
    "datalore":{
     "node_id":"60hsR4fL2EDjm6KYe6Go2s",
     "type":"CODE",
     "hide_input_from_viewers":true,
     "hide_output_from_viewers":true
    }
   }
  },
  {
   "cell_type":"markdown",
   "source":[
    "В залежності від того наскільки популярні товари ми розглядаємо, змінюються лідери в парах продажу.\n",
    "Наприклад майонез в парі з гірчицею купляють найчастіше (ліфт > 12), але взагалі в транзакціях ця пара зустрічається не часто(менше 2% випадків), тоді як Продукцію швидкого приготування купують з м'ясом для гамбургерів частіше. Таким чином ми бачимо на скільки важливо підібрати правильні параметри для конкретної задачі.\n",
    "\n",
    "- Отриманні данні можна використати для того щоб розмістити парні товари поряд один з одним в офлайн магазині.\n",
    "- Також другий товар з пари можна пропонувати до покупки першого товару з пари.\n",
    "- Також можна зробити висновки що при знижці на один з товарів з пари з високим ліфтом не слід робити знижку на інший."
   ],
   "attachments":{
    
   },
   "metadata":{
    "datalore":{
     "node_id":"ltPcVZFeWkuk1vyXxi1bjP",
     "type":"MD",
     "hide_input_from_viewers":true,
     "hide_output_from_viewers":true
    }
   }
  },
  {
   "cell_type":"markdown",
   "source":[
    "### Завдання 2:"
   ],
   "attachments":{
    
   },
   "metadata":{
    "datalore":{
     "node_id":"2BG6ypbXxTyfijq6u8rtdx",
     "type":"MD",
     "hide_input_from_viewers":false,
     "hide_output_from_viewers":false,
     "report_properties":{
      "rowId":"0pPYdCdHHS0q5CvPHgvWTJ"
     }
    }
   }
  },
  {
   "cell_type":"markdown",
   "source":[
    "Завантажте файл https:\/\/www.kaggle.com\/vjchoudhary7\/customer-segmentation-tutorial-in-python\n",
    " \n",
    "- Спробуйте провести кластеризацію, тобто виділити цільові групи, для яких можна впроваджувати певні маркетингові акції\n",
    "- Опишіть отримані результати"
   ],
   "attachments":{
    
   },
   "metadata":{
    "datalore":{
     "node_id":"lJ2rAKKtiumX2Np0JkRKYn",
     "type":"MD",
     "hide_input_from_viewers":false,
     "hide_output_from_viewers":false,
     "report_properties":{
      "rowId":"7waAWWLOFXzx5cowPVYpUP"
     }
    }
   }
  },
  {
   "cell_type":"code",
   "source":[
    "from sklearn.preprocessing import StandardScaler, LabelEncoder\n",
    "from sklearn.decomposition import PCA\n",
    "from sklearn.cluster import KMeans, AgglomerativeClustering, SpectralClustering\n",
    "from scipy.cluster.hierarchy import linkage, dendrogram\n",
    "from sklearn import metrics\n",
    "import matplotlib.pyplot as plt"
   ],
   "execution_count":36,
   "outputs":[
    
   ],
   "metadata":{
    "datalore":{
     "node_id":"75bb0l7RKrAyvW9PBdqHhU",
     "type":"CODE",
     "hide_input_from_viewers":true,
     "hide_output_from_viewers":true
    }
   }
  },
  {
   "cell_type":"code",
   "source":[
    "kaggle_df = pd.read_csv('\/data\/notebook_files\/Mall_Customers.csv')\n",
    "kaggle_df.head()"
   ],
   "execution_count":37,
   "outputs":[
    {
     "data":{
      "text\/html":[
       "<div>\n",
       "<style scoped>\n",
       "    .dataframe tbody tr th:only-of-type {\n",
       "        vertical-align: middle;\n",
       "    }\n",
       "\n",
       "    .dataframe tbody tr th {\n",
       "        vertical-align: top;\n",
       "    }\n",
       "\n",
       "    .dataframe thead th {\n",
       "        text-align: right;\n",
       "    }\n",
       "<\/style>\n",
       "<table border=\"1\" class=\"dataframe\">\n",
       "  <thead>\n",
       "    <tr style=\"text-align: right;\">\n",
       "      <th><\/th>\n",
       "      <th>CustomerID<\/th>\n",
       "      <th>Gender<\/th>\n",
       "      <th>Age<\/th>\n",
       "      <th>Annual Income (k$)<\/th>\n",
       "      <th>Spending Score (1-100)<\/th>\n",
       "    <\/tr>\n",
       "  <\/thead>\n",
       "  <tbody>\n",
       "    <tr>\n",
       "      <th>0<\/th>\n",
       "      <td>1<\/td>\n",
       "      <td>Male<\/td>\n",
       "      <td>19<\/td>\n",
       "      <td>15<\/td>\n",
       "      <td>39<\/td>\n",
       "    <\/tr>\n",
       "    <tr>\n",
       "      <th>1<\/th>\n",
       "      <td>2<\/td>\n",
       "      <td>Male<\/td>\n",
       "      <td>21<\/td>\n",
       "      <td>15<\/td>\n",
       "      <td>81<\/td>\n",
       "    <\/tr>\n",
       "    <tr>\n",
       "      <th>2<\/th>\n",
       "      <td>3<\/td>\n",
       "      <td>Female<\/td>\n",
       "      <td>20<\/td>\n",
       "      <td>16<\/td>\n",
       "      <td>6<\/td>\n",
       "    <\/tr>\n",
       "    <tr>\n",
       "      <th>3<\/th>\n",
       "      <td>4<\/td>\n",
       "      <td>Female<\/td>\n",
       "      <td>23<\/td>\n",
       "      <td>16<\/td>\n",
       "      <td>77<\/td>\n",
       "    <\/tr>\n",
       "    <tr>\n",
       "      <th>4<\/th>\n",
       "      <td>5<\/td>\n",
       "      <td>Female<\/td>\n",
       "      <td>31<\/td>\n",
       "      <td>17<\/td>\n",
       "      <td>40<\/td>\n",
       "    <\/tr>\n",
       "  <\/tbody>\n",
       "<\/table>\n",
       "<\/div>"
      ]
     },
     "metadata":{
      
     },
     "output_type":"display_data"
    }
   ],
   "metadata":{
    "datalore":{
     "node_id":"IByGVZ30ARd0SYYhDm1LSh",
     "type":"CODE",
     "hide_input_from_viewers":false,
     "hide_output_from_viewers":false,
     "report_properties":{
      "rowId":"Q7wN8U7Sh3wSVGytW6SNdQ"
     }
    }
   }
  },
  {
   "cell_type":"code",
   "source":[
    "kaggle_df.describe()"
   ],
   "execution_count":38,
   "outputs":[
    {
     "data":{
      "text\/html":[
       "<div>\n",
       "<style scoped>\n",
       "    .dataframe tbody tr th:only-of-type {\n",
       "        vertical-align: middle;\n",
       "    }\n",
       "\n",
       "    .dataframe tbody tr th {\n",
       "        vertical-align: top;\n",
       "    }\n",
       "\n",
       "    .dataframe thead th {\n",
       "        text-align: right;\n",
       "    }\n",
       "<\/style>\n",
       "<table border=\"1\" class=\"dataframe\">\n",
       "  <thead>\n",
       "    <tr style=\"text-align: right;\">\n",
       "      <th><\/th>\n",
       "      <th>CustomerID<\/th>\n",
       "      <th>Age<\/th>\n",
       "      <th>Annual Income (k$)<\/th>\n",
       "      <th>Spending Score (1-100)<\/th>\n",
       "    <\/tr>\n",
       "  <\/thead>\n",
       "  <tbody>\n",
       "    <tr>\n",
       "      <th>count<\/th>\n",
       "      <td>200.000000<\/td>\n",
       "      <td>200.000000<\/td>\n",
       "      <td>200.000000<\/td>\n",
       "      <td>200.000000<\/td>\n",
       "    <\/tr>\n",
       "    <tr>\n",
       "      <th>mean<\/th>\n",
       "      <td>100.500000<\/td>\n",
       "      <td>38.850000<\/td>\n",
       "      <td>60.560000<\/td>\n",
       "      <td>50.200000<\/td>\n",
       "    <\/tr>\n",
       "    <tr>\n",
       "      <th>std<\/th>\n",
       "      <td>57.879185<\/td>\n",
       "      <td>13.969007<\/td>\n",
       "      <td>26.264721<\/td>\n",
       "      <td>25.823522<\/td>\n",
       "    <\/tr>\n",
       "    <tr>\n",
       "      <th>min<\/th>\n",
       "      <td>1.000000<\/td>\n",
       "      <td>18.000000<\/td>\n",
       "      <td>15.000000<\/td>\n",
       "      <td>1.000000<\/td>\n",
       "    <\/tr>\n",
       "    <tr>\n",
       "      <th>25%<\/th>\n",
       "      <td>50.750000<\/td>\n",
       "      <td>28.750000<\/td>\n",
       "      <td>41.500000<\/td>\n",
       "      <td>34.750000<\/td>\n",
       "    <\/tr>\n",
       "    <tr>\n",
       "      <th>50%<\/th>\n",
       "      <td>100.500000<\/td>\n",
       "      <td>36.000000<\/td>\n",
       "      <td>61.500000<\/td>\n",
       "      <td>50.000000<\/td>\n",
       "    <\/tr>\n",
       "    <tr>\n",
       "      <th>75%<\/th>\n",
       "      <td>150.250000<\/td>\n",
       "      <td>49.000000<\/td>\n",
       "      <td>78.000000<\/td>\n",
       "      <td>73.000000<\/td>\n",
       "    <\/tr>\n",
       "    <tr>\n",
       "      <th>max<\/th>\n",
       "      <td>200.000000<\/td>\n",
       "      <td>70.000000<\/td>\n",
       "      <td>137.000000<\/td>\n",
       "      <td>99.000000<\/td>\n",
       "    <\/tr>\n",
       "  <\/tbody>\n",
       "<\/table>\n",
       "<\/div>"
      ]
     },
     "metadata":{
      
     },
     "output_type":"display_data"
    }
   ],
   "metadata":{
    "datalore":{
     "node_id":"EGPSc81fosI1K0BWS4hAhT",
     "type":"CODE",
     "hide_input_from_viewers":true,
     "hide_output_from_viewers":true
    }
   }
  },
  {
   "cell_type":"code",
   "source":[
    "kaggle_df.shape"
   ],
   "execution_count":39,
   "outputs":[
    {
     "data":{
      "text\/plain":[
       "(200, 5)"
      ]
     },
     "metadata":{
      
     },
     "output_type":"display_data"
    }
   ],
   "metadata":{
    "datalore":{
     "node_id":"NlVjdB1vit0KHevdmIIoQR",
     "type":"CODE",
     "hide_input_from_viewers":true,
     "hide_output_from_viewers":true
    }
   }
  },
  {
   "cell_type":"code",
   "source":[
    "kaggle_df.isnull().sum()"
   ],
   "execution_count":40,
   "outputs":[
    {
     "data":{
      "text\/html":[
       "<pre>CustomerID                0\n",
       "Gender                    0\n",
       "Age                       0\n",
       "Annual Income (k$)        0\n",
       "Spending Score (1-100)    0\n",
       "dtype: int64<\/pre>"
      ]
     },
     "metadata":{
      
     },
     "output_type":"display_data"
    }
   ],
   "metadata":{
    "datalore":{
     "node_id":"P3z1crq9kcTv15YNrav8hF",
     "type":"CODE",
     "hide_input_from_viewers":true,
     "hide_output_from_viewers":true
    }
   }
  },
  {
   "cell_type":"code",
   "source":[
    "# scaler = StandardScaler()\n",
    "# columns_to_normalize = ['Age', 'Annual Income (k$)', 'Spending Score (1-100)']\n",
    "# kaggle_df[columns_to_normalize] = scaler.fit_transform(kaggle_df[columns_to_normalize])"
   ],
   "execution_count":41,
   "outputs":[
    
   ],
   "metadata":{
    "datalore":{
     "node_id":"Nz7fByPZ4C960CTMPsrKJJ",
     "type":"CODE",
     "hide_input_from_viewers":true,
     "hide_output_from_viewers":true
    }
   }
  },
  {
   "cell_type":"code",
   "source":[
    "# Male = 1 Female = 0\n",
    "encoder = LabelEncoder()\n",
    "kaggle_df['Gender_encoded'] = encoder.fit_transform(kaggle_df['Gender'])"
   ],
   "execution_count":42,
   "outputs":[
    
   ],
   "metadata":{
    "datalore":{
     "node_id":"2xD5ngt0WF4yEUN2YaqW7n",
     "type":"CODE",
     "hide_input_from_viewers":true,
     "hide_output_from_viewers":true
    }
   }
  },
  {
   "cell_type":"code",
   "source":[
    "model_df = kaggle_df.drop(['Gender','CustomerID' ], axis=1)"
   ],
   "execution_count":43,
   "outputs":[
    
   ],
   "metadata":{
    "datalore":{
     "node_id":"dihFbBuCcTh3YJlAUSqM8Q",
     "type":"CODE",
     "hide_input_from_viewers":true,
     "hide_output_from_viewers":true
    }
   }
  },
  {
   "cell_type":"code",
   "source":[
    "# model_df"
   ],
   "execution_count":44,
   "outputs":[
    
   ],
   "metadata":{
    "datalore":{
     "node_id":"YNl3xsZbGvxUjAofHoyx7w",
     "type":"CODE",
     "hide_input_from_viewers":true,
     "hide_output_from_viewers":true
    }
   }
  },
  {
   "cell_type":"code",
   "source":[
    "model = PCA(n_components=2)\n",
    "new_data = model.fit_transform(model_df)\n",
    "#new_data\n",
    "figures_df = pd.DataFrame(new_data, columns=['Col 1', 'Col 2'])\n",
    "x_axis = figures_df['Col 1']\n",
    "y_axis = figures_df['Col 2']"
   ],
   "execution_count":45,
   "outputs":[
    
   ],
   "metadata":{
    "datalore":{
     "node_id":"YtcQPZTjYWvPPcV96Pj7zp",
     "type":"CODE",
     "hide_input_from_viewers":true,
     "hide_output_from_viewers":true
    }
   }
  },
  {
   "cell_type":"code",
   "source":[
    "sum(model.explained_variance_ratio_)"
   ],
   "execution_count":46,
   "outputs":[
    {
     "data":{
      "text\/plain":[
       "0.8920961624646058"
      ]
     },
     "metadata":{
      
     },
     "output_type":"display_data"
    }
   ],
   "metadata":{
    "datalore":{
     "node_id":"j2LP8s8HmmHjGRYhQY7Bwt",
     "type":"CODE",
     "hide_input_from_viewers":true,
     "hide_output_from_viewers":true
    }
   }
  },
  {
   "cell_type":"markdown",
   "source":[
    "# KMeans"
   ],
   "attachments":{
    
   },
   "metadata":{
    "datalore":{
     "node_id":"wv9b3NCv6S706pSmT6WGcB",
     "type":"MD",
     "hide_input_from_viewers":true,
     "hide_output_from_viewers":true
    }
   }
  },
  {
   "cell_type":"code",
   "source":[
    "inertias = []\n",
    "sizes = range(2, 10)\n",
    "for k in sizes:\n",
    "    k2 = KMeans(random_state=42, n_clusters=k)\n",
    "    k2.fit(model_df)\n",
    "    inertias.append(k2.inertia_)\n",
    "\n",
    "fig, ax= plt.subplots(figsize=(6, 4))\n",
    "pd.Series(inertias, index=sizes).plot(ax=ax)\n",
    "ax.set_xlabel(\"K\")\n",
    "ax.set_ylabel(\"Inertia\")"
   ],
   "execution_count":47,
   "outputs":[
    {
     "data":{
      "text\/plain":[
       "Text(0, 0.5, 'Inertia')"
      ]
     },
     "metadata":{
      
     },
     "output_type":"display_data"
    },
    {
     "data":{
      "image\/png":"[encoded data removed]"
     },
     "metadata":{
      "image\/png":{
       
      }
     },
     "output_type":"display_data"
    }
   ],
   "metadata":{
    "datalore":{
     "node_id":"PzMFdPXrj3DxbYWvR5mab8",
     "type":"CODE",
     "hide_input_from_viewers":true,
     "hide_output_from_viewers":true
    }
   }
  },
  {
   "cell_type":"code",
   "source":[
    "for i in range(2, 10):\n",
    "    model = KMeans(n_clusters=i)\n",
    "    model.fit(model_df)\n",
    "    all_predictions = model.predict(model_df)\n",
    "    s_score = metrics.silhouette_score(model_df, all_predictions)\n",
    "    c_h_score = metrics.calinski_harabasz_score(model_df, all_predictions)\n",
    "    d_b_score = metrics.davies_bouldin_score(model_df, all_predictions)\n",
    "    print(f'For {i} classes\\n Silhouette score: {s_score}\\n Calinski-Harabasz Index: {c_h_score}\\n Davies-Bouldin Index:{d_b_score}\\n--------------------------\\n')\n",
    " "
   ],
   "execution_count":48,
   "outputs":[
    {
     "name":"stdout",
     "text":[
      "For 2 classes\n",
      " Silhouette score: 0.29307334005502633\n",
      " Calinski-Harabasz Index: 89.26031302776754\n",
      " Davies-Bouldin Index:1.3573204663298617\n",
      "--------------------------\n",
      "\n",
      "For 3 classes\n",
      " Silhouette score: 0.383798873822341\n",
      " Calinski-Harabasz Index: 113.66664386810282\n",
      " Davies-Bouldin Index:0.8750649004457003\n",
      "--------------------------\n",
      "\n",
      "For 4 classes\n",
      " Silhouette score: 0.4052954330641215\n",
      " Calinski-Harabasz Index: 127.92482557839757\n",
      " Davies-Bouldin Index:0.8918193554892452\n",
      "--------------------------\n",
      "\n",
      "For 5 classes\n",
      " Silhouette score: 0.4402372958247734\n",
      " Calinski-Harabasz Index: 150.6053184277245\n",
      " Davies-Bouldin Index:0.827242629707305\n",
      "--------------------------\n",
      "\n",
      "For 6 classes\n",
      " Silhouette score: 0.45205475380756527\n",
      " Calinski-Harabasz Index: 166.58349562213596\n",
      " Davies-Bouldin Index:0.7475215820921529\n",
      "--------------------------\n",
      "\n",
      "For 7 classes\n",
      " Silhouette score: 0.4409411333609709\n",
      " Calinski-Harabasz Index: 162.14056670354333\n",
      " Davies-Bouldin Index:0.7892608969186631\n",
      "--------------------------\n",
      "\n",
      "For 8 classes\n",
      " Silhouette score: 0.42438984757889825\n",
      " Calinski-Harabasz Index: 151.21556082132372\n",
      " Davies-Bouldin Index:0.842298849352427\n",
      "--------------------------\n",
      "\n",
      "For 9 classes\n",
      " Silhouette score: 0.4161126112617055\n",
      " Calinski-Harabasz Index: 157.62218660073137\n",
      " Davies-Bouldin Index:0.8879119575442895\n",
      "--------------------------\n",
      "\n"
     ],
     "output_type":"stream"
    }
   ],
   "metadata":{
    "datalore":{
     "node_id":"dEKGdnCQxDGaKoftEOuXaj",
     "type":"CODE",
     "hide_input_from_viewers":true,
     "hide_output_from_viewers":true
    }
   }
  },
  {
   "cell_type":"code",
   "source":[
    "kmeans_model = KMeans(n_clusters=6)\n",
    "kmeans_model.fit(model_df)\n",
    "all_predictions = kmeans_model.predict(model_df)\n",
    "\n",
    "# predicted_label = model.predict([[18, 33, 92, 0]])\n",
    "# predicted_label"
   ],
   "execution_count":49,
   "outputs":[
    
   ],
   "metadata":{
    "datalore":{
     "node_id":"ANCzXknlma6Y6dPP6Gmz4i",
     "type":"CODE",
     "hide_input_from_viewers":true,
     "hide_output_from_viewers":true
    }
   }
  },
  {
   "cell_type":"code",
   "source":[
    "plt.scatter(x_axis, y_axis, c=all_predictions)\n",
    "plt.show()"
   ],
   "execution_count":50,
   "outputs":[
    {
     "data":{
      "image\/png":"[encoded data removed]"
     },
     "metadata":{
      "image\/png":{
       
      }
     },
     "output_type":"display_data"
    }
   ],
   "metadata":{
    "datalore":{
     "node_id":"AWOBqPW3avBIXAmamgddb4",
     "type":"CODE",
     "hide_input_from_viewers":true,
     "hide_output_from_viewers":true
    }
   }
  },
  {
   "cell_type":"markdown",
   "source":[
    "# Агломеративний алгоритм"
   ],
   "attachments":{
    
   },
   "metadata":{
    "datalore":{
     "node_id":"KClUiYJ1r75nf6lf1dSA3G",
     "type":"MD",
     "hide_input_from_viewers":true,
     "hide_output_from_viewers":true
    }
   }
  },
  {
   "cell_type":"code",
   "source":[
    "mergings = linkage(model_df,  method='ward')"
   ],
   "execution_count":51,
   "outputs":[
    
   ],
   "metadata":{
    "datalore":{
     "node_id":"cR6sQY7YvoA9eruoRYLJrU",
     "type":"CODE",
     "hide_input_from_viewers":true,
     "hide_output_from_viewers":true
    }
   }
  },
  {
   "cell_type":"code",
   "source":[
    "dendrogram(mergings,\n",
    "           truncate_mode='lastp',   \n",
    "           p=6,  \n",
    "           leaf_rotation=50,\n",
    "           show_contracted=True)\n",
    "\n",
    "plt.show()"
   ],
   "execution_count":52,
   "outputs":[
    {
     "data":{
      "image\/png":"[encoded data removed]"
     },
     "metadata":{
      "image\/png":{
       
      }
     },
     "output_type":"display_data"
    }
   ],
   "metadata":{
    "datalore":{
     "node_id":"SoSQ09E5nfh7BTYOHSof3f",
     "type":"CODE",
     "hide_input_from_viewers":true,
     "hide_output_from_viewers":true
    }
   }
  },
  {
   "cell_type":"code",
   "source":[
    "agglomerative_model = AgglomerativeClustering(n_clusters=6)\n",
    "y_ac = agglomerative_model.fit_predict(model_df)"
   ],
   "execution_count":53,
   "outputs":[
    
   ],
   "metadata":{
    "datalore":{
     "node_id":"VKMkOMuk7ji7EYdC1gZLv4",
     "type":"CODE",
     "hide_input_from_viewers":true,
     "hide_output_from_viewers":true
    }
   }
  },
  {
   "cell_type":"code",
   "source":[
    "plt.scatter(x_axis, y_axis, c=y_ac)\n",
    "plt.show()"
   ],
   "execution_count":54,
   "outputs":[
    {
     "data":{
      "image\/png":"[encoded data removed]"
     },
     "metadata":{
      "image\/png":{
       
      }
     },
     "output_type":"display_data"
    }
   ],
   "metadata":{
    "datalore":{
     "node_id":"NiMSZMxeCA86kTqpjIriyq",
     "type":"CODE",
     "hide_input_from_viewers":true,
     "hide_output_from_viewers":true
    }
   }
  },
  {
   "cell_type":"markdown",
   "source":[
    "# SpectralClustering"
   ],
   "attachments":{
    
   },
   "metadata":{
    "datalore":{
     "node_id":"wEOhOqyXRZkzcpGe3YVqIk",
     "type":"MD",
     "hide_input_from_viewers":true,
     "hide_output_from_viewers":true
    }
   }
  },
  {
   "cell_type":"code",
   "source":[
    "spectral_model = SpectralClustering(n_clusters = 6, \n",
    "                                        affinity='nearest_neighbors', \n",
    "                                        assign_labels='kmeans')\n",
    "labels = spectral_model.fit_predict(model_df)"
   ],
   "execution_count":55,
   "outputs":[
    
   ],
   "metadata":{
    "datalore":{
     "node_id":"W9aqBvjffl3RKV1BdmgZY5",
     "type":"CODE",
     "hide_input_from_viewers":true,
     "hide_output_from_viewers":true
    }
   }
  },
  {
   "cell_type":"code",
   "source":[
    "colours = ['b', 'r', 'y', 'g', 'm', 'c']\n",
    "cvec = [colours[label] for label in labels]\n",
    "\n",
    "plt.figure(figsize=(9, 9))\n",
    "for label in set(labels):\n",
    "    plt.scatter(x_axis[labels == label], y_axis[labels == label], c=colours[label])\n",
    "plt.legend(handles=[plt.scatter([], [], c='b'), \n",
    "                    plt.scatter([], [], c='y'), \n",
    "                    plt.scatter([], [], c='r'), \n",
    "                    plt.scatter([], [], c='g'), \n",
    "                    plt.scatter([], [], c='c'),\n",
    "                    plt.scatter([], [], c='m'),], \n",
    "           labels=['Class 0', 'Class 1', 'Class 2', 'Class 3', 'Class 4', 'Class 5'])\n",
    "plt.show()"
   ],
   "execution_count":56,
   "outputs":[
    {
     "data":{
      "image\/png":"[encoded data removed]"
     },
     "metadata":{
      "image\/png":{
       
      }
     },
     "output_type":"display_data"
    }
   ],
   "metadata":{
    "datalore":{
     "node_id":"tNuUDeSd8udtPveyev28Y2",
     "type":"CODE",
     "hide_input_from_viewers":true,
     "hide_output_from_viewers":true
    }
   }
  },
  {
   "cell_type":"code",
   "source":[
    "def count_metrics(df, model_name, predict):\n",
    "    models_metrics = {}\n",
    "    models_metrics['Model name'] = model_name\n",
    "    models_metrics['Silhouette Score'] = round(metrics.silhouette_score(df, predict),2)\n",
    "    models_metrics['Calinski-Harabasz Index'] = round(metrics.calinski_harabasz_score(df, predict),2)\n",
    "    models_metrics['Davies-Bouldin Index'] = round(metrics.davies_bouldin_score(df, predict),2)\n",
    "    return models_metrics"
   ],
   "execution_count":57,
   "outputs":[
    
   ],
   "metadata":{
    "datalore":{
     "node_id":"oymb24JnsPMCIFyyK4bTi9",
     "type":"CODE",
     "hide_input_from_viewers":true,
     "hide_output_from_viewers":true
    }
   }
  },
  {
   "cell_type":"code",
   "source":[
    "predictions = {'KMeans': all_predictions, \n",
    "               'AgglomerativeClustering': y_ac,\n",
    "               'SpectralClustering': labels}\n",
    "\n",
    "results = []\n",
    "\n",
    "for key, value in predictions.items():\n",
    "    results.append(count_metrics(model_df, key, value))\n",
    "\n",
    "models_results = pd.DataFrame(results)\n",
    "models_results"
   ],
   "execution_count":58,
   "outputs":[
    {
     "data":{
      "text\/html":[
       "<div>\n",
       "<style scoped>\n",
       "    .dataframe tbody tr th:only-of-type {\n",
       "        vertical-align: middle;\n",
       "    }\n",
       "\n",
       "    .dataframe tbody tr th {\n",
       "        vertical-align: top;\n",
       "    }\n",
       "\n",
       "    .dataframe thead th {\n",
       "        text-align: right;\n",
       "    }\n",
       "<\/style>\n",
       "<table border=\"1\" class=\"dataframe\">\n",
       "  <thead>\n",
       "    <tr style=\"text-align: right;\">\n",
       "      <th><\/th>\n",
       "      <th>Model name<\/th>\n",
       "      <th>Silhouette Score<\/th>\n",
       "      <th>Calinski-Harabasz Index<\/th>\n",
       "      <th>Davies-Bouldin Index<\/th>\n",
       "    <\/tr>\n",
       "  <\/thead>\n",
       "  <tbody>\n",
       "    <tr>\n",
       "      <th>0<\/th>\n",
       "      <td>KMeans<\/td>\n",
       "      <td>0.45<\/td>\n",
       "      <td>166.58<\/td>\n",
       "      <td>0.75<\/td>\n",
       "    <\/tr>\n",
       "    <tr>\n",
       "      <th>1<\/th>\n",
       "      <td>AgglomerativeClustering<\/td>\n",
       "      <td>0.44<\/td>\n",
       "      <td>159.33<\/td>\n",
       "      <td>0.77<\/td>\n",
       "    <\/tr>\n",
       "    <tr>\n",
       "      <th>2<\/th>\n",
       "      <td>SpectralClustering<\/td>\n",
       "      <td>0.45<\/td>\n",
       "      <td>163.92<\/td>\n",
       "      <td>0.75<\/td>\n",
       "    <\/tr>\n",
       "  <\/tbody>\n",
       "<\/table>\n",
       "<\/div>"
      ]
     },
     "metadata":{
      
     },
     "output_type":"display_data"
    }
   ],
   "metadata":{
    "datalore":{
     "node_id":"lRj9TTVYj49RDAnP6Tx9E0",
     "type":"CODE",
     "hide_input_from_viewers":true,
     "hide_output_from_viewers":true
    }
   }
  },
  {
   "cell_type":"markdown",
   "source":[
    "В даній задачі найкращий результат за показує метод кластеризації KMeans при розділенні на 6 класів. Також непоганий результат показує SpectralClustering, але Calinski-Harabasz Index трохи нижчий за KMeans."
   ],
   "attachments":{
    
   },
   "metadata":{
    "datalore":{
     "node_id":"Yn5sg02BGRugteHbltMXnv",
     "type":"MD",
     "hide_input_from_viewers":true,
     "hide_output_from_viewers":true
    }
   }
  }
 ],
 "metadata":{
  "kernelspec":{
   "display_name":"Python",
   "language":"python",
   "name":"python"
  },
  "datalore":{
   "computation_mode":"JUPYTER",
   "package_manager":"pip",
   "base_environment":"default",
   "packages":[
    
   ],
   "report_row_ids":[
    "y7GmPSCzdBuB13EMrgZML3",
    "3p4qFFC6kz99hfSkPpy0P5",
    "lnCKmfStT47NvyxXedoJcm",
    "GEZ6lVMZhtvWjnOfID6rZt",
    "OtBsGG7uIEivrOrWleVign",
    "7j5XUqIP52J00ZGPv4WHPl",
    "9mo9NRYMWE5yTR78NwtCWl",
    "0pPYdCdHHS0q5CvPHgvWTJ",
    "7waAWWLOFXzx5cowPVYpUP",
    "Q7wN8U7Sh3wSVGytW6SNdQ"
   ],
   "version":3
  }
 },
 "nbformat":4,
 "nbformat_minor":4
}