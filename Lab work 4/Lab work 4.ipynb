{
 "cells":[
  {
   "cell_type":"markdown",
   "source":[
    "___\n",
    "\n",
    "<a href='https:\/\/mainacademy.ua\/'> <img src='https:\/\/mainacademy.ua\/wp-content\/uploads\/2019\/03\/logo-main.png' alt = 'Хмм, щось з інтернетом'\/><\/a>\n",
    "___\n",
    "\n",
    "# Module 4: Work with data professionally!"
   ],
   "attachments":{
    
   },
   "metadata":{
    "datalore":{
     "node_id":"nks9JMh9hp1jjzr0OZgVHL",
     "type":"MD",
     "hide_input_from_viewers":false,
     "hide_output_from_viewers":false,
     "report_properties":{
      
     }
    }
   }
  },
  {
   "cell_type":"markdown",
   "source":[
    "## Lab work 4\n"
   ],
   "attachments":{
    
   },
   "metadata":{
    "datalore":{
     "node_id":"0Y2zHPlH9zh8JSB0qi2gVk",
     "type":"MD",
     "hide_input_from_viewers":false,
     "hide_output_from_viewers":false,
     "report_properties":{
      
     }
    }
   }
  },
  {
   "cell_type":"markdown",
   "source":[
    "#### Мета: \n",
    "\n",
    "* навчитися обробляти дані\n",
    "* \"парсити\" сайти"
   ],
   "attachments":{
    
   },
   "metadata":{
    "datalore":{
     "node_id":"zwmR1HU96tNBPCcp2GgpIi",
     "type":"MD",
     "hide_input_from_viewers":false,
     "hide_output_from_viewers":false,
     "report_properties":{
      
     }
    }
   }
  },
  {
   "cell_type":"markdown",
   "source":[
    "### Завдання 1:"
   ],
   "attachments":{
    
   },
   "metadata":{
    "datalore":{
     "node_id":"baDneYEhLxTi18nZRM9DTe",
     "type":"MD",
     "hide_input_from_viewers":false,
     "hide_output_from_viewers":false,
     "report_properties":{
      
     }
    }
   }
  },
  {
   "cell_type":"markdown",
   "source":[
    "#### Ознайомитися із API Національного банку \n",
    "https:\/\/old.bank.gov.ua\/control\/uk\/publish\/article?art_id=38441973&cat_id=38459171#exchange\n"
   ],
   "attachments":{
    
   },
   "metadata":{
    "datalore":{
     "node_id":"J2BYT8E5NYLKDlriBEr1mb",
     "type":"MD",
     "hide_input_from_viewers":false,
     "hide_output_from_viewers":false,
     "report_properties":{
      
     }
    }
   }
  },
  {
   "cell_type":"markdown",
   "source":[
    "1. Підключитися до API."
   ],
   "attachments":{
    
   },
   "metadata":{
    "datalore":{
     "node_id":"qG9UxpxBSCn5FUCCEQI4ef",
     "type":"MD",
     "hide_input_from_viewers":false,
     "hide_output_from_viewers":false,
     "report_properties":{
      
     }
    }
   }
  },
  {
   "cell_type":"code",
   "source":[
    "import requests\n",
    "import datetime as d\n",
    "import math\n",
    "import collections\n",
    "import pickle\n",
    "\n",
    "URL = 'https:\/\/bank.gov.ua\/NBU_Exchange\/exchange_site'\n",
    "CURRENCY = 'usd'\n",
    "END_DATE = d.date.today()\n",
    "PERIOD_IN_DAYS = 365\n",
    "\n",
    "def date_format(date):\n",
    "    return date.strftime('%Y%m%d')\n",
    "\n",
    "\n",
    "params ={\n",
    "    \"start\": date_format(END_DATE-d.timedelta(days=PERIOD_IN_DAYS)),\n",
    "    \"end\": date_format(END_DATE), \n",
    "    \"valcode\": CURRENCY,\n",
    "    \"sort\": 'exchangedate',\n",
    "    \"order\": 'desc',\n",
    "    \"json\": 'json',\n",
    "    }\n",
    "\n",
    "response = (requests.get(url=URL, params=params)).json()"
   ],
   "execution_count":1,
   "outputs":[
    
   ],
   "metadata":{
    "datalore":{
     "node_id":"zs0KGpA6Uey8WjykeuLpoY",
     "type":"CODE",
     "hide_input_from_viewers":false,
     "hide_output_from_viewers":false,
     "report_properties":{
      
     }
    }
   }
  },
  {
   "cell_type":"markdown",
   "source":[
    "2. Отримати курс долара за останній рік."
   ],
   "attachments":{
    
   },
   "metadata":{
    "datalore":{
     "node_id":"4an76kVQFkGwEgr1re3eEC",
     "type":"MD",
     "hide_input_from_viewers":false,
     "hide_output_from_viewers":false,
     "report_properties":{
      
     }
    }
   }
  },
  {
   "cell_type":"code",
   "source":[
    "rates_list =[[d.datetime.strptime(day['exchangedate'],'%d.%m.%Y').strftime('%m-%Y'), day['rate']] for day in response]"
   ],
   "execution_count":2,
   "outputs":[
    
   ],
   "metadata":{
    "datalore":{
     "node_id":"3Knowz1tITKh0iYUVl3Lz0",
     "type":"CODE",
     "hide_input_from_viewers":false,
     "hide_output_from_viewers":false,
     "report_properties":{
      
     }
    }
   }
  },
  {
   "cell_type":"markdown",
   "source":[
    "3. Вивести середнє значення та відхилення курсу за кожний місяць."
   ],
   "attachments":{
    
   },
   "metadata":{
    "datalore":{
     "node_id":"VVq3gmLs9qereWUf02enEt",
     "type":"MD",
     "hide_input_from_viewers":false,
     "hide_output_from_viewers":false,
     "report_properties":{
      
     }
    }
   }
  },
  {
   "cell_type":"code",
   "source":[
    "rates_by_month = collections.defaultdict(list)\n",
    "\n",
    "for month, rate in rates_list:\n",
    "    rates_by_month[month].append(rate)\n",
    "       \n",
    "rates_analysis_by_mounth = []\n",
    "\n",
    "for month, rates in rates_by_month.items():\n",
    "    current_rates_analysis ={}\n",
    "    # 1. Находим среднее арифметическое выборки.\n",
    "    average_rate = sum(rates) \/ len(rates)\n",
    "    # 2. От каждого значения выборки отнимаем среднее арифметическое. 3. Каждую полученную разницу возводим в квадрат.\n",
    "    # 4. Суммируем полученные значения квадратов разниц. 5. Делим на размер выборки. 6. Находим квадратный корень.\n",
    "    std_dev = math.sqrt(sum([(rate - average_rate)**2 for rate in rates]) \/ (len(rates)))\n",
    "    current_rates_analysis['month'] = month\n",
    "    current_rates_analysis['average_rate'] = round(average_rate, 4)\n",
    "    current_rates_analysis['std_dev'] = round(std_dev, 4)\n",
    "    rates_analysis_by_mounth.append(current_rates_analysis)\n",
    "\n",
    "rates_analysis_by_mounth"
   ],
   "execution_count":3,
   "outputs":[
    {
     "data":{
      "text\/plain":[
       "[{'month': '03-2023', 'average_rate': 36.5686, 'std_dev': 0.0},\n",
       " {'month': '02-2023', 'average_rate': 36.5686, 'std_dev': 0.0},\n",
       " {'month': '01-2023', 'average_rate': 36.5686, 'std_dev': 0.0},\n",
       " {'month': '12-2022', 'average_rate': 36.5686, 'std_dev': 0.0},\n",
       " {'month': '11-2022', 'average_rate': 36.5686, 'std_dev': 0.0},\n",
       " {'month': '10-2022', 'average_rate': 36.5686, 'std_dev': 0.0},\n",
       " {'month': '09-2022', 'average_rate': 36.5686, 'std_dev': 0.0},\n",
       " {'month': '08-2022', 'average_rate': 36.5686, 'std_dev': 0.0},\n",
       " {'month': '07-2022', 'average_rate': 31.8501, 'std_dev': 3.4993},\n",
       " {'month': '06-2022', 'average_rate': 29.2549, 'std_dev': 0.0},\n",
       " {'month': '05-2022', 'average_rate': 29.2549, 'std_dev': 0.0},\n",
       " {'month': '04-2022', 'average_rate': 29.2549, 'std_dev': 0.0},\n",
       " {'month': '03-2022', 'average_rate': 29.2549, 'std_dev': 0.0}]"
      ]
     },
     "metadata":{
      
     },
     "output_type":"display_data"
    }
   ],
   "metadata":{
    "datalore":{
     "node_id":"yvysJNOSpWRtvpml30eh5v",
     "type":"CODE",
     "hide_input_from_viewers":false,
     "hide_output_from_viewers":false,
     "report_properties":{
      
     }
    }
   }
  },
  {
   "cell_type":"markdown",
   "source":[
    "4. Дану інформацію записати у файл за допомогою pickle."
   ],
   "attachments":{
    
   },
   "metadata":{
    "datalore":{
     "node_id":"qPDrLg4WLVHQ3Tg9zmuQBP",
     "type":"MD",
     "hide_input_from_viewers":false,
     "hide_output_from_viewers":false,
     "report_properties":{
      
     }
    }
   }
  },
  {
   "cell_type":"code",
   "source":[
    "with open('.\/rates_analysis.pickle', 'wb') as f:\n",
    "    pickle.dump(rates_analysis_by_mounth, f)\n",
    "\n",
    "with open('.\/rates_analysis.pickle','rb') as f:\n",
    "    rates_analysis = pickle.load(f)\n",
    "\n",
    "print ('rates_analysis', rates_analysis)"
   ],
   "execution_count":8,
   "outputs":[
    {
     "name":"stdout",
     "text":[
      "rates_analysis [{'month': '03-2023', 'average_rate': 36.5686, 'std_dev': 0.0}, {'month': '02-2023', 'average_rate': 36.5686, 'std_dev': 0.0}, {'month': '01-2023', 'average_rate': 36.5686, 'std_dev': 0.0}, {'month': '12-2022', 'average_rate': 36.5686, 'std_dev': 0.0}, {'month': '11-2022', 'average_rate': 36.5686, 'std_dev': 0.0}, {'month': '10-2022', 'average_rate': 36.5686, 'std_dev': 0.0}, {'month': '09-2022', 'average_rate': 36.5686, 'std_dev': 0.0}, {'month': '08-2022', 'average_rate': 36.5686, 'std_dev': 0.0}, {'month': '07-2022', 'average_rate': 31.8501, 'std_dev': 3.4993}, {'month': '06-2022', 'average_rate': 29.2549, 'std_dev': 0.0}, {'month': '05-2022', 'average_rate': 29.2549, 'std_dev': 0.0}, {'month': '04-2022', 'average_rate': 29.2549, 'std_dev': 0.0}, {'month': '03-2022', 'average_rate': 29.2549, 'std_dev': 0.0}]\n"
     ],
     "output_type":"stream"
    }
   ],
   "metadata":{
    "datalore":{
     "node_id":"tKaYQ7oP3l3GB2RzkdHG7a",
     "type":"CODE",
     "hide_input_from_viewers":false,
     "hide_output_from_viewers":false,
     "report_properties":{
      
     }
    }
   }
  },
  {
   "cell_type":"markdown",
   "source":[
    "### Завдання 2:"
   ],
   "attachments":{
    
   },
   "metadata":{
    "datalore":{
     "node_id":"lz9W0CBuMg8FjH3ATqBhXC",
     "type":"MD",
     "hide_input_from_viewers":false,
     "hide_output_from_viewers":false,
     "report_properties":{
      
     }
    }
   }
  },
  {
   "cell_type":"markdown",
   "source":[
    "Потрібно проаналізувати всі товари на сайті: \n",
    "https:\/\/smallpacking.agrosem.ua\/products"
   ],
   "attachments":{
    
   },
   "metadata":{
    "datalore":{
     "node_id":"p4aB2aCpjASIMOR2LXsGQv",
     "type":"MD",
     "hide_input_from_viewers":false,
     "hide_output_from_viewers":false,
     "report_properties":{
      
     }
    }
   }
  },
  {
   "cell_type":"markdown",
   "source":[
    "Створіть базу даних, що містить таблицю із такими стовбцями: \n",
    "    - артикул товару\n",
    "    - найменування\n",
    "    - ціна \n",
    "    - вага"
   ],
   "attachments":{
    
   },
   "metadata":{
    "datalore":{
     "node_id":"T9O5I7glvF0kzEqCgz9PjT",
     "type":"MD",
     "hide_input_from_viewers":false,
     "hide_output_from_viewers":false,
     "report_properties":{
      
     }
    }
   }
  },
  {
   "cell_type":"code",
   "source":[
    "import requests\n",
    "from bs4 import BeautifulSoup\n",
    "import sqlite3\n",
    "\n",
    "\n",
    "URL_AGROSEM = 'https:\/\/smallpacking.agrosem.ua\/products\/'\n",
    "\n",
    "request_headers = {\n",
    "    'authority': 'www.google.com',\n",
    "    'cache-control': 'max-age=0',\n",
    "    'sec-ch-ua': '\"Google Chrome\";v=\"87\", \" Not;A Brand\";v=\"99\", \"Chromium\";v=\"87\"',\n",
    "    'sec-ch-ua-mobile': '?0',\n",
    "    'upgrade-insecure-requests': '1',\n",
    "    'user-agent': 'Mozilla\/5.0 (Windows NT 10.0; Win64; x64) AppleWebKit\/537.36 (KHTML, like Gecko) Chrome\/87.0.4280.88 Safari\/537.36',\n",
    "    'accept': 'text\/html,application\/xhtml+xml,application\/xml;q=0.9,image\/avif,image\/webp,image\/apng,*\/*;q=0.8,application\/signed-exchange;v=b3;q=0.9',\n",
    "    'x-client-data': 'CIu2yQEIorbJAQjBtskBCKmdygEIrMfKAQj4x8oBCKPNygEI3NXKAQin+csB',\n",
    "    'sec-fetch-site': 'same-origin',\n",
    "    'sec-fetch-mode': 'navigate',\n",
    "    'sec-fetch-user': '?1',\n",
    "    'sec-fetch-dest': 'document',\n",
    "    'accept-language': 'uk',\n",
    "    'Cookie': 'PHPSESSID=hec01mv9ejs0fi7grn0tpq9ndr' #Should be replaced from active session's cookies\n",
    "}\n",
    "\n",
    "\n",
    "def get_soup(url=URL_AGROSEM, headers=request_headers, page='', article=''):\n",
    "    if len(page) > 0:\n",
    "        page = '?page=' + page\n",
    "    response_agrosem = requests.get(url=url + page + article,headers=headers)\n",
    "    return BeautifulSoup(response_agrosem.text, 'lxml')\n",
    "\n",
    "    \n",
    "def count_page_number(start_page):\n",
    "    while True:\n",
    "        page_soup = get_soup(page=str(start_page))\n",
    "        if page_soup.find('li', class_='next').find('a').get('href') is None:\n",
    "            break\n",
    "        start_page += 1\n",
    "    return start_page\n",
    "\n",
    "def get_article(item_info):\n",
    "    return int(item_info.get('data-id'))\n",
    "\n",
    "\n",
    "def get_item_name(item_info):\n",
    "    return item_info.find('div',class_='info').get_text()[:-6].strip()\n",
    "\n",
    "\n",
    "def get_item_price_in_uah(item_info):\n",
    "    return float(''.join(item_info.find('p',class_='price').get_text()[:-1].strip().split()))\n",
    "\n",
    "\n",
    "def get_item_weight(name='', article=''):\n",
    "    if ' кг' in name or ' г' in name or ' мл' in name:\n",
    "        return float(item_name.split()[-2])\n",
    "    else:\n",
    "        article_soup = get_soup(article=article) \n",
    "        return float(article_soup.find('table').find_all('td')[2].get_text().strip().split()[0])\n",
    "\n",
    "    \n",
    "def get_item_unit(name='', article=''):\n",
    "    if ' кг' in name or ' г' in name or ' мл' in name:\n",
    "        return item_name.split()[-1]\n",
    "    else:\n",
    "        article_soup = get_soup(article=article) \n",
    "        return article_soup.find('table').find_all('td')[2].get_text().strip().split()[1]\n",
    "    \n",
    "def insert_product_in_table(product):\n",
    "    sql_insert= f\"\"\"INSERT INTO products (Article, Name, Price, Weight, Unit)\n",
    "    VALUES({product[0]}, '{product[1]}',{product[2]},{product[3]},'{product[4]}'); \"\"\"\n",
    "    cur.execute(sql_insert)"
   ],
   "execution_count":5,
   "outputs":[
    
   ],
   "metadata":{
    "datalore":{
     "node_id":"fd2rPYGcYMOVnYegu5EdTa",
     "type":"CODE",
     "hide_input_from_viewers":false,
     "hide_output_from_viewers":false,
     "report_properties":{
      
     }
    }
   }
  },
  {
   "cell_type":"code",
   "source":[
    "page_num = count_page_number(1)\n",
    "page_num"
   ],
   "execution_count":6,
   "outputs":[
    {
     "data":{
      "text\/plain":[
       "10"
      ]
     },
     "metadata":{
      
     },
     "output_type":"display_data"
    }
   ],
   "metadata":{
    "datalore":{
     "node_id":"fRBTDEojMHapNMd3UN7D2N",
     "type":"CODE",
     "hide_input_from_viewers":true,
     "hide_output_from_viewers":true
    }
   }
  },
  {
   "cell_type":"code",
   "source":[
    "item_list = []\n",
    "\n",
    "for i in range(page_num + 1):\n",
    "    agro_soup = get_soup(page=str(i))\n",
    "    for item in agro_soup.find_all('div', class_='item'):\n",
    "        item_article = get_article(item)\n",
    "        item_name = get_item_name(item)\n",
    "        item_price = get_item_price_in_uah(item)\n",
    "        item_weight = get_item_weight(name=item_name,article=str(item_article))\n",
    "        item_unit = get_item_unit(name=item_name,article=str(item_article))\n",
    "        \n",
    "        item_tuple = (item_article,item_name,item_price,item_weight,item_unit)\n",
    "        item_list.append(item_tuple)\n",
    " \n",
    "# Article, Item_name, Price, Weight, Unit"
   ],
   "execution_count":62,
   "outputs":[
    
   ],
   "metadata":{
    "datalore":{
     "node_id":"SLKA4BpXhII0STG57sKJkt",
     "type":"CODE",
     "hide_input_from_viewers":true,
     "hide_output_from_viewers":true
    }
   }
  },
  {
   "cell_type":"code",
   "source":[
    "#Зберегти в базу данних\n",
    "agroserm_db = sqlite3.connect('.\/agroserm_products.sqlite')\n",
    "cur = agroserm_db.cursor()"
   ],
   "execution_count":82,
   "outputs":[
    
   ],
   "metadata":{
    "datalore":{
     "node_id":"wrYZmFcy3iv6gXSttwjzrs",
     "type":"CODE",
     "hide_input_from_viewers":true,
     "hide_output_from_viewers":true
    }
   }
  },
  {
   "cell_type":"code",
   "source":[
    "sql_create_table = \"\"\"\n",
    "    CREATE TABLE IF NOT EXISTS products (\n",
    "    Id integer PRIMARY KEY AUTOINCREMENT,\n",
    "\tArticle integer NOT NULL,\n",
    "    Name text NOT NULL,\n",
    "   \tPrice real NOT NULL,\n",
    "\tWeight real NOT NULL,\n",
    "\tUnit text NOT NULL\n",
    "    );\"\"\"\n",
    "cur.execute(sql_create_table)"
   ],
   "execution_count":83,
   "outputs":[
    {
     "data":{
      "text\/plain":[
       "<sqlite3.Cursor at 0x7fd1107699d0>"
      ]
     },
     "metadata":{
      
     },
     "output_type":"display_data"
    }
   ],
   "metadata":{
    "datalore":{
     "node_id":"Iq1wJUmyINBU1QiVc2NXlF",
     "type":"CODE",
     "hide_input_from_viewers":true,
     "hide_output_from_viewers":true
    }
   }
  },
  {
   "cell_type":"code",
   "source":[
    "for product in item_list:\n",
    "    insert_product_in_table(product)"
   ],
   "execution_count":85,
   "outputs":[
    
   ],
   "metadata":{
    "datalore":{
     "node_id":"abLwByPRtUVBrPFPJnUrN1",
     "type":"CODE",
     "hide_input_from_viewers":true,
     "hide_output_from_viewers":true
    }
   }
  },
  {
   "cell_type":"code",
   "source":[
    "agroserm_db.close()"
   ],
   "execution_count":87,
   "outputs":[
    
   ],
   "metadata":{
    "datalore":{
     "node_id":"TGDDS3yCi5X4lnDj0ZNxLL",
     "type":"CODE",
     "hide_input_from_viewers":true,
     "hide_output_from_viewers":true
    }
   }
  },
  {
   "cell_type":"markdown",
   "source":[
    "### Завдання 3: "
   ],
   "attachments":{
    
   },
   "metadata":{
    "datalore":{
     "node_id":"crroSrpcbJU95WNzWlXg0Q",
     "type":"MD",
     "hide_input_from_viewers":false,
     "hide_output_from_viewers":false,
     "report_properties":{
      
     }
    }
   }
  },
  {
   "cell_type":"markdown",
   "source":[
    "Ознайомтеся із роботою SQLite та відповідним модулем у Python.\n",
    "Завантажте базу даних для виконання лабораторної роботи.\n",
    "Підключіться до завантаженої бази SQLite."
   ],
   "attachments":{
    
   },
   "metadata":{
    "datalore":{
     "node_id":"GlqM2En7UsowkKFSNW7WZb",
     "type":"MD",
     "hide_input_from_viewers":false,
     "hide_output_from_viewers":false,
     "report_properties":{
      
     }
    }
   }
  },
  {
   "cell_type":"code",
   "source":[
    "import sqlite3\n",
    "\n",
    "db = sqlite3.connect('.\/tysql.sqlite')\n",
    "cur = db.cursor()"
   ],
   "execution_count":7,
   "outputs":[
    
   ],
   "metadata":{
    "datalore":{
     "node_id":"e3wd5NdPfSEeuGwXb5TEqQ",
     "type":"CODE",
     "hide_input_from_viewers":true,
     "hide_output_from_viewers":true
    }
   }
  },
  {
   "cell_type":"code",
   "source":[
    "def execute_sql_query(query):\n",
    "    cur.execute(query)\n",
    "    return cur.fetchall()"
   ],
   "execution_count":8,
   "outputs":[
    
   ],
   "metadata":{
    "datalore":{
     "node_id":"vvD7YG91WuIVDOkw542hp7",
     "type":"CODE",
     "hide_input_from_viewers":true,
     "hide_output_from_viewers":true
    }
   }
  },
  {
   "cell_type":"markdown",
   "source":[
    "1. Виведіть інформацію про дану базу."
   ],
   "attachments":{
    
   },
   "metadata":{
    "datalore":{
     "node_id":"IHOIoukKMVQhTfrh6ITHjg",
     "type":"MD",
     "hide_input_from_viewers":true,
     "hide_output_from_viewers":true
    }
   }
  },
  {
   "cell_type":"code",
   "source":[
    "sql_DB_info = \"\"\"PRAGMA database_list\"\"\"\n",
    "execute_sql_query(sql_DB_info)"
   ],
   "execution_count":80,
   "outputs":[
    {
     "data":{
      "text\/plain":[
       "[(0, 'main', '\/data\/notebook_files\/tysql.sqlite')]"
      ]
     },
     "metadata":{
      
     },
     "output_type":"display_data"
    }
   ],
   "metadata":{
    "datalore":{
     "node_id":"FyL3EZqQVU5GniiBNgnoEy",
     "type":"CODE",
     "hide_input_from_viewers":true,
     "hide_output_from_viewers":true
    }
   }
  },
  {
   "cell_type":"code",
   "source":[
    "sql_DB_info2 = \"\"\"SELECT * FROM sqlite_schema\"\"\"\n",
    "execute_sql_query(sql_DB_info2)"
   ],
   "execution_count":21,
   "outputs":[
    {
     "data":{
      "text\/plain":[
       "[('table',\n",
       "  'Customers',\n",
       "  'Customers',\n",
       "  2,\n",
       "  'CREATE TABLE Customers\\n(\\n  cust_id      char(10)  NOT NULL ,\\n  cust_name    char(50)  NOT NULL ,\\n  cust_address char(50)  NULL ,\\n  cust_city    char(50)  NULL ,\\n  cust_state   char(5)   NULL ,\\n  cust_zip     char(10)  NULL ,\\n  cust_country char(50)  NULL ,\\n  cust_contact char(50)  NULL ,\\n  cust_email   char(255) NULL ,\\n  PRIMARY KEY (cust_id)\\n)'),\n",
       " ('index', 'sqlite_autoindex_Customers_1', 'Customers', 3, None),\n",
       " ('table',\n",
       "  'OrderItems',\n",
       "  'OrderItems',\n",
       "  4,\n",
       "  'CREATE TABLE OrderItems\\n(\\n  order_num  int          NOT NULL                      ,\\n  order_item int          NOT NULL                      ,\\n  prod_id    char(10)     NOT NULL                      ,\\n  quantity   int          NOT NULL                      ,\\n  item_price decimal(8,2) NOT NULL                      ,\\n  PRIMARY KEY (order_num, order_item)                   ,\\n  FOREIGN KEY (order_num) REFERENCES Orders (order_num) ,\\n  FOREIGN KEY (prod_id) REFERENCES Products (prod_id)\\n)'),\n",
       " ('index', 'sqlite_autoindex_OrderItems_1', 'OrderItems', 5, None),\n",
       " ('table',\n",
       "  'Orders',\n",
       "  'Orders',\n",
       "  7,\n",
       "  'CREATE TABLE Orders\\n(\\n  order_num  int      NOT NULL ,\\n  order_date datetime NOT NULL ,\\n  cust_id    char(10) NOT NULL ,\\n  PRIMARY KEY (order_num)      ,\\n  FOREIGN KEY (cust_id) REFERENCES Customers (cust_id)\\n)'),\n",
       " ('index', 'sqlite_autoindex_Orders_1', 'Orders', 9, None),\n",
       " ('table',\n",
       "  'Products',\n",
       "  'Products',\n",
       "  10,\n",
       "  'CREATE TABLE Products\\n(\\n  prod_id    char(10)      NOT NULL ,\\n  vend_id    char(10)      NOT NULL ,\\n  prod_name  char(255)     NOT NULL ,\\n  prod_price decimal(8,2)  NOT NULL ,\\n  prod_desc  text          NULL     ,\\n  PRIMARY KEY (prod_id)             ,\\n  FOREIGN KEY (vend_id) REFERENCES Vendors (vend_id)\\n)'),\n",
       " ('index', 'sqlite_autoindex_Products_1', 'Products', 11, None),\n",
       " ('table',\n",
       "  'Vendors',\n",
       "  'Vendors',\n",
       "  12,\n",
       "  'CREATE TABLE Vendors\\n(\\n  vend_id      char(10) NOT NULL ,\\n  vend_name    char(50) NOT NULL ,\\n  vend_address char(50) NULL     ,\\n  vend_city    char(50) NULL     ,\\n  vend_state   char(5)  NULL     ,\\n  vend_zip     char(10) NULL     ,\\n  vend_country char(50) NULL     ,\\n  PRIMARY KEY (vend_id)\\n)'),\n",
       " ('index', 'sqlite_autoindex_Vendors_1', 'Vendors', 13, None)]"
      ]
     },
     "metadata":{
      
     },
     "output_type":"display_data"
    }
   ],
   "metadata":{
    "datalore":{
     "node_id":"iIqwoyeqwcquQpqq3UoZ6i",
     "type":"CODE",
     "hide_input_from_viewers":true,
     "hide_output_from_viewers":true
    }
   }
  },
  {
   "cell_type":"code",
   "source":[
    "sql_DB_info3 = \"\"\"SELECT sqlite_version()\"\"\"\n",
    "execute_sql_query(sql_DB_info3)"
   ],
   "execution_count":22,
   "outputs":[
    {
     "data":{
      "text\/plain":[
       "[('3.37.2',)]"
      ]
     },
     "metadata":{
      
     },
     "output_type":"display_data"
    }
   ],
   "metadata":{
    "datalore":{
     "node_id":"12h1NN3NmZysUtZ4ffF6dL",
     "type":"CODE",
     "hide_input_from_viewers":true,
     "hide_output_from_viewers":true
    }
   }
  },
  {
   "cell_type":"markdown",
   "source":[
    "2. Виведіть перелік всіх таблиць."
   ],
   "attachments":{
    
   },
   "metadata":{
    "datalore":{
     "node_id":"fpXF26yqMNDuf3TAT2VeMR",
     "type":"MD",
     "hide_input_from_viewers":false,
     "hide_output_from_viewers":false,
     "report_properties":{
      
     }
    }
   }
  },
  {
   "cell_type":"code",
   "source":[
    "sql_list_tables = \"\"\"SELECT tbl_name FROM sqlite_master WHERE type = 'table'\"\"\"\n",
    "execute_sql_query(sql_list_tables)"
   ],
   "execution_count":9,
   "outputs":[
    {
     "data":{
      "text\/plain":[
       "[('Customers',), ('OrderItems',), ('Orders',), ('Products',), ('Vendors',)]"
      ]
     },
     "metadata":{
      
     },
     "output_type":"display_data"
    }
   ],
   "metadata":{
    "datalore":{
     "node_id":"w9PiIt4OacOI4PU4UPkK14",
     "type":"CODE",
     "hide_input_from_viewers":true,
     "hide_output_from_viewers":true
    }
   }
  },
  {
   "cell_type":"code",
   "source":[
    "sql_list_tables2 = \"\"\"SELECT name FROM sqlite_schema\n",
    "WHERE type='table';\"\"\"\n",
    "\n",
    "tables_list = execute_sql_query(sql_list_tables2)\n",
    "tables_list"
   ],
   "execution_count":20,
   "outputs":[
    {
     "data":{
      "text\/plain":[
       "[('Customers',), ('OrderItems',), ('Orders',), ('Products',), ('Vendors',)]"
      ]
     },
     "metadata":{
      
     },
     "output_type":"display_data"
    }
   ],
   "metadata":{
    "datalore":{
     "node_id":"3GrVVApnEeCYvrHVWdCnki",
     "type":"CODE",
     "hide_input_from_viewers":false,
     "hide_output_from_viewers":false,
     "report_properties":{
      
     }
    }
   }
  },
  {
   "cell_type":"code",
   "source":[
    "# Всі таблиці з назвами колонок\n",
    "\n",
    "info_schema=[]\n",
    "\n",
    "for table in tables_list:\n",
    "    tables_with_column_names_dict = {}\n",
    "    table_name = str(table)[2:-3]\n",
    "    sql_column_names = f\"\"\"PRAGMA table_info('{table_name}')\"\"\"\n",
    "    table_columns = execute_sql_query(sql_column_names)\n",
    "    column_names_list = []\n",
    "    for column in table_columns:\n",
    "        column_names_list.append(column[1])\n",
    "    tables_with_column_names_dict[table_name] = column_names_list\n",
    "    info_schema.append(tables_with_column_names_dict)\n"
   ],
   "execution_count":30,
   "outputs":[
    
   ],
   "metadata":{
    "datalore":{
     "node_id":"bGFpZUvRSNmMNih1nIkgvp",
     "type":"CODE",
     "hide_input_from_viewers":true,
     "hide_output_from_viewers":true
    }
   }
  },
  {
   "cell_type":"code",
   "source":[
    "# Customers table\n",
    "info_schema[0]"
   ],
   "execution_count":24,
   "outputs":[
    {
     "data":{
      "text\/plain":[
       "{'Customers': ['cust_id',\n",
       "  'cust_name',\n",
       "  'cust_address',\n",
       "  'cust_city',\n",
       "  'cust_state',\n",
       "  'cust_zip',\n",
       "  'cust_country',\n",
       "  'cust_contact',\n",
       "  'cust_email']}"
      ]
     },
     "metadata":{
      
     },
     "output_type":"display_data"
    }
   ],
   "metadata":{
    "datalore":{
     "node_id":"jCOlgDH1BKyKLy84DoLOkT",
     "type":"CODE",
     "hide_input_from_viewers":true,
     "hide_output_from_viewers":true
    }
   }
  },
  {
   "cell_type":"code",
   "source":[
    "# OrderItems table\n",
    "info_schema[1]"
   ],
   "execution_count":25,
   "outputs":[
    {
     "data":{
      "text\/plain":[
       "{'OrderItems': ['order_num',\n",
       "  'order_item',\n",
       "  'prod_id',\n",
       "  'quantity',\n",
       "  'item_price']}"
      ]
     },
     "metadata":{
      
     },
     "output_type":"display_data"
    }
   ],
   "metadata":{
    "datalore":{
     "node_id":"EB4ZdPtkN4yebwpwMhQih9",
     "type":"CODE",
     "hide_input_from_viewers":true,
     "hide_output_from_viewers":true
    }
   }
  },
  {
   "cell_type":"code",
   "source":[
    "# Orders table\n",
    "info_schema[2]"
   ],
   "execution_count":26,
   "outputs":[
    {
     "data":{
      "text\/plain":[
       "{'Orders': ['order_num', 'order_date', 'cust_id']}"
      ]
     },
     "metadata":{
      
     },
     "output_type":"display_data"
    }
   ],
   "metadata":{
    "datalore":{
     "node_id":"Vmh2lrAwB2P9sHKSbdgnjR",
     "type":"CODE",
     "hide_input_from_viewers":true,
     "hide_output_from_viewers":true
    }
   }
  },
  {
   "cell_type":"code",
   "source":[
    "# Products table\n",
    "info_schema[3]"
   ],
   "execution_count":27,
   "outputs":[
    {
     "data":{
      "text\/plain":[
       "{'Products': ['prod_id', 'vend_id', 'prod_name', 'prod_price', 'prod_desc']}"
      ]
     },
     "metadata":{
      
     },
     "output_type":"display_data"
    }
   ],
   "metadata":{
    "datalore":{
     "node_id":"65DqFuYn3M7OciIobO7OlL",
     "type":"CODE",
     "hide_input_from_viewers":true,
     "hide_output_from_viewers":true
    }
   }
  },
  {
   "cell_type":"code",
   "source":[
    "# Vendors table\n",
    "info_schema[4]"
   ],
   "execution_count":28,
   "outputs":[
    {
     "data":{
      "text\/plain":[
       "{'Vendors': ['vend_id',\n",
       "  'vend_name',\n",
       "  'vend_address',\n",
       "  'vend_city',\n",
       "  'vend_state',\n",
       "  'vend_zip',\n",
       "  'vend_country']}"
      ]
     },
     "metadata":{
      
     },
     "output_type":"display_data"
    }
   ],
   "metadata":{
    "datalore":{
     "node_id":"xvC4AItOfutyJBBKOaV272",
     "type":"CODE",
     "hide_input_from_viewers":true,
     "hide_output_from_viewers":true
    }
   }
  },
  {
   "cell_type":"markdown",
   "source":[
    "3. Список всіх cust_id з таблиці Customers table."
   ],
   "attachments":{
    
   },
   "metadata":{
    "datalore":{
     "node_id":"ru3EPswaAyShXv0nBBEtOD",
     "type":"MD",
     "hide_input_from_viewers":false,
     "hide_output_from_viewers":false,
     "report_properties":{
      
     }
    }
   }
  },
  {
   "cell_type":"code",
   "source":[
    "sql_all_cust_id_from_customers = \"\"\"SELECT cust_id FROM Customers;\"\"\"\n",
    "execute_sql_query(sql_all_cust_id_from_customers)"
   ],
   "execution_count":48,
   "outputs":[
    {
     "data":{
      "text\/plain":[
       "[('1000000001',),\n",
       " ('1000000002',),\n",
       " ('1000000003',),\n",
       " ('1000000004',),\n",
       " ('1000000005',)]"
      ]
     },
     "metadata":{
      
     },
     "output_type":"display_data"
    }
   ],
   "metadata":{
    "datalore":{
     "node_id":"Re20NxcmC2hEyAJVHDp8V9",
     "type":"CODE",
     "hide_input_from_viewers":false,
     "hide_output_from_viewers":false,
     "report_properties":{
      
     }
    }
   }
  },
  {
   "cell_type":"markdown",
   "source":[
    "4. Всю таблицю Customers table"
   ],
   "attachments":{
    
   },
   "metadata":{
    "datalore":{
     "node_id":"qx1tvTtcM2SHLWoZniyuh7",
     "type":"MD",
     "hide_input_from_viewers":false,
     "hide_output_from_viewers":false,
     "report_properties":{
      
     }
    }
   }
  },
  {
   "cell_type":"code",
   "source":[
    "sql_customer_table = \"\"\"SELECT * FROM Customers;\"\"\"\n",
    "execute_sql_query(sql_customer_table)"
   ],
   "execution_count":50,
   "outputs":[
    {
     "data":{
      "text\/plain":[
       "[('1000000001',\n",
       "  'Village Toys',\n",
       "  '200 Maple Lane',\n",
       "  'Detroit',\n",
       "  'MI',\n",
       "  '44444',\n",
       "  'USA',\n",
       "  'John Smith',\n",
       "  'sales@villagetoys.com'),\n",
       " ('1000000002',\n",
       "  'Kids Place',\n",
       "  '333 South Lake Drive',\n",
       "  'Columbus',\n",
       "  'OH',\n",
       "  '43333',\n",
       "  'USA',\n",
       "  'Michelle Green',\n",
       "  None),\n",
       " ('1000000003',\n",
       "  'Fun4All',\n",
       "  '1 Sunny Place',\n",
       "  'Muncie',\n",
       "  'IN',\n",
       "  '42222',\n",
       "  'USA',\n",
       "  'Jim Jones',\n",
       "  'jjones@fun4all.com'),\n",
       " ('1000000004',\n",
       "  'Fun4All',\n",
       "  '829 Riverside Drive',\n",
       "  'Phoenix',\n",
       "  'AZ',\n",
       "  '88888',\n",
       "  'USA',\n",
       "  'Denise L. Stephens',\n",
       "  'dstephens@fun4all.com'),\n",
       " ('1000000005',\n",
       "  'The Toy Store',\n",
       "  '4545 53rd Street',\n",
       "  'Chicago',\n",
       "  'IL',\n",
       "  '54545',\n",
       "  'USA',\n",
       "  'Kim Howard',\n",
       "  None)]"
      ]
     },
     "metadata":{
      
     },
     "output_type":"display_data"
    }
   ],
   "metadata":{
    "datalore":{
     "node_id":"5JLAMw6tlosUpzMggGdi8o",
     "type":"CODE",
     "hide_input_from_viewers":false,
     "hide_output_from_viewers":false,
     "report_properties":{
      
     }
    }
   }
  },
  {
   "cell_type":"markdown",
   "source":[
    "5. Список клієнтів (cust_names) відсортованих від Z до A"
   ],
   "attachments":{
    
   },
   "metadata":{
    "datalore":{
     "node_id":"FFwS0ibg3LUMawIi6VhqHa",
     "type":"MD",
     "hide_input_from_viewers":false,
     "hide_output_from_viewers":false,
     "report_properties":{
      
     }
    }
   }
  },
  {
   "cell_type":"code",
   "source":[
    "sql_customer_names = \"\"\"SELECT cust_name \n",
    "                        FROM Customers \n",
    "                        ORDER BY cust_name DESC;\"\"\"\n",
    "execute_sql_query(sql_customer_names)"
   ],
   "execution_count":9,
   "outputs":[
    {
     "data":{
      "text\/plain":[
       "[('Village Toys',),\n",
       " ('The Toy Store',),\n",
       " ('Kids Place',),\n",
       " ('Fun4All',),\n",
       " ('Fun4All',)]"
      ]
     },
     "metadata":{
      
     },
     "output_type":"display_data"
    }
   ],
   "metadata":{
    "datalore":{
     "node_id":"1EvFGUk2LmTLL7dTgNWaQV",
     "type":"CODE",
     "hide_input_from_viewers":false,
     "hide_output_from_viewers":false,
     "report_properties":{
      
     }
    }
   }
  },
  {
   "cell_type":"markdown",
   "source":[
    "6. Таблицю клієнтів та замовлень (cust_id і order_num) . Відсортуйте по клієнту і потім по даті замовлення"
   ],
   "attachments":{
    
   },
   "metadata":{
    "datalore":{
     "node_id":"Dt6GRN682XqgsVb578lqpN",
     "type":"MD",
     "hide_input_from_viewers":false,
     "hide_output_from_viewers":false,
     "report_properties":{
      
     }
    }
   }
  },
  {
   "cell_type":"code",
   "source":[
    "sql_customer_names = \"\"\"SELECT c.cust_id, o.order_num\n",
    "                        FROM Customers c\n",
    "                        JOIN Orders o ON c.cust_id = o.cust_id\n",
    "                        ORDER BY c.cust_id, o.order_date;\"\"\"\n",
    "execute_sql_query(sql_customer_names)"
   ],
   "execution_count":6,
   "outputs":[
    {
     "data":{
      "text\/plain":[
       "[('1000000001', 20009),\n",
       " ('1000000001', 20005),\n",
       " ('1000000003', 20006),\n",
       " ('1000000004', 20007),\n",
       " ('1000000005', 20008)]"
      ]
     },
     "metadata":{
      
     },
     "output_type":"display_data"
    }
   ],
   "metadata":{
    "datalore":{
     "node_id":"zqfKzisOBWLNjxslO733JO",
     "type":"CODE",
     "hide_input_from_viewers":false,
     "hide_output_from_viewers":false,
     "report_properties":{
      
     }
    }
   }
  },
  {
   "cell_type":"markdown",
   "source":[
    "7. Таблицю (на основі Items) з кількість та вартістю товару. Відсортуйте в порядку спадання по кількості та вартості"
   ],
   "attachments":{
    
   },
   "metadata":{
    "datalore":{
     "node_id":"M3QnvY27M6WYpLcsbqQ4eF",
     "type":"MD",
     "hide_input_from_viewers":false,
     "hide_output_from_viewers":false,
     "report_properties":{
      
     }
    }
   }
  },
  {
   "cell_type":"code",
   "source":[
    "sql_items = \"\"\"SELECT quantity, item_price \n",
    "               FROM OrderItems \n",
    "               ORDER BY 1 desc, 2 desc \"\"\"\n",
    "execute_sql_query(sql_items)"
   ],
   "execution_count":17,
   "outputs":[
    {
     "data":{
      "text\/plain":[
       "[(250, 2.49),\n",
       " (250, 2.49),\n",
       " (250, 2.49),\n",
       " (100, 10.99),\n",
       " (100, 5.49),\n",
       " (100, 2.99),\n",
       " (100, 2.99),\n",
       " (100, 2.99),\n",
       " (50, 11.49),\n",
       " (50, 4.49),\n",
       " (20, 5.99),\n",
       " (10, 11.99),\n",
       " (10, 8.99),\n",
       " (10, 3.49),\n",
       " (10, 3.49),\n",
       " (10, 3.49),\n",
       " (5, 11.99),\n",
       " (5, 4.99)]"
      ]
     },
     "metadata":{
      
     },
     "output_type":"display_data"
    }
   ],
   "metadata":{
    "datalore":{
     "node_id":"J5Cj1n1bKoRvK4POeBMsIg",
     "type":"CODE",
     "hide_input_from_viewers":true,
     "hide_output_from_viewers":true
    }
   }
  },
  {
   "cell_type":"markdown",
   "source":[
    "8. Товар (з таблиці Products), ціна якого становить 9.49"
   ],
   "attachments":{
    
   },
   "metadata":{
    "datalore":{
     "node_id":"Bor4GUBPao642JLULLV58C",
     "type":"MD",
     "hide_input_from_viewers":false,
     "hide_output_from_viewers":false,
     "report_properties":{
      
     }
    }
   }
  },
  {
   "cell_type":"code",
   "source":[
    "#Всі товари з цшною 9.49\n",
    "\n",
    "sql_prod_price_all = \"\"\"SELECT  prod_name \n",
    "                        FROM Products \n",
    "                        WHERE prod_price = 9.49\"\"\"\n",
    "execute_sql_query(sql_prod_price_all)"
   ],
   "execution_count":24,
   "outputs":[
    {
     "data":{
      "text\/plain":[
       "[('King doll',), ('Queen doll',)]"
      ]
     },
     "metadata":{
      
     },
     "output_type":"display_data"
    }
   ],
   "metadata":{
    "datalore":{
     "node_id":"1IuQit6o69IeATZgavL009",
     "type":"CODE",
     "hide_input_from_viewers":true,
     "hide_output_from_viewers":true
    }
   }
  },
  {
   "cell_type":"code",
   "source":[
    "#Якщо потрібен один товар, то треба обмежити виведення 1-ю стрічкою\n",
    "\n",
    "sql_prod_price1 = \"\"\"SELECT prod_name \n",
    "                     FROM Products \n",
    "                     WHERE prod_price = 9.49 \n",
    "                     LIMIT 1\"\"\"\n",
    "execute_sql_query(sql_prod_price1)"
   ],
   "execution_count":25,
   "outputs":[
    {
     "data":{
      "text\/plain":[
       "[('King doll',)]"
      ]
     },
     "metadata":{
      
     },
     "output_type":"display_data"
    }
   ],
   "metadata":{
    "datalore":{
     "node_id":"3tw0iucuZ0zVwtdEQMzqWg",
     "type":"CODE",
     "hide_input_from_viewers":true,
     "hide_output_from_viewers":true
    }
   }
  },
  {
   "cell_type":"code",
   "source":[
    "#Якщо потрібен інший товар, то треба обмежити виведення 1-ю строчкою та змінити сортування\n",
    "\n",
    "sql_prod_price2 = \"\"\"SELECT prod_name \n",
    "                     FROM Products \n",
    "                     WHERE prod_price = 9.49 \n",
    "                     ORDER BY 1 desc LIMIT 1\"\"\"\n",
    "execute_sql_query(sql_prod_price2)"
   ],
   "execution_count":26,
   "outputs":[
    {
     "data":{
      "text\/plain":[
       "[('Queen doll',)]"
      ]
     },
     "metadata":{
      
     },
     "output_type":"display_data"
    }
   ],
   "metadata":{
    "datalore":{
     "node_id":"7ud97PYr8bClkNKtka3lu4",
     "type":"CODE",
     "hide_input_from_viewers":true,
     "hide_output_from_viewers":true
    }
   }
  },
  {
   "cell_type":"markdown",
   "source":[
    "9. Виведіть назву товару та ціну, яка лежить в діапазоні від  3 до 6. Відсортуйте результат в по ціні в порядку зростання"
   ],
   "attachments":{
    
   },
   "metadata":{
    "datalore":{
     "node_id":"6JJf4Q43wJfPunL4Fpklxn",
     "type":"MD",
     "hide_input_from_viewers":false,
     "hide_output_from_viewers":false,
     "report_properties":{
      
     }
    }
   }
  },
  {
   "cell_type":"code",
   "source":[
    "sql_prod_price3 = \"\"\"SELECT prod_name,prod_price  \n",
    "                     FROM Products WHERE prod_price >= 3 and prod_price <= 6 \n",
    "                     ORDER BY prod_price asc\"\"\"\n",
    "execute_sql_query(sql_prod_price3)"
   ],
   "execution_count":30,
   "outputs":[
    {
     "data":{
      "text\/plain":[
       "[('Fish bean bag toy', 3.49),\n",
       " ('Bird bean bag toy', 3.49),\n",
       " ('Rabbit bean bag toy', 3.49),\n",
       " ('Raggedy Ann', 4.99),\n",
       " ('8 inch teddy bear', 5.99)]"
      ]
     },
     "metadata":{
      
     },
     "output_type":"display_data"
    }
   ],
   "metadata":{
    "datalore":{
     "node_id":"KLppK1QtMDwgkBu6rvIUzO",
     "type":"CODE",
     "hide_input_from_viewers":false,
     "hide_output_from_viewers":false,
     "report_properties":{
      
     }
    }
   }
  },
  {
   "cell_type":"markdown",
   "source":[
    "10. Кількість товару, що було продано"
   ],
   "attachments":{
    
   },
   "metadata":{
    "datalore":{
     "node_id":"BFzejASiJlgoHCRUj20uGI",
     "type":"MD",
     "hide_input_from_viewers":false,
     "hide_output_from_viewers":false,
     "report_properties":{
      
     }
    }
   }
  },
  {
   "cell_type":"code",
   "source":[
    "sql_sale_items = \"\"\"SELECT sum(quantity) FROM OrderItems\"\"\"\n",
    "execute_sql_query(sql_sale_items)"
   ],
   "execution_count":34,
   "outputs":[
    {
     "data":{
      "text\/plain":[
       "[(1430,)]"
      ]
     },
     "metadata":{
      
     },
     "output_type":"display_data"
    }
   ],
   "metadata":{
    "datalore":{
     "node_id":"hgSr0C6KuEXyppqz7oFs95",
     "type":"CODE",
     "hide_input_from_viewers":false,
     "hide_output_from_viewers":false,
     "report_properties":{
      
     }
    }
   }
  },
  {
   "cell_type":"markdown",
   "source":[
    "11. Кількість найменувань товару, ціна якого більша за 4"
   ],
   "attachments":{
    
   },
   "metadata":{
    "datalore":{
     "node_id":"U1yRX7jYArwasYceYhPRQF",
     "type":"MD",
     "hide_input_from_viewers":false,
     "hide_output_from_viewers":false,
     "report_properties":{
      
     }
    }
   }
  },
  {
   "cell_type":"code",
   "source":[
    "sql_prod_price4 = \"\"\"SELECT count(*) FROM Products WHERE prod_price > 4\"\"\"\n",
    "execute_sql_query(sql_prod_price4)"
   ],
   "execution_count":35,
   "outputs":[
    {
     "data":{
      "text\/plain":[
       "[(6,)]"
      ]
     },
     "metadata":{
      
     },
     "output_type":"display_data"
    }
   ],
   "metadata":{
    "datalore":{
     "node_id":"L3aAipAwSVryELs84k9tt2",
     "type":"CODE",
     "hide_input_from_viewers":false,
     "hide_output_from_viewers":false,
     "report_properties":{
      
     }
    }
   }
  },
  {
   "cell_type":"markdown",
   "source":[
    "12. Розробіть алгоритм для виведення 3 найдорожчих товарів в базі"
   ],
   "attachments":{
    
   },
   "metadata":{
    "datalore":{
     "node_id":"lxNxXXiDpDAiljX6siKVH9",
     "type":"MD",
     "hide_input_from_viewers":false,
     "hide_output_from_viewers":false,
     "report_properties":{
      
     }
    }
   }
  },
  {
   "cell_type":"code",
   "source":[
    "sql_3_most_expencive = \"\"\"SELECT *  \n",
    "                          FROM Products \n",
    "                          ORDER BY prod_price desc \n",
    "                          LIMIT 3\"\"\"\n",
    "execute_sql_query(sql_3_most_expencive)"
   ],
   "execution_count":39,
   "outputs":[
    {
     "data":{
      "text\/plain":[
       "[('BR03',\n",
       "  'BRS01',\n",
       "  '18 inch teddy bear',\n",
       "  11.99,\n",
       "  '18 inch teddy bear, comes with cap and jacket'),\n",
       " ('RYL01',\n",
       "  'FNG01',\n",
       "  'King doll',\n",
       "  9.49,\n",
       "  '12 inch king doll with royal garments and crown'),\n",
       " ('RYL02',\n",
       "  'FNG01',\n",
       "  'Queen doll',\n",
       "  9.49,\n",
       "  '12 inch queen doll with royal garments and crown')]"
      ]
     },
     "metadata":{
      
     },
     "output_type":"display_data"
    }
   ],
   "metadata":{
    "datalore":{
     "node_id":"U9quykeBdxHC66AOPe359L",
     "type":"CODE",
     "hide_input_from_viewers":false,
     "hide_output_from_viewers":false,
     "report_properties":{
      
     }
    }
   }
  },
  {
   "cell_type":"markdown",
   "source":[
    "13. Підрахуйте кількість замовлень для кожного клієнта використовуючи підзапити"
   ],
   "attachments":{
    
   },
   "metadata":{
    "datalore":{
     "node_id":"wljpjWRVWko64IJw5sftNi",
     "type":"MD",
     "hide_input_from_viewers":false,
     "hide_output_from_viewers":false,
     "report_properties":{
      
     }
    }
   }
  },
  {
   "cell_type":"code",
   "source":[
    "sql_order_num_by_cust = \"\"\"SELECT cust_name, (\n",
    "                            SELECT COUNT(*)\n",
    "                            FROM Orders\n",
    "                            WHERE cust_id = Customers.cust_id\n",
    "                            ) AS order_count\n",
    "                            FROM Customers\n",
    "                            ORDER BY order_count DESC\"\"\"\n",
    "execute_sql_query(sql_order_num_by_cust)"
   ],
   "execution_count":69,
   "outputs":[
    {
     "data":{
      "text\/plain":[
       "[('Village Toys', 2),\n",
       " ('Fun4All', 1),\n",
       " ('Fun4All', 1),\n",
       " ('The Toy Store', 1),\n",
       " ('Kids Place', 0)]"
      ]
     },
     "metadata":{
      
     },
     "output_type":"display_data"
    }
   ],
   "metadata":{
    "datalore":{
     "node_id":"2vFW1IxOsiOUAmaDjQmHFv",
     "type":"CODE",
     "hide_input_from_viewers":true,
     "hide_output_from_viewers":true
    }
   }
  },
  {
   "cell_type":"markdown",
   "source":[
    "14. Виведіть список клієнтів та їх замовлення (використайте JOIN)"
   ],
   "attachments":{
    
   },
   "metadata":{
    "datalore":{
     "node_id":"N7HyWhOOLTQg9YoMj3mbF0",
     "type":"MD",
     "hide_input_from_viewers":false,
     "hide_output_from_viewers":false,
     "report_properties":{
      
     }
    }
   }
  },
  {
   "cell_type":"code",
   "source":[
    "# При використанні JOIN загубится остання стрічка, тут доцільніше використовувати LEFT JOIN\n",
    "sql_order_num_by_cust2 = \"\"\"SELECT c.cust_name, count(o.order_num) \n",
    "                            FROM Customers c \n",
    "                            LEFT JOIN Orders o ON c.cust_id=o.cust_id\n",
    "                            GROUP BY c.cust_id\n",
    "                            ORDER BY 2 DESC\"\"\"\n",
    "execute_sql_query(sql_order_num_by_cust2)"
   ],
   "execution_count":70,
   "outputs":[
    {
     "data":{
      "text\/plain":[
       "[('Village Toys', 2),\n",
       " ('Fun4All', 1),\n",
       " ('Fun4All', 1),\n",
       " ('The Toy Store', 1),\n",
       " ('Kids Place', 0)]"
      ]
     },
     "metadata":{
      
     },
     "output_type":"display_data"
    }
   ],
   "metadata":{
    "datalore":{
     "node_id":"TYHTJQxCTG3cFKVl9nBf0d",
     "type":"CODE",
     "hide_input_from_viewers":true,
     "hide_output_from_viewers":true
    }
   }
  },
  {
   "cell_type":"markdown",
   "source":[
    "15. Зробіть два запити: список товарів, ціна яких менша 5 та список товарів, ціна який більша рівна 5. Використайте UNION для об'єднання цих запитів"
   ],
   "attachments":{
    
   },
   "metadata":{
    "datalore":{
     "node_id":"VCvswdxji7vcLfrtW3lnQK",
     "type":"MD",
     "hide_input_from_viewers":false,
     "hide_output_from_viewers":false,
     "report_properties":{
      
     }
    }
   }
  },
  {
   "cell_type":"code",
   "source":[
    "sql_item_list = \"\"\"SELECT prod_name, prod_price \n",
    "                   FROM Products \n",
    "                   WHERE prod_price < 5\n",
    "                   UNION\n",
    "                   SELECT prod_name, prod_price \n",
    "                   FROM Products \n",
    "                   WHERE prod_price >= 5\"\"\"\n",
    "execute_sql_query(sql_item_list)"
   ],
   "execution_count":59,
   "outputs":[
    {
     "data":{
      "text\/plain":[
       "[('12 inch teddy bear', 8.99),\n",
       " ('18 inch teddy bear', 11.99),\n",
       " ('8 inch teddy bear', 5.99),\n",
       " ('Bird bean bag toy', 3.49),\n",
       " ('Fish bean bag toy', 3.49),\n",
       " ('King doll', 9.49),\n",
       " ('Queen doll', 9.49),\n",
       " ('Rabbit bean bag toy', 3.49),\n",
       " ('Raggedy Ann', 4.99)]"
      ]
     },
     "metadata":{
      
     },
     "output_type":"display_data"
    }
   ],
   "metadata":{
    "datalore":{
     "node_id":"VZV98I7ArgQzDkfvAhwSH0",
     "type":"CODE",
     "hide_input_from_viewers":false,
     "hide_output_from_viewers":false,
     "report_properties":{
      
     }
    }
   }
  },
  {
   "cell_type":"markdown",
   "source":[
    "### Завдання 4: "
   ],
   "attachments":{
    
   },
   "metadata":{
    "datalore":{
     "node_id":"SWwYuPd9YWv8A0Ur8oJuTI",
     "type":"MD",
     "hide_input_from_viewers":false,
     "hide_output_from_viewers":false,
     "report_properties":{
      
     }
    }
   }
  },
  {
   "cell_type":"markdown",
   "source":[
    "Зареєструйтеся на сайті  http:\/\/www.sql-ex.ru\/\n",
    "\n",
    "Виконайте завдання із блоку SELECT; з 1 по 30 завдання\n",
    "\n",
    "Код запитів вставляйте сюди"
   ],
   "attachments":{
    
   },
   "metadata":{
    "datalore":{
     "node_id":"81t7qasckIiBvwlAivZguD",
     "type":"MD",
     "hide_input_from_viewers":false,
     "hide_output_from_viewers":false,
     "report_properties":{
      
     }
    }
   }
  },
  {
   "cell_type":"markdown",
   "source":[
    "Краткая информация о базе данных \"Компьютерная фирма\":\n",
    "\n",
    "Схема БД состоит из четырех таблиц:\\\n",
    "Product(maker, model, type)\\\n",
    "PC(code, model, speed, ram, hd, cd, price)\\\n",
    "Laptop(code, model, speed, ram, hd, price, screen)\\\n",
    "Printer(code, model, color, type, price)\\\n",
    " - Таблица Product представляет производителя (maker), номер модели (model) и тип ('PC' - ПК, 'Laptop' - ПК-блокнот или 'Printer' - принтер). Предполагается, что номера моделей в таблице Product уникальны для всех производителей и типов продуктов.\\\n",
    " - В таблице PC для каждого ПК, однозначно определяемого уникальным кодом – code, указаны модель – model (внешний ключ к таблице Product), скорость - speed (процессора в мегагерцах), объем памяти - ram (в мегабайтах), размер диска - hd (в гигабайтах), скорость считывающего устройства - cd (например, '4x') и цена - price (в долларах).\\ \n",
    " - Таблица Laptop аналогична таблице РС за исключением того, что вместо скорости CD содержит размер экрана -screen (в дюймах).\\\n",
    " - В таблице Printer для каждой модели принтера указывается, является ли он цветным - color ('y', если цветной), тип принтера - type (лазерный – 'Laser', струйный – 'Jet' или матричный – 'Matrix') и цена - price."
   ],
   "attachments":{
    
   },
   "metadata":{
    "datalore":{
     "node_id":"imN3BSofLGVqNDjkYTcPjF",
     "type":"MD",
     "hide_input_from_viewers":true,
     "hide_output_from_viewers":true
    }
   }
  },
  {
   "cell_type":"markdown",
   "source":[
    "Задание: 1 (Serge I: 2002-09-30)\n",
    "Найдите номер модели, скорость и размер жесткого диска для всех ПК стоимостью менее 500 дол. Вывести: model, speed и hd"
   ],
   "attachments":{
    
   },
   "metadata":{
    "datalore":{
     "node_id":"pWCjf888xOsSDUQ3sPOrTd",
     "type":"MD",
     "hide_input_from_viewers":true,
     "hide_output_from_viewers":true
    }
   }
  },
  {
   "cell_type":"code",
   "source":[
    "Select model,speed, hd\n",
    "from PC\n",
    "where price < 500"
   ],
   "execution_count":null,
   "outputs":[
    
   ],
   "metadata":{
    "datalore":{
     "node_id":"l18I1QkzDYXpBH0miCjTnD",
     "type":"SQL",
     "hide_input_from_viewers":true,
     "hide_output_from_viewers":true,
     "sql_cell_properties":{
      "variableName":"df_1"
     }
    }
   }
  },
  {
   "cell_type":"markdown",
   "source":[
    "Задание: 2 (Serge I: 2002-09-21)\n",
    "Найдите производителей принтеров. Вывести: maker"
   ],
   "attachments":{
    
   },
   "metadata":{
    "datalore":{
     "node_id":"TPfhJm3hD2aCR2GaxRecZO",
     "type":"MD",
     "hide_input_from_viewers":true,
     "hide_output_from_viewers":true
    }
   }
  },
  {
   "cell_type":"code",
   "source":[
    "Select distinct(maker)\n",
    "from Product\n",
    "where type = 'printer'"
   ],
   "execution_count":null,
   "outputs":[
    
   ],
   "metadata":{
    "datalore":{
     "node_id":"v1LhrgC56DqRmBFZEjDYtk",
     "type":"SQL",
     "hide_input_from_viewers":true,
     "hide_output_from_viewers":true,
     "sql_cell_properties":{
      "variableName":"df_2"
     }
    }
   }
  },
  {
   "cell_type":"markdown",
   "source":[
    "Задание: 3 (Serge I: 2002-09-30)\n",
    "Найдите номер модели, объем памяти и размеры экранов ПК-блокнотов, цена которых превышает 1000 дол."
   ],
   "attachments":{
    
   },
   "metadata":{
    "datalore":{
     "node_id":"DMObYKa8FBHP0ULWyJUnEb",
     "type":"MD",
     "hide_input_from_viewers":true,
     "hide_output_from_viewers":true
    }
   }
  },
  {
   "cell_type":"code",
   "source":[
    "Select model, ram, screen\n",
    "from Laptop\n",
    "where price > 1000"
   ],
   "execution_count":null,
   "outputs":[
    
   ],
   "metadata":{
    "datalore":{
     "node_id":"XAI7kSIZk8ilNWR7uHNYP6",
     "type":"SQL",
     "hide_input_from_viewers":true,
     "hide_output_from_viewers":true,
     "sql_cell_properties":{
      "variableName":"df_3"
     }
    }
   }
  },
  {
   "cell_type":"markdown",
   "source":[
    "Задание: 4 (Serge I: 2002-09-21)\n",
    "Найдите все записи таблицы Printer для цветных принтеров."
   ],
   "attachments":{
    
   },
   "metadata":{
    "datalore":{
     "node_id":"jODNdObV3IU8h5WDcr02p9",
     "type":"MD",
     "hide_input_from_viewers":true,
     "hide_output_from_viewers":true
    }
   }
  },
  {
   "cell_type":"code",
   "source":[
    "Select *\n",
    "from Printer\n",
    "where color = 'y'"
   ],
   "execution_count":null,
   "outputs":[
    
   ],
   "metadata":{
    "datalore":{
     "node_id":"kLqvVqWOqls52N2ZSNY9WJ",
     "type":"SQL",
     "hide_input_from_viewers":true,
     "hide_output_from_viewers":true,
     "sql_cell_properties":{
      "variableName":"df_4"
     }
    }
   }
  },
  {
   "cell_type":"markdown",
   "source":[
    "Задание: 5 (Serge I: 2002-09-30)\n",
    "Найдите номер модели, скорость и размер жесткого диска ПК, имеющих 12x или 24x CD и цену менее 600 дол."
   ],
   "attachments":{
    
   },
   "metadata":{
    "datalore":{
     "node_id":"8Chu1Cp4jL6FpAd1ZQV3BP",
     "type":"MD",
     "hide_input_from_viewers":true,
     "hide_output_from_viewers":true
    }
   }
  },
  {
   "cell_type":"code",
   "source":[
    "Select model, speed, hd\n",
    "from PC\n",
    "where cd in('12x','24x') and price < 600"
   ],
   "execution_count":null,
   "outputs":[
    
   ],
   "metadata":{
    "datalore":{
     "node_id":"TiQUZyy55TvuoQqyt6stRU",
     "type":"SQL",
     "hide_input_from_viewers":true,
     "hide_output_from_viewers":true,
     "sql_cell_properties":{
      "variableName":"df_5"
     }
    }
   }
  },
  {
   "cell_type":"markdown",
   "source":[
    "Задание: 6 (Serge I: 2002-10-28)\n",
    "Для каждого производителя, выпускающего ПК-блокноты c объёмом жесткого диска не менее 10 Гбайт, найти скорости таких ПК-блокнотов. Вывод: производитель, скорость."
   ],
   "attachments":{
    
   },
   "metadata":{
    "datalore":{
     "node_id":"e4NdJ4QvfZh55fUtcca3tP",
     "type":"MD",
     "hide_input_from_viewers":true,
     "hide_output_from_viewers":true
    }
   }
  },
  {
   "cell_type":"code",
   "source":[
    "Select distinct p.maker, l.speed\n",
    "from Product p\n",
    "join Laptop l on l.model = p.model\n",
    "where l.hd >= 10 and p.type = 'Laptop'\n",
    "order by p.maker, l.speed"
   ],
   "execution_count":null,
   "outputs":[
    
   ],
   "metadata":{
    "datalore":{
     "node_id":"789fKB2pYJbSKAR7Oayb3c",
     "type":"SQL",
     "hide_input_from_viewers":true,
     "hide_output_from_viewers":true,
     "sql_cell_properties":{
      "variableName":"df_6"
     }
    }
   }
  },
  {
   "cell_type":"markdown",
   "source":[
    "Задание: 7 (Serge I: 2002-11-02)\n",
    "Найдите номера моделей и цены всех имеющихся в продаже продуктов (любого типа) производителя B (латинская буква)."
   ],
   "attachments":{
    
   },
   "metadata":{
    "datalore":{
     "node_id":"tOIaUca1axrSekkHREE0er",
     "type":"MD",
     "hide_input_from_viewers":true,
     "hide_output_from_viewers":true
    }
   }
  },
  {
   "cell_type":"code",
   "source":[
    "Select l.model, l.price\n",
    "from Product p\n",
    "join Laptop l on l.model = p.model\n",
    "where p.maker = 'B'\n",
    "union\n",
    "Select l.model, l.price\n",
    "from Product p\n",
    "join PC l on l.model = p.model\n",
    "where p.maker = 'B'\n",
    "union\n",
    "Select l.model, l.price\n",
    "from Product p\n",
    "join Printer l on l.model = p.model\n",
    "where p.maker = 'B'"
   ],
   "execution_count":null,
   "outputs":[
    
   ],
   "metadata":{
    "datalore":{
     "node_id":"n4LNUaJ8V1idoGgHTfAM4G",
     "type":"SQL",
     "hide_input_from_viewers":true,
     "hide_output_from_viewers":true,
     "sql_cell_properties":{
      "variableName":"df_7"
     }
    }
   }
  },
  {
   "cell_type":"markdown",
   "source":[
    "Задание: 8 (Serge I: 2003-02-03)\n",
    "Найдите производителя, выпускающего ПК, но не ПК-блокноты."
   ],
   "attachments":{
    
   },
   "metadata":{
    "datalore":{
     "node_id":"NUmVpAfREvVE84qfTeXJkz",
     "type":"MD",
     "hide_input_from_viewers":true,
     "hide_output_from_viewers":true
    }
   }
  },
  {
   "cell_type":"code",
   "source":[
    "Select distinct maker\n",
    "from Product \n",
    "where type = 'PC' and maker not in (Select maker from Product where type = 'Laptop')"
   ],
   "execution_count":null,
   "outputs":[
    
   ],
   "metadata":{
    "datalore":{
     "node_id":"6KUeSRFwDwhyvnu8Wg6WJ7",
     "type":"SQL",
     "hide_input_from_viewers":true,
     "hide_output_from_viewers":true,
     "sql_cell_properties":{
      "variableName":"df_8"
     }
    }
   }
  },
  {
   "cell_type":"markdown",
   "source":[
    "Задание: 9 (Serge I: 2002-11-02)\n",
    "Найдите производителей ПК с процессором не менее 450 Мгц. Вывести: Maker"
   ],
   "attachments":{
    
   },
   "metadata":{
    "datalore":{
     "node_id":"LJFHrtgu22idRE9teYfgLx",
     "type":"MD",
     "hide_input_from_viewers":true,
     "hide_output_from_viewers":true
    }
   }
  },
  {
   "cell_type":"code",
   "source":[
    "Select distinct p.maker\n",
    "from Product p\n",
    "join PC pc on pc.model= p.model\n",
    "where pc.speed >= 450"
   ],
   "execution_count":null,
   "outputs":[
    
   ],
   "metadata":{
    "datalore":{
     "node_id":"tXZuNeZU5dh05aRg2txMQV",
     "type":"SQL",
     "hide_input_from_viewers":true,
     "hide_output_from_viewers":true,
     "sql_cell_properties":{
      "variableName":"df_9"
     }
    }
   }
  },
  {
   "cell_type":"markdown",
   "source":[
    "Задание: 10 (Serge I: 2002-09-23)\n",
    "Найдите модели принтеров, имеющих самую высокую цену. Вывести: model, price"
   ],
   "attachments":{
    
   },
   "metadata":{
    "datalore":{
     "node_id":"GTSXWEBGSI48DqnSNKD7T6",
     "type":"MD",
     "hide_input_from_viewers":true,
     "hide_output_from_viewers":true
    }
   }
  },
  {
   "cell_type":"code",
   "source":[
    "Select model, price\n",
    "from Printer \n",
    "where price = (select max(price) from Printer)"
   ],
   "execution_count":null,
   "outputs":[
    
   ],
   "metadata":{
    "datalore":{
     "node_id":"iEp3wpxQiNVIYkd0tjEsOh",
     "type":"SQL",
     "hide_input_from_viewers":true,
     "hide_output_from_viewers":true,
     "sql_cell_properties":{
      "variableName":"df_10"
     }
    }
   }
  },
  {
   "cell_type":"markdown",
   "source":[
    "Задание: 11 (Serge I: 2002-11-02)\n",
    "Найдите среднюю скорость ПК."
   ],
   "attachments":{
    
   },
   "metadata":{
    "datalore":{
     "node_id":"uxIPkj42upueLr3Zuui5V8",
     "type":"MD",
     "hide_input_from_viewers":true,
     "hide_output_from_viewers":true
    }
   }
  },
  {
   "cell_type":"code",
   "source":[
    "Select avg(speed)\n",
    "from PC"
   ],
   "execution_count":null,
   "outputs":[
    
   ],
   "metadata":{
    "datalore":{
     "node_id":"Gy6tgeODY1107M63uUqQVw",
     "type":"SQL",
     "hide_input_from_viewers":true,
     "hide_output_from_viewers":true,
     "sql_cell_properties":{
      "variableName":"df_11"
     }
    }
   }
  },
  {
   "cell_type":"markdown",
   "source":[
    "Задание: 12 (Serge I: 2002-11-02)\n",
    "Найдите среднюю скорость ПК-блокнотов, цена которых превышает 1000 дол."
   ],
   "attachments":{
    
   },
   "metadata":{
    "datalore":{
     "node_id":"CsGRyMe2eRfJJBM3ZJHDuH",
     "type":"MD",
     "hide_input_from_viewers":true,
     "hide_output_from_viewers":true
    }
   }
  },
  {
   "cell_type":"code",
   "source":[
    "select avg(speed)\n",
    "from Laptop\n",
    "where price > 1000"
   ],
   "execution_count":null,
   "outputs":[
    
   ],
   "metadata":{
    "datalore":{
     "node_id":"ZuOjld3xzihCDDfGICP9NT",
     "type":"SQL",
     "hide_input_from_viewers":true,
     "hide_output_from_viewers":true,
     "sql_cell_properties":{
      "variableName":"df_12"
     }
    }
   }
  },
  {
   "cell_type":"markdown",
   "source":[
    "Задание: 13 (Serge I: 2002-11-02)\n",
    "Найдите среднюю скорость ПК, выпущенных производителем A."
   ],
   "attachments":{
    
   },
   "metadata":{
    "datalore":{
     "node_id":"AkA5RDeFXmDDbFnV3B8YgD",
     "type":"MD",
     "hide_input_from_viewers":true,
     "hide_output_from_viewers":true
    }
   }
  },
  {
   "cell_type":"code",
   "source":[
    "Select avg(c.speed)\n",
    "from PC c\n",
    "join Product p on c.model = p.model\n",
    "where p.maker = 'A'"
   ],
   "execution_count":null,
   "outputs":[
    
   ],
   "metadata":{
    "datalore":{
     "node_id":"r05faqc5wmOKbq5Cpoiw85",
     "type":"SQL",
     "hide_input_from_viewers":true,
     "hide_output_from_viewers":true,
     "sql_cell_properties":{
      "variableName":"df_13"
     }
    }
   }
  },
  {
   "cell_type":"markdown",
   "source":[
    "Краткая информация о базе данных \"Корабли\":\n",
    "\n",
    "Рассматривается БД кораблей, участвовавших во второй мировой войне. Имеются следующие отношения:\\\n",
    "Classes (class, type, country, numGuns, bore, displacement)\\\n",
    "Ships (name, class, launched)\\\n",
    "Battles (name, date)\\\n",
    "Outcomes (ship, battle, result)\\\n",
    "Корабли в «классах» построены по одному и тому же проекту, и классу присваивается либо имя первого корабля, построенного по данному проекту, либо названию класса дается имя проекта, которое не совпадает ни с одним из кораблей в БД. Корабль, давший название классу, называется головным.\\\n",
    "Отношение Classes содержит имя класса, тип (bb для боевого (линейного) корабля или bc для боевого крейсера), страну, в которой построен корабль, число главных орудий, калибр орудий (диаметр ствола орудия в дюймах) и водоизмещение ( вес в тоннах).\\\n",
    "В отношении Ships записаны название корабля, имя его класса и год спуска на воду.\\\n",
    "В отношение Battles включены название и дата битвы, в которой участвовали корабли.\\\n",
    "В отношении Outcomes – результат участия данного корабля в битве (потоплен-sunk, поврежден - damaged или невредим - OK).\\\n",
    "Замечания.\n",
    " 1) В отношение Outcomes могут входить корабли, отсутствующие в отношении Ships. \n",
    " 2) Потопленный корабль в последующих битвах участия не принимает."
   ],
   "attachments":{
    
   },
   "metadata":{
    "datalore":{
     "node_id":"EhMBFtFIwpQNuIaMAiz4WA",
     "type":"MD",
     "hide_input_from_viewers":true,
     "hide_output_from_viewers":true
    }
   }
  },
  {
   "cell_type":"markdown",
   "source":[
    "Задание: 14 (Serge I: 2002-11-05)\n",
    "Найдите класс, имя и страну для кораблей из таблицы Ships, имеющих не менее 10 орудий."
   ],
   "attachments":{
    
   },
   "metadata":{
    "datalore":{
     "node_id":"2pZ3IBHyUOf1JCpyTD7vc5",
     "type":"MD",
     "hide_input_from_viewers":true,
     "hide_output_from_viewers":true
    }
   }
  },
  {
   "cell_type":"code",
   "source":[
    "Select s.class, s.name, c.country\n",
    "from Ships s\n",
    "join Classes c on s.class = c.class\n",
    "where c. numGuns >= 10"
   ],
   "execution_count":null,
   "outputs":[
    
   ],
   "metadata":{
    "datalore":{
     "node_id":"kqHdsqMeictR657rszgRAZ",
     "type":"SQL",
     "hide_input_from_viewers":true,
     "hide_output_from_viewers":true,
     "sql_cell_properties":{
      "variableName":"df_14"
     }
    }
   }
  },
  {
   "cell_type":"markdown",
   "source":[
    "Задание: 15 (Serge I: 2003-02-03)\n",
    "Найдите размеры жестких дисков, совпадающих у двух и более PC. Вывести: HD"
   ],
   "attachments":{
    
   },
   "metadata":{
    "datalore":{
     "node_id":"OfB0oGSd0QmpCV6fH7lXzt",
     "type":"MD",
     "hide_input_from_viewers":true,
     "hide_output_from_viewers":true
    }
   }
  },
  {
   "cell_type":"code",
   "source":[
    "Select hd\n",
    "from PC\n",
    "group by hd\n",
    "having count(hd) > 1"
   ],
   "execution_count":null,
   "outputs":[
    
   ],
   "metadata":{
    "datalore":{
     "node_id":"aTQWydvfd7i2DlIUewFTMN",
     "type":"SQL",
     "hide_input_from_viewers":true,
     "hide_output_from_viewers":true,
     "sql_cell_properties":{
      "variableName":"df_15"
     }
    }
   }
  },
  {
   "cell_type":"markdown",
   "source":[
    "Задание: 16 (Serge I: 2003-02-03)\n",
    "Найдите пары моделей PC, имеющих одинаковые скорость и RAM. В результате каждая пара указывается только один раз, т.е. (i,j), но не (j,i), Порядок вывода: модель с большим номером, модель с меньшим номером, скорость и RAM."
   ],
   "attachments":{
    
   },
   "metadata":{
    "datalore":{
     "node_id":"lybapqLe9WGLb2moIqVDwT",
     "type":"MD",
     "hide_input_from_viewers":true,
     "hide_output_from_viewers":true
    }
   }
  },
  {
   "cell_type":"code",
   "source":[
    "Select distinct p.model, c.model, p.speed, p.ram\n",
    "from PC p, PC c\n",
    "where p.speed = c.speed and p.ram = c.ram and p.model > c.model\n",
    "order by p.model desc, c.model desc"
   ],
   "execution_count":null,
   "outputs":[
    
   ],
   "metadata":{
    "datalore":{
     "node_id":"8p9UHeh5lRmBJjQBdnOlFb",
     "type":"SQL",
     "hide_input_from_viewers":true,
     "hide_output_from_viewers":true,
     "sql_cell_properties":{
      "variableName":"df_16"
     }
    }
   }
  },
  {
   "cell_type":"markdown",
   "source":[
    "Задание: 17 (Serge I: 2003-02-03)\n",
    "Найдите модели ПК-блокнотов, скорость которых меньше скорости каждого из ПК.\n",
    "Вывести: type, model, speed"
   ],
   "attachments":{
    
   },
   "metadata":{
    "datalore":{
     "node_id":"BXwOiBH0zF2QfSW13N5OVs",
     "type":"MD",
     "hide_input_from_viewers":true,
     "hide_output_from_viewers":true
    }
   }
  },
  {
   "cell_type":"code",
   "source":[
    "select distinct p.type, l.model, l.speed\n",
    "from Laptop l\n",
    "join Product p on p.model = l.model\n",
    "where l.speed < ALL(select speed from PC)"
   ],
   "execution_count":null,
   "outputs":[
    
   ],
   "metadata":{
    "datalore":{
     "node_id":"AfW7pwBjJP0x0P0GnTusrD",
     "type":"SQL",
     "hide_input_from_viewers":true,
     "hide_output_from_viewers":true,
     "sql_cell_properties":{
      "variableName":"df_17"
     }
    }
   }
  },
  {
   "cell_type":"markdown",
   "source":[
    "Задание: 18 (Serge I: 2003-02-03)\n",
    "Найдите производителей самых дешевых цветных принтеров. Вывести: maker, price"
   ],
   "attachments":{
    
   },
   "metadata":{
    "datalore":{
     "node_id":"yQNSKTVvG9pi09HqVcje5C",
     "type":"MD",
     "hide_input_from_viewers":true,
     "hide_output_from_viewers":true
    }
   }
  },
  {
   "cell_type":"code",
   "source":[
    "select distinct p1.maker, p2.price\n",
    "from Product p1\n",
    "join Printer p2 on p1.model = p2.model\n",
    "where p2.color = 'y' and p2.price in (select min(price) from Printer where color = 'y')"
   ],
   "execution_count":null,
   "outputs":[
    
   ],
   "metadata":{
    "datalore":{
     "node_id":"5Dwa6GtrqDSGmoWa30IUpb",
     "type":"SQL",
     "hide_input_from_viewers":true,
     "hide_output_from_viewers":true,
     "sql_cell_properties":{
      "variableName":"df_18"
     }
    }
   }
  },
  {
   "cell_type":"markdown",
   "source":[
    "Задание: 19 (Serge I: 2003-02-13)\n",
    "Для каждого производителя, имеющего модели в таблице Laptop, найдите средний размер экрана выпускаемых им ПК-блокнотов.\n",
    "Вывести: maker, средний размер экрана."
   ],
   "attachments":{
    
   },
   "metadata":{
    "datalore":{
     "node_id":"51gzP36Yi0mV1oMd4dwwEr",
     "type":"MD",
     "hide_input_from_viewers":true,
     "hide_output_from_viewers":true
    }
   }
  },
  {
   "cell_type":"code",
   "source":[
    "select p.maker, avg(l.screen)\n",
    "from Product p\n",
    "join Laptop l on p.model = l.model\n",
    "where p.type = 'laptop'\n",
    "group by p.maker"
   ],
   "execution_count":null,
   "outputs":[
    
   ],
   "metadata":{
    "datalore":{
     "node_id":"g3zJSxLE4wCcMd54mBMA0m",
     "type":"SQL",
     "hide_input_from_viewers":true,
     "hide_output_from_viewers":true,
     "sql_cell_properties":{
      "variableName":"df_19"
     }
    }
   }
  },
  {
   "cell_type":"markdown",
   "source":[
    "Задание: 20 (Serge I: 2003-02-13)\n",
    "Найдите производителей, выпускающих по меньшей мере три различных модели ПК. Вывести: Maker, число моделей ПК."
   ],
   "attachments":{
    
   },
   "metadata":{
    "datalore":{
     "node_id":"CKOmZ0GaDaab77jSy0Z24R",
     "type":"MD",
     "hide_input_from_viewers":true,
     "hide_output_from_viewers":true
    }
   }
  },
  {
   "cell_type":"code",
   "source":[
    "select maker, count(distinct model) as num_models\n",
    "from Product\n",
    "where type = 'PC'\n",
    "group by maker\n",
    "having count(distinct model) >= 3"
   ],
   "execution_count":null,
   "outputs":[
    
   ],
   "metadata":{
    "datalore":{
     "node_id":"fklUngxIbv9tTYJPKeYH2T",
     "type":"SQL",
     "hide_input_from_viewers":true,
     "hide_output_from_viewers":true,
     "sql_cell_properties":{
      "variableName":"df_20"
     }
    }
   }
  },
  {
   "cell_type":"markdown",
   "source":[
    "Задание: 21 (Serge I: 2003-02-13)\n",
    "Найдите максимальную цену ПК, выпускаемых каждым производителем, у которого есть модели в таблице PC.\n",
    "Вывести: maker, максимальная цена."
   ],
   "attachments":{
    
   },
   "metadata":{
    "datalore":{
     "node_id":"pPNkLvhDayQnPkTzrv7ASx",
     "type":"MD",
     "hide_input_from_viewers":true,
     "hide_output_from_viewers":true
    }
   }
  },
  {
   "cell_type":"code",
   "source":[
    "select p2.maker, max(p1.price)\n",
    "from PC p1\n",
    "join Product p2 on p1.model=p2.model\n",
    "group by p2.maker"
   ],
   "execution_count":null,
   "outputs":[
    
   ],
   "metadata":{
    "datalore":{
     "node_id":"19MbthV60osdbMEZK4ULLq",
     "type":"SQL",
     "hide_input_from_viewers":true,
     "hide_output_from_viewers":true,
     "sql_cell_properties":{
      "variableName":"df_21"
     }
    }
   }
  },
  {
   "cell_type":"markdown",
   "source":[
    "Задание: 22 (Serge I: 2003-02-13)\n",
    "Для каждого значения скорости ПК, превышающего 600 МГц, определите среднюю цену ПК с такой же скоростью. Вывести: speed, средняя цена."
   ],
   "attachments":{
    
   },
   "metadata":{
    "datalore":{
     "node_id":"JFF3UIBSwIY1mKGu0M8hr1",
     "type":"MD",
     "hide_input_from_viewers":true,
     "hide_output_from_viewers":true
    }
   }
  },
  {
   "cell_type":"code",
   "source":[
    "select speed, avg(price)\n",
    "from PC\n",
    "where speed > 600\n",
    "group by speed"
   ],
   "execution_count":null,
   "outputs":[
    
   ],
   "metadata":{
    "datalore":{
     "node_id":"J3xoVFlj504IYN2LMxXXy6",
     "type":"SQL",
     "hide_input_from_viewers":true,
     "hide_output_from_viewers":true,
     "sql_cell_properties":{
      "variableName":"df_22"
     }
    }
   }
  },
  {
   "cell_type":"markdown",
   "source":[
    "Задание: 23 (Serge I: 2003-02-14)\n",
    "Найдите производителей, которые производили бы как ПК\n",
    "со скоростью не менее 750 МГц, так и ПК-блокноты со скоростью не менее 750 МГц.\n",
    "Вывести: Maker"
   ],
   "attachments":{
    
   },
   "metadata":{
    "datalore":{
     "node_id":"pA7L2eueJtmqOKkPNpoMk1",
     "type":"MD",
     "hide_input_from_viewers":true,
     "hide_output_from_viewers":true
    }
   }
  },
  {
   "cell_type":"code",
   "source":[
    "select distinct maker \n",
    "from Product \n",
    "where maker IN (\n",
    "  select maker \n",
    "  from Product p\n",
    "  join PC on p.model = PC.model \n",
    "  where PC.speed >= 750\n",
    "  intersect\n",
    "  select maker \n",
    "  from Product p\n",
    "  join Laptop l on p.model = l.model \n",
    "  where l.speed >= 750\n",
    ")\n",
    "and type in ('PC', 'Laptop')"
   ],
   "execution_count":null,
   "outputs":[
    
   ],
   "metadata":{
    "datalore":{
     "node_id":"DJQLOHzDniFMSCQ52tpYcN",
     "type":"SQL",
     "hide_input_from_viewers":true,
     "hide_output_from_viewers":true,
     "sql_cell_properties":{
      "variableName":"df_23"
     }
    }
   }
  },
  {
   "cell_type":"markdown",
   "source":[
    "Задание: 24 (Serge I: 2003-02-03)\n",
    "Перечислите номера моделей любых типов, имеющих самую высокую цену по всей имеющейся в базе данных продукции."
   ],
   "attachments":{
    
   },
   "metadata":{
    "datalore":{
     "node_id":"8CSn3qd5eQDQxaABhj2yHh",
     "type":"MD",
     "hide_input_from_viewers":true,
     "hide_output_from_viewers":true
    }
   }
  },
  {
   "cell_type":"code",
   "source":[
    "with top_price as (select model, price\n",
    "from PC \n",
    "where price =\n",
    "(select max(price) price\n",
    "from PC)\n",
    "union\n",
    "select model, price\n",
    "from Laptop \n",
    "where price =\n",
    "(select max(price) price\n",
    "from Laptop)\n",
    "union\n",
    "select model, price\n",
    "from Printer \n",
    "where price =\n",
    "(select max(price) price\n",
    "from Printer))\n",
    "\n",
    "select model from top_price\n",
    "where price = (select max(price) from top_price)"
   ],
   "execution_count":null,
   "outputs":[
    
   ],
   "metadata":{
    "datalore":{
     "node_id":"7dQH4JXnrUszb450zhtyWt",
     "type":"SQL",
     "hide_input_from_viewers":true,
     "hide_output_from_viewers":true,
     "sql_cell_properties":{
      "variableName":"df_24"
     }
    }
   }
  },
  {
   "cell_type":"markdown",
   "source":[
    "Задание: 25 (Serge I: 2003-02-14)\n",
    "Найдите производителей принтеров, которые производят ПК с наименьшим объемом RAM и с самым быстрым процессором среди всех ПК, имеющих наименьший объем RAM. Вывести: Maker"
   ],
   "attachments":{
    
   },
   "metadata":{
    "datalore":{
     "node_id":"k8OrozfSXXiKQSG1YaXhBe",
     "type":"MD",
     "hide_input_from_viewers":true,
     "hide_output_from_viewers":true
    }
   }
  },
  {
   "cell_type":"code",
   "source":[
    "select distinct maker\n",
    "from Product\n",
    "where type = 'Printer' and maker in( select maker\n",
    "                                     from Product\n",
    "                                     where model in(select model\n",
    "                                                    from PC\n",
    "                                                    where speed in (select max(speed) from PC) \n",
    "                                                    and ram in (select min(ram) from PC)\n",
    "                                                    )\n",
    "                                    )"
   ],
   "execution_count":null,
   "outputs":[
    
   ],
   "metadata":{
    "datalore":{
     "node_id":"bZhLfDr7fIPk8CVU28O9CP",
     "type":"SQL",
     "hide_input_from_viewers":true,
     "hide_output_from_viewers":true,
     "sql_cell_properties":{
      "variableName":"df_25"
     }
    }
   }
  },
  {
   "cell_type":"markdown",
   "source":[
    "Задание: 26 (Serge I: 2003-02-14)\n",
    "Найдите среднюю цену ПК и ПК-блокнотов, выпущенных производителем A (латинская буква). Вывести: одна общая средняя цена."
   ],
   "attachments":{
    
   },
   "metadata":{
    "datalore":{
     "node_id":"CN2spM4lURo8HVwhOpsjML",
     "type":"MD",
     "hide_input_from_viewers":true,
     "hide_output_from_viewers":true
    }
   }
  },
  {
   "cell_type":"code",
   "source":[
    "select avg(price) as AVG_price\n",
    "from (\n",
    "select price\n",
    "from PC\n",
    "where model in(\n",
    "select model\n",
    "from Product\n",
    "where maker = 'A' and type = 'PC')\n",
    "union all\n",
    "select price\n",
    "from Laptop\n",
    "where model in(\n",
    "select model\n",
    "from Product\n",
    "where maker = 'A' and type = 'Laptop')\n",
    ") as prices"
   ],
   "execution_count":null,
   "outputs":[
    
   ],
   "metadata":{
    "datalore":{
     "node_id":"MEeSnoV930oxGRWG91Hf6p",
     "type":"SQL",
     "hide_input_from_viewers":true,
     "hide_output_from_viewers":true,
     "sql_cell_properties":{
      "variableName":"df_27"
     }
    }
   }
  },
  {
   "cell_type":"markdown",
   "source":[
    "Задание: 27 (Serge I: 2003-02-03)\n",
    "Найдите средний размер диска ПК каждого из тех производителей, которые выпускают и принтеры. Вывести: maker, средний размер HD."
   ],
   "attachments":{
    
   },
   "metadata":{
    "datalore":{
     "node_id":"CcRqL59DZCIGm1DT3gwMK1",
     "type":"MD",
     "hide_input_from_viewers":true,
     "hide_output_from_viewers":true
    }
   }
  },
  {
   "cell_type":"code",
   "source":[
    "select maker, avg(hd) as AVG_hd\n",
    "from Product p \n",
    "join PC on p.model = PC.model\n",
    "where maker in (\n",
    "select maker\n",
    "from Product\n",
    "where type = 'Printer')\n",
    "group by maker"
   ],
   "execution_count":null,
   "outputs":[
    
   ],
   "metadata":{
    "datalore":{
     "node_id":"CmOwA1NI5jWjLNacSoVqMR",
     "type":"SQL",
     "hide_input_from_viewers":true,
     "hide_output_from_viewers":true,
     "sql_cell_properties":{
      "variableName":"df_29"
     }
    }
   }
  },
  {
   "cell_type":"markdown",
   "source":[
    "Задание: 28 (Serge I: 2012-05-04)\n",
    "Используя таблицу Product, определить количество производителей, выпускающих по одной модели."
   ],
   "attachments":{
    
   },
   "metadata":{
    "datalore":{
     "node_id":"vmyz37NutliF98RS5h7Rq9",
     "type":"MD",
     "hide_input_from_viewers":true,
     "hide_output_from_viewers":true
    }
   }
  },
  {
   "cell_type":"code",
   "source":[
    "select count(one_model_maker)\n",
    "from (\n",
    "select count(model) one_model_maker\n",
    "from Product\n",
    "group by maker\n",
    "having count(maker) = 1) as one_model_maker_table"
   ],
   "execution_count":null,
   "outputs":[
    
   ],
   "metadata":{
    "datalore":{
     "node_id":"WGrkCzV4XqBABVLDrs41WS",
     "type":"SQL",
     "hide_input_from_viewers":true,
     "hide_output_from_viewers":true,
     "sql_cell_properties":{
      "variableName":"df_30"
     }
    }
   }
  },
  {
   "cell_type":"markdown",
   "source":[
    "Задание: 29 (Serge I: 2003-02-14)\n",
    "В предположении, что приход и расход денег на каждом пункте приема фиксируется не чаще одного раза в день [т.е. первичный ключ (пункт, дата)], написать запрос с выходными данными (пункт, дата, приход, расход). Использовать таблицы Income_o и Outcome_o."
   ],
   "attachments":{
    
   },
   "metadata":{
    "datalore":{
     "node_id":"kkTkXkFpDFk1AiULesP9F5",
     "type":"MD",
     "hide_input_from_viewers":true,
     "hide_output_from_viewers":true
    }
   }
  },
  {
   "cell_type":"markdown",
   "source":[
    "\n",
    "Краткая информация о базе данных \"Фирма вторсырья\"\n",
    "\n",
    "Фирма имеет несколько пунктов приема вторсырья. Каждый пункт получает деньги для их выдачи сдатчикам вторсырья. Сведения о получении денег на пунктах приема записываются в таблицу:\\\n",
    "Income_o(point, date, inc)\\\n",
    "Первичным ключом является (point, date). При этом в столбец date записывается только дата (без времени), т.е. прием денег (inc) на каждом пункте производится не чаще одного раза в день.\\\n",
    "Сведения о выдаче денег сдатчикам вторсырья записываются в таблицу:\\\n",
    "Outcome_o(point, date, out)\n",
    "В этой таблице также первичный ключ (point, date) гарантирует отчетность каждого пункта о выданных деньгах (out) не чаще одного раза в день.\\\n",
    "В случае, когда приход и расход денег может фиксироваться несколько раз в день, используется другая схема с таблицами, имеющими первичный ключ code:\\\n",
    "Income(code, point, date, inc)\\\n",
    "Outcome(code, point, date, out)\\\n",
    "Здесь также значения столбца date не содержат времени."
   ],
   "attachments":{
    
   },
   "metadata":{
    "datalore":{
     "node_id":"JA3nGSpPh22NXF9M8d6sbQ",
     "type":"MD",
     "hide_input_from_viewers":true,
     "hide_output_from_viewers":true
    }
   }
  },
  {
   "cell_type":"code",
   "source":[
    "select coalesce(i.point, o.point) as point, coalesce(i.date, o.date) as date, i.inc, o.out\n",
    "from Income_o i\n",
    "full outer join Outcome_o o on i.point = o.point and i.date = o.date\n",
    "order by point, date"
   ],
   "execution_count":null,
   "outputs":[
    
   ],
   "metadata":{
    "datalore":{
     "node_id":"XnCSFclB84T8DKSCHhP1P9",
     "type":"SQL",
     "hide_input_from_viewers":true,
     "hide_output_from_viewers":true,
     "sql_cell_properties":{
      "variableName":"df_31"
     }
    }
   }
  },
  {
   "cell_type":"markdown",
   "source":[
    "Задание: 30 (Serge I: 2003-02-14)\n",
    "В предположении, что приход и расход денег на каждом пункте приема фиксируется произвольное число раз (первичным ключом в таблицах является столбец code), требуется получить таблицу, в которой каждому пункту за каждую дату выполнения операций будет соответствовать одна строка.\n",
    "Вывод: point, date, суммарный расход пункта за день (out), суммарный приход пункта за день (inc). Отсутствующие значения считать неопределенными (NULL)."
   ],
   "attachments":{
    
   },
   "metadata":{
    "datalore":{
     "node_id":"PgA12jGwegu4m7x2uDon9E",
     "type":"MD",
     "hide_input_from_viewers":true,
     "hide_output_from_viewers":true
    }
   }
  },
  {
   "cell_type":"code",
   "source":[
    "select coalesce(i.point, o.point) as point, coalesce(i.date, o.date) as date, o.outcome, i.income\n",
    "from\n",
    "  (select point, date, sum(inc) as income\n",
    "   from Income\n",
    "   group by point, date) as i\n",
    "   full outer join\n",
    "  (select point, date, sum(out) as outcome\n",
    "   from Outcome\n",
    "   group by point, date) as o\n",
    "  on i.point = o.point and i.date = o.date\n",
    "order by point, date"
   ],
   "execution_count":null,
   "outputs":[
    
   ],
   "metadata":{
    "datalore":{
     "node_id":"7Zqv8Dv0YHrZf1OZHZ43IN",
     "type":"SQL",
     "hide_input_from_viewers":true,
     "hide_output_from_viewers":true,
     "sql_cell_properties":{
      "variableName":"df_32"
     }
    }
   }
  }
 ],
 "metadata":{
  "kernelspec":{
   "display_name":"Python",
   "language":"python",
   "name":"python"
  },
  "datalore":{
   "version":1,
   "computation_mode":"JUPYTER",
   "package_manager":"pip",
   "base_environment":"default",
   "packages":[
    
   ]
  }
 },
 "nbformat":4,
 "nbformat_minor":4
}