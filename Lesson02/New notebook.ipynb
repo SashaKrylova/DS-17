{
 "cells":[
  {
   "cell_type":"markdown",
   "source":[
    "# 1. Markdown cells\n",
    "- Hi! It's Sasha Krylova\n",
    "- I want to type my own text\n",
    "- Yuo can visit [my first site](https:\/\/sashakrylova.github.io\/)!\n",
    "\n",
    "# It is very nice\n",
    "## 🇺🇦It's in Ukrainian style!🇺🇦\n",
    "<font color=\"green\">Maybe you gonna take a look<\/font>\n",
    "\n",
    "<mark>but it still has some<\/mark>   \n",
    "<ins>very unpleasant<\/ins>\n",
    ">issues 🥲\n",
    "\n",
    "But I will try to fix it even if in need to learn something as hard as this formula: $y_{sub}=\\sqrt{(}x_{sub})$\n",
    "\n",
    "Or learn how to use Python code like this:\n",
    "\n",
    "```\n",
    "import matplotlib\n",
    "\n",
    "game_is_on = True\n",
    "while game_is_on:\n",
    "    screen.update()\n",
    "    time.sleep(0.1)\n",
    "    snake.move()\n",
    "\n",
    "```\n",
    "# 2. Write formulas in LaTeX\n",
    "\n",
    "**<center>Wish me good luck!<\/center>**\n",
    "\n",
    "_Here is the sample mean:_  \n",
    "<div align=\"center\">$ \\overline{y}=\\frac{1}{n} \\displaystyle\\sum_{i=1}^{n} y_i$<\/div>\n",
    "\n",
    "_Here is the sample variance:_  \n",
    "<center>$ \\sigma^2=\\frac{\\displaystyle\\sum_{i=1}^{n} (y_i-\\overline{y})^2}{n-1}$<\/center>\n",
    "\n",
    "_Here is the sample standard deviation:_  \n",
    "<center>$ \\sigma=\\sqrt{\\frac{\\displaystyle\\sum_{i=1}^{n} (y_i-\\overline{y})^2}{n-1}}$<\/center>"
   ],
   "attachments":{
    
   },
   "metadata":{
    "datalore":{
     "node_id":"0G2MmAQg5vwaqqpS0cKsSY",
     "type":"MD",
     "hide_input_from_viewers":false,
     "hide_output_from_viewers":false,
     "report_properties":{
      "y":0
     }
    }
   }
  },
  {
   "cell_type":"code",
   "source":[
    
   ],
   "execution_count":null,
   "outputs":[
    
   ],
   "metadata":{
    "datalore":{
     "node_id":"b2E7r4jKMfhyNbsqfdpdy5",
     "type":"CODE",
     "hide_input_from_viewers":true,
     "hide_output_from_viewers":true
    }
   }
  }
 ],
 "metadata":{
  "kernelspec":{
   "display_name":"Python",
   "language":"python",
   "name":"python"
  },
  "datalore":{
   "version":1,
   "computation_mode":"JUPYTER",
   "package_manager":"pip",
   "base_environment":"default",
   "packages":[
    
   ]
  }
 },
 "nbformat":4,
 "nbformat_minor":4
}