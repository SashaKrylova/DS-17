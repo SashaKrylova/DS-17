{
 "cells":[
  {
   "cell_type":"markdown",
   "source":[
    "___\n",
    "\n",
    "<a href='https:\/\/mainacademy.ua\/'> <img src='https:\/\/mainacademy.ua\/wp-content\/uploads\/2019\/03\/logo-main.png' alt = 'Хмм, щось з інтернетом'\/><\/a>\n",
    "___\n",
    "\n",
    "# Module 2: Basic Python"
   ],
   "attachments":{
    
   },
   "metadata":{
    "datalore":{
     "node_id":"uX3Q1fDrcptcoq9FkNq9Qz",
     "type":"MD",
     "hide_input_from_viewers":false,
     "hide_output_from_viewers":false,
     "report_properties":{
      
     }
    }
   }
  },
  {
   "cell_type":"markdown",
   "source":[
    "## Lab work 2.2\n"
   ],
   "attachments":{
    
   },
   "metadata":{
    "datalore":{
     "node_id":"HrhpMDjleUepNiLqRm3LMi",
     "type":"MD",
     "hide_input_from_viewers":false,
     "hide_output_from_viewers":false,
     "report_properties":{
      
     }
    }
   }
  },
  {
   "cell_type":"markdown",
   "source":[
    "#### Мета: \n",
    "\n",
    "* навчитися працювати із основними інструкціями Python;\n",
    "* ознайомитися із базовими алгоритмами;"
   ],
   "attachments":{
    
   },
   "metadata":{
    "datalore":{
     "node_id":"SrAihjuQTVnuKc3LK89qIm",
     "type":"MD",
     "hide_input_from_viewers":false,
     "hide_output_from_viewers":false,
     "report_properties":{
      
     }
    }
   }
  },
  {
   "cell_type":"markdown",
   "source":[
    "### Завдання 1"
   ],
   "attachments":{
    
   },
   "metadata":{
    "datalore":{
     "node_id":"ZJEZT1CoUeNGHMJKMuM3Ae",
     "type":"MD",
     "hide_input_from_viewers":false,
     "hide_output_from_viewers":false,
     "report_properties":{
      
     }
    }
   }
  },
  {
   "cell_type":"markdown",
   "source":[
    "Для трьох введених натуральних чисел (користувач вводить числа через пробіл) знайдіть мінімальне та максимальне"
   ],
   "attachments":{
    
   },
   "metadata":{
    "datalore":{
     "node_id":"sLcYgIOJXGb4emfvbxdFah",
     "type":"MD",
     "hide_input_from_viewers":false,
     "hide_output_from_viewers":false,
     "report_properties":{
      
     }
    }
   }
  },
  {
   "cell_type":"code",
   "source":[
    "numbers = input(\"Введіть три натуральні числа через пробіл: \")\n",
    "num_list = list(numbers.split())\n",
    "\n",
    "print(f\"Мінімальне число: {min(num_list)}\")\n",
    "print(f\"Максимальне число: {max(num_list)}\")"
   ],
   "execution_count":3,
   "outputs":[
    {
     "name":"stdout",
     "text":[
      "Введіть три натуральні числа через пробіл:  4 6 890 -1\n",
      "Мінімальне число: -1\n",
      "Максимальне число: 890\n"
     ],
     "output_type":"stream"
    }
   ],
   "metadata":{
    "datalore":{
     "node_id":"hQ91u1FqSlx6qLcOxEN2Kw",
     "type":"CODE",
     "hide_input_from_viewers":false,
     "hide_output_from_viewers":false,
     "report_properties":{
      
     }
    }
   }
  },
  {
   "cell_type":"markdown",
   "source":[
    "### Завдання 2"
   ],
   "attachments":{
    
   },
   "metadata":{
    "datalore":{
     "node_id":"3Qh35bqniFk4oEf2DyS3z3",
     "type":"MD",
     "hide_input_from_viewers":false,
     "hide_output_from_viewers":false,
     "report_properties":{
      
     }
    }
   }
  },
  {
   "cell_type":"markdown",
   "source":[
    "Програма приймає на вхід два параметри: стать спортсмена(`sex = (f, m)`) та вік спортсмена(`age = [0,100]`).  Спортсмен-дівчина може брати участь у змаганні, якщо її вік більший 18, спортсмен-хлопець - якщо вік більший 16\n",
    "\n",
    "Якщо введеніть не коректні дані, виведіть повідомлення про помилку"
   ],
   "attachments":{
    
   },
   "metadata":{
    "datalore":{
     "node_id":"Zye4BtFVX7jGeM10DE7Wh2",
     "type":"MD",
     "hide_input_from_viewers":false,
     "hide_output_from_viewers":false,
     "report_properties":{
      
     }
    }
   }
  },
  {
   "cell_type":"code",
   "source":[
    "try:   \n",
    "    sex = input(\"Введіть стать спортсмену (f, m): \")\n",
    "    age = float(input(\"Введіть вік спортсмену: \"))\n",
    "    \n",
    "    \n",
    "    if sex not in ['f', 'm', 'F', 'M']: \n",
    "        raise Exception(\"Введіть стать 'f' або 'm'\")\n",
    "        \n",
    "    if (sex in ['f', 'F'] and age < 18) or (sex in ['m', 'M'] and age < 16) :\n",
    "        raise Exception('Ви не дупущені до змагань за віком')\n",
    "    \n",
    "    print(\"Ласкаво просимо!\")\n",
    "    \n",
    "except Exception as exc:\n",
    "    print(f'Нажаль виникла помилка: {exc}')"
   ],
   "execution_count":4,
   "outputs":[
    {
     "name":"stdout",
     "text":[
      "Введіть стать спортсмену (f, m):  f\n",
      "Введіть вік спортсмену:  30\n",
      "Ласкаво просимо!\n"
     ],
     "output_type":"stream"
    }
   ],
   "metadata":{
    "datalore":{
     "node_id":"Yl3LJhnylYlYaE8lk27QZD",
     "type":"CODE",
     "hide_input_from_viewers":false,
     "hide_output_from_viewers":false,
     "report_properties":{
      
     }
    }
   }
  },
  {
   "cell_type":"markdown",
   "source":[
    "### Завдання 3"
   ],
   "attachments":{
    
   },
   "metadata":{
    "datalore":{
     "node_id":"G9J5JN3j0wB3S17P4lg1Q5",
     "type":"MD",
     "hide_input_from_viewers":false,
     "hide_output_from_viewers":false,
     "report_properties":{
      
     }
    }
   }
  },
  {
   "cell_type":"markdown",
   "source":[
    "Для введеного натурального числа побудуйте драбинку. \n",
    "\n",
    "Наприклад, якщо N = 5, драбинка буде мати вигляд:\n",
    "    \n",
    "&\n",
    "\n",
    "&&\n",
    "\n",
    "&&&\n",
    "\n",
    "&&&&\n",
    "\n",
    "&&&&&"
   ],
   "attachments":{
    
   },
   "metadata":{
    "datalore":{
     "node_id":"AwEz3pVhTcAP7Wp8kmxXmy",
     "type":"MD",
     "hide_input_from_viewers":false,
     "hide_output_from_viewers":false,
     "report_properties":{
      
     }
    }
   }
  },
  {
   "cell_type":"code",
   "source":[
    "N = int(input(\"Введіть натуральне число: \"))\n",
    "\n",
    "for i in range(N) :\n",
    "    print('&' * (i + 1))"
   ],
   "execution_count":5,
   "outputs":[
    {
     "name":"stdout",
     "text":[
      "Введіть натуральне число:  7\n",
      "&\n",
      "&&\n",
      "&&&\n",
      "&&&&\n",
      "&&&&&\n",
      "&&&&&&\n",
      "&&&&&&&\n"
     ],
     "output_type":"stream"
    }
   ],
   "metadata":{
    "datalore":{
     "node_id":"vnsXX0OhOrYgNgImMQGFKh",
     "type":"CODE",
     "hide_input_from_viewers":false,
     "hide_output_from_viewers":false,
     "report_properties":{
      
     }
    }
   }
  },
  {
   "cell_type":"markdown",
   "source":[
    "### Завдання 4"
   ],
   "attachments":{
    
   },
   "metadata":{
    "datalore":{
     "node_id":"HmXTt2cH3STYXrUYigJlZq",
     "type":"MD",
     "hide_input_from_viewers":false,
     "hide_output_from_viewers":false,
     "report_properties":{
      
     }
    }
   }
  },
  {
   "cell_type":"markdown",
   "source":[
    "Із заданого речення виведіть кожне слово і його довжину"
   ],
   "attachments":{
    
   },
   "metadata":{
    "datalore":{
     "node_id":"KKKUKlEGDSnox48u4pOXRO",
     "type":"MD",
     "hide_input_from_viewers":false,
     "hide_output_from_viewers":false,
     "report_properties":{
      
     }
    }
   }
  },
  {
   "cell_type":"code",
   "source":[
    "sentence = 'My favourite tutor in academy is Ihor'\n",
    "\n",
    "for i in sentence.split():\n",
    "    print(f\"{i}, {len(i)}\")"
   ],
   "execution_count":63,
   "outputs":[
    {
     "name":"stdout",
     "text":[
      "My, 2\n",
      "favourite, 9\n",
      "tutor, 5\n",
      "in, 2\n",
      "academy, 7\n",
      "is, 2\n",
      "Ihor, 4\n"
     ],
     "output_type":"stream"
    }
   ],
   "metadata":{
    "datalore":{
     "node_id":"NbGsMq8TREmjzyBTWktTnc",
     "type":"CODE",
     "hide_input_from_viewers":false,
     "hide_output_from_viewers":false,
     "report_properties":{
      
     }
    }
   }
  },
  {
   "cell_type":"markdown",
   "source":[
    "### Завдання 5"
   ],
   "attachments":{
    
   },
   "metadata":{
    "datalore":{
     "node_id":"Cw91Mz5Tw3q44gHZpDZ0Gw",
     "type":"MD",
     "hide_input_from_viewers":false,
     "hide_output_from_viewers":false,
     "report_properties":{
      
     }
    }
   }
  },
  {
   "cell_type":"markdown",
   "source":[
    "Для заданого тексту реалізуйте:\n",
    "* Знайдіть кількість слів\n",
    "* Знайдіть кількість унікальних слів\n",
    "* Своірть словник, де ключе буде слово із тексту, значенням - частота зустрічання в тексті\n",
    "* Виведіть топ-3 слів, що найчастіше зустрічаються\n",
    "\n",
    "Вважаємо, що слово це стрічка з трьох і більше букв, очищена від знаків пунктуації"
   ],
   "attachments":{
    
   },
   "metadata":{
    "datalore":{
     "node_id":"dFzj8zLoAramkNWVInUDXF",
     "type":"MD",
     "hide_input_from_viewers":false,
     "hide_output_from_viewers":false,
     "report_properties":{
      
     }
    }
   }
  },
  {
   "cell_type":"code",
   "source":[
    "import string\n",
    "\n",
    "text = \"\"\"До чого ж гарно і весело було в нашому горóді! Ото як вийти з сіней та подивись навколо — геть-чисто все зелене та буйне. А сад було як зацвіте весною! А що робилось на початку літа — огірки цвітуть, гарбузи цвітуть, картопля цвіте. Цвіте малина, смородина, тютюн, квасоля. А соняшника, а маку, буряків, лободи, укропу, моркви! Чого тільки не насадить наша невгамовна мати.\n",
    "\n",
    "— Нічого в світі так я не люблю, як саджати що-небудь у землю, щоб проізростало. Коли вилізає з землі всяка рослиночка, ото мені радість,— любила проказувати вона.\n",
    "\n",
    "Город до того переповнявсь рослинами, що десь серед літа вони вже не вміщалися в ньому. Вони лізли одна на одну, переплітались, душились, дерлися на хлів, на стріху, повзли на тин, а гарбузи звисали з тину прямо на вулицю.\n",
    "\n",
    "А малини — красної, білої! А вишень, а груш солодких, було. як наїсися,— цілий день живіт як бубон.\n",
    "\n",
    "І росло ще, пригадую, багато тютюну, в якому ми, маленькі, ходили, мов у лісі, в якому пізнали перші мозолі на дитячих руках.\n",
    "\n",
    "А вздовж тину, за старою повіткою, росли великі кущі смородини, бузини і ще якихось невідомих рослин. Там неслися кури нишком од матері і різне дрібне птаство. Туди ми рідко лазили. Там було темно навіть удень, і ми боялись гадюки. Хто з нас у дитинстві не боявся гадюки, так за все життя й не побачивши її ніде?\n",
    "\n",
    "Коло хати, що стояла в саду, цвіли квіти, а за хатою, проти сінешніх дверей, коло вишень,— поросла полином стара погребня з одкритою лядою, звідки завжди пахло цвіллю. Там, у льоху, в присмерку плигали жаби. Напевно, там водилися й гадюки.\n",
    "\n",
    "На погребні любив спати дід.\n",
    "\n",
    "У нас був дід дуже схожий на бога. Коли я молився богу, я завжди бачив на покуті портрет діда в старих срібнофольгових шатах, а сам дід лежав на печі і тихо кашляв, слухаючи своїх молитов.\n",
    "\n",
    "У неділю перед богами горіла маленька синенька лампадка, в яку завжди набиралось повно мух. Образ святого Миколая також був схожий на діда, особливо коли дід часом підстригав собі бороду і випивав перед обідом чарку горілки з перцем, і мати не лаялась. Святий Федосій більш скидався на батька. Федосію я не молився, в нього була ще темна борода, а в руці гирлига, одягнена чомусь у білу хустку. А от бог, схожий на діда, той тримав в одній руці круглу сільничку, а трьома пýчками другої неначе збирався взяти зубок часнику\n",
    "Звали нашого діда, як я вже потім довідавсь, Семеном. Він був високий і худий, і чоло в нього високе, хвилясте довге волосся сиве, а борода біла. І була в нього велика грижа ще з молодих чумацьких літ. Пахнув дід теплою землею і трохи млином. Він був письменний по-церковному і в неділю любив урочисто читати псалтир. Ні дід, ні ми не розуміли прочитаного, і це завжди хвилювало нас, як дивна таємниця, що надавала прочитаному особливого, небуденного смислу.\n",
    "\n",
    "Мати ненавиділа діда і вважала його за чорнокнижника. Ми не вірили матері і захищали діда од її нападів, бо псалтир всередині був не чорний, а білий, а товста шкіряна палітурка — коричнева, як гречаний мед чи стара халява. Зрештою, мати крадькома таки знищила псалтир. Вона спалила його в печі по одному листочку, боячись палити зразу весь, щоб він часом не вибухнув і не розніс печі.\n",
    "\n",
    "Любив дід гарну бесіду й добре слово. Часом по дорозі на луг, коли хто питав у нього дорогу на Борзну чи на Батурин, він довго стояв посеред шляху і, махаючи пужалном, гукав услід подорожньому:\n",
    "\n",
    "— Прямо, та й прямо, та й прямо, та й нікуди ж не звертайте!.. Добра людина поїхала, дай їй бог здоров'я,— зітхав він лагідно, коли подорожній нарешті зникав у кущах.\n",
    "\n",
    "— А хто вона, діду, людина ота? Звідки вона?\n",
    "\n",
    "— А бог її знає, хіба я знаю... Ну, чого стоїш як укопаний? — звертався дід до коня, сідаючи на воза.— Но, трогай-бо, ну...\n",
    "\n",
    "Він був наш добрий дух лугу і риби. Гриби й ягоди збирав він у лісі краще за нас усіх і розмовляв з кіньми, з телятами, з травами, з старою грушею і дубом — з усім живим, що росло і рухалось навколо.\n",
    "Більш за все на світі любив дід сонце. Він прожив під сонцем коло ста літ, ніколи не ховаючись у холодок. Так під сонцем на погребні, коло яблуні, він і помер, коли прийшов його час.\n",
    "\n",
    "Дід любив кашляти. Кашляв він часом так довго й гучно, що скільки ми не старалися, ніхто не міг його як слід передражнити. Його кашель чув увесь куток. Старі люди по дідовому кашлю вгадували навіть погоду.\n",
    "\"\"\"\n",
    "\n",
    "\n",
    "# Вважаємо, що слово це стрічка з трьох і більше букв, очищена від знаків пунктуації\n",
    "\n",
    "text = text.replace(',','').replace('.','').replace('!','').replace('?','').replace('-','').replace('—','').replace(':','')\n",
    "\n",
    "#all_words_list = [word.lower for word in text.split() if not word in string.punctuation] - не підходить через апостроф\n",
    "\n",
    "words_list = [word for word in text.split() if len(word) > 2]\n",
    "\n",
    "# Знайдіть кількість слів\n",
    "\n",
    "words_num = len(words_list)\n",
    "print(words_num)\n",
    "\n",
    "# Знайдіть кількість унікальних слів\n",
    "\n",
    "words_set = set(words_list)\n",
    "\n",
    "unique_words_num = len(words_set)\n",
    "print(unique_words_num)\n",
    "\n",
    "# Своірть словник, де ключем буде слово із тексту, значенням - частота зустрічання в тексті\n",
    "\n",
    "words_freq_dict = {}\n",
    "\n",
    "for word in words_set:\n",
    "    words_freq_dict[word] = words_list.count(word)\n",
    "    \n",
    "# Виведіть топ-3 слів, що найчастіше зустрічаються\n",
    "\n",
    "words_freq_list = []\n",
    "\n",
    "for i in sorted(words_freq_dict, key=words_freq_dict.get, reverse=True):\n",
    "    words_freq_list.append(i)\n",
    "\n",
    "words_freq_list2 = list(words_freq_dict.items())\n",
    "\n",
    "#print(sorted(words_freq_list2, key=lambda x: x[1], reverse=True))\n",
    "\n",
    "#print(sorted(words_freq_dict, key=words_freq_dict.get, reverse=True))\n",
    "print(words_freq_list[0:3])"
   ],
   "execution_count":67,
   "outputs":[
    {
     "name":"stdout",
     "text":[
      "537\n",
      "433\n",
      "['дід', 'діда', 'він']\n"
     ],
     "output_type":"stream"
    }
   ],
   "metadata":{
    "datalore":{
     "node_id":"2WRz3oqB0hkH0wLUc8A9mp",
     "type":"CODE",
     "hide_input_from_viewers":false,
     "hide_output_from_viewers":false,
     "report_properties":{
      
     }
    }
   }
  },
  {
   "cell_type":"code",
   "source":[
    "a = string.punctuation\n",
    "a"
   ],
   "execution_count":68,
   "outputs":[
    {
     "data":{
      "text\/plain":[
       "'!\"#$%&\\'()*+,-.\/:;<=>?@[\\\\]^_`{|}~'"
      ]
     },
     "metadata":{
      
     },
     "output_type":"display_data"
    }
   ],
   "metadata":{
    "datalore":{
     "node_id":"lEljGf0BNk7dGLtoWM95Vf",
     "type":"CODE",
     "hide_input_from_viewers":true,
     "hide_output_from_viewers":true
    }
   }
  },
  {
   "cell_type":"markdown",
   "source":[
    "### Завдання 6 "
   ],
   "attachments":{
    
   },
   "metadata":{
    "datalore":{
     "node_id":"15DYjvxIeGoi9LDW6M6xxb",
     "type":"MD",
     "hide_input_from_viewers":false,
     "hide_output_from_viewers":false,
     "report_properties":{
      
     }
    }
   }
  },
  {
   "cell_type":"markdown",
   "source":[
    "Напишіть функції, що:\n",
    "* рохраховує мінімальне та максимальне значення\n",
    "* середнє значення послідовності\n",
    "* медіану послідовності\n",
    "* частоту кожної цифри в послідовності\n",
    "* середнє квадратичне відхилення\n",
    "\n",
    "Послідовність чисел ганеруємо рандомно"
   ],
   "attachments":{
    
   },
   "metadata":{
    "datalore":{
     "node_id":"zzhLY1L5ar544rr31uw2xS",
     "type":"MD",
     "hide_input_from_viewers":false,
     "hide_output_from_viewers":false,
     "report_properties":{
      
     }
    }
   }
  },
  {
   "cell_type":"code",
   "source":[
    "import random\n",
    "\n",
    "#генеруэмо тисячу чисел в діапазоні від 0 до 100\n",
    "def list_generation(n):\n",
    "    list_with_random_numbers = [random.randint(0,n) for i in range(1000)]\n",
    "    return list_with_random_numbers\n",
    "\n",
    "# Мінімальне значення\n",
    "\n",
    "def min_value(list_for_check):\n",
    "    return  min(list_for_check)\n",
    "\n",
    "\n",
    "# Максимальне значення\n",
    "\n",
    "def max_value(list_for_check):\n",
    "    return max(list_for_check)\n",
    "\n",
    "# Середнє арифметичне значення\n",
    "\n",
    "def avg_value(list_for_check):\n",
    "    return sum(list_for_check) \/ len(list_for_check)\n",
    "\n",
    "# Медіана\n",
    "\n",
    "def mediana(list_for_check): \n",
    "    sorted_list = sorted(list_for_check)\n",
    "    list_len = len(list_for_check)\n",
    "    if list_len % 2 == 0:\n",
    "        mediana_value_index = (list_len \/ 2 + ((list_len \/ 2) + 1)) \/ 2\n",
    "    else:\n",
    "        mediana_value_index = (list_len + 1) \/ 2\n",
    "    return sorted_list[int(mediana_value_index)]\n",
    "\n",
    "# Частота кожної цифри\n",
    "\n",
    "\n",
    "def num_freq(list_for_check):\n",
    "    num_freq_dict = {}\n",
    "    for number in set(list_for_check):\n",
    "        num_freq_dict[number] = list_for_check.count(number)\n",
    "    return num_freq_dict\n",
    "\n",
    "# Середнє квадратичне відхилення\n",
    "\n",
    "def square_deviation(list_for_check):\n",
    "    square_deviation_list = [(number - avg_value(list_for_check) ) ** 2 for number in list_for_check]\n",
    "    σ = (sum(square_deviation_list) \/ len(list_for_check))**(1 \/ 2)\n",
    "    return σ\n",
    "                    \n",
    "\n",
    "generated_list = list_generation(100)"
   ],
   "execution_count":52,
   "outputs":[
    {
     "data":{
      "text\/plain":[
       "[29,\n",
       " 28,\n",
       " 44,\n",
       " 64,\n",
       " 64,\n",
       " 2,\n",
       " 45,\n",
       " 46,\n",
       " 55,\n",
       " 60,\n",
       " 24,\n",
       " 84,\n",
       " 46,\n",
       " 88,\n",
       " 39,\n",
       " 91,\n",
       " 51,\n",
       " 11,\n",
       " 76,\n",
       " 84,\n",
       " 10,\n",
       " 39,\n",
       " 41,\n",
       " 33,\n",
       " 47,\n",
       " 90,\n",
       " 24,\n",
       " 7,\n",
       " 8,\n",
       " 44,\n",
       " 66,\n",
       " 12,\n",
       " 50,\n",
       " 72,\n",
       " 60,\n",
       " 78,\n",
       " 88,\n",
       " 69,\n",
       " 55,\n",
       " 37,\n",
       " 55,\n",
       " 4,\n",
       " 56,\n",
       " 10,\n",
       " 39,\n",
       " 6,\n",
       " 22,\n",
       " 27,\n",
       " 27,\n",
       " 42,\n",
       " 16,\n",
       " 83,\n",
       " 83,\n",
       " 9,\n",
       " 78,\n",
       " 32,\n",
       " 37,\n",
       " 12,\n",
       " 67,\n",
       " 14,\n",
       " 92,\n",
       " 35,\n",
       " 37,\n",
       " 5,\n",
       " 71,\n",
       " 0,\n",
       " 28,\n",
       " 56,\n",
       " 42,\n",
       " 27,\n",
       " 54,\n",
       " 49,\n",
       " 7,\n",
       " 0,\n",
       " 90,\n",
       " 17,\n",
       " 63,\n",
       " 27,\n",
       " 4,\n",
       " 54,\n",
       " 73,\n",
       " 39,\n",
       " 36,\n",
       " 30,\n",
       " 9,\n",
       " 71,\n",
       " 3,\n",
       " 53,\n",
       " 50,\n",
       " 1,\n",
       " 89,\n",
       " 36,\n",
       " 67,\n",
       " 26,\n",
       " 60,\n",
       " 54,\n",
       " 10,\n",
       " 78,\n",
       " 67,\n",
       " 2,\n",
       " 87,\n",
       " 53,\n",
       " 95,\n",
       " 51,\n",
       " 45,\n",
       " 37,\n",
       " 89,\n",
       " 23,\n",
       " 56,\n",
       " 55,\n",
       " 73,\n",
       " 27,\n",
       " 64,\n",
       " 68,\n",
       " 92,\n",
       " 58,\n",
       " 30,\n",
       " 47,\n",
       " 38,\n",
       " 13,\n",
       " 1,\n",
       " 15,\n",
       " 1,\n",
       " 5,\n",
       " 1,\n",
       " 16,\n",
       " 86,\n",
       " 6,\n",
       " 76,\n",
       " 19,\n",
       " 58,\n",
       " 94,\n",
       " 38,\n",
       " 43,\n",
       " 76,\n",
       " 54,\n",
       " 32,\n",
       " 39,\n",
       " 33,\n",
       " 22,\n",
       " 31,\n",
       " 42,\n",
       " 33,\n",
       " 29,\n",
       " 26,\n",
       " 17,\n",
       " 62,\n",
       " 89,\n",
       " 81,\n",
       " 50,\n",
       " 12,\n",
       " 31,\n",
       " 2,\n",
       " 47,\n",
       " 17,\n",
       " 47,\n",
       " 18,\n",
       " 40,\n",
       " 52,\n",
       " 97,\n",
       " 55,\n",
       " 69,\n",
       " 22,\n",
       " 60,\n",
       " 83,\n",
       " 66,\n",
       " 51,\n",
       " 26,\n",
       " 44,\n",
       " 93,\n",
       " 95,\n",
       " 93,\n",
       " 1,\n",
       " 91,\n",
       " 17,\n",
       " 89,\n",
       " 62,\n",
       " 14,\n",
       " 27,\n",
       " 97,\n",
       " 77,\n",
       " 18,\n",
       " 33,\n",
       " 79,\n",
       " 90,\n",
       " 9,\n",
       " 86,\n",
       " 6,\n",
       " 15,\n",
       " 14,\n",
       " 77,\n",
       " 59,\n",
       " 88,\n",
       " 37,\n",
       " 22,\n",
       " 27,\n",
       " 10,\n",
       " 92,\n",
       " 80,\n",
       " 83,\n",
       " 40,\n",
       " 57,\n",
       " 97,\n",
       " 62,\n",
       " 48,\n",
       " 8,\n",
       " 8,\n",
       " 36,\n",
       " 30,\n",
       " 62,\n",
       " 31,\n",
       " 55,\n",
       " 28,\n",
       " 3,\n",
       " 3,\n",
       " 96,\n",
       " 69,\n",
       " 70,\n",
       " 63,\n",
       " 21,\n",
       " 38,\n",
       " 38,\n",
       " 10,\n",
       " 10,\n",
       " 51,\n",
       " 27,\n",
       " 62,\n",
       " 16,\n",
       " 57,\n",
       " 61,\n",
       " 74,\n",
       " 25,\n",
       " 78,\n",
       " 8,\n",
       " 67,\n",
       " 37,\n",
       " 60,\n",
       " 53,\n",
       " 97,\n",
       " 56,\n",
       " 54,\n",
       " 65,\n",
       " 47,\n",
       " 1,\n",
       " 93,\n",
       " 99,\n",
       " 55,\n",
       " 33,\n",
       " 70,\n",
       " 87,\n",
       " 78,\n",
       " 63,\n",
       " 82,\n",
       " 71,\n",
       " 53,\n",
       " 0,\n",
       " 34,\n",
       " 0,\n",
       " 97,\n",
       " 79,\n",
       " 41,\n",
       " 83,\n",
       " 28,\n",
       " 83,\n",
       " 13,\n",
       " 63,\n",
       " 77,\n",
       " 63,\n",
       " 19,\n",
       " 54,\n",
       " 3,\n",
       " 70,\n",
       " 9,\n",
       " 23,\n",
       " 21,\n",
       " 59,\n",
       " 24,\n",
       " 1,\n",
       " 29,\n",
       " 16,\n",
       " 15,\n",
       " 80,\n",
       " 79,\n",
       " 1,\n",
       " 32,\n",
       " 61,\n",
       " 93,\n",
       " 64,\n",
       " 50,\n",
       " 25,\n",
       " 13,\n",
       " 4,\n",
       " 61,\n",
       " 3,\n",
       " 7,\n",
       " 24,\n",
       " 70,\n",
       " 65,\n",
       " 76,\n",
       " 11,\n",
       " 99,\n",
       " 74,\n",
       " 1,\n",
       " 90,\n",
       " 12,\n",
       " 11,\n",
       " 8,\n",
       " 58,\n",
       " 69,\n",
       " 10,\n",
       " 68,\n",
       " 22,\n",
       " 75,\n",
       " 23,\n",
       " 57,\n",
       " 63,\n",
       " 49,\n",
       " 23,\n",
       " 72,\n",
       " 89,\n",
       " 65,\n",
       " 9,\n",
       " 41,\n",
       " 15,\n",
       " 55,\n",
       " 52,\n",
       " 3,\n",
       " 28,\n",
       " 10,\n",
       " 10,\n",
       " 38,\n",
       " 60,\n",
       " 88,\n",
       " 30,\n",
       " 1,\n",
       " 94,\n",
       " 88,\n",
       " 33,\n",
       " 5,\n",
       " 100,\n",
       " 84,\n",
       " 12,\n",
       " 52,\n",
       " 21,\n",
       " 15,\n",
       " 77,\n",
       " 99,\n",
       " 6,\n",
       " 61,\n",
       " 18,\n",
       " 37,\n",
       " 39,\n",
       " 31,\n",
       " 34,\n",
       " 14,\n",
       " 89,\n",
       " 79,\n",
       " 42,\n",
       " 59,\n",
       " 0,\n",
       " 73,\n",
       " 43,\n",
       " 59,\n",
       " 20,\n",
       " 78,\n",
       " 32,\n",
       " 44,\n",
       " 70,\n",
       " 0,\n",
       " 27,\n",
       " 61,\n",
       " 40,\n",
       " 48,\n",
       " 12,\n",
       " 94,\n",
       " 41,\n",
       " 68,\n",
       " 25,\n",
       " 46,\n",
       " 31,\n",
       " 53,\n",
       " 6,\n",
       " 1,\n",
       " 0,\n",
       " 75,\n",
       " 91,\n",
       " 92,\n",
       " 93,\n",
       " 66,\n",
       " 9,\n",
       " 9,\n",
       " 29,\n",
       " 70,\n",
       " 46,\n",
       " 15,\n",
       " 53,\n",
       " 18,\n",
       " 17,\n",
       " 35,\n",
       " 17,\n",
       " 33,\n",
       " 41,\n",
       " 37,\n",
       " 88,\n",
       " 63,\n",
       " 79,\n",
       " 62,\n",
       " 68,\n",
       " 35,\n",
       " 37,\n",
       " 44,\n",
       " 35,\n",
       " 85,\n",
       " 83,\n",
       " 50,\n",
       " 72,\n",
       " 36,\n",
       " 40,\n",
       " 77,\n",
       " 87,\n",
       " 73,\n",
       " 100,\n",
       " 75,\n",
       " 54,\n",
       " 34,\n",
       " 85,\n",
       " 68,\n",
       " 60,\n",
       " 30,\n",
       " 49,\n",
       " 90,\n",
       " 82,\n",
       " 88,\n",
       " 9,\n",
       " 50,\n",
       " 51,\n",
       " 68,\n",
       " 88,\n",
       " 70,\n",
       " 22,\n",
       " 38,\n",
       " 14,\n",
       " 49,\n",
       " 79,\n",
       " 82,\n",
       " 71,\n",
       " 42,\n",
       " 34,\n",
       " 92,\n",
       " 77,\n",
       " 24,\n",
       " 93,\n",
       " 14,\n",
       " 67,\n",
       " 16,\n",
       " 73,\n",
       " 55,\n",
       " 15,\n",
       " 62,\n",
       " 70,\n",
       " 5,\n",
       " 85,\n",
       " 56,\n",
       " 2,\n",
       " 63,\n",
       " 82,\n",
       " 76,\n",
       " 70,\n",
       " 15,\n",
       " 1,\n",
       " 17,\n",
       " 41,\n",
       " 49,\n",
       " 29,\n",
       " 68,\n",
       " 39,\n",
       " 73,\n",
       " 57,\n",
       " 6,\n",
       " 64,\n",
       " 70,\n",
       " 24,\n",
       " 74,\n",
       " 27,\n",
       " 11,\n",
       " 38,\n",
       " 8,\n",
       " 23,\n",
       " 82,\n",
       " 96,\n",
       " 33,\n",
       " 28,\n",
       " 18,\n",
       " 92,\n",
       " 19,\n",
       " 62,\n",
       " 22,\n",
       " 4,\n",
       " 75,\n",
       " 89,\n",
       " 12,\n",
       " 91,\n",
       " 62,\n",
       " 33,\n",
       " 40,\n",
       " 41,\n",
       " 38,\n",
       " 80,\n",
       " 77,\n",
       " 48,\n",
       " 4,\n",
       " 66,\n",
       " 68,\n",
       " 0,\n",
       " 25,\n",
       " 59,\n",
       " 57,\n",
       " 38,\n",
       " 64,\n",
       " 42,\n",
       " 61,\n",
       " 7,\n",
       " 61,\n",
       " 100,\n",
       " 77,\n",
       " 27,\n",
       " 17,\n",
       " 62,\n",
       " 88,\n",
       " 7,\n",
       " 23,\n",
       " 88,\n",
       " 10,\n",
       " 50,\n",
       " 57,\n",
       " 5,\n",
       " 55,\n",
       " 15,\n",
       " 100,\n",
       " 79,\n",
       " 3,\n",
       " 93,\n",
       " 98,\n",
       " 66,\n",
       " 53,\n",
       " 60,\n",
       " 52,\n",
       " 56,\n",
       " 20,\n",
       " 75,\n",
       " 49,\n",
       " 77,\n",
       " 16,\n",
       " 49,\n",
       " 22,\n",
       " 30,\n",
       " 67,\n",
       " 30,\n",
       " 42,\n",
       " 37,\n",
       " 56,\n",
       " 14,\n",
       " 36,\n",
       " 91,\n",
       " 75,\n",
       " 16,\n",
       " 96,\n",
       " 70,\n",
       " 55,\n",
       " 21,\n",
       " 31,\n",
       " 78,\n",
       " 97,\n",
       " 26,\n",
       " 72,\n",
       " 100,\n",
       " 14,\n",
       " 54,\n",
       " 56,\n",
       " 79,\n",
       " 52,\n",
       " 68,\n",
       " 25,\n",
       " 7,\n",
       " 53,\n",
       " 73,\n",
       " 26,\n",
       " 94,\n",
       " 91,\n",
       " 51,\n",
       " 77,\n",
       " 8,\n",
       " 75,\n",
       " 81,\n",
       " 20,\n",
       " 19,\n",
       " 94,\n",
       " 46,\n",
       " 31,\n",
       " 18,\n",
       " 38,\n",
       " 50,\n",
       " 49,\n",
       " 65,\n",
       " 9,\n",
       " 35,\n",
       " 96,\n",
       " 56,\n",
       " 33,\n",
       " 82,\n",
       " 40,\n",
       " 23,\n",
       " 61,\n",
       " 79,\n",
       " 72,\n",
       " 12,\n",
       " 94,\n",
       " 96,\n",
       " 18,\n",
       " 4,\n",
       " 24,\n",
       " 14,\n",
       " 94,\n",
       " 91,\n",
       " 46,\n",
       " 20,\n",
       " 54,\n",
       " 62,\n",
       " 98,\n",
       " 0,\n",
       " 79,\n",
       " 23,\n",
       " 20,\n",
       " 23,\n",
       " 1,\n",
       " 39,\n",
       " 72,\n",
       " 5,\n",
       " 81,\n",
       " 51,\n",
       " 40,\n",
       " 14,\n",
       " 94,\n",
       " 30,\n",
       " 93,\n",
       " 70,\n",
       " 73,\n",
       " 14,\n",
       " 88,\n",
       " 95,\n",
       " 65,\n",
       " 7,\n",
       " 78,\n",
       " 34,\n",
       " 81,\n",
       " 47,\n",
       " 91,\n",
       " 58,\n",
       " 65,\n",
       " 20,\n",
       " 60,\n",
       " 52,\n",
       " 42,\n",
       " 43,\n",
       " 10,\n",
       " 55,\n",
       " 82,\n",
       " 38,\n",
       " 61,\n",
       " 96,\n",
       " 35,\n",
       " 4,\n",
       " 99,\n",
       " 8,\n",
       " 24,\n",
       " 94,\n",
       " 73,\n",
       " 92,\n",
       " 23,\n",
       " 90,\n",
       " 69,\n",
       " 24,\n",
       " 63,\n",
       " 4,\n",
       " 74,\n",
       " 38,\n",
       " 16,\n",
       " 95,\n",
       " 68,\n",
       " 9,\n",
       " 61,\n",
       " 44,\n",
       " 89,\n",
       " 37,\n",
       " 68,\n",
       " 26,\n",
       " 91,\n",
       " 100,\n",
       " 24,\n",
       " 25,\n",
       " 12,\n",
       " 47,\n",
       " 6,\n",
       " 94,\n",
       " 21,\n",
       " 78,\n",
       " 82,\n",
       " 10,\n",
       " 40,\n",
       " 0,\n",
       " 24,\n",
       " 26,\n",
       " 79,\n",
       " 27,\n",
       " 50,\n",
       " 53,\n",
       " 40,\n",
       " 16,\n",
       " 66,\n",
       " 93,\n",
       " 88,\n",
       " 15,\n",
       " 60,\n",
       " 17,\n",
       " 42,\n",
       " 41,\n",
       " 55,\n",
       " 9,\n",
       " 82,\n",
       " 32,\n",
       " 32,\n",
       " 33,\n",
       " 20,\n",
       " 7,\n",
       " 80,\n",
       " 55,\n",
       " 37,\n",
       " 68,\n",
       " 41,\n",
       " 93,\n",
       " 43,\n",
       " 7,\n",
       " 99,\n",
       " 22,\n",
       " 12,\n",
       " 47,\n",
       " 81,\n",
       " 90,\n",
       " 92,\n",
       " 34,\n",
       " 52,\n",
       " 85,\n",
       " 19,\n",
       " 30,\n",
       " 61,\n",
       " 67,\n",
       " 35,\n",
       " 60,\n",
       " 90,\n",
       " 72,\n",
       " 48,\n",
       " 44,\n",
       " 48,\n",
       " 37,\n",
       " 96,\n",
       " 42,\n",
       " 100,\n",
       " 12,\n",
       " 52,\n",
       " 16,\n",
       " 52,\n",
       " 31,\n",
       " 18,\n",
       " 95,\n",
       " 5,\n",
       " 64,\n",
       " 58,\n",
       " 21,\n",
       " 13,\n",
       " 45,\n",
       " 78,\n",
       " 20,\n",
       " 58,\n",
       " 65,\n",
       " 41,\n",
       " 15,\n",
       " 25,\n",
       " 48,\n",
       " 52,\n",
       " 78,\n",
       " 78,\n",
       " 54,\n",
       " 59,\n",
       " 80,\n",
       " 10,\n",
       " 85,\n",
       " 64,\n",
       " 31,\n",
       " 12,\n",
       " 78,\n",
       " 28,\n",
       " 46,\n",
       " 65,\n",
       " 43,\n",
       " 46,\n",
       " 16,\n",
       " 91,\n",
       " 84,\n",
       " 76,\n",
       " 77,\n",
       " 66,\n",
       " 76,\n",
       " 17,\n",
       " 53,\n",
       " 56,\n",
       " 92,\n",
       " 88,\n",
       " 78,\n",
       " 37,\n",
       " 38,\n",
       " 92,\n",
       " 5,\n",
       " 84,\n",
       " 48,\n",
       " 48,\n",
       " 14,\n",
       " 64,\n",
       " 43,\n",
       " 36,\n",
       " 17,\n",
       " 73,\n",
       " 81,\n",
       " 30,\n",
       " 73,\n",
       " 15,\n",
       " 53,\n",
       " 22,\n",
       " 87,\n",
       " 32,\n",
       " 44,\n",
       " 45,\n",
       " 100,\n",
       " 38,\n",
       " 92,\n",
       " 66,\n",
       " 74,\n",
       " 34,\n",
       " 71,\n",
       " 39,\n",
       " 87,\n",
       " 69,\n",
       " 51,\n",
       " 7,\n",
       " 60,\n",
       " 41,\n",
       " 77,\n",
       " 2,\n",
       " 68,\n",
       " 11,\n",
       " 43,\n",
       " 100,\n",
       " 92,\n",
       " 2,\n",
       " 70,\n",
       " 74,\n",
       " 3,\n",
       " 0,\n",
       " 4,\n",
       " 83,\n",
       " 100,\n",
       " 47,\n",
       " 77,\n",
       " 56,\n",
       " 71,\n",
       " 41,\n",
       " 22,\n",
       " 5,\n",
       " 40,\n",
       " 69,\n",
       " 12,\n",
       " 33,\n",
       " 33,\n",
       " 16,\n",
       " 90,\n",
       " 58,\n",
       " 0,\n",
       " 93,\n",
       " 91,\n",
       " 48,\n",
       " 3,\n",
       " 66,\n",
       " 92,\n",
       " 2,\n",
       " 11,\n",
       " 25,\n",
       " 94,\n",
       " 44,\n",
       " 52,\n",
       " 1,\n",
       " 34,\n",
       " 78,\n",
       " 84,\n",
       " 80,\n",
       " 81,\n",
       " 81,\n",
       " 45,\n",
       " 96,\n",
       " 86,\n",
       " 58,\n",
       " 65,\n",
       " 93,\n",
       " 32,\n",
       " 45,\n",
       " 82,\n",
       " 36,\n",
       " 2,\n",
       " 8,\n",
       " 25,\n",
       " 58,\n",
       " 91,\n",
       " 82,\n",
       " 91,\n",
       " 74,\n",
       " 19,\n",
       " 16,\n",
       " 18,\n",
       " 84,\n",
       " 38,\n",
       " 95,\n",
       " 48,\n",
       " 42,\n",
       " 68,\n",
       " 55,\n",
       " 54,\n",
       " 33,\n",
       " 94,\n",
       " 39,\n",
       " 45,\n",
       " 52,\n",
       " 64,\n",
       " 23,\n",
       " 79,\n",
       " 49,\n",
       " 65,\n",
       " 28,\n",
       " 36,\n",
       " 60,\n",
       " 20,\n",
       " 71,\n",
       " 88,\n",
       " 98,\n",
       " 46,\n",
       " 90,\n",
       " 59,\n",
       " 35,\n",
       " 75,\n",
       " 58,\n",
       " 20,\n",
       " 9,\n",
       " 9,\n",
       " 12,\n",
       " 61,\n",
       " 33,\n",
       " 93,\n",
       " 42,\n",
       " 96,\n",
       " 81,\n",
       " 54,\n",
       " 65,\n",
       " 63,\n",
       " 73,\n",
       " 50,\n",
       " 14,\n",
       " 70,\n",
       " 87,\n",
       " 21,\n",
       " 35,\n",
       " 58,\n",
       " 23,\n",
       " 19,\n",
       " 9,\n",
       " 81,\n",
       " 56,\n",
       " 52,\n",
       " 62,\n",
       " 58,\n",
       " 57,\n",
       " 14,\n",
       " 24,\n",
       " 75,\n",
       " 86,\n",
       " 44,\n",
       " 44,\n",
       " 56,\n",
       " 76,\n",
       " 77,\n",
       " 0,\n",
       " 94,\n",
       " 43,\n",
       " 15]"
      ]
     },
     "metadata":{
      
     },
     "output_type":"display_data"
    }
   ],
   "metadata":{
    "datalore":{
     "node_id":"vCdpegu2zQQRtsL8YBmX79",
     "type":"CODE",
     "hide_input_from_viewers":false,
     "hide_output_from_viewers":false,
     "report_properties":{
      
     }
    }
   }
  },
  {
   "cell_type":"code",
   "source":[
    "min_value(generated_list)"
   ],
   "execution_count":53,
   "outputs":[
    {
     "data":{
      "text\/plain":[
       "0"
      ]
     },
     "metadata":{
      
     },
     "output_type":"display_data"
    }
   ],
   "metadata":{
    "datalore":{
     "node_id":"OwQOESgdDqquxgarIt1C7Q",
     "type":"CODE",
     "hide_input_from_viewers":true,
     "hide_output_from_viewers":true
    }
   }
  },
  {
   "cell_type":"code",
   "source":[
    "max_value(generated_list)"
   ],
   "execution_count":54,
   "outputs":[
    {
     "data":{
      "text\/plain":[
       "100"
      ]
     },
     "metadata":{
      
     },
     "output_type":"display_data"
    }
   ],
   "metadata":{
    "datalore":{
     "node_id":"XCgC2kC3utzg5LegIqriu1",
     "type":"CODE",
     "hide_input_from_viewers":true,
     "hide_output_from_viewers":true
    }
   }
  },
  {
   "cell_type":"code",
   "source":[
    "avg_value(generated_list)"
   ],
   "execution_count":55,
   "outputs":[
    {
     "data":{
      "text\/plain":[
       "48.841"
      ]
     },
     "metadata":{
      
     },
     "output_type":"display_data"
    }
   ],
   "metadata":{
    "datalore":{
     "node_id":"qe3zLReJ78Y7Ouqj8pVr9p",
     "type":"CODE",
     "hide_input_from_viewers":true,
     "hide_output_from_viewers":true
    }
   }
  },
  {
   "cell_type":"code",
   "source":[
    "mediana(generated_list)"
   ],
   "execution_count":56,
   "outputs":[
    {
     "data":{
      "text\/plain":[
       "49"
      ]
     },
     "metadata":{
      
     },
     "output_type":"display_data"
    }
   ],
   "metadata":{
    "datalore":{
     "node_id":"Z7XvihZvvoJWCqONgREDkp",
     "type":"CODE",
     "hide_input_from_viewers":true,
     "hide_output_from_viewers":true
    }
   }
  },
  {
   "cell_type":"code",
   "source":[
    "num_freq(generated_list)"
   ],
   "execution_count":57,
   "outputs":[
    {
     "data":{
      "text\/plain":[
       "{0: 13,\n",
       " 1: 14,\n",
       " 2: 8,\n",
       " 3: 9,\n",
       " 4: 9,\n",
       " 5: 9,\n",
       " 6: 7,\n",
       " 7: 10,\n",
       " 8: 9,\n",
       " 9: 14,\n",
       " 10: 13,\n",
       " 11: 6,\n",
       " 12: 14,\n",
       " 13: 4,\n",
       " 14: 14,\n",
       " 15: 13,\n",
       " 16: 13,\n",
       " 17: 11,\n",
       " 18: 9,\n",
       " 19: 7,\n",
       " 20: 10,\n",
       " 21: 7,\n",
       " 22: 11,\n",
       " 23: 12,\n",
       " 24: 12,\n",
       " 25: 9,\n",
       " 26: 7,\n",
       " 27: 12,\n",
       " 28: 8,\n",
       " 29: 5,\n",
       " 30: 10,\n",
       " 31: 9,\n",
       " 32: 8,\n",
       " 33: 15,\n",
       " 34: 8,\n",
       " 35: 9,\n",
       " 36: 8,\n",
       " 37: 14,\n",
       " 38: 15,\n",
       " 39: 10,\n",
       " 40: 10,\n",
       " 41: 12,\n",
       " 42: 12,\n",
       " 43: 8,\n",
       " 44: 11,\n",
       " 45: 7,\n",
       " 46: 9,\n",
       " 47: 9,\n",
       " 48: 10,\n",
       " 49: 9,\n",
       " 50: 10,\n",
       " 51: 8,\n",
       " 52: 13,\n",
       " 53: 11,\n",
       " 54: 12,\n",
       " 55: 15,\n",
       " 56: 13,\n",
       " 57: 7,\n",
       " 58: 12,\n",
       " 59: 7,\n",
       " 60: 13,\n",
       " 61: 12,\n",
       " 62: 12,\n",
       " 63: 10,\n",
       " 64: 10,\n",
       " 65: 11,\n",
       " 66: 9,\n",
       " 67: 7,\n",
       " 68: 14,\n",
       " 69: 7,\n",
       " 70: 14,\n",
       " 71: 7,\n",
       " 72: 7,\n",
       " 73: 12,\n",
       " 74: 7,\n",
       " 75: 9,\n",
       " 76: 8,\n",
       " 77: 14,\n",
       " 78: 15,\n",
       " 79: 12,\n",
       " 80: 6,\n",
       " 81: 10,\n",
       " 82: 11,\n",
       " 83: 8,\n",
       " 84: 7,\n",
       " 85: 5,\n",
       " 86: 4,\n",
       " 87: 6,\n",
       " 88: 14,\n",
       " 89: 8,\n",
       " 90: 10,\n",
       " 91: 13,\n",
       " 92: 13,\n",
       " 93: 13,\n",
       " 94: 13,\n",
       " 95: 6,\n",
       " 96: 9,\n",
       " 97: 6,\n",
       " 98: 3,\n",
       " 99: 5,\n",
       " 100: 10}"
      ]
     },
     "metadata":{
      
     },
     "output_type":"display_data"
    }
   ],
   "metadata":{
    "datalore":{
     "node_id":"uHCpXGZgLjhbu0eSClx22o",
     "type":"CODE",
     "hide_input_from_viewers":true,
     "hide_output_from_viewers":true
    }
   }
  },
  {
   "cell_type":"code",
   "source":[
    "square_deviation(generated_list)"
   ],
   "execution_count":58,
   "outputs":[
    {
     "data":{
      "text\/plain":[
       "28.63874506677972"
      ]
     },
     "metadata":{
      
     },
     "output_type":"display_data"
    }
   ],
   "metadata":{
    "datalore":{
     "node_id":"M7zGLknvIai6rjIeAuxxQF",
     "type":"CODE",
     "hide_input_from_viewers":true,
     "hide_output_from_viewers":true
    }
   }
  }
 ],
 "metadata":{
  "kernelspec":{
   "display_name":"Python",
   "language":"python",
   "name":"python"
  },
  "datalore":{
   "version":1,
   "computation_mode":"JUPYTER",
   "package_manager":"pip",
   "base_environment":"default",
   "packages":[
    
   ]
  }
 },
 "nbformat":4,
 "nbformat_minor":4
}