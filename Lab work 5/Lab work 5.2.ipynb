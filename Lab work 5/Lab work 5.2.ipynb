{
 "cells":[
  {
   "cell_type":"markdown",
   "source":[
    "___\n",
    "\n",
    "<a href='https:\/\/mainacademy.ua\/'> <img src='https:\/\/mainacademy.ua\/wp-content\/uploads\/2019\/03\/logo-main.png' alt = 'Хмм, щось з інтернетом'\/><\/a>\n",
    "___\n",
    "\n",
    "# Module 5: Data analysis with NumPy and Pandas"
   ],
   "attachments":{
    
   },
   "metadata":{
    "datalore":{
     "node_id":"sN6dG0n30ex0gcB6Xv59Q5",
     "type":"MD",
     "hide_input_from_viewers":false,
     "hide_output_from_viewers":false,
     "report_properties":{
      "rowId":"nJRPr6TSgAcWc42qMpahU4"
     }
    }
   }
  },
  {
   "cell_type":"markdown",
   "source":[
    "## Lab work 5.2\n"
   ],
   "attachments":{
    
   },
   "metadata":{
    "datalore":{
     "node_id":"jwXyd5tegZf7KNtxCpkEhU",
     "type":"MD",
     "hide_input_from_viewers":false,
     "hide_output_from_viewers":false,
     "report_properties":{
      "rowId":"tuyTqwG6irlm9yytQCal8G"
     }
    }
   }
  },
  {
   "cell_type":"markdown",
   "source":[
    "#### Мета: \n",
    "\n",
    "* навчитися працювати із бібліотекою Pandas в Python."
   ],
   "attachments":{
    
   },
   "metadata":{
    "datalore":{
     "node_id":"TnulHGMtbOjcKRMOARuxaB",
     "type":"MD",
     "hide_input_from_viewers":false,
     "hide_output_from_viewers":false,
     "report_properties":{
      "rowId":"z7pGaDmNIaP5CTp7eG3SdH"
     }
    }
   }
  },
  {
   "cell_type":"markdown",
   "source":[
    "### Завдання:"
   ],
   "attachments":{
    
   },
   "metadata":{
    "datalore":{
     "node_id":"b0AWaEFcDniA9zUawVT1Jc",
     "type":"MD",
     "hide_input_from_viewers":false,
     "hide_output_from_viewers":false,
     "report_properties":{
      "rowId":"htFA2swPTGb7TjSXXYQzAl"
     }
    }
   }
  },
  {
   "cell_type":"code",
   "source":[
    "import pandas as pd"
   ],
   "execution_count":72,
   "outputs":[
    
   ],
   "metadata":{
    "datalore":{
     "node_id":"BmV38jUmIl5jFzgJ6fo1aX",
     "type":"CODE",
     "hide_input_from_viewers":false,
     "hide_output_from_viewers":false,
     "report_properties":{
      "rowId":"T0OT3Mh66TDKoo7BWJXnsv"
     }
    }
   }
  },
  {
   "cell_type":"markdown",
   "source":[
    "Вивести версію та конфігурацію бібліотеки:"
   ],
   "attachments":{
    
   },
   "metadata":{
    "datalore":{
     "node_id":"ImIXB5vDziu1vKgjKDYusi",
     "type":"MD",
     "hide_input_from_viewers":false,
     "hide_output_from_viewers":false,
     "report_properties":{
      "rowId":"auERaqKEmpBLrVx2MtM6UG"
     }
    }
   }
  },
  {
   "cell_type":"code",
   "source":[
    "pd.__version__"
   ],
   "execution_count":73,
   "outputs":[
    {
     "data":{
      "text\/plain":[
       "'1.3.5'"
      ]
     },
     "metadata":{
      
     },
     "output_type":"display_data"
    }
   ],
   "metadata":{
    "datalore":{
     "node_id":"SwlTPDCBDTb87P4NQUcaok",
     "type":"CODE",
     "hide_input_from_viewers":false,
     "hide_output_from_viewers":false,
     "report_properties":{
      "rowId":"Lmt9My0OhgHAAaDogPoSuH"
     }
    }
   }
  },
  {
   "cell_type":"code",
   "source":[
    "pd.describe_option()"
   ],
   "execution_count":74,
   "outputs":[
    {
     "name":"stdout",
     "text":[
      "compute.use_bottleneck : bool\n",
      "    Use the bottleneck library to accelerate if it is installed,\n",
      "    the default is True\n",
      "    Valid values: False,True\n",
      "    [default: True] [currently: True]\n",
      "compute.use_numba : bool\n",
      "    Use the numba engine option for select operations if it is installed,\n",
      "    the default is False\n",
      "    Valid values: False,True\n",
      "    [default: False] [currently: False]\n",
      "compute.use_numexpr : bool\n",
      "    Use the numexpr library to accelerate computation if it is installed,\n",
      "    the default is True\n",
      "    Valid values: False,True\n",
      "    [default: True] [currently: True]\n",
      "display.chop_threshold : float or None\n",
      "    if set to a float value, all float values smaller then the given threshold\n",
      "    will be displayed as exactly 0 by repr and friends.\n",
      "    [default: None] [currently: None]\n",
      "display.colheader_justify : 'left'\/'right'\n",
      "    Controls the justification of column headers. used by DataFrameFormatter.\n",
      "    [default: right] [currently: right]\n",
      "display.column_space No description available.\n",
      "    [default: 12] [currently: 12]\n",
      "display.date_dayfirst : boolean\n",
      "    When True, prints and parses dates with the day first, eg 20\/01\/2005\n",
      "    [default: False] [currently: False]\n",
      "display.date_yearfirst : boolean\n",
      "    When True, prints and parses dates with the year first, eg 2005\/01\/20\n",
      "    [default: False] [currently: False]\n",
      "display.encoding : str\/unicode\n",
      "    Defaults to the detected encoding of the console.\n",
      "    Specifies the encoding to be used for strings returned by to_string,\n",
      "    these are generally strings meant to be displayed on the console.\n",
      "    [default: UTF-8] [currently: UTF-8]\n",
      "display.expand_frame_repr : boolean\n",
      "    Whether to print out the full DataFrame repr for wide DataFrames across\n",
      "    multiple lines, `max_columns` is still respected, but the output will\n",
      "    wrap-around across multiple \"pages\" if its width exceeds `display.width`.\n",
      "    [default: True] [currently: True]\n",
      "display.float_format : callable\n",
      "    The callable should accept a floating point number and return\n",
      "    a string with the desired format of the number. This is used\n",
      "    in some places like SeriesFormatter.\n",
      "    See formats.format.EngFormatter for an example.\n",
      "    [default: None] [currently: None]\n",
      "display.html.border : int\n",
      "    A ``border=value`` attribute is inserted in the ``<table>`` tag\n",
      "    for the DataFrame HTML repr.\n",
      "    [default: 1] [currently: 1]\n",
      "display.html.table_schema : boolean\n",
      "    Whether to publish a Table Schema representation for frontends\n",
      "    that support it.\n",
      "    (default: False)\n",
      "    [default: False] [currently: False]\n",
      "display.html.use_mathjax : boolean\n",
      "    When True, Jupyter notebook will process table contents using MathJax,\n",
      "    rendering mathematical expressions enclosed by the dollar symbol.\n",
      "    (default: True)\n",
      "    [default: True] [currently: True]\n",
      "display.large_repr : 'truncate'\/'info'\n",
      "    For DataFrames exceeding max_rows\/max_cols, the repr (and HTML repr) can\n",
      "    show a truncated table (the default from 0.13), or switch to the view from\n",
      "    df.info() (the behaviour in earlier versions of pandas).\n",
      "    [default: truncate] [currently: truncate]\n",
      "display.latex.escape : bool\n",
      "    This specifies if the to_latex method of a Dataframe uses escapes special\n",
      "    characters.\n",
      "    Valid values: False,True\n",
      "    [default: True] [currently: True]\n",
      "display.latex.longtable :bool\n",
      "    This specifies if the to_latex method of a Dataframe uses the longtable\n",
      "    format.\n",
      "    Valid values: False,True\n",
      "    [default: False] [currently: False]\n",
      "display.latex.multicolumn : bool\n",
      "    This specifies if the to_latex method of a Dataframe uses multicolumns\n",
      "    to pretty-print MultiIndex columns.\n",
      "    Valid values: False,True\n",
      "    [default: True] [currently: True]\n",
      "display.latex.multicolumn_format : bool\n",
      "    This specifies if the to_latex method of a Dataframe uses multicolumns\n",
      "    to pretty-print MultiIndex columns.\n",
      "    Valid values: False,True\n",
      "    [default: l] [currently: l]\n",
      "display.latex.multirow : bool\n",
      "    This specifies if the to_latex method of a Dataframe uses multirows\n",
      "    to pretty-print MultiIndex rows.\n",
      "    Valid values: False,True\n",
      "    [default: False] [currently: False]\n",
      "display.latex.repr : boolean\n",
      "    Whether to produce a latex DataFrame representation for jupyter\n",
      "    environments that support it.\n",
      "    (default: False)\n",
      "    [default: False] [currently: False]\n",
      "display.max_categories : int\n",
      "    This sets the maximum number of categories pandas should output when\n",
      "    printing out a `Categorical` or a Series of dtype \"category\".\n",
      "    [default: 8] [currently: 8]\n",
      "display.max_columns : int\n",
      "    If max_cols is exceeded, switch to truncate view. Depending on\n",
      "    `large_repr`, objects are either centrally truncated or printed as\n",
      "    a summary view. 'None' value means unlimited.\n",
      "\n",
      "    In case python\/IPython is running in a terminal and `large_repr`\n",
      "    equals 'truncate' this can be set to 0 and pandas will auto-detect\n",
      "    the width of the terminal and print a truncated object which fits\n",
      "    the screen width. The IPython notebook, IPython qtconsole, or IDLE\n",
      "    do not run in a terminal and hence it is not possible to do\n",
      "    correct auto-detection.\n",
      "    [default: 20] [currently: 20]\n",
      "display.max_colwidth : int or None\n",
      "    The maximum width in characters of a column in the repr of\n",
      "    a pandas data structure. When the column overflows, a \"...\"\n",
      "    placeholder is embedded in the output. A 'None' value means unlimited.\n",
      "    [default: 50] [currently: 50]\n",
      "display.max_info_columns : int\n",
      "    max_info_columns is used in DataFrame.info method to decide if\n",
      "    per column information will be printed.\n",
      "    [default: 100] [currently: 100]\n",
      "display.max_info_rows : int or None\n",
      "    df.info() will usually show null-counts for each column.\n",
      "    For large frames this can be quite slow. max_info_rows and max_info_cols\n",
      "    limit this null check only to frames with smaller dimensions than\n",
      "    specified.\n",
      "    [default: 1690785] [currently: 1690785]\n",
      "display.max_rows : int\n",
      "    If max_rows is exceeded, switch to truncate view. Depending on\n",
      "    `large_repr`, objects are either centrally truncated or printed as\n",
      "    a summary view. 'None' value means unlimited.\n",
      "\n",
      "    In case python\/IPython is running in a terminal and `large_repr`\n",
      "    equals 'truncate' this can be set to 0 and pandas will auto-detect\n",
      "    the height of the terminal and print a truncated object which fits\n",
      "    the screen height. The IPython notebook, IPython qtconsole, or\n",
      "    IDLE do not run in a terminal and hence it is not possible to do\n",
      "    correct auto-detection.\n",
      "    [default: 60] [currently: 60]\n",
      "display.max_seq_items : int or None\n",
      "    When pretty-printing a long sequence, no more then `max_seq_items`\n",
      "    will be printed. If items are omitted, they will be denoted by the\n",
      "    addition of \"...\" to the resulting string.\n",
      "\n",
      "    If set to None, the number of items to be printed is unlimited.\n",
      "    [default: 100] [currently: 100]\n",
      "display.memory_usage : bool, string or None\n",
      "    This specifies if the memory usage of a DataFrame should be displayed when\n",
      "    df.info() is called. Valid values True,False,'deep'\n",
      "    [default: True] [currently: True]\n",
      "display.min_rows : int\n",
      "    The numbers of rows to show in a truncated view (when `max_rows` is\n",
      "    exceeded). Ignored when `max_rows` is set to None or 0. When set to\n",
      "    None, follows the value of `max_rows`.\n",
      "    [default: 10] [currently: 10]\n",
      "display.multi_sparse : boolean\n",
      "    \"sparsify\" MultiIndex display (don't display repeated\n",
      "    elements in outer levels within groups)\n",
      "    [default: True] [currently: True]\n",
      "display.notebook_repr_html : boolean\n",
      "    When True, IPython notebook will use html representation for\n",
      "    pandas objects (if it is available).\n",
      "    [default: True] [currently: True]\n",
      "display.pprint_nest_depth : int\n",
      "    Controls the number of nested levels to process when pretty-printing\n",
      "    [default: 3] [currently: 3]\n",
      "display.precision : int\n",
      "    Floating point output precision in terms of number of places after the\n",
      "    decimal, for regular formatting as well as scientific notation. Similar\n",
      "    to ``precision`` in :meth:`numpy.set_printoptions`.\n",
      "    [default: 6] [currently: 6]\n",
      "display.show_dimensions : boolean or 'truncate'\n",
      "    Whether to print out dimensions at the end of DataFrame repr.\n",
      "    If 'truncate' is specified, only print out the dimensions if the\n",
      "    frame is truncated (e.g. not display all rows and\/or columns)\n",
      "    [default: truncate] [currently: truncate]\n",
      "display.unicode.ambiguous_as_wide : boolean\n",
      "    Whether to use the Unicode East Asian Width to calculate the display text\n",
      "    width.\n",
      "    Enabling this may affect to the performance (default: False)\n",
      "    [default: False] [currently: False]\n",
      "display.unicode.east_asian_width : boolean\n",
      "    Whether to use the Unicode East Asian Width to calculate the display text\n",
      "    width.\n",
      "    Enabling this may affect to the performance (default: False)\n",
      "    [default: False] [currently: False]\n",
      "display.width : int\n",
      "    Width of the display in characters. In case python\/IPython is running in\n",
      "    a terminal this can be set to None and pandas will correctly auto-detect\n",
      "    the width.\n",
      "    Note that the IPython notebook, IPython qtconsole, or IDLE do not run in a\n",
      "    terminal and hence it is not possible to correctly detect the width.\n",
      "    [default: 80] [currently: 80]\n",
      "io.excel.ods.reader : string\n",
      "    The default Excel reader engine for 'ods' files. Available options:\n",
      "    auto, odf.\n",
      "    [default: auto] [currently: auto]\n",
      "io.excel.ods.writer : string\n",
      "    The default Excel writer engine for 'ods' files. Available options:\n",
      "    auto, odf.\n",
      "    [default: auto] [currently: auto]\n",
      "io.excel.xls.reader : string\n",
      "    The default Excel reader engine for 'xls' files. Available options:\n",
      "    auto, xlrd.\n",
      "    [default: auto] [currently: auto]\n",
      "io.excel.xls.writer : string\n",
      "    The default Excel writer engine for 'xls' files. Available options:\n",
      "    auto, xlwt.\n",
      "    [default: auto] [currently: auto]\n",
      "    (Deprecated, use `` instead.)\n",
      "io.excel.xlsb.reader : string\n",
      "    The default Excel reader engine for 'xlsb' files. Available options:\n",
      "    auto, pyxlsb.\n",
      "    [default: auto] [currently: auto]\n",
      "io.excel.xlsm.reader : string\n",
      "    The default Excel reader engine for 'xlsm' files. Available options:\n",
      "    auto, xlrd, openpyxl.\n",
      "    [default: auto] [currently: auto]\n",
      "io.excel.xlsm.writer : string\n",
      "    The default Excel writer engine for 'xlsm' files. Available options:\n",
      "    auto, openpyxl.\n",
      "    [default: auto] [currently: auto]\n",
      "io.excel.xlsx.reader : string\n",
      "    The default Excel reader engine for 'xlsx' files. Available options:\n",
      "    auto, xlrd, openpyxl.\n",
      "    [default: auto] [currently: auto]\n",
      "io.excel.xlsx.writer : string\n",
      "    The default Excel writer engine for 'xlsx' files. Available options:\n",
      "    auto, openpyxl, xlsxwriter.\n",
      "    [default: auto] [currently: auto]\n",
      "io.hdf.default_format : format\n",
      "    default format writing format, if None, then\n",
      "    put will default to 'fixed' and append will default to 'table'\n",
      "    [default: None] [currently: None]\n",
      "io.hdf.dropna_table : boolean\n",
      "    drop ALL nan rows when appending to a table\n",
      "    [default: False] [currently: False]\n",
      "io.parquet.engine : string\n",
      "    The default parquet reader\/writer engine. Available options:\n",
      "    'auto', 'pyarrow', 'fastparquet', the default is 'auto'\n",
      "    [default: auto] [currently: auto]\n",
      "io.sql.engine : string\n",
      "    The default sql reader\/writer engine. Available options:\n",
      "    'auto', 'sqlalchemy', the default is 'auto'\n",
      "    [default: auto] [currently: auto]\n",
      "mode.chained_assignment : string\n",
      "    Raise an exception, warn, or no action if trying to use chained assignment,\n",
      "    The default is warn\n",
      "    [default: warn] [currently: warn]\n",
      "mode.data_manager : string\n",
      "    Internal data manager type; can be \"block\" or \"array\". Defaults to \"block\",\n",
      "    unless overridden by the 'PANDAS_DATA_MANAGER' environment variable (needs\n",
      "    to be set before pandas is imported).\n",
      "    [default: block] [currently: block]\n",
      "mode.sim_interactive : boolean\n",
      "    Whether to simulate interactive mode for purposes of testing\n",
      "    [default: False] [currently: False]\n",
      "mode.string_storage : string\n",
      "    The default storage for StringDtype.\n",
      "    [default: python] [currently: python]\n",
      "mode.use_inf_as_na : boolean\n",
      "    True means treat None, NaN, INF, -INF as NA (old way),\n",
      "    False means None and NaN are null, but INF, -INF are not NA\n",
      "    (new way).\n",
      "    [default: False] [currently: False]\n",
      "mode.use_inf_as_null : boolean\n",
      "    use_inf_as_null had been deprecated and will be removed in a future\n",
      "    version. Use `use_inf_as_na` instead.\n",
      "    [default: False] [currently: False]\n",
      "    (Deprecated, use `mode.use_inf_as_na` instead.)\n",
      "plotting.backend : str\n",
      "    The plotting backend to use. The default value is \"matplotlib\", the\n",
      "    backend provided with pandas. Other backends can be specified by\n",
      "    providing the name of the module that implements the backend.\n",
      "    [default: matplotlib] [currently: matplotlib]\n",
      "plotting.matplotlib.register_converters : bool or 'auto'.\n",
      "    Whether to register converters with matplotlib's units registry for\n",
      "    dates, times, datetimes, and Periods. Toggling to False will remove\n",
      "    the converters, restoring any converters that pandas overwrote.\n",
      "    [default: auto] [currently: auto]\n",
      "styler.render.max_elements : int\n",
      "    The maximum number of data-cell (<td>) elements that will be rendered before\n",
      "    trimming will occur over columns, rows or both if needed.\n",
      "    [default: 262144] [currently: 262144]\n",
      "styler.sparse.columns : bool\n",
      "    Whether to sparsify the display of hierarchical columns. Setting to False will\n",
      "    display each explicit level element in a hierarchical key for each column.\n",
      "    [default: True] [currently: True]\n",
      "styler.sparse.index : bool\n",
      "    Whether to sparsify the display of a hierarchical index. Setting to False will\n",
      "    display each explicit level element in a hierarchical key for each row.\n",
      "    [default: True] [currently: True]\n"
     ],
     "output_type":"stream"
    }
   ],
   "metadata":{
    "datalore":{
     "node_id":"ccO0eS4C0uLwaW7Iksmv0K",
     "type":"CODE",
     "hide_input_from_viewers":true,
     "hide_output_from_viewers":true
    }
   }
  },
  {
   "cell_type":"code",
   "source":[
    "df = pd.read_csv('\/data\/notebook_files\/Ecommerce Purchases.csv')\n",
    "df.head()"
   ],
   "execution_count":75,
   "outputs":[
    {
     "data":{
      "text\/html":[
       "<div>\n",
       "<style scoped>\n",
       "    .dataframe tbody tr th:only-of-type {\n",
       "        vertical-align: middle;\n",
       "    }\n",
       "\n",
       "    .dataframe tbody tr th {\n",
       "        vertical-align: top;\n",
       "    }\n",
       "\n",
       "    .dataframe thead th {\n",
       "        text-align: right;\n",
       "    }\n",
       "<\/style>\n",
       "<table border=\"1\" class=\"dataframe\">\n",
       "  <thead>\n",
       "    <tr style=\"text-align: right;\">\n",
       "      <th><\/th>\n",
       "      <th>Address<\/th>\n",
       "      <th>Lot<\/th>\n",
       "      <th>AM or PM<\/th>\n",
       "      <th>Browser Info<\/th>\n",
       "      <th>Company<\/th>\n",
       "      <th>Credit Card<\/th>\n",
       "      <th>CC Exp Date<\/th>\n",
       "      <th>CC Security Code<\/th>\n",
       "      <th>CC Provider<\/th>\n",
       "      <th>Email<\/th>\n",
       "      <th>Job<\/th>\n",
       "      <th>IP Address<\/th>\n",
       "      <th>Language<\/th>\n",
       "      <th>Purchase Price<\/th>\n",
       "    <\/tr>\n",
       "  <\/thead>\n",
       "  <tbody>\n",
       "    <tr>\n",
       "      <th>0<\/th>\n",
       "      <td>16629 Pace Camp Apt. 448\\nAlexisborough, NE 77...<\/td>\n",
       "      <td>46 in<\/td>\n",
       "      <td>PM<\/td>\n",
       "      <td>Opera\/9.56.(X11; Linux x86_64; sl-SI) Presto\/2...<\/td>\n",
       "      <td>Martinez-Herman<\/td>\n",
       "      <td>6011929061123406<\/td>\n",
       "      <td>02\/20<\/td>\n",
       "      <td>900<\/td>\n",
       "      <td>JCB 16 digit<\/td>\n",
       "      <td>pdunlap@yahoo.com<\/td>\n",
       "      <td>Scientist, product\/process development<\/td>\n",
       "      <td>149.146.147.205<\/td>\n",
       "      <td>el<\/td>\n",
       "      <td>98.14<\/td>\n",
       "    <\/tr>\n",
       "    <tr>\n",
       "      <th>1<\/th>\n",
       "      <td>9374 Jasmine Spurs Suite 508\\nSouth John, TN 8...<\/td>\n",
       "      <td>28 rn<\/td>\n",
       "      <td>PM<\/td>\n",
       "      <td>Opera\/8.93.(Windows 98; Win 9x 4.90; en-US) Pr...<\/td>\n",
       "      <td>Fletcher, Richards and Whitaker<\/td>\n",
       "      <td>3337758169645356<\/td>\n",
       "      <td>11\/18<\/td>\n",
       "      <td>561<\/td>\n",
       "      <td>Mastercard<\/td>\n",
       "      <td>anthony41@reed.com<\/td>\n",
       "      <td>Drilling engineer<\/td>\n",
       "      <td>15.160.41.51<\/td>\n",
       "      <td>fr<\/td>\n",
       "      <td>70.73<\/td>\n",
       "    <\/tr>\n",
       "    <tr>\n",
       "      <th>2<\/th>\n",
       "      <td>Unit 0065 Box 5052\\nDPO AP 27450<\/td>\n",
       "      <td>94 vE<\/td>\n",
       "      <td>PM<\/td>\n",
       "      <td>Mozilla\/5.0 (compatible; MSIE 9.0; Windows NT ...<\/td>\n",
       "      <td>Simpson, Williams and Pham<\/td>\n",
       "      <td>675957666125<\/td>\n",
       "      <td>08\/19<\/td>\n",
       "      <td>699<\/td>\n",
       "      <td>JCB 16 digit<\/td>\n",
       "      <td>amymiller@morales-harrison.com<\/td>\n",
       "      <td>Customer service manager<\/td>\n",
       "      <td>132.207.160.22<\/td>\n",
       "      <td>de<\/td>\n",
       "      <td>0.95<\/td>\n",
       "    <\/tr>\n",
       "    <tr>\n",
       "      <th>3<\/th>\n",
       "      <td>7780 Julia Fords\\nNew Stacy, WA 45798<\/td>\n",
       "      <td>36 vm<\/td>\n",
       "      <td>PM<\/td>\n",
       "      <td>Mozilla\/5.0 (Macintosh; Intel Mac OS X 10_8_0 ...<\/td>\n",
       "      <td>Williams, Marshall and Buchanan<\/td>\n",
       "      <td>6011578504430710<\/td>\n",
       "      <td>02\/24<\/td>\n",
       "      <td>384<\/td>\n",
       "      <td>Discover<\/td>\n",
       "      <td>brent16@olson-robinson.info<\/td>\n",
       "      <td>Drilling engineer<\/td>\n",
       "      <td>30.250.74.19<\/td>\n",
       "      <td>es<\/td>\n",
       "      <td>78.04<\/td>\n",
       "    <\/tr>\n",
       "    <tr>\n",
       "      <th>4<\/th>\n",
       "      <td>23012 Munoz Drive Suite 337\\nNew Cynthia, TX 5...<\/td>\n",
       "      <td>20 IE<\/td>\n",
       "      <td>AM<\/td>\n",
       "      <td>Opera\/9.58.(X11; Linux x86_64; it-IT) Presto\/2...<\/td>\n",
       "      <td>Brown, Watson and Andrews<\/td>\n",
       "      <td>6011456623207998<\/td>\n",
       "      <td>10\/25<\/td>\n",
       "      <td>678<\/td>\n",
       "      <td>Diners Club \/ Carte Blanche<\/td>\n",
       "      <td>christopherwright@gmail.com<\/td>\n",
       "      <td>Fine artist<\/td>\n",
       "      <td>24.140.33.94<\/td>\n",
       "      <td>es<\/td>\n",
       "      <td>77.82<\/td>\n",
       "    <\/tr>\n",
       "  <\/tbody>\n",
       "<\/table>\n",
       "<\/div>"
      ]
     },
     "metadata":{
      
     },
     "output_type":"display_data"
    }
   ],
   "metadata":{
    "datalore":{
     "node_id":"inkypCyng1irdnhjIajkOt",
     "type":"CODE",
     "hide_input_from_viewers":false,
     "hide_output_from_viewers":false,
     "report_properties":{
      "rowId":"h2DQNrGg1dA6yOIgbrpiuJ"
     }
    }
   }
  },
  {
   "cell_type":"markdown",
   "source":[
    "Скільки рядків і стовпців в наборі даних:"
   ],
   "attachments":{
    
   },
   "metadata":{
    "datalore":{
     "node_id":"y6rl7d1RNZPb1EMurC3wDo",
     "type":"MD",
     "hide_input_from_viewers":false,
     "hide_output_from_viewers":false,
     "report_properties":{
      "rowId":"8BJ7cvX8O6QScQMrzUKLOQ"
     }
    }
   }
  },
  {
   "cell_type":"code",
   "source":[
    "df.shape"
   ],
   "execution_count":76,
   "outputs":[
    {
     "data":{
      "text\/plain":[
       "(10000, 14)"
      ]
     },
     "metadata":{
      
     },
     "output_type":"display_data"
    }
   ],
   "metadata":{
    "datalore":{
     "node_id":"up2Nv74kaNie7kClBu6ZHo",
     "type":"CODE",
     "hide_input_from_viewers":true,
     "hide_output_from_viewers":true
    }
   }
  },
  {
   "cell_type":"code",
   "source":[
    "# кількість рядків\n",
    "\n",
    "len(df.axes[0])"
   ],
   "execution_count":77,
   "outputs":[
    {
     "data":{
      "text\/plain":[
       "10000"
      ]
     },
     "metadata":{
      
     },
     "output_type":"display_data"
    }
   ],
   "metadata":{
    "datalore":{
     "node_id":"5pAQOJ1go6ZAfWENZLVMpC",
     "type":"CODE",
     "hide_input_from_viewers":false,
     "hide_output_from_viewers":false,
     "report_properties":{
      "rowId":"SYiOvjZCJ8N58rqDactaKp"
     }
    }
   }
  },
  {
   "cell_type":"code",
   "source":[
    "# кількість стовбців\n",
    "\n",
    "len(df.axes[1])"
   ],
   "execution_count":78,
   "outputs":[
    {
     "data":{
      "text\/plain":[
       "14"
      ]
     },
     "metadata":{
      
     },
     "output_type":"display_data"
    }
   ],
   "metadata":{
    "datalore":{
     "node_id":"8jKZF8U3WKZDnoPaOHIqjp",
     "type":"CODE",
     "hide_input_from_viewers":true,
     "hide_output_from_viewers":true
    }
   }
  },
  {
   "cell_type":"markdown",
   "source":[
    "Перевірити, чи в наборі даних містяться порожні значення:"
   ],
   "attachments":{
    
   },
   "metadata":{
    "datalore":{
     "node_id":"py0usJlGDKj8TQPmaZTVrT",
     "type":"MD",
     "hide_input_from_viewers":false,
     "hide_output_from_viewers":false,
     "report_properties":{
      "rowId":"ytgkdi14Jo7Wc0cM8PamIb"
     }
    }
   }
  },
  {
   "cell_type":"code",
   "source":[
    "df.isna().sum()"
   ],
   "execution_count":79,
   "outputs":[
    {
     "data":{
      "text\/html":[
       "<pre>Address             0\n",
       "Lot                 0\n",
       "AM or PM            0\n",
       "Browser Info        0\n",
       "Company             0\n",
       "Credit Card         0\n",
       "CC Exp Date         0\n",
       "CC Security Code    0\n",
       "CC Provider         0\n",
       "Email               0\n",
       "Job                 0\n",
       "IP Address          0\n",
       "Language            0\n",
       "Purchase Price      0\n",
       "dtype: int64<\/pre>"
      ]
     },
     "metadata":{
      
     },
     "output_type":"display_data"
    }
   ],
   "metadata":{
    "datalore":{
     "node_id":"Gx9Qs2P6Ib2q6xxSmSNVI0",
     "type":"CODE",
     "hide_input_from_viewers":false,
     "hide_output_from_viewers":false,
     "report_properties":{
      "rowId":"V549yJZIc4S3AUSfbVXSAc"
     }
    }
   }
  },
  {
   "cell_type":"markdown",
   "source":[
    "Яка середня ціна закупки (Purchase Price):"
   ],
   "attachments":{
    
   },
   "metadata":{
    "datalore":{
     "node_id":"td4S2s2QhfA2q1UjvbDD9q",
     "type":"MD",
     "hide_input_from_viewers":false,
     "hide_output_from_viewers":false,
     "report_properties":{
      "rowId":"8MkGzpJf86cwwl3mkabVSL"
     }
    }
   }
  },
  {
   "cell_type":"code",
   "source":[
    "df['Purchase Price'].mean()"
   ],
   "execution_count":80,
   "outputs":[
    {
     "data":{
      "text\/plain":[
       "50.347302"
      ]
     },
     "metadata":{
      
     },
     "output_type":"display_data"
    }
   ],
   "metadata":{
    "datalore":{
     "node_id":"lTPXmJJBrnuBWL2l7zbY2W",
     "type":"CODE",
     "hide_input_from_viewers":false,
     "hide_output_from_viewers":false,
     "report_properties":{
      "rowId":"dPWQEQX8BPdB8xzWRSuTqq"
     }
    }
   }
  },
  {
   "cell_type":"markdown",
   "source":[
    "Скільки людей користуються англійською мовою \"en\" на веб-сайті:"
   ],
   "attachments":{
    
   },
   "metadata":{
    "datalore":{
     "node_id":"rcgR1uKBRtvw1VZadYXyFg",
     "type":"MD",
     "hide_input_from_viewers":false,
     "hide_output_from_viewers":false,
     "report_properties":{
      "rowId":"VyP77KPqN4gBLTuL3ixx3C"
     }
    }
   }
  },
  {
   "cell_type":"code",
   "source":[
    "df[df['Language'] == 'en'].count()['Language']"
   ],
   "execution_count":81,
   "outputs":[
    {
     "data":{
      "text\/plain":[
       "1098"
      ]
     },
     "metadata":{
      
     },
     "output_type":"display_data"
    }
   ],
   "metadata":{
    "datalore":{
     "node_id":"GSZH6R8BJs7xLhVnHQ9qyL",
     "type":"CODE",
     "hide_input_from_viewers":false,
     "hide_output_from_viewers":false,
     "report_properties":{
      "rowId":"kUw12AvExqg0zSWFIeGQVk"
     }
    }
   }
  },
  {
   "cell_type":"markdown",
   "source":[
    "Скільки людей має посаду «Lawyer»?"
   ],
   "attachments":{
    
   },
   "metadata":{
    "datalore":{
     "node_id":"eRyHrugR1GVOp3wkPfVrFE",
     "type":"MD",
     "hide_input_from_viewers":false,
     "hide_output_from_viewers":false,
     "report_properties":{
      "rowId":"ZGcaUR2H215y4YgwqCtO35"
     }
    }
   }
  },
  {
   "cell_type":"code",
   "source":[
    "df['Job'].value_counts()['Lawyer']"
   ],
   "execution_count":82,
   "outputs":[
    {
     "data":{
      "text\/plain":[
       "30"
      ]
     },
     "metadata":{
      
     },
     "output_type":"display_data"
    }
   ],
   "metadata":{
    "datalore":{
     "node_id":"0VX2AOQCsgJYPIV8IJwTuF",
     "type":"CODE",
     "hide_input_from_viewers":false,
     "hide_output_from_viewers":false,
     "report_properties":{
      "rowId":"UHBNcPAQdzTDCW2R45YnHM"
     }
    }
   }
  },
  {
   "cell_type":"markdown",
   "source":[
    "Скільки людей зробило покупку вранці та скільки людей зробило покупку після обіду?"
   ],
   "attachments":{
    
   },
   "metadata":{
    "datalore":{
     "node_id":"Md6DfRVVHq87h0QkKDPidf",
     "type":"MD",
     "hide_input_from_viewers":false,
     "hide_output_from_viewers":false,
     "report_properties":{
      "rowId":"jq3EJj7zZrOQoLOdr4bMdW"
     }
    }
   }
  },
  {
   "cell_type":"code",
   "source":[
    "# Скільки людей зробило покупку вранці\n",
    "\n",
    "df[df['AM or PM'] == 'AM'].count()['AM or PM']"
   ],
   "execution_count":83,
   "outputs":[
    {
     "data":{
      "text\/plain":[
       "4932"
      ]
     },
     "metadata":{
      
     },
     "output_type":"display_data"
    }
   ],
   "metadata":{
    "datalore":{
     "node_id":"jTuc1uOGr8QrUMCDqjVmOm",
     "type":"CODE",
     "hide_input_from_viewers":false,
     "hide_output_from_viewers":false,
     "report_properties":{
      "rowId":"7gza6xLCHqK3yG7ScLkwGA"
     }
    }
   }
  },
  {
   "cell_type":"code",
   "source":[
    "# Скільки людей зробило покупку після обіду\n",
    "\n",
    "df[df['AM or PM'] == 'PM'].count()['AM or PM']"
   ],
   "execution_count":84,
   "outputs":[
    {
     "data":{
      "text\/plain":[
       "5068"
      ]
     },
     "metadata":{
      
     },
     "output_type":"display_data"
    }
   ],
   "metadata":{
    "datalore":{
     "node_id":"ub7ZnJUM8zopkVXIk5oJym",
     "type":"CODE",
     "hide_input_from_viewers":true,
     "hide_output_from_viewers":true
    }
   }
  },
  {
   "cell_type":"code",
   "source":[
    "df['AM or PM'].value_counts()"
   ],
   "execution_count":85,
   "outputs":[
    {
     "data":{
      "text\/html":[
       "<pre>PM    5068\n",
       "AM    4932\n",
       "Name: AM or PM, dtype: int64<\/pre>"
      ]
     },
     "metadata":{
      
     },
     "output_type":"display_data"
    }
   ],
   "metadata":{
    "datalore":{
     "node_id":"hvMih22AqDNQ3nKV2dilHs",
     "type":"CODE",
     "hide_input_from_viewers":true,
     "hide_output_from_viewers":true
    }
   }
  },
  {
   "cell_type":"markdown",
   "source":[
    "Які 5 найпоширеніших назв вакансій?"
   ],
   "attachments":{
    
   },
   "metadata":{
    "datalore":{
     "node_id":"A8U2OBcOa4R1Xc1Wgpgcpp",
     "type":"MD",
     "hide_input_from_viewers":false,
     "hide_output_from_viewers":false,
     "report_properties":{
      "rowId":"UCPAvx8mP3dm5WdkJvIxOK"
     }
    }
   }
  },
  {
   "cell_type":"code",
   "source":[
    "df['Job'].value_counts().head()"
   ],
   "execution_count":86,
   "outputs":[
    {
     "data":{
      "text\/html":[
       "<pre>Interior and spatial designer    31\n",
       "Lawyer                           30\n",
       "Social researcher                28\n",
       "Purchasing manager               27\n",
       "Designer, jewellery              27\n",
       "Name: Job, dtype: int64<\/pre>"
      ]
     },
     "metadata":{
      
     },
     "output_type":"display_data"
    }
   ],
   "metadata":{
    "datalore":{
     "node_id":"JgUjc1dtWwA2ayUuTHvfoM",
     "type":"CODE",
     "hide_input_from_viewers":false,
     "hide_output_from_viewers":false,
     "report_properties":{
      "rowId":"cFHyNV2jPFZDZJfJ5tmuAa"
     }
    }
   }
  },
  {
   "cell_type":"markdown",
   "source":[
    "Хтось здійснив покупку, яка надійшла від Lot: \"90 Wt\", та якою була ціна придбання для цієї транзакції?"
   ],
   "attachments":{
    
   },
   "metadata":{
    "datalore":{
     "node_id":"gipUGZ7kRc22EwTVlWLWYV",
     "type":"MD",
     "hide_input_from_viewers":false,
     "hide_output_from_viewers":false,
     "report_properties":{
      "rowId":"lucM04N7576czjN7OYd0YQ"
     }
    }
   }
  },
  {
   "cell_type":"code",
   "source":[
    "df[df['Lot'] == '90 WT']['Purchase Price'].values[0]"
   ],
   "execution_count":87,
   "outputs":[
    {
     "data":{
      "text\/plain":[
       "75.1"
      ]
     },
     "metadata":{
      
     },
     "output_type":"display_data"
    }
   ],
   "metadata":{
    "datalore":{
     "node_id":"DrP7KO7IxSGE3oibm8jMdp",
     "type":"CODE",
     "hide_input_from_viewers":false,
     "hide_output_from_viewers":false,
     "report_properties":{
      "rowId":"SDfelIEuosZih8EBriu8FH"
     }
    }
   }
  },
  {
   "cell_type":"markdown",
   "source":[
    "Яка електронна адреса особи з таким номером кредитної картки: 4926535242672853 ?"
   ],
   "attachments":{
    
   },
   "metadata":{
    "datalore":{
     "node_id":"7g1DvDo4tphiYxQMh4EpBf",
     "type":"MD",
     "hide_input_from_viewers":false,
     "hide_output_from_viewers":false,
     "report_properties":{
      "rowId":"qNQNvOQJe3HyR4Q5xT7T6n"
     }
    }
   }
  },
  {
   "cell_type":"code",
   "source":[
    "df[df['Credit Card'] == 4926535242672853]['Email'].item()"
   ],
   "execution_count":88,
   "outputs":[
    {
     "data":{
      "text\/plain":[
       "'bondellen@williams-garza.com'"
      ]
     },
     "metadata":{
      
     },
     "output_type":"display_data"
    }
   ],
   "metadata":{
    "datalore":{
     "node_id":"62Z8sGF9WGQ3a1uPKTT1aC",
     "type":"CODE",
     "hide_input_from_viewers":false,
     "hide_output_from_viewers":false,
     "report_properties":{
      "rowId":"0cw6W3TchRY26ZNkkq253S"
     }
    }
   }
  },
  {
   "cell_type":"markdown",
   "source":[
    "Скільки людей використовує American Express  і здійснили покупку на суму понад 100 доларів?"
   ],
   "attachments":{
    
   },
   "metadata":{
    "datalore":{
     "node_id":"3kbXSVoju6jqyFMLPDvriR",
     "type":"MD",
     "hide_input_from_viewers":false,
     "hide_output_from_viewers":false,
     "report_properties":{
      "rowId":"cgC2zsD1Ho2lTgEzMvYymR"
     }
    }
   }
  },
  {
   "cell_type":"code",
   "source":[
    "# Скільки людей використовує American Express\n",
    "\n",
    "len(set(df[df[\"CC Provider\"] == \"American Express\"]['Email']))"
   ],
   "execution_count":89,
   "outputs":[
    {
     "data":{
      "text\/plain":[
       "849"
      ]
     },
     "metadata":{
      
     },
     "output_type":"display_data"
    }
   ],
   "metadata":{
    "datalore":{
     "node_id":"NmBVRYxUPyoiAsshXgfaid",
     "type":"CODE",
     "hide_input_from_viewers":true,
     "hide_output_from_viewers":true
    }
   }
  },
  {
   "cell_type":"code",
   "source":[
    "# Масимальна сумма покупки 99.97 $, тому можна вважати що жоден користувач American Express не купляв на сумму більше 100 $\n",
    "\n",
    "df[df[\"CC Provider\"] == \"American Express\"]['Purchase Price'].max()"
   ],
   "execution_count":90,
   "outputs":[
    {
     "data":{
      "text\/plain":[
       "99.97"
      ]
     },
     "metadata":{
      
     },
     "output_type":"display_data"
    }
   ],
   "metadata":{
    "datalore":{
     "node_id":"yFBf4SHGIggKOvjiVosGnJ",
     "type":"CODE",
     "hide_input_from_viewers":true,
     "hide_output_from_viewers":true
    }
   }
  },
  {
   "cell_type":"code",
   "source":[
    "# Скільки людей використовує American Express і здійснили покупку на суму понад 98 доларів?\n",
    "\n",
    "sum(df[df[\"CC Provider\"] == \"American Express\"]['Purchase Price'] > 98)"
   ],
   "execution_count":91,
   "outputs":[
    {
     "data":{
      "text\/plain":[
       "17"
      ]
     },
     "metadata":{
      
     },
     "output_type":"display_data"
    }
   ],
   "metadata":{
    "datalore":{
     "node_id":"Kvp7C69XxyG77T7ZHRqBZP",
     "type":"CODE",
     "hide_input_from_viewers":true,
     "hide_output_from_viewers":true
    }
   }
  },
  {
   "cell_type":"markdown",
   "source":[
    "Скільки людей мають кредитну картку, термін дії якої закінчується в 2025 році?"
   ],
   "attachments":{
    
   },
   "metadata":{
    "datalore":{
     "node_id":"M1nEg64W3yr9gITYUjg5hl",
     "type":"MD",
     "hide_input_from_viewers":false,
     "hide_output_from_viewers":false,
     "report_properties":{
      "rowId":"mCjWN47yjVnD5FP8i3kPJU"
     }
    }
   }
  },
  {
   "cell_type":"code",
   "source":[
    "sum(df['CC Exp Date'].str.split('\/').str[1] == '25')"
   ],
   "execution_count":92,
   "outputs":[
    {
     "data":{
      "text\/plain":[
       "1033"
      ]
     },
     "metadata":{
      
     },
     "output_type":"display_data"
    }
   ],
   "metadata":{
    "datalore":{
     "node_id":"quZ5CBGGELFoHZtSU4zFYC",
     "type":"CODE",
     "hide_input_from_viewers":true,
     "hide_output_from_viewers":true
    }
   }
  },
  {
   "cell_type":"code",
   "source":[
    "df[df['CC Exp Date'].str.contains('25')].count()['CC Exp Date']"
   ],
   "execution_count":93,
   "outputs":[
    {
     "data":{
      "text\/plain":[
       "1033"
      ]
     },
     "metadata":{
      
     },
     "output_type":"display_data"
    }
   ],
   "metadata":{
    "datalore":{
     "node_id":"pctdLnWXA8F3dm0xvAoeZO",
     "type":"CODE",
     "hide_input_from_viewers":false,
     "hide_output_from_viewers":false,
     "report_properties":{
      "rowId":"zbIL48sx5W5ir5jMU96qz3"
     }
    }
   }
  },
  {
   "cell_type":"markdown",
   "source":[
    "Які найкращі 5 найпопулярніших постачальників \/ хостів електронної пошти (наприклад, gmail.com, yahoo.com тощо ...)."
   ],
   "attachments":{
    
   },
   "metadata":{
    "datalore":{
     "node_id":"LfD9snfa37ZbaHdzV3xevo",
     "type":"MD",
     "hide_input_from_viewers":false,
     "hide_output_from_viewers":false,
     "report_properties":{
      "rowId":"kAdLmIxQ35glWDiMCYsRLT"
     }
    }
   }
  },
  {
   "cell_type":"code",
   "source":[
    "df['Email'].str.split('@').str[1].value_counts().head()"
   ],
   "execution_count":94,
   "outputs":[
    {
     "data":{
      "text\/html":[
       "<pre>hotmail.com     1638\n",
       "yahoo.com       1616\n",
       "gmail.com       1605\n",
       "smith.com         42\n",
       "williams.com      37\n",
       "Name: Email, dtype: int64<\/pre>"
      ]
     },
     "metadata":{
      
     },
     "output_type":"display_data"
    }
   ],
   "metadata":{
    "datalore":{
     "node_id":"g1YvJX6EMOrHZds3zEesBw",
     "type":"CODE",
     "hide_input_from_viewers":false,
     "hide_output_from_viewers":false,
     "report_properties":{
      "rowId":"hoLw5LJ8jtzFjHK3csJbkf"
     }
    }
   }
  },
  {
   "cell_type":"markdown",
   "source":[
    "Виведіть зведену таблицю по браузерах(Browser Info), посаді(Job), та кількості транзакцій :"
   ],
   "attachments":{
    
   },
   "metadata":{
    "datalore":{
     "node_id":"Ee7Ia3RbWteiEx5CY07o4H",
     "type":"MD",
     "hide_input_from_viewers":false,
     "hide_output_from_viewers":false,
     "report_properties":{
      "rowId":"TuWn1jet1Gv7JGVr7t8FFA"
     }
    }
   }
  },
  {
   "cell_type":"code",
   "source":[
    "df.groupby(['Browser Info','Job']).count()['Lot'].sort_values(ascending=False).reset_index()"
   ],
   "execution_count":95,
   "outputs":[
    {
     "data":{
      "text\/html":[
       "<div>\n",
       "<style scoped>\n",
       "    .dataframe tbody tr th:only-of-type {\n",
       "        vertical-align: middle;\n",
       "    }\n",
       "\n",
       "    .dataframe tbody tr th {\n",
       "        vertical-align: top;\n",
       "    }\n",
       "\n",
       "    .dataframe thead th {\n",
       "        text-align: right;\n",
       "    }\n",
       "<\/style>\n",
       "<table border=\"1\" class=\"dataframe\">\n",
       "  <thead>\n",
       "    <tr style=\"text-align: right;\">\n",
       "      <th><\/th>\n",
       "      <th>Browser Info<\/th>\n",
       "      <th>Job<\/th>\n",
       "      <th>Lot<\/th>\n",
       "    <\/tr>\n",
       "  <\/thead>\n",
       "  <tbody>\n",
       "    <tr>\n",
       "      <th>0<\/th>\n",
       "      <td>Mozilla\/5.0 (compatible; MSIE 7.0; Windows NT ...<\/td>\n",
       "      <td>Special educational needs teacher<\/td>\n",
       "      <td>2<\/td>\n",
       "    <\/tr>\n",
       "    <tr>\n",
       "      <th>1<\/th>\n",
       "      <td>Mozilla\/5.0 (compatible; MSIE 5.0; Windows 98;...<\/td>\n",
       "      <td>Industrial buyer<\/td>\n",
       "      <td>2<\/td>\n",
       "    <\/tr>\n",
       "    <tr>\n",
       "      <th>2<\/th>\n",
       "      <td>Mozilla\/5.0 (compatible; MSIE 8.0; Windows NT ...<\/td>\n",
       "      <td>Research officer, political party<\/td>\n",
       "      <td>2<\/td>\n",
       "    <\/tr>\n",
       "    <tr>\n",
       "      <th>3<\/th>\n",
       "      <td>Mozilla\/5.0 (compatible; MSIE 8.0; Windows NT ...<\/td>\n",
       "      <td>Engineer, land<\/td>\n",
       "      <td>2<\/td>\n",
       "    <\/tr>\n",
       "    <tr>\n",
       "      <th>4<\/th>\n",
       "      <td>Mozilla\/5.0 (compatible; MSIE 6.0; Windows NT ...<\/td>\n",
       "      <td>Emergency planning\/management officer<\/td>\n",
       "      <td>2<\/td>\n",
       "    <\/tr>\n",
       "    <tr>\n",
       "      <th>...<\/th>\n",
       "      <td>...<\/td>\n",
       "      <td>...<\/td>\n",
       "      <td>...<\/td>\n",
       "    <\/tr>\n",
       "    <tr>\n",
       "      <th>9984<\/th>\n",
       "      <td>Mozilla\/5.0 (Windows NT 6.2; sl-SI; rv:1.9.0.2...<\/td>\n",
       "      <td>Teacher, secondary school<\/td>\n",
       "      <td>1<\/td>\n",
       "    <\/tr>\n",
       "    <tr>\n",
       "      <th>9985<\/th>\n",
       "      <td>Mozilla\/5.0 (Windows NT 6.2; sl-SI; rv:1.9.0.2...<\/td>\n",
       "      <td>Cabin crew<\/td>\n",
       "      <td>1<\/td>\n",
       "    <\/tr>\n",
       "    <tr>\n",
       "      <th>9986<\/th>\n",
       "      <td>Mozilla\/5.0 (Windows NT 6.2; sl-SI; rv:1.9.0.2...<\/td>\n",
       "      <td>Biomedical scientist<\/td>\n",
       "      <td>1<\/td>\n",
       "    <\/tr>\n",
       "    <tr>\n",
       "      <th>9987<\/th>\n",
       "      <td>Mozilla\/5.0 (Windows NT 6.2; sl-SI; rv:1.9.0.2...<\/td>\n",
       "      <td>Advertising copywriter<\/td>\n",
       "      <td>1<\/td>\n",
       "    <\/tr>\n",
       "    <tr>\n",
       "      <th>9988<\/th>\n",
       "      <td>Opera\/9.99.(X11; Linux x86_64; it-IT) Presto\/2...<\/td>\n",
       "      <td>Scientist, forensic<\/td>\n",
       "      <td>1<\/td>\n",
       "    <\/tr>\n",
       "  <\/tbody>\n",
       "<\/table>\n",
       "<p>9989 rows × 3 columns<\/p>\n",
       "<\/div>"
      ]
     },
     "metadata":{
      
     },
     "output_type":"display_data"
    }
   ],
   "metadata":{
    "datalore":{
     "node_id":"ZN9ABz3kfJe9vZtN1s78Pe",
     "type":"CODE",
     "hide_input_from_viewers":false,
     "hide_output_from_viewers":false,
     "report_properties":{
      "rowId":"cKFUMrnOHQp0FXF2nuVoeY"
     }
    }
   }
  },
  {
   "cell_type":"markdown",
   "source":[
    "Створіть нову колонку \"Actual price\", яка утворюється із \"Purchase Price\" та націнки за принципом:\n",
    "- якщо \"Purchase Price\" > 50, націнка 20%\n",
    "- якщо \"Purchase Price\" > 100, націнка 10%\n",
    "- в інших випадках націнка 30%\n",
    "   "
   ],
   "attachments":{
    
   },
   "metadata":{
    "datalore":{
     "node_id":"J1D9cGqxz2Cp5H8jWY68lY",
     "type":"MD",
     "hide_input_from_viewers":false,
     "hide_output_from_viewers":false,
     "report_properties":{
      "rowId":"THV3IFLahCAo60cq08XABJ"
     }
    }
   }
  },
  {
   "cell_type":"code",
   "source":[
    "def act_price(price):\n",
    "    if price > 100:\n",
    "        price *= 1.1\n",
    "    elif price > 50:\n",
    "        price *= 1.2\n",
    "    else:\n",
    "        price *= 1.3\n",
    "    return round(price, 2)"
   ],
   "execution_count":96,
   "outputs":[
    
   ],
   "metadata":{
    "datalore":{
     "node_id":"nVLl30NwLKHoErIhxK2KBV",
     "type":"CODE",
     "hide_input_from_viewers":true,
     "hide_output_from_viewers":true
    }
   }
  },
  {
   "cell_type":"code",
   "source":[
    "df['Actual price'] = df['Purchase Price'].apply(act_price)\n",
    "df.head()"
   ],
   "execution_count":97,
   "outputs":[
    {
     "data":{
      "text\/html":[
       "<div>\n",
       "<style scoped>\n",
       "    .dataframe tbody tr th:only-of-type {\n",
       "        vertical-align: middle;\n",
       "    }\n",
       "\n",
       "    .dataframe tbody tr th {\n",
       "        vertical-align: top;\n",
       "    }\n",
       "\n",
       "    .dataframe thead th {\n",
       "        text-align: right;\n",
       "    }\n",
       "<\/style>\n",
       "<table border=\"1\" class=\"dataframe\">\n",
       "  <thead>\n",
       "    <tr style=\"text-align: right;\">\n",
       "      <th><\/th>\n",
       "      <th>Address<\/th>\n",
       "      <th>Lot<\/th>\n",
       "      <th>AM or PM<\/th>\n",
       "      <th>Browser Info<\/th>\n",
       "      <th>Company<\/th>\n",
       "      <th>Credit Card<\/th>\n",
       "      <th>CC Exp Date<\/th>\n",
       "      <th>CC Security Code<\/th>\n",
       "      <th>CC Provider<\/th>\n",
       "      <th>Email<\/th>\n",
       "      <th>Job<\/th>\n",
       "      <th>IP Address<\/th>\n",
       "      <th>Language<\/th>\n",
       "      <th>Purchase Price<\/th>\n",
       "      <th>Actual price<\/th>\n",
       "    <\/tr>\n",
       "  <\/thead>\n",
       "  <tbody>\n",
       "    <tr>\n",
       "      <th>0<\/th>\n",
       "      <td>16629 Pace Camp Apt. 448\\nAlexisborough, NE 77...<\/td>\n",
       "      <td>46 in<\/td>\n",
       "      <td>PM<\/td>\n",
       "      <td>Opera\/9.56.(X11; Linux x86_64; sl-SI) Presto\/2...<\/td>\n",
       "      <td>Martinez-Herman<\/td>\n",
       "      <td>6011929061123406<\/td>\n",
       "      <td>02\/20<\/td>\n",
       "      <td>900<\/td>\n",
       "      <td>JCB 16 digit<\/td>\n",
       "      <td>pdunlap@yahoo.com<\/td>\n",
       "      <td>Scientist, product\/process development<\/td>\n",
       "      <td>149.146.147.205<\/td>\n",
       "      <td>el<\/td>\n",
       "      <td>98.14<\/td>\n",
       "      <td>117.77<\/td>\n",
       "    <\/tr>\n",
       "    <tr>\n",
       "      <th>1<\/th>\n",
       "      <td>9374 Jasmine Spurs Suite 508\\nSouth John, TN 8...<\/td>\n",
       "      <td>28 rn<\/td>\n",
       "      <td>PM<\/td>\n",
       "      <td>Opera\/8.93.(Windows 98; Win 9x 4.90; en-US) Pr...<\/td>\n",
       "      <td>Fletcher, Richards and Whitaker<\/td>\n",
       "      <td>3337758169645356<\/td>\n",
       "      <td>11\/18<\/td>\n",
       "      <td>561<\/td>\n",
       "      <td>Mastercard<\/td>\n",
       "      <td>anthony41@reed.com<\/td>\n",
       "      <td>Drilling engineer<\/td>\n",
       "      <td>15.160.41.51<\/td>\n",
       "      <td>fr<\/td>\n",
       "      <td>70.73<\/td>\n",
       "      <td>84.88<\/td>\n",
       "    <\/tr>\n",
       "    <tr>\n",
       "      <th>2<\/th>\n",
       "      <td>Unit 0065 Box 5052\\nDPO AP 27450<\/td>\n",
       "      <td>94 vE<\/td>\n",
       "      <td>PM<\/td>\n",
       "      <td>Mozilla\/5.0 (compatible; MSIE 9.0; Windows NT ...<\/td>\n",
       "      <td>Simpson, Williams and Pham<\/td>\n",
       "      <td>675957666125<\/td>\n",
       "      <td>08\/19<\/td>\n",
       "      <td>699<\/td>\n",
       "      <td>JCB 16 digit<\/td>\n",
       "      <td>amymiller@morales-harrison.com<\/td>\n",
       "      <td>Customer service manager<\/td>\n",
       "      <td>132.207.160.22<\/td>\n",
       "      <td>de<\/td>\n",
       "      <td>0.95<\/td>\n",
       "      <td>1.23<\/td>\n",
       "    <\/tr>\n",
       "    <tr>\n",
       "      <th>3<\/th>\n",
       "      <td>7780 Julia Fords\\nNew Stacy, WA 45798<\/td>\n",
       "      <td>36 vm<\/td>\n",
       "      <td>PM<\/td>\n",
       "      <td>Mozilla\/5.0 (Macintosh; Intel Mac OS X 10_8_0 ...<\/td>\n",
       "      <td>Williams, Marshall and Buchanan<\/td>\n",
       "      <td>6011578504430710<\/td>\n",
       "      <td>02\/24<\/td>\n",
       "      <td>384<\/td>\n",
       "      <td>Discover<\/td>\n",
       "      <td>brent16@olson-robinson.info<\/td>\n",
       "      <td>Drilling engineer<\/td>\n",
       "      <td>30.250.74.19<\/td>\n",
       "      <td>es<\/td>\n",
       "      <td>78.04<\/td>\n",
       "      <td>93.65<\/td>\n",
       "    <\/tr>\n",
       "    <tr>\n",
       "      <th>4<\/th>\n",
       "      <td>23012 Munoz Drive Suite 337\\nNew Cynthia, TX 5...<\/td>\n",
       "      <td>20 IE<\/td>\n",
       "      <td>AM<\/td>\n",
       "      <td>Opera\/9.58.(X11; Linux x86_64; it-IT) Presto\/2...<\/td>\n",
       "      <td>Brown, Watson and Andrews<\/td>\n",
       "      <td>6011456623207998<\/td>\n",
       "      <td>10\/25<\/td>\n",
       "      <td>678<\/td>\n",
       "      <td>Diners Club \/ Carte Blanche<\/td>\n",
       "      <td>christopherwright@gmail.com<\/td>\n",
       "      <td>Fine artist<\/td>\n",
       "      <td>24.140.33.94<\/td>\n",
       "      <td>es<\/td>\n",
       "      <td>77.82<\/td>\n",
       "      <td>93.38<\/td>\n",
       "    <\/tr>\n",
       "  <\/tbody>\n",
       "<\/table>\n",
       "<\/div>"
      ]
     },
     "metadata":{
      
     },
     "output_type":"display_data"
    }
   ],
   "metadata":{
    "datalore":{
     "node_id":"UI5NBe6ELGBhYax3yXa0gR",
     "type":"CODE",
     "hide_input_from_viewers":false,
     "hide_output_from_viewers":false,
     "report_properties":{
      "rowId":"YB3nRsfjdLbF0fRkl7oA8U"
     }
    }
   }
  },
  {
   "cell_type":"markdown",
   "source":[
    "Зробіть рангування набору даних по \"Language\" та \"Actual price\" в порядку спадання ціни.\n",
    "\n",
    "https:\/\/pandas.pydata.org\/pandas-docs\/stable\/reference\/api\/pandas.DataFrame.rank.html"
   ],
   "attachments":{
    
   },
   "metadata":{
    "datalore":{
     "node_id":"LYS8iv1NwALTGKpI339fx5",
     "type":"MD",
     "hide_input_from_viewers":false,
     "hide_output_from_viewers":false,
     "report_properties":{
      "rowId":"A6xkzNHAuKEynGD6lbztuZ"
     }
    }
   }
  },
  {
   "cell_type":"code",
   "source":[
    "df['Rank'] = df.groupby('Language')['Actual price'].rank(method='min', ascending=False)\n",
    "df.head()"
   ],
   "execution_count":99,
   "outputs":[
    {
     "data":{
      "text\/html":[
       "<div>\n",
       "<style scoped>\n",
       "    .dataframe tbody tr th:only-of-type {\n",
       "        vertical-align: middle;\n",
       "    }\n",
       "\n",
       "    .dataframe tbody tr th {\n",
       "        vertical-align: top;\n",
       "    }\n",
       "\n",
       "    .dataframe thead th {\n",
       "        text-align: right;\n",
       "    }\n",
       "<\/style>\n",
       "<table border=\"1\" class=\"dataframe\">\n",
       "  <thead>\n",
       "    <tr style=\"text-align: right;\">\n",
       "      <th><\/th>\n",
       "      <th>Address<\/th>\n",
       "      <th>Lot<\/th>\n",
       "      <th>AM or PM<\/th>\n",
       "      <th>Browser Info<\/th>\n",
       "      <th>Company<\/th>\n",
       "      <th>Credit Card<\/th>\n",
       "      <th>CC Exp Date<\/th>\n",
       "      <th>CC Security Code<\/th>\n",
       "      <th>CC Provider<\/th>\n",
       "      <th>Email<\/th>\n",
       "      <th>Job<\/th>\n",
       "      <th>IP Address<\/th>\n",
       "      <th>Language<\/th>\n",
       "      <th>Purchase Price<\/th>\n",
       "      <th>Actual price<\/th>\n",
       "      <th>Rank<\/th>\n",
       "    <\/tr>\n",
       "  <\/thead>\n",
       "  <tbody>\n",
       "    <tr>\n",
       "      <th>0<\/th>\n",
       "      <td>16629 Pace Camp Apt. 448\\nAlexisborough, NE 77...<\/td>\n",
       "      <td>46 in<\/td>\n",
       "      <td>PM<\/td>\n",
       "      <td>Opera\/9.56.(X11; Linux x86_64; sl-SI) Presto\/2...<\/td>\n",
       "      <td>Martinez-Herman<\/td>\n",
       "      <td>6011929061123406<\/td>\n",
       "      <td>02\/20<\/td>\n",
       "      <td>900<\/td>\n",
       "      <td>JCB 16 digit<\/td>\n",
       "      <td>pdunlap@yahoo.com<\/td>\n",
       "      <td>Scientist, product\/process development<\/td>\n",
       "      <td>149.146.147.205<\/td>\n",
       "      <td>el<\/td>\n",
       "      <td>98.14<\/td>\n",
       "      <td>117.77<\/td>\n",
       "      <td>27.0<\/td>\n",
       "    <\/tr>\n",
       "    <tr>\n",
       "      <th>1<\/th>\n",
       "      <td>9374 Jasmine Spurs Suite 508\\nSouth John, TN 8...<\/td>\n",
       "      <td>28 rn<\/td>\n",
       "      <td>PM<\/td>\n",
       "      <td>Opera\/8.93.(Windows 98; Win 9x 4.90; en-US) Pr...<\/td>\n",
       "      <td>Fletcher, Richards and Whitaker<\/td>\n",
       "      <td>3337758169645356<\/td>\n",
       "      <td>11\/18<\/td>\n",
       "      <td>561<\/td>\n",
       "      <td>Mastercard<\/td>\n",
       "      <td>anthony41@reed.com<\/td>\n",
       "      <td>Drilling engineer<\/td>\n",
       "      <td>15.160.41.51<\/td>\n",
       "      <td>fr<\/td>\n",
       "      <td>70.73<\/td>\n",
       "      <td>84.88<\/td>\n",
       "      <td>327.0<\/td>\n",
       "    <\/tr>\n",
       "    <tr>\n",
       "      <th>2<\/th>\n",
       "      <td>Unit 0065 Box 5052\\nDPO AP 27450<\/td>\n",
       "      <td>94 vE<\/td>\n",
       "      <td>PM<\/td>\n",
       "      <td>Mozilla\/5.0 (compatible; MSIE 9.0; Windows NT ...<\/td>\n",
       "      <td>Simpson, Williams and Pham<\/td>\n",
       "      <td>675957666125<\/td>\n",
       "      <td>08\/19<\/td>\n",
       "      <td>699<\/td>\n",
       "      <td>JCB 16 digit<\/td>\n",
       "      <td>amymiller@morales-harrison.com<\/td>\n",
       "      <td>Customer service manager<\/td>\n",
       "      <td>132.207.160.22<\/td>\n",
       "      <td>de<\/td>\n",
       "      <td>0.95<\/td>\n",
       "      <td>1.23<\/td>\n",
       "      <td>1143.0<\/td>\n",
       "    <\/tr>\n",
       "    <tr>\n",
       "      <th>3<\/th>\n",
       "      <td>7780 Julia Fords\\nNew Stacy, WA 45798<\/td>\n",
       "      <td>36 vm<\/td>\n",
       "      <td>PM<\/td>\n",
       "      <td>Mozilla\/5.0 (Macintosh; Intel Mac OS X 10_8_0 ...<\/td>\n",
       "      <td>Williams, Marshall and Buchanan<\/td>\n",
       "      <td>6011578504430710<\/td>\n",
       "      <td>02\/24<\/td>\n",
       "      <td>384<\/td>\n",
       "      <td>Discover<\/td>\n",
       "      <td>brent16@olson-robinson.info<\/td>\n",
       "      <td>Drilling engineer<\/td>\n",
       "      <td>30.250.74.19<\/td>\n",
       "      <td>es<\/td>\n",
       "      <td>78.04<\/td>\n",
       "      <td>93.65<\/td>\n",
       "      <td>239.0<\/td>\n",
       "    <\/tr>\n",
       "    <tr>\n",
       "      <th>4<\/th>\n",
       "      <td>23012 Munoz Drive Suite 337\\nNew Cynthia, TX 5...<\/td>\n",
       "      <td>20 IE<\/td>\n",
       "      <td>AM<\/td>\n",
       "      <td>Opera\/9.58.(X11; Linux x86_64; it-IT) Presto\/2...<\/td>\n",
       "      <td>Brown, Watson and Andrews<\/td>\n",
       "      <td>6011456623207998<\/td>\n",
       "      <td>10\/25<\/td>\n",
       "      <td>678<\/td>\n",
       "      <td>Diners Club \/ Carte Blanche<\/td>\n",
       "      <td>christopherwright@gmail.com<\/td>\n",
       "      <td>Fine artist<\/td>\n",
       "      <td>24.140.33.94<\/td>\n",
       "      <td>es<\/td>\n",
       "      <td>77.82<\/td>\n",
       "      <td>93.38<\/td>\n",
       "      <td>244.0<\/td>\n",
       "    <\/tr>\n",
       "  <\/tbody>\n",
       "<\/table>\n",
       "<\/div>"
      ]
     },
     "metadata":{
      
     },
     "output_type":"display_data"
    }
   ],
   "metadata":{
    "datalore":{
     "node_id":"UIh7vJvGKdZA8kOitZgbWD",
     "type":"CODE",
     "hide_input_from_viewers":false,
     "hide_output_from_viewers":false,
     "report_properties":{
      "rowId":"kjToWhCKO3Ne60iv7vkMU8"
     }
    }
   }
  },
  {
   "cell_type":"code",
   "source":[
    "df[df['Rank'] == 1]"
   ],
   "execution_count":100,
   "outputs":[
    {
     "data":{
      "text\/html":[
       "<div>\n",
       "<style scoped>\n",
       "    .dataframe tbody tr th:only-of-type {\n",
       "        vertical-align: middle;\n",
       "    }\n",
       "\n",
       "    .dataframe tbody tr th {\n",
       "        vertical-align: top;\n",
       "    }\n",
       "\n",
       "    .dataframe thead th {\n",
       "        text-align: right;\n",
       "    }\n",
       "<\/style>\n",
       "<table border=\"1\" class=\"dataframe\">\n",
       "  <thead>\n",
       "    <tr style=\"text-align: right;\">\n",
       "      <th><\/th>\n",
       "      <th>Address<\/th>\n",
       "      <th>Lot<\/th>\n",
       "      <th>AM or PM<\/th>\n",
       "      <th>Browser Info<\/th>\n",
       "      <th>Company<\/th>\n",
       "      <th>Credit Card<\/th>\n",
       "      <th>CC Exp Date<\/th>\n",
       "      <th>CC Security Code<\/th>\n",
       "      <th>CC Provider<\/th>\n",
       "      <th>Email<\/th>\n",
       "      <th>Job<\/th>\n",
       "      <th>IP Address<\/th>\n",
       "      <th>Language<\/th>\n",
       "      <th>Purchase Price<\/th>\n",
       "      <th>Actual price<\/th>\n",
       "      <th>Rank<\/th>\n",
       "    <\/tr>\n",
       "  <\/thead>\n",
       "  <tbody>\n",
       "    <tr>\n",
       "      <th>1587<\/th>\n",
       "      <td>835 Williams Crossroad\\nNew Greg, NM 87568-9924<\/td>\n",
       "      <td>39 AM<\/td>\n",
       "      <td>AM<\/td>\n",
       "      <td>Opera\/9.48.(Windows NT 6.1; it-IT) Presto\/2.9....<\/td>\n",
       "      <td>Gray-Colon<\/td>\n",
       "      <td>6011769907184158<\/td>\n",
       "      <td>12\/21<\/td>\n",
       "      <td>364<\/td>\n",
       "      <td>VISA 13 digit<\/td>\n",
       "      <td>patriciathomas@fuller.biz<\/td>\n",
       "      <td>Community arts worker<\/td>\n",
       "      <td>169.14.237.169<\/td>\n",
       "      <td>ru<\/td>\n",
       "      <td>99.75<\/td>\n",
       "      <td>119.70<\/td>\n",
       "      <td>1.0<\/td>\n",
       "    <\/tr>\n",
       "    <tr>\n",
       "      <th>2092<\/th>\n",
       "      <td>63773 Shelton Greens\\nAshleyton, MA 00493<\/td>\n",
       "      <td>56 lu<\/td>\n",
       "      <td>AM<\/td>\n",
       "      <td>Mozilla\/5.0 (X11; Linux x86_64) AppleWebKit\/53...<\/td>\n",
       "      <td>Pitts Group<\/td>\n",
       "      <td>4292741269160<\/td>\n",
       "      <td>06\/18<\/td>\n",
       "      <td>824<\/td>\n",
       "      <td>Maestro<\/td>\n",
       "      <td>heatherwoodard@lloyd.com<\/td>\n",
       "      <td>Surveyor, hydrographic<\/td>\n",
       "      <td>172.197.216.229<\/td>\n",
       "      <td>el<\/td>\n",
       "      <td>99.99<\/td>\n",
       "      <td>119.99<\/td>\n",
       "      <td>1.0<\/td>\n",
       "    <\/tr>\n",
       "    <tr>\n",
       "      <th>2316<\/th>\n",
       "      <td>408 Russell Club\\nSouth Thomas, MT 73554-8846<\/td>\n",
       "      <td>82 iO<\/td>\n",
       "      <td>AM<\/td>\n",
       "      <td>Mozilla\/5.0 (compatible; MSIE 6.0; Windows 95;...<\/td>\n",
       "      <td>Bond-Oconnor<\/td>\n",
       "      <td>210065564716644<\/td>\n",
       "      <td>08\/22<\/td>\n",
       "      <td>628<\/td>\n",
       "      <td>Voyager<\/td>\n",
       "      <td>vegaallen@gmail.com<\/td>\n",
       "      <td>Careers adviser<\/td>\n",
       "      <td>111.5.222.164<\/td>\n",
       "      <td>it<\/td>\n",
       "      <td>99.92<\/td>\n",
       "      <td>119.90<\/td>\n",
       "      <td>1.0<\/td>\n",
       "    <\/tr>\n",
       "    <tr>\n",
       "      <th>4148<\/th>\n",
       "      <td>5382 Nicole Via Apt. 447\\nMartinshire, AS 9397...<\/td>\n",
       "      <td>74 OR<\/td>\n",
       "      <td>PM<\/td>\n",
       "      <td>Opera\/8.39.(X11; Linux i686; en-US) Presto\/2.9...<\/td>\n",
       "      <td>Fisher-Marshall<\/td>\n",
       "      <td>180073453723693<\/td>\n",
       "      <td>06\/18<\/td>\n",
       "      <td>535<\/td>\n",
       "      <td>VISA 16 digit<\/td>\n",
       "      <td>williamthomas@gmail.com<\/td>\n",
       "      <td>Nurse, learning disability<\/td>\n",
       "      <td>146.225.23.148<\/td>\n",
       "      <td>pt<\/td>\n",
       "      <td>99.90<\/td>\n",
       "      <td>119.88<\/td>\n",
       "      <td>1.0<\/td>\n",
       "    <\/tr>\n",
       "    <tr>\n",
       "      <th>4235<\/th>\n",
       "      <td>1479 Vazquez Motorway\\nNorth Mark, ME 98122<\/td>\n",
       "      <td>09 Pm<\/td>\n",
       "      <td>PM<\/td>\n",
       "      <td>Mozilla\/5.0 (Windows; U; Windows CE) AppleWebK...<\/td>\n",
       "      <td>Taylor-Hernandez<\/td>\n",
       "      <td>4365348893985105<\/td>\n",
       "      <td>07\/23<\/td>\n",
       "      <td>965<\/td>\n",
       "      <td>Maestro<\/td>\n",
       "      <td>tonya79@perez.com<\/td>\n",
       "      <td>Purchasing manager<\/td>\n",
       "      <td>140.36.137.61<\/td>\n",
       "      <td>zh<\/td>\n",
       "      <td>99.61<\/td>\n",
       "      <td>119.53<\/td>\n",
       "      <td>1.0<\/td>\n",
       "    <\/tr>\n",
       "    <tr>\n",
       "      <th>6263<\/th>\n",
       "      <td>PSC 1273, Box 3037\\nAPO AA 11854-3422<\/td>\n",
       "      <td>93 HJ<\/td>\n",
       "      <td>PM<\/td>\n",
       "      <td>Mozilla\/5.0 (compatible; MSIE 8.0; Windows NT ...<\/td>\n",
       "      <td>Fisher-Guerrero<\/td>\n",
       "      <td>4363719050674<\/td>\n",
       "      <td>04\/24<\/td>\n",
       "      <td>592<\/td>\n",
       "      <td>Mastercard<\/td>\n",
       "      <td>david10@dodson-warner.com<\/td>\n",
       "      <td>Tree surgeon<\/td>\n",
       "      <td>158.196.81.143<\/td>\n",
       "      <td>fr<\/td>\n",
       "      <td>99.92<\/td>\n",
       "      <td>119.90<\/td>\n",
       "      <td>1.0<\/td>\n",
       "    <\/tr>\n",
       "    <tr>\n",
       "      <th>7482<\/th>\n",
       "      <td>71176 Swanson Isle Suite 021\\nMeganmouth, NH 6...<\/td>\n",
       "      <td>64 Sk<\/td>\n",
       "      <td>AM<\/td>\n",
       "      <td>Mozilla\/5.0 (Windows NT 5.2; sl-SI; rv:1.9.1.2...<\/td>\n",
       "      <td>Sweeney-Stephens<\/td>\n",
       "      <td>4880489191966<\/td>\n",
       "      <td>12\/22<\/td>\n",
       "      <td>760<\/td>\n",
       "      <td>VISA 16 digit<\/td>\n",
       "      <td>raymondschneider@yahoo.com<\/td>\n",
       "      <td>Accountant, chartered management<\/td>\n",
       "      <td>201.213.128.100<\/td>\n",
       "      <td>es<\/td>\n",
       "      <td>99.90<\/td>\n",
       "      <td>119.88<\/td>\n",
       "      <td>1.0<\/td>\n",
       "    <\/tr>\n",
       "    <tr>\n",
       "      <th>7807<\/th>\n",
       "      <td>PSC 6177, Box 1004\\nAPO AA 57143-1269<\/td>\n",
       "      <td>64 Nf<\/td>\n",
       "      <td>AM<\/td>\n",
       "      <td>Mozilla\/5.0 (Macintosh; Intel Mac OS X 10_5_4)...<\/td>\n",
       "      <td>Porter, Johnson and Pratt<\/td>\n",
       "      <td>30109394842259<\/td>\n",
       "      <td>11\/25<\/td>\n",
       "      <td>918<\/td>\n",
       "      <td>VISA 16 digit<\/td>\n",
       "      <td>kelli72@gmail.com<\/td>\n",
       "      <td>Surveyor, insurance<\/td>\n",
       "      <td>89.51.92.242<\/td>\n",
       "      <td>de<\/td>\n",
       "      <td>99.99<\/td>\n",
       "      <td>119.99<\/td>\n",
       "      <td>1.0<\/td>\n",
       "    <\/tr>\n",
       "    <tr>\n",
       "      <th>9958<\/th>\n",
       "      <td>PSC 8781, Box 4214\\nAPO AP 94478<\/td>\n",
       "      <td>72 Ez<\/td>\n",
       "      <td>AM<\/td>\n",
       "      <td>Mozilla\/5.0 (iPod; U; CPU iPhone OS 3_0 like M...<\/td>\n",
       "      <td>Logan, Anderson and Martin<\/td>\n",
       "      <td>210030902457830<\/td>\n",
       "      <td>08\/24<\/td>\n",
       "      <td>597<\/td>\n",
       "      <td>Maestro<\/td>\n",
       "      <td>reynoldsrick@yahoo.com<\/td>\n",
       "      <td>Industrial\/product designer<\/td>\n",
       "      <td>26.86.9.173<\/td>\n",
       "      <td>en<\/td>\n",
       "      <td>99.86<\/td>\n",
       "      <td>119.83<\/td>\n",
       "      <td>1.0<\/td>\n",
       "    <\/tr>\n",
       "  <\/tbody>\n",
       "<\/table>\n",
       "<\/div>"
      ]
     },
     "metadata":{
      
     },
     "output_type":"display_data"
    }
   ],
   "metadata":{
    "datalore":{
     "node_id":"yMFISp21fbzAXELUGPAUnv",
     "type":"CODE",
     "hide_input_from_viewers":true,
     "hide_output_from_viewers":true
    }
   }
  },
  {
   "cell_type":"markdown",
   "source":[
    "Колонку \"Language\" (категоріальна змінна) \"закодуйте\", тобто утворити індикаторні колоник. В наборі не повинна залишитися колонка \"Language\".\n",
    "\n",
    "https:\/\/pandas.pydata.org\/pandas-docs\/stable\/reference\/api\/pandas.DataFrame.rank.html"
   ],
   "attachments":{
    
   },
   "metadata":{
    "datalore":{
     "node_id":"wc141wmDDfD1so23Rehqfy",
     "type":"MD",
     "hide_input_from_viewers":false,
     "hide_output_from_viewers":false,
     "report_properties":{
      "rowId":"oHsajnqDNOvntXCwR0Mm48"
     }
    }
   }
  },
  {
   "cell_type":"code",
   "source":[
    "df.head()"
   ],
   "execution_count":101,
   "outputs":[
    {
     "data":{
      "text\/html":[
       "<div>\n",
       "<style scoped>\n",
       "    .dataframe tbody tr th:only-of-type {\n",
       "        vertical-align: middle;\n",
       "    }\n",
       "\n",
       "    .dataframe tbody tr th {\n",
       "        vertical-align: top;\n",
       "    }\n",
       "\n",
       "    .dataframe thead th {\n",
       "        text-align: right;\n",
       "    }\n",
       "<\/style>\n",
       "<table border=\"1\" class=\"dataframe\">\n",
       "  <thead>\n",
       "    <tr style=\"text-align: right;\">\n",
       "      <th><\/th>\n",
       "      <th>Address<\/th>\n",
       "      <th>Lot<\/th>\n",
       "      <th>AM or PM<\/th>\n",
       "      <th>Browser Info<\/th>\n",
       "      <th>Company<\/th>\n",
       "      <th>Credit Card<\/th>\n",
       "      <th>CC Exp Date<\/th>\n",
       "      <th>CC Security Code<\/th>\n",
       "      <th>CC Provider<\/th>\n",
       "      <th>Email<\/th>\n",
       "      <th>Job<\/th>\n",
       "      <th>IP Address<\/th>\n",
       "      <th>Language<\/th>\n",
       "      <th>Purchase Price<\/th>\n",
       "      <th>Actual price<\/th>\n",
       "      <th>Rank<\/th>\n",
       "    <\/tr>\n",
       "  <\/thead>\n",
       "  <tbody>\n",
       "    <tr>\n",
       "      <th>0<\/th>\n",
       "      <td>16629 Pace Camp Apt. 448\\nAlexisborough, NE 77...<\/td>\n",
       "      <td>46 in<\/td>\n",
       "      <td>PM<\/td>\n",
       "      <td>Opera\/9.56.(X11; Linux x86_64; sl-SI) Presto\/2...<\/td>\n",
       "      <td>Martinez-Herman<\/td>\n",
       "      <td>6011929061123406<\/td>\n",
       "      <td>02\/20<\/td>\n",
       "      <td>900<\/td>\n",
       "      <td>JCB 16 digit<\/td>\n",
       "      <td>pdunlap@yahoo.com<\/td>\n",
       "      <td>Scientist, product\/process development<\/td>\n",
       "      <td>149.146.147.205<\/td>\n",
       "      <td>el<\/td>\n",
       "      <td>98.14<\/td>\n",
       "      <td>117.77<\/td>\n",
       "      <td>27.0<\/td>\n",
       "    <\/tr>\n",
       "    <tr>\n",
       "      <th>1<\/th>\n",
       "      <td>9374 Jasmine Spurs Suite 508\\nSouth John, TN 8...<\/td>\n",
       "      <td>28 rn<\/td>\n",
       "      <td>PM<\/td>\n",
       "      <td>Opera\/8.93.(Windows 98; Win 9x 4.90; en-US) Pr...<\/td>\n",
       "      <td>Fletcher, Richards and Whitaker<\/td>\n",
       "      <td>3337758169645356<\/td>\n",
       "      <td>11\/18<\/td>\n",
       "      <td>561<\/td>\n",
       "      <td>Mastercard<\/td>\n",
       "      <td>anthony41@reed.com<\/td>\n",
       "      <td>Drilling engineer<\/td>\n",
       "      <td>15.160.41.51<\/td>\n",
       "      <td>fr<\/td>\n",
       "      <td>70.73<\/td>\n",
       "      <td>84.88<\/td>\n",
       "      <td>327.0<\/td>\n",
       "    <\/tr>\n",
       "    <tr>\n",
       "      <th>2<\/th>\n",
       "      <td>Unit 0065 Box 5052\\nDPO AP 27450<\/td>\n",
       "      <td>94 vE<\/td>\n",
       "      <td>PM<\/td>\n",
       "      <td>Mozilla\/5.0 (compatible; MSIE 9.0; Windows NT ...<\/td>\n",
       "      <td>Simpson, Williams and Pham<\/td>\n",
       "      <td>675957666125<\/td>\n",
       "      <td>08\/19<\/td>\n",
       "      <td>699<\/td>\n",
       "      <td>JCB 16 digit<\/td>\n",
       "      <td>amymiller@morales-harrison.com<\/td>\n",
       "      <td>Customer service manager<\/td>\n",
       "      <td>132.207.160.22<\/td>\n",
       "      <td>de<\/td>\n",
       "      <td>0.95<\/td>\n",
       "      <td>1.23<\/td>\n",
       "      <td>1143.0<\/td>\n",
       "    <\/tr>\n",
       "    <tr>\n",
       "      <th>3<\/th>\n",
       "      <td>7780 Julia Fords\\nNew Stacy, WA 45798<\/td>\n",
       "      <td>36 vm<\/td>\n",
       "      <td>PM<\/td>\n",
       "      <td>Mozilla\/5.0 (Macintosh; Intel Mac OS X 10_8_0 ...<\/td>\n",
       "      <td>Williams, Marshall and Buchanan<\/td>\n",
       "      <td>6011578504430710<\/td>\n",
       "      <td>02\/24<\/td>\n",
       "      <td>384<\/td>\n",
       "      <td>Discover<\/td>\n",
       "      <td>brent16@olson-robinson.info<\/td>\n",
       "      <td>Drilling engineer<\/td>\n",
       "      <td>30.250.74.19<\/td>\n",
       "      <td>es<\/td>\n",
       "      <td>78.04<\/td>\n",
       "      <td>93.65<\/td>\n",
       "      <td>239.0<\/td>\n",
       "    <\/tr>\n",
       "    <tr>\n",
       "      <th>4<\/th>\n",
       "      <td>23012 Munoz Drive Suite 337\\nNew Cynthia, TX 5...<\/td>\n",
       "      <td>20 IE<\/td>\n",
       "      <td>AM<\/td>\n",
       "      <td>Opera\/9.58.(X11; Linux x86_64; it-IT) Presto\/2...<\/td>\n",
       "      <td>Brown, Watson and Andrews<\/td>\n",
       "      <td>6011456623207998<\/td>\n",
       "      <td>10\/25<\/td>\n",
       "      <td>678<\/td>\n",
       "      <td>Diners Club \/ Carte Blanche<\/td>\n",
       "      <td>christopherwright@gmail.com<\/td>\n",
       "      <td>Fine artist<\/td>\n",
       "      <td>24.140.33.94<\/td>\n",
       "      <td>es<\/td>\n",
       "      <td>77.82<\/td>\n",
       "      <td>93.38<\/td>\n",
       "      <td>244.0<\/td>\n",
       "    <\/tr>\n",
       "  <\/tbody>\n",
       "<\/table>\n",
       "<\/div>"
      ]
     },
     "metadata":{
      
     },
     "output_type":"display_data"
    }
   ],
   "metadata":{
    "datalore":{
     "node_id":"TKUcu3tqxAjP8BjkHX4tlk",
     "type":"CODE",
     "hide_input_from_viewers":true,
     "hide_output_from_viewers":true
    }
   }
  },
  {
   "cell_type":"code",
   "source":[
    "language_dummies = pd.get_dummies(df['Language'])\n",
    "df = pd.concat([df, language_dummies], axis=1)\n",
    "df.drop('Language', axis=1, inplace=True)\n",
    "df.head()"
   ],
   "execution_count":102,
   "outputs":[
    {
     "data":{
      "text\/html":[
       "<div>\n",
       "<style scoped>\n",
       "    .dataframe tbody tr th:only-of-type {\n",
       "        vertical-align: middle;\n",
       "    }\n",
       "\n",
       "    .dataframe tbody tr th {\n",
       "        vertical-align: top;\n",
       "    }\n",
       "\n",
       "    .dataframe thead th {\n",
       "        text-align: right;\n",
       "    }\n",
       "<\/style>\n",
       "<table border=\"1\" class=\"dataframe\">\n",
       "  <thead>\n",
       "    <tr style=\"text-align: right;\">\n",
       "      <th><\/th>\n",
       "      <th>Address<\/th>\n",
       "      <th>Lot<\/th>\n",
       "      <th>AM or PM<\/th>\n",
       "      <th>Browser Info<\/th>\n",
       "      <th>Company<\/th>\n",
       "      <th>Credit Card<\/th>\n",
       "      <th>CC Exp Date<\/th>\n",
       "      <th>CC Security Code<\/th>\n",
       "      <th>CC Provider<\/th>\n",
       "      <th>Email<\/th>\n",
       "      <th>...<\/th>\n",
       "      <th>Rank<\/th>\n",
       "      <th>de<\/th>\n",
       "      <th>el<\/th>\n",
       "      <th>en<\/th>\n",
       "      <th>es<\/th>\n",
       "      <th>fr<\/th>\n",
       "      <th>it<\/th>\n",
       "      <th>pt<\/th>\n",
       "      <th>ru<\/th>\n",
       "      <th>zh<\/th>\n",
       "    <\/tr>\n",
       "  <\/thead>\n",
       "  <tbody>\n",
       "    <tr>\n",
       "      <th>0<\/th>\n",
       "      <td>16629 Pace Camp Apt. 448\\nAlexisborough, NE 77...<\/td>\n",
       "      <td>46 in<\/td>\n",
       "      <td>PM<\/td>\n",
       "      <td>Opera\/9.56.(X11; Linux x86_64; sl-SI) Presto\/2...<\/td>\n",
       "      <td>Martinez-Herman<\/td>\n",
       "      <td>6011929061123406<\/td>\n",
       "      <td>02\/20<\/td>\n",
       "      <td>900<\/td>\n",
       "      <td>JCB 16 digit<\/td>\n",
       "      <td>pdunlap@yahoo.com<\/td>\n",
       "      <td>...<\/td>\n",
       "      <td>27.0<\/td>\n",
       "      <td>0<\/td>\n",
       "      <td>1<\/td>\n",
       "      <td>0<\/td>\n",
       "      <td>0<\/td>\n",
       "      <td>0<\/td>\n",
       "      <td>0<\/td>\n",
       "      <td>0<\/td>\n",
       "      <td>0<\/td>\n",
       "      <td>0<\/td>\n",
       "    <\/tr>\n",
       "    <tr>\n",
       "      <th>1<\/th>\n",
       "      <td>9374 Jasmine Spurs Suite 508\\nSouth John, TN 8...<\/td>\n",
       "      <td>28 rn<\/td>\n",
       "      <td>PM<\/td>\n",
       "      <td>Opera\/8.93.(Windows 98; Win 9x 4.90; en-US) Pr...<\/td>\n",
       "      <td>Fletcher, Richards and Whitaker<\/td>\n",
       "      <td>3337758169645356<\/td>\n",
       "      <td>11\/18<\/td>\n",
       "      <td>561<\/td>\n",
       "      <td>Mastercard<\/td>\n",
       "      <td>anthony41@reed.com<\/td>\n",
       "      <td>...<\/td>\n",
       "      <td>327.0<\/td>\n",
       "      <td>0<\/td>\n",
       "      <td>0<\/td>\n",
       "      <td>0<\/td>\n",
       "      <td>0<\/td>\n",
       "      <td>1<\/td>\n",
       "      <td>0<\/td>\n",
       "      <td>0<\/td>\n",
       "      <td>0<\/td>\n",
       "      <td>0<\/td>\n",
       "    <\/tr>\n",
       "    <tr>\n",
       "      <th>2<\/th>\n",
       "      <td>Unit 0065 Box 5052\\nDPO AP 27450<\/td>\n",
       "      <td>94 vE<\/td>\n",
       "      <td>PM<\/td>\n",
       "      <td>Mozilla\/5.0 (compatible; MSIE 9.0; Windows NT ...<\/td>\n",
       "      <td>Simpson, Williams and Pham<\/td>\n",
       "      <td>675957666125<\/td>\n",
       "      <td>08\/19<\/td>\n",
       "      <td>699<\/td>\n",
       "      <td>JCB 16 digit<\/td>\n",
       "      <td>amymiller@morales-harrison.com<\/td>\n",
       "      <td>...<\/td>\n",
       "      <td>1143.0<\/td>\n",
       "      <td>1<\/td>\n",
       "      <td>0<\/td>\n",
       "      <td>0<\/td>\n",
       "      <td>0<\/td>\n",
       "      <td>0<\/td>\n",
       "      <td>0<\/td>\n",
       "      <td>0<\/td>\n",
       "      <td>0<\/td>\n",
       "      <td>0<\/td>\n",
       "    <\/tr>\n",
       "    <tr>\n",
       "      <th>3<\/th>\n",
       "      <td>7780 Julia Fords\\nNew Stacy, WA 45798<\/td>\n",
       "      <td>36 vm<\/td>\n",
       "      <td>PM<\/td>\n",
       "      <td>Mozilla\/5.0 (Macintosh; Intel Mac OS X 10_8_0 ...<\/td>\n",
       "      <td>Williams, Marshall and Buchanan<\/td>\n",
       "      <td>6011578504430710<\/td>\n",
       "      <td>02\/24<\/td>\n",
       "      <td>384<\/td>\n",
       "      <td>Discover<\/td>\n",
       "      <td>brent16@olson-robinson.info<\/td>\n",
       "      <td>...<\/td>\n",
       "      <td>239.0<\/td>\n",
       "      <td>0<\/td>\n",
       "      <td>0<\/td>\n",
       "      <td>0<\/td>\n",
       "      <td>1<\/td>\n",
       "      <td>0<\/td>\n",
       "      <td>0<\/td>\n",
       "      <td>0<\/td>\n",
       "      <td>0<\/td>\n",
       "      <td>0<\/td>\n",
       "    <\/tr>\n",
       "    <tr>\n",
       "      <th>4<\/th>\n",
       "      <td>23012 Munoz Drive Suite 337\\nNew Cynthia, TX 5...<\/td>\n",
       "      <td>20 IE<\/td>\n",
       "      <td>AM<\/td>\n",
       "      <td>Opera\/9.58.(X11; Linux x86_64; it-IT) Presto\/2...<\/td>\n",
       "      <td>Brown, Watson and Andrews<\/td>\n",
       "      <td>6011456623207998<\/td>\n",
       "      <td>10\/25<\/td>\n",
       "      <td>678<\/td>\n",
       "      <td>Diners Club \/ Carte Blanche<\/td>\n",
       "      <td>christopherwright@gmail.com<\/td>\n",
       "      <td>...<\/td>\n",
       "      <td>244.0<\/td>\n",
       "      <td>0<\/td>\n",
       "      <td>0<\/td>\n",
       "      <td>0<\/td>\n",
       "      <td>1<\/td>\n",
       "      <td>0<\/td>\n",
       "      <td>0<\/td>\n",
       "      <td>0<\/td>\n",
       "      <td>0<\/td>\n",
       "      <td>0<\/td>\n",
       "    <\/tr>\n",
       "  <\/tbody>\n",
       "<\/table>\n",
       "<p>5 rows × 24 columns<\/p>\n",
       "<\/div>"
      ]
     },
     "metadata":{
      
     },
     "output_type":"display_data"
    }
   ],
   "metadata":{
    "datalore":{
     "node_id":"db24TBAoBzfbzFOsZx4OzO",
     "type":"CODE",
     "hide_input_from_viewers":false,
     "hide_output_from_viewers":false,
     "report_properties":{
      "rowId":"N5A6olF7DAygC8VVS5Jlyr"
     }
    }
   }
  },
  {
   "cell_type":"code",
   "source":[
    "language_dummies.head()"
   ],
   "execution_count":103,
   "outputs":[
    {
     "data":{
      "text\/html":[
       "<div>\n",
       "<style scoped>\n",
       "    .dataframe tbody tr th:only-of-type {\n",
       "        vertical-align: middle;\n",
       "    }\n",
       "\n",
       "    .dataframe tbody tr th {\n",
       "        vertical-align: top;\n",
       "    }\n",
       "\n",
       "    .dataframe thead th {\n",
       "        text-align: right;\n",
       "    }\n",
       "<\/style>\n",
       "<table border=\"1\" class=\"dataframe\">\n",
       "  <thead>\n",
       "    <tr style=\"text-align: right;\">\n",
       "      <th><\/th>\n",
       "      <th>de<\/th>\n",
       "      <th>el<\/th>\n",
       "      <th>en<\/th>\n",
       "      <th>es<\/th>\n",
       "      <th>fr<\/th>\n",
       "      <th>it<\/th>\n",
       "      <th>pt<\/th>\n",
       "      <th>ru<\/th>\n",
       "      <th>zh<\/th>\n",
       "    <\/tr>\n",
       "  <\/thead>\n",
       "  <tbody>\n",
       "    <tr>\n",
       "      <th>0<\/th>\n",
       "      <td>0<\/td>\n",
       "      <td>1<\/td>\n",
       "      <td>0<\/td>\n",
       "      <td>0<\/td>\n",
       "      <td>0<\/td>\n",
       "      <td>0<\/td>\n",
       "      <td>0<\/td>\n",
       "      <td>0<\/td>\n",
       "      <td>0<\/td>\n",
       "    <\/tr>\n",
       "    <tr>\n",
       "      <th>1<\/th>\n",
       "      <td>0<\/td>\n",
       "      <td>0<\/td>\n",
       "      <td>0<\/td>\n",
       "      <td>0<\/td>\n",
       "      <td>1<\/td>\n",
       "      <td>0<\/td>\n",
       "      <td>0<\/td>\n",
       "      <td>0<\/td>\n",
       "      <td>0<\/td>\n",
       "    <\/tr>\n",
       "    <tr>\n",
       "      <th>2<\/th>\n",
       "      <td>1<\/td>\n",
       "      <td>0<\/td>\n",
       "      <td>0<\/td>\n",
       "      <td>0<\/td>\n",
       "      <td>0<\/td>\n",
       "      <td>0<\/td>\n",
       "      <td>0<\/td>\n",
       "      <td>0<\/td>\n",
       "      <td>0<\/td>\n",
       "    <\/tr>\n",
       "    <tr>\n",
       "      <th>3<\/th>\n",
       "      <td>0<\/td>\n",
       "      <td>0<\/td>\n",
       "      <td>0<\/td>\n",
       "      <td>1<\/td>\n",
       "      <td>0<\/td>\n",
       "      <td>0<\/td>\n",
       "      <td>0<\/td>\n",
       "      <td>0<\/td>\n",
       "      <td>0<\/td>\n",
       "    <\/tr>\n",
       "    <tr>\n",
       "      <th>4<\/th>\n",
       "      <td>0<\/td>\n",
       "      <td>0<\/td>\n",
       "      <td>0<\/td>\n",
       "      <td>1<\/td>\n",
       "      <td>0<\/td>\n",
       "      <td>0<\/td>\n",
       "      <td>0<\/td>\n",
       "      <td>0<\/td>\n",
       "      <td>0<\/td>\n",
       "    <\/tr>\n",
       "  <\/tbody>\n",
       "<\/table>\n",
       "<\/div>"
      ]
     },
     "metadata":{
      
     },
     "output_type":"display_data"
    }
   ],
   "metadata":{
    "datalore":{
     "node_id":"SxN6FrKBHiWbSLqAHbpBYT",
     "type":"CODE",
     "hide_input_from_viewers":true,
     "hide_output_from_viewers":true
    }
   }
  },
  {
   "cell_type":"markdown",
   "source":[
    "Кінцевий набір даних збережіть у файл з розширенням csv."
   ],
   "attachments":{
    
   },
   "metadata":{
    "datalore":{
     "node_id":"MDGJoekpT9F7JMesO6Lxuu",
     "type":"MD",
     "hide_input_from_viewers":false,
     "hide_output_from_viewers":false,
     "report_properties":{
      "rowId":"xDYK4ayzyfPUb1E2Zr5LgM"
     }
    }
   }
  },
  {
   "cell_type":"code",
   "source":[
    "df.to_csv('New Ecommerce Purchases.csv')"
   ],
   "execution_count":104,
   "outputs":[
    
   ],
   "metadata":{
    "datalore":{
     "node_id":"uwYZLVfCoE6iyWCX9zx55s",
     "type":"CODE",
     "hide_input_from_viewers":false,
     "hide_output_from_viewers":false,
     "report_properties":{
      "rowId":"2urCcBUtOYGKNjhJi7ZucF"
     }
    }
   }
  }
 ],
 "metadata":{
  "kernelspec":{
   "display_name":"Python",
   "language":"python",
   "name":"python"
  },
  "datalore":{
   "computation_mode":"JUPYTER",
   "package_manager":"pip",
   "base_environment":"default",
   "packages":[
    
   ],
   "report_row_ids":[
    "nJRPr6TSgAcWc42qMpahU4",
    "tuyTqwG6irlm9yytQCal8G",
    "z7pGaDmNIaP5CTp7eG3SdH",
    "htFA2swPTGb7TjSXXYQzAl",
    "T0OT3Mh66TDKoo7BWJXnsv",
    "auERaqKEmpBLrVx2MtM6UG",
    "Lmt9My0OhgHAAaDogPoSuH",
    "h2DQNrGg1dA6yOIgbrpiuJ",
    "8BJ7cvX8O6QScQMrzUKLOQ",
    "SYiOvjZCJ8N58rqDactaKp",
    "ytgkdi14Jo7Wc0cM8PamIb",
    "V549yJZIc4S3AUSfbVXSAc",
    "8MkGzpJf86cwwl3mkabVSL",
    "dPWQEQX8BPdB8xzWRSuTqq",
    "VyP77KPqN4gBLTuL3ixx3C",
    "kUw12AvExqg0zSWFIeGQVk",
    "ZGcaUR2H215y4YgwqCtO35",
    "UHBNcPAQdzTDCW2R45YnHM",
    "jq3EJj7zZrOQoLOdr4bMdW",
    "7gza6xLCHqK3yG7ScLkwGA",
    "UCPAvx8mP3dm5WdkJvIxOK",
    "cFHyNV2jPFZDZJfJ5tmuAa",
    "lucM04N7576czjN7OYd0YQ",
    "SDfelIEuosZih8EBriu8FH",
    "qNQNvOQJe3HyR4Q5xT7T6n",
    "0cw6W3TchRY26ZNkkq253S",
    "cgC2zsD1Ho2lTgEzMvYymR",
    "4yg0lBNWoq3mnCZivN4PVv",
    "mCjWN47yjVnD5FP8i3kPJU",
    "zbIL48sx5W5ir5jMU96qz3",
    "kAdLmIxQ35glWDiMCYsRLT",
    "hoLw5LJ8jtzFjHK3csJbkf",
    "TuWn1jet1Gv7JGVr7t8FFA",
    "cKFUMrnOHQp0FXF2nuVoeY",
    "THV3IFLahCAo60cq08XABJ",
    "YB3nRsfjdLbF0fRkl7oA8U",
    "A6xkzNHAuKEynGD6lbztuZ",
    "kjToWhCKO3Ne60iv7vkMU8",
    "oHsajnqDNOvntXCwR0Mm48",
    "N5A6olF7DAygC8VVS5Jlyr",
    "xDYK4ayzyfPUb1E2Zr5LgM",
    "2urCcBUtOYGKNjhJi7ZucF"
   ],
   "version":2
  }
 },
 "nbformat":4,
 "nbformat_minor":4
}