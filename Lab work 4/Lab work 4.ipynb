{
 "cells":[
  {
   "cell_type":"markdown",
   "source":[
    "___\n",
    "\n",
    "<a href='https:\/\/mainacademy.ua\/'> <img src='https:\/\/mainacademy.ua\/wp-content\/uploads\/2019\/03\/logo-main.png' alt = 'Хмм, щось з інтернетом'\/><\/a>\n",
    "___\n",
    "\n",
    "# Module 4: Work with data professionally!"
   ],
   "attachments":{
    
   },
   "metadata":{
    "datalore":{
     "node_id":"nks9JMh9hp1jjzr0OZgVHL",
     "type":"MD",
     "hide_input_from_viewers":false,
     "hide_output_from_viewers":false,
     "report_properties":{
      
     }
    }
   }
  },
  {
   "cell_type":"markdown",
   "source":[
    "## Lab work 4\n"
   ],
   "attachments":{
    
   },
   "metadata":{
    "datalore":{
     "node_id":"0Y2zHPlH9zh8JSB0qi2gVk",
     "type":"MD",
     "hide_input_from_viewers":false,
     "hide_output_from_viewers":false,
     "report_properties":{
      
     }
    }
   }
  },
  {
   "cell_type":"markdown",
   "source":[
    "#### Мета: \n",
    "\n",
    "* навчитися обробляти дані\n",
    "* \"парсити\" сайти"
   ],
   "attachments":{
    
   },
   "metadata":{
    "datalore":{
     "node_id":"zwmR1HU96tNBPCcp2GgpIi",
     "type":"MD",
     "hide_input_from_viewers":false,
     "hide_output_from_viewers":false,
     "report_properties":{
      
     }
    }
   }
  },
  {
   "cell_type":"markdown",
   "source":[
    "### Завдання 1:"
   ],
   "attachments":{
    
   },
   "metadata":{
    "datalore":{
     "node_id":"baDneYEhLxTi18nZRM9DTe",
     "type":"MD",
     "hide_input_from_viewers":false,
     "hide_output_from_viewers":false,
     "report_properties":{
      
     }
    }
   }
  },
  {
   "cell_type":"markdown",
   "source":[
    "#### Ознайомитися із API Національного банку \n",
    "https:\/\/old.bank.gov.ua\/control\/uk\/publish\/article?art_id=38441973&cat_id=38459171#exchange\n"
   ],
   "attachments":{
    
   },
   "metadata":{
    "datalore":{
     "node_id":"J2BYT8E5NYLKDlriBEr1mb",
     "type":"MD",
     "hide_input_from_viewers":false,
     "hide_output_from_viewers":false,
     "report_properties":{
      
     }
    }
   }
  },
  {
   "cell_type":"markdown",
   "source":[
    "1. Підключитися до API."
   ],
   "attachments":{
    
   },
   "metadata":{
    "datalore":{
     "node_id":"qG9UxpxBSCn5FUCCEQI4ef",
     "type":"MD",
     "hide_input_from_viewers":false,
     "hide_output_from_viewers":false,
     "report_properties":{
      
     }
    }
   }
  },
  {
   "cell_type":"code",
   "source":[
    "import requests\n",
    "import datetime as d\n",
    "import math\n",
    "import collections\n",
    "import pickle\n",
    "\n",
    "URL = 'https:\/\/bank.gov.ua\/NBU_Exchange\/exchange_site'\n",
    "CURRENCY = 'usd'\n",
    "END_DATE = d.date.today()\n",
    "PERIOD_IN_DAYS = 365\n",
    "\n",
    "def date_format(date):\n",
    "    return date.strftime('%Y%m%d')\n",
    "\n",
    "\n",
    "params ={\n",
    "    \"start\": date_format(END_DATE-d.timedelta(days=PERIOD_IN_DAYS)),\n",
    "    \"end\": date_format(END_DATE), \n",
    "    \"valcode\": CURRENCY,\n",
    "    \"sort\": 'exchangedate',\n",
    "    \"order\": 'desc',\n",
    "    \"json\": 'json',\n",
    "    }\n",
    "\n",
    "\n",
    "response = (requests.get(url=URL, params=params)).json()"
   ],
   "execution_count":1,
   "outputs":[
    
   ],
   "metadata":{
    "datalore":{
     "node_id":"zs0KGpA6Uey8WjykeuLpoY",
     "type":"CODE",
     "hide_input_from_viewers":false,
     "hide_output_from_viewers":false,
     "report_properties":{
      
     }
    }
   }
  },
  {
   "cell_type":"markdown",
   "source":[
    "2. Отримати курс долара за останній рік."
   ],
   "attachments":{
    
   },
   "metadata":{
    "datalore":{
     "node_id":"4an76kVQFkGwEgr1re3eEC",
     "type":"MD",
     "hide_input_from_viewers":false,
     "hide_output_from_viewers":false,
     "report_properties":{
      
     }
    }
   }
  },
  {
   "cell_type":"code",
   "source":[
    "rates_list =[[d.datetime.strptime(day['exchangedate'],'%d.%m.%Y').strftime('%m-%Y'), day['rate']] for day in response]"
   ],
   "execution_count":2,
   "outputs":[
    
   ],
   "metadata":{
    "datalore":{
     "node_id":"3Knowz1tITKh0iYUVl3Lz0",
     "type":"CODE",
     "hide_input_from_viewers":false,
     "hide_output_from_viewers":false,
     "report_properties":{
      
     }
    }
   }
  },
  {
   "cell_type":"markdown",
   "source":[
    "3. Вивести середнє значення та відхилення курсу за кожний місяць."
   ],
   "attachments":{
    
   },
   "metadata":{
    "datalore":{
     "node_id":"VVq3gmLs9qereWUf02enEt",
     "type":"MD",
     "hide_input_from_viewers":false,
     "hide_output_from_viewers":false,
     "report_properties":{
      
     }
    }
   }
  },
  {
   "cell_type":"code",
   "source":[
    "rates_by_month = collections.defaultdict(list)\n",
    "\n",
    "for month, rate in rates_list:\n",
    "    rates_by_month[month].append(rate)\n",
    "\n",
    "        \n",
    "rates_analysis_by_mounth = []\n",
    "\n",
    "for month, rates in rates_by_month.items():\n",
    "    current_rates_analysis ={}\n",
    "    # 1. Находим среднее арифметическое выборки.\n",
    "    average_rate = sum(rates) \/ len(rates)\n",
    "    # 2. От каждого значения выборки отнимаем среднее арифметическое. 3. Каждую полученную разницу возводим в квадрат.\n",
    "    # 4. Суммируем полученные значения квадратов разниц. 5. Делим на размер выборки. 6. Находим квадратный корень.\n",
    "    std_dev = math.sqrt(sum([(rate - average_rate)**2 for rate in rates]) \/ (len(rates)))\n",
    "    current_rates_analysis['month'] = month\n",
    "    current_rates_analysis['average_rate'] = round(average_rate, 4)\n",
    "    current_rates_analysis['std_dev'] = round(std_dev, 4)\n",
    "    rates_analysis_by_mounth.append(current_rates_analysis)\n",
    "\n",
    "\n",
    "\n",
    "\n",
    "rates_analysis_by_mounth"
   ],
   "execution_count":3,
   "outputs":[
    {
     "data":{
      "text\/plain":[
       "[{'month': '03-2023', 'average_rate': 36.5686, 'std_dev': 0.0},\n",
       " {'month': '02-2023', 'average_rate': 36.5686, 'std_dev': 0.0},\n",
       " {'month': '01-2023', 'average_rate': 36.5686, 'std_dev': 0.0},\n",
       " {'month': '12-2022', 'average_rate': 36.5686, 'std_dev': 0.0},\n",
       " {'month': '11-2022', 'average_rate': 36.5686, 'std_dev': 0.0},\n",
       " {'month': '10-2022', 'average_rate': 36.5686, 'std_dev': 0.0},\n",
       " {'month': '09-2022', 'average_rate': 36.5686, 'std_dev': 0.0},\n",
       " {'month': '08-2022', 'average_rate': 36.5686, 'std_dev': 0.0},\n",
       " {'month': '07-2022', 'average_rate': 31.8501, 'std_dev': 3.4993},\n",
       " {'month': '06-2022', 'average_rate': 29.2549, 'std_dev': 0.0},\n",
       " {'month': '05-2022', 'average_rate': 29.2549, 'std_dev': 0.0},\n",
       " {'month': '04-2022', 'average_rate': 29.2549, 'std_dev': 0.0},\n",
       " {'month': '03-2022', 'average_rate': 29.2549, 'std_dev': 0.0}]"
      ]
     },
     "metadata":{
      
     },
     "output_type":"display_data"
    }
   ],
   "metadata":{
    "datalore":{
     "node_id":"yvysJNOSpWRtvpml30eh5v",
     "type":"CODE",
     "hide_input_from_viewers":false,
     "hide_output_from_viewers":false,
     "report_properties":{
      
     }
    }
   }
  },
  {
   "cell_type":"markdown",
   "source":[
    "4. Дану інформацію записати у файл за допомогою pickle."
   ],
   "attachments":{
    
   },
   "metadata":{
    "datalore":{
     "node_id":"qPDrLg4WLVHQ3Tg9zmuQBP",
     "type":"MD",
     "hide_input_from_viewers":false,
     "hide_output_from_viewers":false,
     "report_properties":{
      
     }
    }
   }
  },
  {
   "cell_type":"code",
   "source":[
    "with open('rates_analysis.pickle', 'wb') as f:\n",
    "    pickle.dump(rates_analysis_by_mounth, f)\n",
    "\n",
    "with open('rates_analysis.pickle','rb') as f:\n",
    "    rates_analysis = pickle.load(f)\n",
    "\n",
    "print ('rates_analysis', rates_analysis)"
   ],
   "execution_count":4,
   "outputs":[
    {
     "name":"stdout",
     "text":[
      "rates_analysis [{'month': '03-2023', 'average_rate': 36.5686, 'std_dev': 0.0}, {'month': '02-2023', 'average_rate': 36.5686, 'std_dev': 0.0}, {'month': '01-2023', 'average_rate': 36.5686, 'std_dev': 0.0}, {'month': '12-2022', 'average_rate': 36.5686, 'std_dev': 0.0}, {'month': '11-2022', 'average_rate': 36.5686, 'std_dev': 0.0}, {'month': '10-2022', 'average_rate': 36.5686, 'std_dev': 0.0}, {'month': '09-2022', 'average_rate': 36.5686, 'std_dev': 0.0}, {'month': '08-2022', 'average_rate': 36.5686, 'std_dev': 0.0}, {'month': '07-2022', 'average_rate': 31.8501, 'std_dev': 3.4993}, {'month': '06-2022', 'average_rate': 29.2549, 'std_dev': 0.0}, {'month': '05-2022', 'average_rate': 29.2549, 'std_dev': 0.0}, {'month': '04-2022', 'average_rate': 29.2549, 'std_dev': 0.0}, {'month': '03-2022', 'average_rate': 29.2549, 'std_dev': 0.0}]\n"
     ],
     "output_type":"stream"
    }
   ],
   "metadata":{
    "datalore":{
     "node_id":"tKaYQ7oP3l3GB2RzkdHG7a",
     "type":"CODE",
     "hide_input_from_viewers":false,
     "hide_output_from_viewers":false,
     "report_properties":{
      
     }
    }
   }
  },
  {
   "cell_type":"markdown",
   "source":[
    "### Завдання 2:"
   ],
   "attachments":{
    
   },
   "metadata":{
    "datalore":{
     "node_id":"lz9W0CBuMg8FjH3ATqBhXC",
     "type":"MD",
     "hide_input_from_viewers":false,
     "hide_output_from_viewers":false,
     "report_properties":{
      
     }
    }
   }
  },
  {
   "cell_type":"markdown",
   "source":[
    "Потрібно проаналізувати всі товари на сайті: \n",
    "https:\/\/smallpacking.agrosem.ua\/products"
   ],
   "attachments":{
    
   },
   "metadata":{
    "datalore":{
     "node_id":"p4aB2aCpjASIMOR2LXsGQv",
     "type":"MD",
     "hide_input_from_viewers":false,
     "hide_output_from_viewers":false,
     "report_properties":{
      
     }
    }
   }
  },
  {
   "cell_type":"code",
   "source":[
    "# from selenium import webdriver\n",
    "# from bs4 import BeautifulSoup\n",
    "\n",
    "# # устанавливаем путь к драйверу браузера\n",
    "# # здесь используется Chrome, но можно использовать любой другой\n",
    "# driver_path = '\/путь\/к\/драйверу\/chromedriver'\n",
    "\n",
    "# # инициализируем экземпляр браузера\n",
    "# options = webdriver.ChromeOptions()\n",
    "# options.add_argument('--headless')  # запуск браузера в фоновом режиме\n",
    "# driver = webdriver.Chrome(driver_path, options=options)\n",
    "\n",
    "# # проходим по первым 5 страницам магазина\n",
    "# for i in range(1, 6):\n",
    "#     url = f'https:\/\/example.com\/shop?page={i}'\n",
    "#     driver.get(url)\n",
    "\n",
    "#     # ждем, пока страница полностью загрузится\n",
    "#     driver.implicitly_wait(10)\n",
    "\n",
    "#     # получаем HTML-код страницы\n",
    "#     soup = BeautifulSoup(driver.page_source, 'html.parser')\n",
    "\n",
    "#     # здесь выполняется ваш код парсинга страницы\n",
    "#     # ...\n",
    "\n",
    "# # закрываем браузер после выполнения цикла\n",
    "# driver.quit()"
   ],
   "execution_count":null,
   "outputs":[
    
   ],
   "metadata":{
    "datalore":{
     "node_id":"Kc3m5QXEV8vLmVZgyGi37P",
     "type":"CODE",
     "hide_input_from_viewers":true,
     "hide_output_from_viewers":true
    }
   }
  },
  {
   "cell_type":"markdown",
   "source":[
    "Створіть базу даних, що містить таблицю із такими стовбцями: \n",
    "    - артикул товару\n",
    "    - найменування\n",
    "    - ціна \n",
    "    - вага"
   ],
   "attachments":{
    
   },
   "metadata":{
    "datalore":{
     "node_id":"T9O5I7glvF0kzEqCgz9PjT",
     "type":"MD",
     "hide_input_from_viewers":false,
     "hide_output_from_viewers":false,
     "report_properties":{
      
     }
    }
   }
  },
  {
   "cell_type":"code",
   "source":[
    "import requests\n",
    "from bs4 import BeautifulSoup\n",
    "\n",
    "URL_AGROSEM = 'https:\/\/smallpacking.agrosem.ua\/products'\n",
    "\n",
    "headers = {\n",
    "    'authority': 'www.google.com',\n",
    "    'cache-control': 'max-age=0',\n",
    "    'sec-ch-ua': '\"Google Chrome\";v=\"87\", \" Not;A Brand\";v=\"99\", \"Chromium\";v=\"87\"',\n",
    "    'sec-ch-ua-mobile': '?0',\n",
    "    'upgrade-insecure-requests': '1',\n",
    "    'user-agent': 'Mozilla\/5.0 (Windows NT 10.0; Win64; x64) AppleWebKit\/537.36 (KHTML, like Gecko) Chrome\/87.0.4280.88 Safari\/537.36',\n",
    "    'accept': 'text\/html,application\/xhtml+xml,application\/xml;q=0.9,image\/avif,image\/webp,image\/apng,*\/*;q=0.8,application\/signed-exchange;v=b3;q=0.9',\n",
    "    'x-client-data': 'CIu2yQEIorbJAQjBtskBCKmdygEIrMfKAQj4x8oBCKPNygEI3NXKAQin+csB',\n",
    "    'sec-fetch-site': 'same-origin',\n",
    "    'sec-fetch-mode': 'navigate',\n",
    "    'sec-fetch-user': '?1',\n",
    "    'sec-fetch-dest': 'document',\n",
    "    'accept-language': 'uk'\n",
    "}\n",
    "\n",
    "\n",
    "response_agrosem = requests.get(url=URL_AGROSEM, headers=headers)\n",
    "\n",
    "\n",
    "soup = BeautifulSoup(response_agrosem.text, 'lxml')"
   ],
   "execution_count":5,
   "outputs":[
    
   ],
   "metadata":{
    "datalore":{
     "node_id":"fd2rPYGcYMOVnYegu5EdTa",
     "type":"CODE",
     "hide_input_from_viewers":false,
     "hide_output_from_viewers":false,
     "report_properties":{
      
     }
    }
   }
  },
  {
   "cell_type":"code",
   "source":[
    "items = soup.find_all('div', class_='item')\n",
    "#article = items.find('div',class_='info')\n",
    "items"
   ],
   "execution_count":6,
   "outputs":[
    {
     "data":{
      "text\/plain":[
       "[<div class=\"item\" content='{\"id\":1542,\"name\":\"\\u0414\\u041e\\u0411\\u0420\\u0418\\u0412\\u041e \\u0414\\u041b\\u042f \\u0412\\u0406\\u0427\\u041d\\u041e\\u0417\\u0415\\u041b\\u0415\\u041d\\u0418\\u0425 \\u0414\\u0415\\u0420\\u0415\\u0412 \\u0422\\u0410 \\u041a\\u0423\\u0429\\u0406\\u0412 \\u041e\\u0421\\u0406\\u041d\\u042c 3 \\u043a\\u0433\",\"cat\":\"NPK \\u0434\\u043b\\u044f \\u0491\\u0440\\u0443\\u043d\\u0442\\u043e\\u0432\\u043e\\u0433\\u043e \\u0432\\u043d\\u0435\\u0441\\u0435\\u043d\\u043d\\u044f, \\u0414\\u043b\\u044f \\u0441\\u0430\\u0434\\u0443 \\u0456 \\u0433\\u043e\\u0440\\u043e\\u0434\\u0443\",\"weight\":\"\",\"url\":\"\\\/products\\\/1542\",\"poster\":\"https:\\\/\\\/admin.agrosem.ua\\\/admin\\\/yii2images\\\/images\\\/image-by-item-and-alias?item=PdProduct1542&amp;dirtyAlias=dc55d01751-1.jpg\",\"price\":\"799.00\",\"prev\":\"\"}' data-id=\"1542\">\n",
       " <div class=\"flags\">\n",
       " <span class=\"sale\">Акція<\/span>\n",
       " <\/div>\n",
       " <div class=\"rate\"><span class=\"ico star\" model-id=\"1542\" model-type=\"product\"><\/span><\/div>\n",
       " <div class=\"poster\" style=\"--i-img:url(https:\/\/admin.agrosem.ua\/admin\/yii2images\/images\/image-by-item-and-alias?item=PdProduct1542&amp;dirtyAlias=dc55d01751-1.jpg)\"><\/div>\n",
       " <div class=\"info\"><a class=\"key\" full-name=\"ДОБРИВО ДЛЯ ВІЧНОЗЕЛЕНИХ ДЕРЕВ ТА КУЩІВ ОСІНЬ 3 кг\" href=\"\/products\/1542\">ДОБРИВО ДЛЯ ВІЧНОЗЕЛЕНИХ ДЕРЕВ ТА КУЩІВ ОСІНЬ 3 кг<\/a><p class=\"key weight\">Вага<span>  <\/span><\/p><\/div>\n",
       " <div class=\"order\">\n",
       " <p class=\"price\">799.00 ₴<\/p><a class=\"ico buy modal_open\" data-buy=\"Купити\" data-un=\"У кошику\" href=\"javascript:;\"> <\/a>\n",
       " <\/div>\n",
       " <div class=\"extra\">\n",
       " <div class=\"border\"><\/div>\n",
       " <div class=\"key alt\">Призначення<\/div>\n",
       " <div class=\"key\"><dd>NPK для ґрунтового внесення<dd><dd>Для саду і городу<dd><\/dd><\/dd><\/dd><\/dd><\/div>\n",
       " <div class=\"key alt\">Сезон <\/div>\n",
       " <div class=\"key\"><dd>Осінь<\/dd><\/div>\n",
       " <div class=\"key alt\">Бренд<\/div><a class=\"key sub\" href=\"\/html\/catalog-item.html\">Yara<\/a>\n",
       " <\/div>\n",
       " <\/div>,\n",
       " <div class=\"item\" content='{\"id\":1523,\"name\":\"\\u0414\\u041e\\u0411\\u0420\\u0418\\u0412\\u041e \\u0414\\u041b\\u042f \\u0412\\u0406\\u0427\\u041d\\u041e\\u0417\\u0415\\u041b\\u0415\\u041d\\u0418\\u0425 \\u0414\\u0415\\u0420\\u0415\\u0412 \\u0422\\u0410 \\u041a\\u0423\\u0429\\u0406\\u0412 \\u041e\\u0421\\u0406\\u041d\\u042c 10 \\u043a\\u0433\",\"cat\":\"NPK \\u0434\\u043b\\u044f \\u0491\\u0440\\u0443\\u043d\\u0442\\u043e\\u0432\\u043e\\u0433\\u043e \\u0432\\u043d\\u0435\\u0441\\u0435\\u043d\\u043d\\u044f, \\u0414\\u043b\\u044f \\u0441\\u0430\\u0434\\u0443 \\u0456 \\u0433\\u043e\\u0440\\u043e\\u0434\\u0443\",\"weight\":\"\",\"url\":\"\\\/products\\\/1523\",\"poster\":\"https:\\\/\\\/admin.agrosem.ua\\\/admin\\\/yii2images\\\/images\\\/image-by-item-and-alias?item=PdProduct1523&amp;dirtyAlias=fe5dfd81d0-1.png\",\"price\":\"2299.00\",\"prev\":\"\"}' data-id=\"1523\">\n",
       " <div class=\"flags\">\n",
       " <span class=\"top\">Топ продажу<\/span>\n",
       " <\/div>\n",
       " <div class=\"rate\"><span class=\"ico star\" model-id=\"1523\" model-type=\"product\"><\/span><\/div>\n",
       " <div class=\"poster\" style=\"--i-img:url(https:\/\/admin.agrosem.ua\/admin\/yii2images\/images\/image-by-item-and-alias?item=PdProduct1523&amp;dirtyAlias=fe5dfd81d0-1.png)\"><\/div>\n",
       " <div class=\"info\"><a class=\"key\" full-name=\"ДОБРИВО ДЛЯ ВІЧНОЗЕЛЕНИХ ДЕРЕВ ТА КУЩІВ ОСІНЬ 10 кг\" href=\"\/products\/1523\">ДОБРИВО ДЛЯ ВІЧНОЗЕЛЕНИХ ДЕРЕВ ТА КУЩІВ ОСІНЬ 10 кг<\/a><p class=\"key weight\">Вага<span>  <\/span><\/p><\/div>\n",
       " <div class=\"order\">\n",
       " <p class=\"price\">2 299.00 ₴<\/p><a class=\"ico buy modal_open\" data-buy=\"Купити\" data-un=\"У кошику\" href=\"javascript:;\"> <\/a>\n",
       " <\/div>\n",
       " <div class=\"extra\">\n",
       " <div class=\"border\"><\/div>\n",
       " <div class=\"key alt\">Призначення<\/div>\n",
       " <div class=\"key\"><dd>NPK для ґрунтового внесення<dd><dd>Для саду і городу<dd><\/dd><\/dd><\/dd><\/dd><\/div>\n",
       " <div class=\"key alt\">Сезон <\/div>\n",
       " <div class=\"key\"><dd>Осінь<\/dd><\/div>\n",
       " <div class=\"key alt\">Бренд<\/div><a class=\"key sub\" href=\"\/html\/catalog-item.html\">Yara<\/a>\n",
       " <\/div>\n",
       " <\/div>,\n",
       " <div class=\"item\" content='{\"id\":1525,\"name\":\"\\u0414\\u041e\\u0411\\u0420\\u0418\\u0412\\u041e \\u0423\\u041d\\u0406\\u0412\\u0415\\u0420\\u0421\\u0410\\u041b\\u042c\\u041d\\u0415 \\u0413\\u0420\\u0423\\u041d\\u0422\\u041e\\u0412\\u0415 \\u041e\\u0421\\u0406\\u041d\\u042c 1 \\u043a\\u0433\",\"cat\":\"NPK \\u0434\\u043b\\u044f \\u0491\\u0440\\u0443\\u043d\\u0442\\u043e\\u0432\\u043e\\u0433\\u043e \\u0432\\u043d\\u0435\\u0441\\u0435\\u043d\\u043d\\u044f, \\u0414\\u043b\\u044f \\u0441\\u0430\\u0434\\u0443 \\u0456 \\u0433\\u043e\\u0440\\u043e\\u0434\\u0443\",\"weight\":\"\",\"url\":\"\\\/products\\\/1525\",\"poster\":\"https:\\\/\\\/admin.agrosem.ua\\\/admin\\\/yii2images\\\/images\\\/image-by-item-and-alias?item=PdProduct1525&amp;dirtyAlias=88a2e991fe-1.jpg\",\"price\":\"348.00\",\"prev\":\"\"}' data-id=\"1525\">\n",
       " <div class=\"flags\">\n",
       " <span class=\"top\">Топ продажу<\/span>\n",
       " <\/div>\n",
       " <div class=\"rate\"><span class=\"ico star\" model-id=\"1525\" model-type=\"product\"><\/span><\/div>\n",
       " <div class=\"poster\" style=\"--i-img:url(https:\/\/admin.agrosem.ua\/admin\/yii2images\/images\/image-by-item-and-alias?item=PdProduct1525&amp;dirtyAlias=88a2e991fe-1.jpg)\"><\/div>\n",
       " <div class=\"info\"><a class=\"key\" full-name=\"ДОБРИВО УНІВЕРСАЛЬНЕ ГРУНТОВЕ ОСІНЬ 1 кг\" href=\"\/products\/1525\">ДОБРИВО УНІВЕРСАЛЬНЕ ГРУНТОВЕ ОСІНЬ 1 кг<\/a><p class=\"key weight\">Вага<span>  <\/span><\/p><\/div>\n",
       " <div class=\"order\">\n",
       " <p class=\"price\">348.00 ₴<\/p><a class=\"ico buy modal_open\" data-buy=\"Купити\" data-un=\"У кошику\" href=\"javascript:;\"> <\/a>\n",
       " <\/div>\n",
       " <div class=\"extra\">\n",
       " <div class=\"border\"><\/div>\n",
       " <div class=\"key alt\">Призначення<\/div>\n",
       " <div class=\"key\"><dd>NPK для ґрунтового внесення<dd><dd>Для саду і городу<dd><\/dd><\/dd><\/dd><\/dd><\/div>\n",
       " <div class=\"key alt\">Сезон <\/div>\n",
       " <div class=\"key\"><dd>Осінь<\/dd><\/div>\n",
       " <div class=\"key alt\">Бренд<\/div><a class=\"key sub\" href=\"\/html\/catalog-item.html\">Yara<\/a>\n",
       " <\/div>\n",
       " <\/div>,\n",
       " <div class=\"item\" content='{\"id\":1528,\"name\":\"\\u0414\\u041e\\u0411\\u0420\\u0418\\u0412\\u041e \\u0414\\u041b\\u042f \\u0413\\u0410\\u0417\\u041e\\u041d\\u0423 \\u041e\\u0421\\u0406\\u041d\\u042c 1 \\u043a\\u0433\",\"cat\":\"NPK \\u0434\\u043b\\u044f \\u0491\\u0440\\u0443\\u043d\\u0442\\u043e\\u0432\\u043e\\u0433\\u043e \\u0432\\u043d\\u0435\\u0441\\u0435\\u043d\\u043d\\u044f, \\u0414\\u043b\\u044f \\u0441\\u0430\\u0434\\u0443 \\u0456 \\u0433\\u043e\\u0440\\u043e\\u0434\\u0443\",\"weight\":\"\",\"url\":\"\\\/products\\\/1528\",\"poster\":\"https:\\\/\\\/admin.agrosem.ua\\\/admin\\\/yii2images\\\/images\\\/image-by-item-and-alias?item=PdProduct1528&amp;dirtyAlias=223c020955-1.jpg\",\"price\":\"348.00\",\"prev\":\"\"}' data-id=\"1528\">\n",
       " <div class=\"flags\">\n",
       " <span class=\"top\">Топ продажу<\/span>\n",
       " <\/div>\n",
       " <div class=\"rate\"><span class=\"ico star\" model-id=\"1528\" model-type=\"product\"><\/span><\/div>\n",
       " <div class=\"poster\" style=\"--i-img:url(https:\/\/admin.agrosem.ua\/admin\/yii2images\/images\/image-by-item-and-alias?item=PdProduct1528&amp;dirtyAlias=223c020955-1.jpg)\"><\/div>\n",
       " <div class=\"info\"><a class=\"key\" full-name=\"ДОБРИВО ДЛЯ ГАЗОНУ ОСІНЬ 1 кг\" href=\"\/products\/1528\">ДОБРИВО ДЛЯ ГАЗОНУ ОСІНЬ 1 кг<\/a><p class=\"key weight\">Вага<span>  <\/span><\/p><\/div>\n",
       " <div class=\"order\">\n",
       " <p class=\"price\">348.00 ₴<\/p><a class=\"ico buy modal_open\" data-buy=\"Купити\" data-un=\"У кошику\" href=\"javascript:;\"> <\/a>\n",
       " <\/div>\n",
       " <div class=\"extra\">\n",
       " <div class=\"border\"><\/div>\n",
       " <div class=\"key alt\">Призначення<\/div>\n",
       " <div class=\"key\"><dd>NPK для ґрунтового внесення<dd><dd>Для саду і городу<dd><\/dd><\/dd><\/dd><\/dd><\/div>\n",
       " <div class=\"key alt\">Сезон <\/div>\n",
       " <div class=\"key\"><dd>Осінь<\/dd><\/div>\n",
       " <div class=\"key alt\">Бренд<\/div><a class=\"key sub\" href=\"\/html\/catalog-item.html\">Yara<\/a>\n",
       " <\/div>\n",
       " <\/div>,\n",
       " <div class=\"item\" content='{\"id\":1536,\"name\":\"\\u0414\\u041e\\u0411\\u0420\\u0418\\u0412\\u041e \\u0414\\u041b\\u042f \\u0413\\u0410\\u0417\\u041e\\u041d\\u0423 \\u041e\\u0421\\u0406\\u041d\\u042c 10 \\u043a\\u0433\",\"cat\":\"NPK \\u0434\\u043b\\u044f \\u0491\\u0440\\u0443\\u043d\\u0442\\u043e\\u0432\\u043e\\u0433\\u043e \\u0432\\u043d\\u0435\\u0441\\u0435\\u043d\\u043d\\u044f, \\u0414\\u043b\\u044f \\u0441\\u0430\\u0434\\u0443 \\u0456 \\u0433\\u043e\\u0440\\u043e\\u0434\\u0443\",\"weight\":\"\",\"url\":\"\\\/products\\\/1536\",\"poster\":\"https:\\\/\\\/admin.agrosem.ua\\\/admin\\\/yii2images\\\/images\\\/image-by-item-and-alias?item=PdProduct1536&amp;dirtyAlias=5e49f0d23c-1.png\",\"price\":\"2299.00\",\"prev\":\"\"}' data-id=\"1536\">\n",
       " <div class=\"flags\">\n",
       " <span class=\"top\">Топ продажу<\/span>\n",
       " <\/div>\n",
       " <div class=\"rate\"><span class=\"ico star\" model-id=\"1536\" model-type=\"product\"><\/span><\/div>\n",
       " <div class=\"poster\" style=\"--i-img:url(https:\/\/admin.agrosem.ua\/admin\/yii2images\/images\/image-by-item-and-alias?item=PdProduct1536&amp;dirtyAlias=5e49f0d23c-1.png)\"><\/div>\n",
       " <div class=\"info\"><a class=\"key\" full-name=\"ДОБРИВО ДЛЯ ГАЗОНУ ОСІНЬ 10 кг\" href=\"\/products\/1536\">ДОБРИВО ДЛЯ ГАЗОНУ ОСІНЬ 10 кг<\/a><p class=\"key weight\">Вага<span>  <\/span><\/p><\/div>\n",
       " <div class=\"order\">\n",
       " <p class=\"price\">2 299.00 ₴<\/p><a class=\"ico buy modal_open\" data-buy=\"Купити\" data-un=\"У кошику\" href=\"javascript:;\"> <\/a>\n",
       " <\/div>\n",
       " <div class=\"extra\">\n",
       " <div class=\"border\"><\/div>\n",
       " <div class=\"key alt\">Призначення<\/div>\n",
       " <div class=\"key\"><dd>NPK для ґрунтового внесення<dd><dd>Для саду і городу<dd><\/dd><\/dd><\/dd><\/dd><\/div>\n",
       " <div class=\"key alt\">Сезон <\/div>\n",
       " <div class=\"key\"><dd>Осінь<\/dd><\/div>\n",
       " <div class=\"key alt\">Бренд<\/div><a class=\"key sub\" href=\"\/html\/catalog-item.html\">Yara<\/a>\n",
       " <\/div>\n",
       " <\/div>,\n",
       " <div class=\"item\" content='{\"id\":1608,\"name\":\"\\u0414\\u041e\\u0411\\u0420\\u0418\\u0412\\u041e \\u0414\\u041b\\u042f \\u0421\\u0410\\u041c\\u0428\\u0418\\u0422\\u0423 \\u0422\\u0410 \\u0412\\u0406\\u0427\\u041d\\u041e\\u0417\\u0415\\u041b\\u0415\\u041d\\u0418\\u0425 \\u0427\\u0410\\u0413\\u0410\\u0420\\u041d\\u0418\\u041a\\u0406\\u0412, Yara Folicare 180 \\u0433\",\"cat\":\"\\u0414\\u043b\\u044f \\u043b\\u0438\\u0441\\u0442\\u043a\\u043e\\u0432\\u043e\\u0433\\u043e \\u0436\\u0438\\u0432\\u043b\\u0435\\u043d\\u043d\\u044f, \\u0414\\u043b\\u044f \\u0441\\u0430\\u0434\\u0443 \\u0456 \\u0433\\u043e\\u0440\\u043e\\u0434\\u0443\",\"weight\":\"\",\"url\":\"\\\/products\\\/1608\",\"poster\":\"https:\\\/\\\/admin.agrosem.ua\\\/admin\\\/yii2images\\\/images\\\/image-by-item-and-alias?item=PdProduct1608&amp;dirtyAlias=7ad07fa4d4-1.jpg\",\"prev\":\"169.00\",\"price\":\"119.00\"}' data-id=\"1608\">\n",
       " <div class=\"flags\">\n",
       " <span class=\"top\">Топ продажу<\/span>\n",
       " <\/div>\n",
       " <div class=\"rate\"><span class=\"ico star\" model-id=\"1608\" model-type=\"product\"><\/span><\/div>\n",
       " <div class=\"poster\" style=\"--i-img:url(https:\/\/admin.agrosem.ua\/admin\/yii2images\/images\/image-by-item-and-alias?item=PdProduct1608&amp;dirtyAlias=7ad07fa4d4-1.jpg)\"><\/div>\n",
       " <div class=\"info\"><a class=\"key\" full-name=\"ДОБРИВО ДЛЯ САМШИТУ ТА ВІЧНОЗЕЛЕНИХ ЧАГАРНИКІВ, Yara Folicare 180 г\" href=\"\/products\/1608\">ДОБРИВО ДЛЯ САМШИТУ ТА ВІЧНОЗЕЛЕНИХ ЧАГАРНИКІВ, Yara Folicare 180 г<\/a><p class=\"key weight\">Вага<span>  <\/span><\/p><\/div>\n",
       " <div class=\"order\">\n",
       " <p class=\"price\" data-prev=\"169.00 ₴\">119.00 ₴<\/p><a class=\"ico buy modal_open\" data-buy=\"Купити\" data-un=\"У кошику\" href=\"javascript:;\"> <\/a>\n",
       " <\/div>\n",
       " <div class=\"extra\">\n",
       " <div class=\"border\"><\/div>\n",
       " <div class=\"key alt\">Призначення<\/div>\n",
       " <div class=\"key\"><dd>Для листкового живлення<dd><dd>Для саду і городу<dd><\/dd><\/dd><\/dd><\/dd><\/div>\n",
       " <div class=\"key alt\">Сезон <\/div>\n",
       " <div class=\"key\"><dd>Весна<\/dd><dd>Літо<\/dd><\/div>\n",
       " <div class=\"key alt\">Бренд<\/div><a class=\"key sub\" href=\"\/html\/catalog-item.html\">Yara<\/a>\n",
       " <\/div>\n",
       " <\/div>,\n",
       " <div class=\"item\" content='{\"id\":1610,\"name\":\"\\u0414\\u041e\\u0411\\u0420\\u0418\\u0412\\u041e \\u0414\\u041b\\u042f \\u0425\\u0412\\u041e\\u0419\\u041d\\u0418\\u0425 \\u0420\\u041e\\u0421\\u041b\\u0418\\u041d, Yara Folicare 180 \\u0433\",\"cat\":\"\\u0414\\u043b\\u044f \\u043b\\u0438\\u0441\\u0442\\u043a\\u043e\\u0432\\u043e\\u0433\\u043e \\u0436\\u0438\\u0432\\u043b\\u0435\\u043d\\u043d\\u044f, \\u0414\\u043b\\u044f \\u0441\\u0430\\u0434\\u0443 \\u0456 \\u0433\\u043e\\u0440\\u043e\\u0434\\u0443\",\"weight\":\"\",\"url\":\"\\\/products\\\/1610\",\"poster\":\"https:\\\/\\\/admin.agrosem.ua\\\/admin\\\/yii2images\\\/images\\\/image-by-item-and-alias?item=PdProduct1610&amp;dirtyAlias=56f9940649-1.jpg\",\"price\":\"169.00\",\"prev\":\"\"}' data-id=\"1610\">\n",
       " <div class=\"flags\">\n",
       " <span class=\"top\">Топ продажу<\/span>\n",
       " <\/div>\n",
       " <div class=\"rate\"><span class=\"ico star\" model-id=\"1610\" model-type=\"product\"><\/span><\/div>\n",
       " <div class=\"poster\" style=\"--i-img:url(https:\/\/admin.agrosem.ua\/admin\/yii2images\/images\/image-by-item-and-alias?item=PdProduct1610&amp;dirtyAlias=56f9940649-1.jpg)\"><\/div>\n",
       " <div class=\"info\"><a class=\"key\" full-name=\"ДОБРИВО ДЛЯ ХВОЙНИХ РОСЛИН, Yara Folicare 180 г\" href=\"\/products\/1610\">ДОБРИВО ДЛЯ ХВОЙНИХ РОСЛИН, Yara Folicare 180 г<\/a><p class=\"key weight\">Вага<span>  <\/span><\/p><\/div>\n",
       " <div class=\"order\">\n",
       " <p class=\"price\">169.00 ₴<\/p><a class=\"ico buy modal_open\" data-buy=\"Купити\" data-un=\"У кошику\" href=\"javascript:;\"> <\/a>\n",
       " <\/div>\n",
       " <div class=\"extra\">\n",
       " <div class=\"border\"><\/div>\n",
       " <div class=\"key alt\">Призначення<\/div>\n",
       " <div class=\"key\"><dd>Для листкового живлення<dd><dd>Для саду і городу<dd><\/dd><\/dd><\/dd><\/dd><\/div>\n",
       " <div class=\"key alt\">Сезон <\/div>\n",
       " <div class=\"key\"><dd>Весна<\/dd><dd>Літо<\/dd><\/div>\n",
       " <div class=\"key alt\">Бренд<\/div><a class=\"key sub\" href=\"\/html\/catalog-item.html\">Yara<\/a>\n",
       " <\/div>\n",
       " <\/div>,\n",
       " <div class=\"item\" content='{\"id\":1537,\"name\":\"\\u0414\\u041e\\u0411\\u0420\\u0418\\u0412\\u041e \\u0414\\u041b\\u042f \\u0414\\u0415\\u041a\\u041e\\u0420\\u0410\\u0422\\u0418\\u0412\\u041d\\u0418\\u0425 \\u041b\\u0418\\u0421\\u0422\\u041e\\u0412\\u0418\\u0425 \\u0412\\u0415\\u0421\\u041d\\u0410-\\u041b\\u0406\\u0422\\u041e 3 \\u043a\\u0433\",\"cat\":\"NPK \\u0434\\u043b\\u044f \\u0491\\u0440\\u0443\\u043d\\u0442\\u043e\\u0432\\u043e\\u0433\\u043e \\u0432\\u043d\\u0435\\u0441\\u0435\\u043d\\u043d\\u044f, \\u0414\\u043b\\u044f \\u0441\\u0430\\u0434\\u0443 \\u0456 \\u0433\\u043e\\u0440\\u043e\\u0434\\u0443\",\"weight\":\"\",\"url\":\"\\\/products\\\/1537\",\"poster\":\"https:\\\/\\\/admin.agrosem.ua\\\/admin\\\/yii2images\\\/images\\\/image-by-item-and-alias?item=PdProduct1537&amp;dirtyAlias=7deef0c3ce-1.jpg\",\"price\":\"799.00\",\"prev\":\"\"}' data-id=\"1537\">\n",
       " <div class=\"flags\">\n",
       " <\/div>\n",
       " <div class=\"rate\"><span class=\"ico star\" model-id=\"1537\" model-type=\"product\"><\/span><\/div>\n",
       " <div class=\"poster\" style=\"--i-img:url(https:\/\/admin.agrosem.ua\/admin\/yii2images\/images\/image-by-item-and-alias?item=PdProduct1537&amp;dirtyAlias=7deef0c3ce-1.jpg)\"><\/div>\n",
       " <div class=\"info\"><a class=\"key\" full-name=\"ДОБРИВО ДЛЯ ДЕКОРАТИВНИХ ЛИСТОВИХ ВЕСНА-ЛІТО 3 кг\" href=\"\/products\/1537\">ДОБРИВО ДЛЯ ДЕКОРАТИВНИХ ЛИСТОВИХ ВЕСНА-ЛІТО 3 кг<\/a><p class=\"key weight\">Вага<span>  <\/span><\/p><\/div>\n",
       " <div class=\"order\">\n",
       " <p class=\"price\">799.00 ₴<\/p><a class=\"ico buy modal_open\" data-buy=\"Купити\" data-un=\"У кошику\" href=\"javascript:;\"> <\/a>\n",
       " <\/div>\n",
       " <div class=\"extra\">\n",
       " <div class=\"border\"><\/div>\n",
       " <div class=\"key alt\">Призначення<\/div>\n",
       " <div class=\"key\"><dd>NPK для ґрунтового внесення<dd><dd>Для саду і городу<dd><\/dd><\/dd><\/dd><\/dd><\/div>\n",
       " <div class=\"key alt\">Сезон <\/div>\n",
       " <div class=\"key\"><dd>Весна<\/dd><dd>Літо<\/dd><\/div>\n",
       " <div class=\"key alt\">Бренд<\/div><a class=\"key sub\" href=\"\/html\/catalog-item.html\">Yara<\/a>\n",
       " <\/div>\n",
       " <\/div>,\n",
       " <div class=\"item\" content='{\"id\":1538,\"name\":\"\\u0414\\u041e\\u0411\\u0420\\u0418\\u0412\\u041e \\u0414\\u041b\\u042f \\u0412\\u0406\\u0427\\u041d\\u041e\\u0417\\u0415\\u041b\\u0415\\u041d\\u0418\\u0425 \\u0414\\u0415\\u0420\\u0415\\u0412 \\u0422\\u0410 \\u041a\\u0423\\u0429\\u0406\\u0412 \\u0412\\u0415\\u0421\\u041d\\u0410-\\u041b\\u0406\\u0422\\u041e 10 \\u043a\\u0433\",\"cat\":\"NPK \\u0434\\u043b\\u044f \\u0491\\u0440\\u0443\\u043d\\u0442\\u043e\\u0432\\u043e\\u0433\\u043e \\u0432\\u043d\\u0435\\u0441\\u0435\\u043d\\u043d\\u044f, \\u0414\\u043b\\u044f \\u0441\\u0430\\u0434\\u0443 \\u0456 \\u0433\\u043e\\u0440\\u043e\\u0434\\u0443\",\"weight\":\"\",\"url\":\"\\\/products\\\/1538\",\"poster\":\"https:\\\/\\\/admin.agrosem.ua\\\/admin\\\/yii2images\\\/images\\\/image-by-item-and-alias?item=PdProduct1538&amp;dirtyAlias=23dccdacc0-1.png\",\"price\":\"2299.00\",\"prev\":\"\"}' data-id=\"1538\">\n",
       " <div class=\"flags\">\n",
       " <\/div>\n",
       " <div class=\"rate\"><span class=\"ico star\" model-id=\"1538\" model-type=\"product\"><\/span><\/div>\n",
       " <div class=\"poster\" style=\"--i-img:url(https:\/\/admin.agrosem.ua\/admin\/yii2images\/images\/image-by-item-and-alias?item=PdProduct1538&amp;dirtyAlias=23dccdacc0-1.png)\"><\/div>\n",
       " <div class=\"info\"><a class=\"key\" full-name=\"ДОБРИВО ДЛЯ ВІЧНОЗЕЛЕНИХ ДЕРЕВ ТА КУЩІВ ВЕСНА-ЛІТО 10 кг\" href=\"\/products\/1538\">ДОБРИВО ДЛЯ ВІЧНОЗЕЛЕНИХ ДЕРЕВ ТА КУЩІВ ВЕСНА-ЛІТО 10 кг<\/a><p class=\"key weight\">Вага<span>  <\/span><\/p><\/div>\n",
       " <div class=\"order\">\n",
       " <p class=\"price\">2 299.00 ₴<\/p><a class=\"ico buy modal_open\" data-buy=\"Купити\" data-un=\"У кошику\" href=\"javascript:;\"> <\/a>\n",
       " <\/div>\n",
       " <div class=\"extra\">\n",
       " <div class=\"border\"><\/div>\n",
       " <div class=\"key alt\">Призначення<\/div>\n",
       " <div class=\"key\"><dd>NPK для ґрунтового внесення<dd><dd>Для саду і городу<dd><\/dd><\/dd><\/dd><\/dd><\/div>\n",
       " <div class=\"key alt\">Сезон <\/div>\n",
       " <div class=\"key\"><dd>Весна<\/dd><dd>Літо<\/dd><\/div>\n",
       " <div class=\"key alt\">Бренд<\/div><a class=\"key sub\" href=\"\/html\/catalog-item.html\">Yara<\/a>\n",
       " <\/div>\n",
       " <\/div>,\n",
       " <div class=\"item\" content='{\"id\":1539,\"name\":\"\\u0414\\u041e\\u0411\\u0420\\u0418\\u0412\\u041e \\u0414\\u041b\\u042f \\u0414\\u0415\\u041a\\u041e\\u0420\\u0410\\u0422\\u0418\\u0412\\u041d\\u0418\\u0425 \\u041b\\u0418\\u0421\\u0422\\u041e\\u0412\\u0418\\u0425 \\u0412\\u0415\\u0421\\u041d\\u0410-\\u041b\\u0406\\u0422\\u041e 1 \\u043a\\u0433\",\"cat\":\"NPK \\u0434\\u043b\\u044f \\u0491\\u0440\\u0443\\u043d\\u0442\\u043e\\u0432\\u043e\\u0433\\u043e \\u0432\\u043d\\u0435\\u0441\\u0435\\u043d\\u043d\\u044f, \\u0414\\u043b\\u044f \\u0441\\u0430\\u0434\\u0443 \\u0456 \\u0433\\u043e\\u0440\\u043e\\u0434\\u0443\",\"weight\":\"\",\"url\":\"\\\/products\\\/1539\",\"poster\":\"https:\\\/\\\/admin.agrosem.ua\\\/admin\\\/yii2images\\\/images\\\/image-by-item-and-alias?item=PdProduct1539&amp;dirtyAlias=f54b985ec9-1.jpg\",\"price\":\"348.00\",\"prev\":\"\"}' data-id=\"1539\">\n",
       " <div class=\"flags\">\n",
       " <\/div>\n",
       " <div class=\"rate\"><span class=\"ico star\" model-id=\"1539\" model-type=\"product\"><\/span><\/div>\n",
       " <div class=\"poster\" style=\"--i-img:url(https:\/\/admin.agrosem.ua\/admin\/yii2images\/images\/image-by-item-and-alias?item=PdProduct1539&amp;dirtyAlias=f54b985ec9-1.jpg)\"><\/div>\n",
       " <div class=\"info\"><a class=\"key\" full-name=\"ДОБРИВО ДЛЯ ДЕКОРАТИВНИХ ЛИСТОВИХ ВЕСНА-ЛІТО 1 кг\" href=\"\/products\/1539\">ДОБРИВО ДЛЯ ДЕКОРАТИВНИХ ЛИСТОВИХ ВЕСНА-ЛІТО 1 кг<\/a><p class=\"key weight\">Вага<span>  <\/span><\/p><\/div>\n",
       " <div class=\"order\">\n",
       " <p class=\"price\">348.00 ₴<\/p><a class=\"ico buy modal_open\" data-buy=\"Купити\" data-un=\"У кошику\" href=\"javascript:;\"> <\/a>\n",
       " <\/div>\n",
       " <div class=\"extra\">\n",
       " <div class=\"border\"><\/div>\n",
       " <div class=\"key alt\">Призначення<\/div>\n",
       " <div class=\"key\"><dd>NPK для ґрунтового внесення<dd><dd>Для саду і городу<dd><\/dd><\/dd><\/dd><\/dd><\/div>\n",
       " <div class=\"key alt\">Сезон <\/div>\n",
       " <div class=\"key\"><dd>Весна<\/dd><dd>Літо<\/dd><\/div>\n",
       " <div class=\"key alt\">Бренд<\/div><a class=\"key sub\" href=\"\/html\/catalog-item.html\">Yara<\/a>\n",
       " <\/div>\n",
       " <\/div>,\n",
       " <div class=\"item\" content='{\"id\":1540,\"name\":\"\\u0414\\u041e\\u0411\\u0420\\u0418\\u0412\\u041e \\u0414\\u041b\\u042f \\u041e\\u0412\\u041e\\u0427\\u0406\\u0412 3 \\u043a\\u0433\",\"cat\":\"NPK \\u0434\\u043b\\u044f \\u0491\\u0440\\u0443\\u043d\\u0442\\u043e\\u0432\\u043e\\u0433\\u043e \\u0432\\u043d\\u0435\\u0441\\u0435\\u043d\\u043d\\u044f, \\u0414\\u043b\\u044f \\u0441\\u0430\\u0434\\u0443 \\u0456 \\u0433\\u043e\\u0440\\u043e\\u0434\\u0443\",\"weight\":\"\",\"url\":\"\\\/products\\\/1540\",\"poster\":\"https:\\\/\\\/admin.agrosem.ua\\\/admin\\\/yii2images\\\/images\\\/image-by-item-and-alias?item=PdProduct1540&amp;dirtyAlias=40eb9128c5-1.jpg\",\"price\":\"799.00\",\"prev\":\"\"}' data-id=\"1540\">\n",
       " <div class=\"flags\">\n",
       " <\/div>\n",
       " <div class=\"rate\"><span class=\"ico star\" model-id=\"1540\" model-type=\"product\"><\/span><\/div>\n",
       " <div class=\"poster\" style=\"--i-img:url(https:\/\/admin.agrosem.ua\/admin\/yii2images\/images\/image-by-item-and-alias?item=PdProduct1540&amp;dirtyAlias=40eb9128c5-1.jpg)\"><\/div>\n",
       " <div class=\"info\"><a class=\"key\" full-name=\"ДОБРИВО ДЛЯ ОВОЧІВ 3 кг\" href=\"\/products\/1540\">ДОБРИВО ДЛЯ ОВОЧІВ 3 кг<\/a><p class=\"key weight\">Вага<span>  <\/span><\/p><\/div>\n",
       " <div class=\"order\">\n",
       " <p class=\"price\">799.00 ₴<\/p><a class=\"ico buy modal_open\" data-buy=\"Купити\" data-un=\"У кошику\" href=\"javascript:;\"> <\/a>\n",
       " <\/div>\n",
       " <div class=\"extra\">\n",
       " <div class=\"border\"><\/div>\n",
       " <div class=\"key alt\">Призначення<\/div>\n",
       " <div class=\"key\"><dd>NPK для ґрунтового внесення<dd><dd>Для саду і городу<dd><\/dd><\/dd><\/dd><\/dd><\/div>\n",
       " <div class=\"key alt\">Сезон <\/div>\n",
       " <div class=\"key\"><dd>Весна<\/dd><dd>Літо<\/dd><\/div>\n",
       " <div class=\"key alt\">Бренд<\/div><a class=\"key sub\" href=\"\/html\/catalog-item.html\">Yara<\/a>\n",
       " <\/div>\n",
       " <\/div>,\n",
       " <div class=\"item\" content='{\"id\":1541,\"name\":\"\\u0414\\u041e\\u0411\\u0420\\u0418\\u0412\\u041e \\u0414\\u041b\\u042f \\u0412\\u0418\\u041d\\u041e\\u0413\\u0420\\u0410\\u0414\\u0423 1 \\u043a\\u0433\",\"cat\":\"NPK \\u0434\\u043b\\u044f \\u0491\\u0440\\u0443\\u043d\\u0442\\u043e\\u0432\\u043e\\u0433\\u043e \\u0432\\u043d\\u0435\\u0441\\u0435\\u043d\\u043d\\u044f, \\u0414\\u043b\\u044f \\u0441\\u0430\\u0434\\u0443 \\u0456 \\u0433\\u043e\\u0440\\u043e\\u0434\\u0443\",\"weight\":\"\",\"url\":\"\\\/products\\\/1541\",\"poster\":\"https:\\\/\\\/admin.agrosem.ua\\\/admin\\\/yii2images\\\/images\\\/image-by-item-and-alias?item=PdProduct1541&amp;dirtyAlias=b1a65211c3-1.jpg\",\"price\":\"348.00\",\"prev\":\"\"}' data-id=\"1541\">\n",
       " <div class=\"flags\">\n",
       " <\/div>\n",
       " <div class=\"rate\"><span class=\"ico star\" model-id=\"1541\" model-type=\"product\"><\/span><\/div>\n",
       " <div class=\"poster\" style=\"--i-img:url(https:\/\/admin.agrosem.ua\/admin\/yii2images\/images\/image-by-item-and-alias?item=PdProduct1541&amp;dirtyAlias=b1a65211c3-1.jpg)\"><\/div>\n",
       " <div class=\"info\"><a class=\"key\" full-name=\"ДОБРИВО ДЛЯ ВИНОГРАДУ 1 кг\" href=\"\/products\/1541\">ДОБРИВО ДЛЯ ВИНОГРАДУ 1 кг<\/a><p class=\"key weight\">Вага<span>  <\/span><\/p><\/div>\n",
       " <div class=\"order\">\n",
       " <p class=\"price\">348.00 ₴<\/p><a class=\"ico buy modal_open\" data-buy=\"Купити\" data-un=\"У кошику\" href=\"javascript:;\"> <\/a>\n",
       " <\/div>\n",
       " <div class=\"extra\">\n",
       " <div class=\"border\"><\/div>\n",
       " <div class=\"key alt\">Призначення<\/div>\n",
       " <div class=\"key\"><dd>NPK для ґрунтового внесення<dd><dd>Для саду і городу<dd><\/dd><\/dd><\/dd><\/dd><\/div>\n",
       " <div class=\"key alt\">Сезон <\/div>\n",
       " <div class=\"key\"><dd>Весна<\/dd><dd>Літо<\/dd><\/div>\n",
       " <div class=\"key alt\">Бренд<\/div><a class=\"key sub\" href=\"\/html\/catalog-item.html\">Yara<\/a>\n",
       " <\/div>\n",
       " <\/div>]"
      ]
     },
     "metadata":{
      
     },
     "output_type":"display_data"
    }
   ],
   "metadata":{
    "datalore":{
     "node_id":"PpCheZjFuzYW5yP74PZkMN",
     "type":"CODE",
     "hide_input_from_viewers":true,
     "hide_output_from_viewers":true
    }
   }
  },
  {
   "cell_type":"code",
   "source":[
    "# noinspection PyShadowingNames\n",
    "def get_splited_item_info(item):\n",
    "    item_info = item.find('div',class_='info').get_text().strip().split()\n",
    "    return item_info\n",
    "\n",
    "\n",
    "# noinspection PyShadowingNames\n",
    "def get_item_name(info):\n",
    "    item_name = ' '.join(info[:-2])\n",
    "    return item_name\n",
    "\n",
    "\n",
    "def get_item_weight_in_kg(info):\n",
    "    info = info[-2:]\n",
    "    if info[1] == 'гВага':\n",
    "        weight = int(info[0])\/1000\n",
    "    else:\n",
    "        weight = float(info[0])\n",
    "    return weight\n",
    "\n",
    "\n",
    "# noinspection PyShadowingNames\n",
    "def get_item_price_in_uah(item):\n",
    "    item_price = item.find('p',class_='price').get_text().split()\n",
    "    item_price = float(item_price[0])\n",
    "    return item_price\n",
    "\n",
    "\n",
    "# noinspection PyShadowingNames\n",
    "def get_article(item):\n",
    "    article = item.get('data-id')\n",
    "    return article\n",
    "\n",
    "\n",
    "item_dict = {}\n",
    "\n",
    "for item in soup.find_all('div', class_='item'):\n",
    "    item_list = []\n",
    "    article = get_article(item)\n",
    "    item_info = get_splited_item_info(item)\n",
    "    item_name = get_item_name(item_info)\n",
    "    item_price = get_item_price_in_uah(item)\n",
    "    item_weight_in_kg = get_item_weight_in_kg(get_splited_item_info(item))\n",
    "    item_list.append(item_name)\n",
    "    item_list.append(item_price)\n",
    "    item_list.append(item_weight_in_kg)\n",
    "    item_dict[article] = item_list\n",
    "\n",
    "item_dict"
   ],
   "execution_count":7,
   "outputs":[
    {
     "data":{
      "text\/plain":[
       "{'1542': ['ДОБРИВО ДЛЯ ВІЧНОЗЕЛЕНИХ ДЕРЕВ ТА КУЩІВ ОСІНЬ', 799.0, 3.0],\n",
       " '1523': ['ДОБРИВО ДЛЯ ВІЧНОЗЕЛЕНИХ ДЕРЕВ ТА КУЩІВ ОСІНЬ', 2.0, 10.0],\n",
       " '1525': ['ДОБРИВО УНІВЕРСАЛЬНЕ ГРУНТОВЕ ОСІНЬ', 348.0, 1.0],\n",
       " '1528': ['ДОБРИВО ДЛЯ ГАЗОНУ ОСІНЬ', 348.0, 1.0],\n",
       " '1536': ['ДОБРИВО ДЛЯ ГАЗОНУ ОСІНЬ', 2.0, 10.0],\n",
       " '1608': ['ДОБРИВО ДЛЯ САМШИТУ ТА ВІЧНОЗЕЛЕНИХ ЧАГАРНИКІВ, Yara Folicare',\n",
       "  119.0,\n",
       "  0.18],\n",
       " '1610': ['ДОБРИВО ДЛЯ ХВОЙНИХ РОСЛИН, Yara Folicare', 169.0, 0.18],\n",
       " '1537': ['ДОБРИВО ДЛЯ ДЕКОРАТИВНИХ ЛИСТОВИХ ВЕСНА-ЛІТО', 799.0, 3.0],\n",
       " '1538': ['ДОБРИВО ДЛЯ ВІЧНОЗЕЛЕНИХ ДЕРЕВ ТА КУЩІВ ВЕСНА-ЛІТО', 2.0, 10.0],\n",
       " '1539': ['ДОБРИВО ДЛЯ ДЕКОРАТИВНИХ ЛИСТОВИХ ВЕСНА-ЛІТО', 348.0, 1.0],\n",
       " '1540': ['ДОБРИВО ДЛЯ ОВОЧІВ', 799.0, 3.0],\n",
       " '1541': ['ДОБРИВО ДЛЯ ВИНОГРАДУ', 348.0, 1.0]}"
      ]
     },
     "metadata":{
      
     },
     "output_type":"display_data"
    }
   ],
   "metadata":{
    "datalore":{
     "node_id":"1urv5klZXK4tH99uCTFENl",
     "type":"CODE",
     "hide_input_from_viewers":true,
     "hide_output_from_viewers":true
    }
   }
  },
  {
   "cell_type":"markdown",
   "source":[
    "### Завдання 3: "
   ],
   "attachments":{
    
   },
   "metadata":{
    "datalore":{
     "node_id":"crroSrpcbJU95WNzWlXg0Q",
     "type":"MD",
     "hide_input_from_viewers":false,
     "hide_output_from_viewers":false,
     "report_properties":{
      
     }
    }
   }
  },
  {
   "cell_type":"markdown",
   "source":[
    "Ознайомтеся із роботою SQLite та відповідним модулем у Python.\n",
    "Завантажте базу даних для виконання лабораторної роботи.\n",
    "Підключіться до завантаженої бази SQLite."
   ],
   "attachments":{
    
   },
   "metadata":{
    "datalore":{
     "node_id":"GlqM2En7UsowkKFSNW7WZb",
     "type":"MD",
     "hide_input_from_viewers":false,
     "hide_output_from_viewers":false,
     "report_properties":{
      
     }
    }
   }
  },
  {
   "cell_type":"markdown",
   "source":[
    "1. Виведіть інформацію про дану базу."
   ],
   "attachments":{
    
   },
   "metadata":{
    "datalore":{
     "node_id":"lHsBvJtPEZUPkiiwyUkkun",
     "type":"MD",
     "hide_input_from_viewers":false,
     "hide_output_from_viewers":false,
     "report_properties":{
      
     }
    }
   }
  },
  {
   "cell_type":"code",
   "source":[
    
   ],
   "execution_count":null,
   "outputs":[
    
   ],
   "metadata":{
    "datalore":{
     "node_id":"2pbP8WE7dOCNAvOlPAweNi",
     "type":"CODE",
     "hide_input_from_viewers":false,
     "hide_output_from_viewers":false,
     "report_properties":{
      
     }
    }
   }
  },
  {
   "cell_type":"markdown",
   "source":[
    "2. Виведіть перелік всіх таблиць."
   ],
   "attachments":{
    
   },
   "metadata":{
    "datalore":{
     "node_id":"fpXF26yqMNDuf3TAT2VeMR",
     "type":"MD",
     "hide_input_from_viewers":false,
     "hide_output_from_viewers":false,
     "report_properties":{
      
     }
    }
   }
  },
  {
   "cell_type":"code",
   "source":[
    
   ],
   "execution_count":null,
   "outputs":[
    
   ],
   "metadata":{
    "datalore":{
     "node_id":"3GrVVApnEeCYvrHVWdCnki",
     "type":"CODE",
     "hide_input_from_viewers":false,
     "hide_output_from_viewers":false,
     "report_properties":{
      
     }
    }
   }
  },
  {
   "cell_type":"markdown",
   "source":[
    "3. Список всіх cust_id з таблиці Customers table."
   ],
   "attachments":{
    
   },
   "metadata":{
    "datalore":{
     "node_id":"ru3EPswaAyShXv0nBBEtOD",
     "type":"MD",
     "hide_input_from_viewers":false,
     "hide_output_from_viewers":false,
     "report_properties":{
      
     }
    }
   }
  },
  {
   "cell_type":"code",
   "source":[
    
   ],
   "execution_count":null,
   "outputs":[
    
   ],
   "metadata":{
    "datalore":{
     "node_id":"Re20NxcmC2hEyAJVHDp8V9",
     "type":"CODE",
     "hide_input_from_viewers":false,
     "hide_output_from_viewers":false,
     "report_properties":{
      
     }
    }
   }
  },
  {
   "cell_type":"markdown",
   "source":[
    "4. Всю таблицю Customers table"
   ],
   "attachments":{
    
   },
   "metadata":{
    "datalore":{
     "node_id":"qx1tvTtcM2SHLWoZniyuh7",
     "type":"MD",
     "hide_input_from_viewers":false,
     "hide_output_from_viewers":false,
     "report_properties":{
      
     }
    }
   }
  },
  {
   "cell_type":"code",
   "source":[
    
   ],
   "execution_count":null,
   "outputs":[
    
   ],
   "metadata":{
    "datalore":{
     "node_id":"5JLAMw6tlosUpzMggGdi8o",
     "type":"CODE",
     "hide_input_from_viewers":false,
     "hide_output_from_viewers":false,
     "report_properties":{
      
     }
    }
   }
  },
  {
   "cell_type":"markdown",
   "source":[
    "5. Список клієнтів (cust_names) відсортованих від Z до A"
   ],
   "attachments":{
    
   },
   "metadata":{
    "datalore":{
     "node_id":"FFwS0ibg3LUMawIi6VhqHa",
     "type":"MD",
     "hide_input_from_viewers":false,
     "hide_output_from_viewers":false,
     "report_properties":{
      
     }
    }
   }
  },
  {
   "cell_type":"code",
   "source":[
    
   ],
   "execution_count":null,
   "outputs":[
    
   ],
   "metadata":{
    "datalore":{
     "node_id":"1EvFGUk2LmTLL7dTgNWaQV",
     "type":"CODE",
     "hide_input_from_viewers":false,
     "hide_output_from_viewers":false,
     "report_properties":{
      
     }
    }
   }
  },
  {
   "cell_type":"markdown",
   "source":[
    "6. Таблицю клієнтів та замовлень (cust_id і order_num) . Відсортуйте по клієнту і потім по даті замовлення"
   ],
   "attachments":{
    
   },
   "metadata":{
    "datalore":{
     "node_id":"Dt6GRN682XqgsVb578lqpN",
     "type":"MD",
     "hide_input_from_viewers":false,
     "hide_output_from_viewers":false,
     "report_properties":{
      
     }
    }
   }
  },
  {
   "cell_type":"code",
   "source":[
    
   ],
   "execution_count":null,
   "outputs":[
    
   ],
   "metadata":{
    "datalore":{
     "node_id":"zqfKzisOBWLNjxslO733JO",
     "type":"CODE",
     "hide_input_from_viewers":false,
     "hide_output_from_viewers":false,
     "report_properties":{
      
     }
    }
   }
  },
  {
   "cell_type":"markdown",
   "source":[
    "7. Таблицю (на основі Items) з кількість та вартістю товару. Відсортуйте в порядку спадання по кількості та вартості"
   ],
   "attachments":{
    
   },
   "metadata":{
    "datalore":{
     "node_id":"M3QnvY27M6WYpLcsbqQ4eF",
     "type":"MD",
     "hide_input_from_viewers":false,
     "hide_output_from_viewers":false,
     "report_properties":{
      
     }
    }
   }
  },
  {
   "cell_type":"code",
   "source":[
    
   ],
   "execution_count":null,
   "outputs":[
    
   ],
   "metadata":{
    "datalore":{
     "node_id":"vtydxsC6Y2B4IDAPvwJcgz",
     "type":"CODE",
     "hide_input_from_viewers":false,
     "hide_output_from_viewers":false,
     "report_properties":{
      
     }
    }
   }
  },
  {
   "cell_type":"markdown",
   "source":[
    "8. Товар (з таблиці Products), ціна якого становить 9.49"
   ],
   "attachments":{
    
   },
   "metadata":{
    "datalore":{
     "node_id":"Bor4GUBPao642JLULLV58C",
     "type":"MD",
     "hide_input_from_viewers":false,
     "hide_output_from_viewers":false,
     "report_properties":{
      
     }
    }
   }
  },
  {
   "cell_type":"code",
   "source":[
    
   ],
   "execution_count":null,
   "outputs":[
    
   ],
   "metadata":{
    "datalore":{
     "node_id":"eokxQMZ0XADB3vnrLG7J6A",
     "type":"CODE",
     "hide_input_from_viewers":false,
     "hide_output_from_viewers":false,
     "report_properties":{
      
     }
    }
   }
  },
  {
   "cell_type":"markdown",
   "source":[
    "9. Виведіть назву товару та ціну, яка лежить в діапазоні від  3 до 6. Відсортуйте результат в по ціні в порядку зростання"
   ],
   "attachments":{
    
   },
   "metadata":{
    "datalore":{
     "node_id":"6JJf4Q43wJfPunL4Fpklxn",
     "type":"MD",
     "hide_input_from_viewers":false,
     "hide_output_from_viewers":false,
     "report_properties":{
      
     }
    }
   }
  },
  {
   "cell_type":"code",
   "source":[
    
   ],
   "execution_count":null,
   "outputs":[
    
   ],
   "metadata":{
    "datalore":{
     "node_id":"KLppK1QtMDwgkBu6rvIUzO",
     "type":"CODE",
     "hide_input_from_viewers":false,
     "hide_output_from_viewers":false,
     "report_properties":{
      
     }
    }
   }
  },
  {
   "cell_type":"markdown",
   "source":[
    "10. Кількість товару, що було продано"
   ],
   "attachments":{
    
   },
   "metadata":{
    "datalore":{
     "node_id":"BFzejASiJlgoHCRUj20uGI",
     "type":"MD",
     "hide_input_from_viewers":false,
     "hide_output_from_viewers":false,
     "report_properties":{
      
     }
    }
   }
  },
  {
   "cell_type":"code",
   "source":[
    
   ],
   "execution_count":null,
   "outputs":[
    
   ],
   "metadata":{
    "datalore":{
     "node_id":"hgSr0C6KuEXyppqz7oFs95",
     "type":"CODE",
     "hide_input_from_viewers":false,
     "hide_output_from_viewers":false,
     "report_properties":{
      
     }
    }
   }
  },
  {
   "cell_type":"markdown",
   "source":[
    "11. Кількість найменувань товару, ціна якого більша за 4"
   ],
   "attachments":{
    
   },
   "metadata":{
    "datalore":{
     "node_id":"U1yRX7jYArwasYceYhPRQF",
     "type":"MD",
     "hide_input_from_viewers":false,
     "hide_output_from_viewers":false,
     "report_properties":{
      
     }
    }
   }
  },
  {
   "cell_type":"code",
   "source":[
    
   ],
   "execution_count":null,
   "outputs":[
    
   ],
   "metadata":{
    "datalore":{
     "node_id":"L3aAipAwSVryELs84k9tt2",
     "type":"CODE",
     "hide_input_from_viewers":false,
     "hide_output_from_viewers":false,
     "report_properties":{
      
     }
    }
   }
  },
  {
   "cell_type":"markdown",
   "source":[
    "12. Розробіть алгоритм для виведення 3 найдорожчих товарів в базі"
   ],
   "attachments":{
    
   },
   "metadata":{
    "datalore":{
     "node_id":"lxNxXXiDpDAiljX6siKVH9",
     "type":"MD",
     "hide_input_from_viewers":false,
     "hide_output_from_viewers":false,
     "report_properties":{
      
     }
    }
   }
  },
  {
   "cell_type":"code",
   "source":[
    
   ],
   "execution_count":null,
   "outputs":[
    
   ],
   "metadata":{
    "datalore":{
     "node_id":"U9quykeBdxHC66AOPe359L",
     "type":"CODE",
     "hide_input_from_viewers":false,
     "hide_output_from_viewers":false,
     "report_properties":{
      
     }
    }
   }
  },
  {
   "cell_type":"markdown",
   "source":[
    "13. Підрахуйте кількість замовлень для кожного клієнта використовуючи підзапити"
   ],
   "attachments":{
    
   },
   "metadata":{
    "datalore":{
     "node_id":"wljpjWRVWko64IJw5sftNi",
     "type":"MD",
     "hide_input_from_viewers":false,
     "hide_output_from_viewers":false,
     "report_properties":{
      
     }
    }
   }
  },
  {
   "cell_type":"code",
   "source":[
    
   ],
   "execution_count":null,
   "outputs":[
    
   ],
   "metadata":{
    "datalore":{
     "node_id":"kBsQRgwoxq0U5W94TgHtVI",
     "type":"CODE",
     "hide_input_from_viewers":false,
     "hide_output_from_viewers":false,
     "report_properties":{
      
     }
    }
   }
  },
  {
   "cell_type":"markdown",
   "source":[
    "14. Виведіть список клієнтів та їх замовлення (використайте JOIN)"
   ],
   "attachments":{
    
   },
   "metadata":{
    "datalore":{
     "node_id":"N7HyWhOOLTQg9YoMj3mbF0",
     "type":"MD",
     "hide_input_from_viewers":false,
     "hide_output_from_viewers":false,
     "report_properties":{
      
     }
    }
   }
  },
  {
   "cell_type":"code",
   "source":[
    
   ],
   "execution_count":null,
   "outputs":[
    
   ],
   "metadata":{
    "datalore":{
     "node_id":"TQfpgXh0Z2YAfftxEz9mwu",
     "type":"CODE",
     "hide_input_from_viewers":false,
     "hide_output_from_viewers":false,
     "report_properties":{
      
     }
    }
   }
  },
  {
   "cell_type":"markdown",
   "source":[
    "15. Зробіть два запити: список товарів, ціна яких менша 5 та список товарів, ціна який більша рівна 5. Використайте UNION для об'єднання цих запитів"
   ],
   "attachments":{
    
   },
   "metadata":{
    "datalore":{
     "node_id":"VCvswdxji7vcLfrtW3lnQK",
     "type":"MD",
     "hide_input_from_viewers":false,
     "hide_output_from_viewers":false,
     "report_properties":{
      
     }
    }
   }
  },
  {
   "cell_type":"code",
   "source":[
    
   ],
   "execution_count":null,
   "outputs":[
    
   ],
   "metadata":{
    "datalore":{
     "node_id":"VZV98I7ArgQzDkfvAhwSH0",
     "type":"CODE",
     "hide_input_from_viewers":false,
     "hide_output_from_viewers":false,
     "report_properties":{
      
     }
    }
   }
  },
  {
   "cell_type":"markdown",
   "source":[
    "### Завдання 4: "
   ],
   "attachments":{
    
   },
   "metadata":{
    "datalore":{
     "node_id":"SWwYuPd9YWv8A0Ur8oJuTI",
     "type":"MD",
     "hide_input_from_viewers":false,
     "hide_output_from_viewers":false,
     "report_properties":{
      
     }
    }
   }
  },
  {
   "cell_type":"markdown",
   "source":[
    "Зареєструйтеся на сайті  http:\/\/www.sql-ex.ru\/\n",
    "\n",
    "Виконайте завдання із блоку SELECT; з 1 по 30 завдання\n",
    "\n",
    "Код запитів вставляйте сюди"
   ],
   "attachments":{
    
   },
   "metadata":{
    "datalore":{
     "node_id":"81t7qasckIiBvwlAivZguD",
     "type":"MD",
     "hide_input_from_viewers":false,
     "hide_output_from_viewers":false,
     "report_properties":{
      
     }
    }
   }
  },
  {
   "cell_type":"markdown",
   "source":[
    "Краткая информация о базе данных \"Компьютерная фирма\":\n",
    "\n",
    "Схема БД состоит из четырех таблиц:\\\n",
    "Product(maker, model, type)\\\n",
    "PC(code, model, speed, ram, hd, cd, price)\\\n",
    "Laptop(code, model, speed, ram, hd, price, screen)\\\n",
    "Printer(code, model, color, type, price)\\\n",
    " - Таблица Product представляет производителя (maker), номер модели (model) и тип ('PC' - ПК, 'Laptop' - ПК-блокнот или 'Printer' - принтер). Предполагается, что номера моделей в таблице Product уникальны для всех производителей и типов продуктов.\\\n",
    " - В таблице PC для каждого ПК, однозначно определяемого уникальным кодом – code, указаны модель – model (внешний ключ к таблице Product), скорость - speed (процессора в мегагерцах), объем памяти - ram (в мегабайтах), размер диска - hd (в гигабайтах), скорость считывающего устройства - cd (например, '4x') и цена - price (в долларах).\\ \n",
    " - Таблица Laptop аналогична таблице РС за исключением того, что вместо скорости CD содержит размер экрана -screen (в дюймах).\\\n",
    " - В таблице Printer для каждой модели принтера указывается, является ли он цветным - color ('y', если цветной), тип принтера - type (лазерный – 'Laser', струйный – 'Jet' или матричный – 'Matrix') и цена - price."
   ],
   "attachments":{
    
   },
   "metadata":{
    "datalore":{
     "node_id":"imN3BSofLGVqNDjkYTcPjF",
     "type":"MD",
     "hide_input_from_viewers":true,
     "hide_output_from_viewers":true
    }
   }
  },
  {
   "cell_type":"markdown",
   "source":[
    "Задание: 1 (Serge I: 2002-09-30)\n",
    "Найдите номер модели, скорость и размер жесткого диска для всех ПК стоимостью менее 500 дол. Вывести: model, speed и hd"
   ],
   "attachments":{
    
   },
   "metadata":{
    "datalore":{
     "node_id":"pWCjf888xOsSDUQ3sPOrTd",
     "type":"MD",
     "hide_input_from_viewers":true,
     "hide_output_from_viewers":true
    }
   }
  },
  {
   "cell_type":"code",
   "source":[
    "Select model,speed, hd\n",
    "from PC\n",
    "where price < 500"
   ],
   "execution_count":null,
   "outputs":[
    
   ],
   "metadata":{
    "datalore":{
     "node_id":"l18I1QkzDYXpBH0miCjTnD",
     "type":"SQL",
     "hide_input_from_viewers":true,
     "hide_output_from_viewers":true,
     "sql_cell_properties":{
      "variableName":"df_1"
     }
    }
   }
  },
  {
   "cell_type":"markdown",
   "source":[
    "Задание: 2 (Serge I: 2002-09-21)\n",
    "Найдите производителей принтеров. Вывести: maker"
   ],
   "attachments":{
    
   },
   "metadata":{
    "datalore":{
     "node_id":"TPfhJm3hD2aCR2GaxRecZO",
     "type":"MD",
     "hide_input_from_viewers":true,
     "hide_output_from_viewers":true
    }
   }
  },
  {
   "cell_type":"code",
   "source":[
    "Select distinct(maker)\n",
    "from Product\n",
    "where type = 'printer'"
   ],
   "execution_count":null,
   "outputs":[
    
   ],
   "metadata":{
    "datalore":{
     "node_id":"v1LhrgC56DqRmBFZEjDYtk",
     "type":"SQL",
     "hide_input_from_viewers":true,
     "hide_output_from_viewers":true,
     "sql_cell_properties":{
      "variableName":"df_2"
     }
    }
   }
  },
  {
   "cell_type":"markdown",
   "source":[
    "Задание: 3 (Serge I: 2002-09-30)\n",
    "Найдите номер модели, объем памяти и размеры экранов ПК-блокнотов, цена которых превышает 1000 дол."
   ],
   "attachments":{
    
   },
   "metadata":{
    "datalore":{
     "node_id":"DMObYKa8FBHP0ULWyJUnEb",
     "type":"MD",
     "hide_input_from_viewers":true,
     "hide_output_from_viewers":true
    }
   }
  },
  {
   "cell_type":"code",
   "source":[
    "Select model, ram, screen\n",
    "from Laptop\n",
    "where price > 1000"
   ],
   "execution_count":null,
   "outputs":[
    
   ],
   "metadata":{
    "datalore":{
     "node_id":"XAI7kSIZk8ilNWR7uHNYP6",
     "type":"SQL",
     "hide_input_from_viewers":true,
     "hide_output_from_viewers":true,
     "sql_cell_properties":{
      "variableName":"df_3"
     }
    }
   }
  },
  {
   "cell_type":"markdown",
   "source":[
    "Задание: 4 (Serge I: 2002-09-21)\n",
    "Найдите все записи таблицы Printer для цветных принтеров."
   ],
   "attachments":{
    
   },
   "metadata":{
    "datalore":{
     "node_id":"jODNdObV3IU8h5WDcr02p9",
     "type":"MD",
     "hide_input_from_viewers":true,
     "hide_output_from_viewers":true
    }
   }
  },
  {
   "cell_type":"code",
   "source":[
    "Select *\n",
    "from Printer\n",
    "where color = 'y'"
   ],
   "execution_count":null,
   "outputs":[
    
   ],
   "metadata":{
    "datalore":{
     "node_id":"kLqvVqWOqls52N2ZSNY9WJ",
     "type":"SQL",
     "hide_input_from_viewers":true,
     "hide_output_from_viewers":true,
     "sql_cell_properties":{
      "variableName":"df_4"
     }
    }
   }
  },
  {
   "cell_type":"markdown",
   "source":[
    "Задание: 5 (Serge I: 2002-09-30)\n",
    "Найдите номер модели, скорость и размер жесткого диска ПК, имеющих 12x или 24x CD и цену менее 600 дол."
   ],
   "attachments":{
    
   },
   "metadata":{
    "datalore":{
     "node_id":"8Chu1Cp4jL6FpAd1ZQV3BP",
     "type":"MD",
     "hide_input_from_viewers":true,
     "hide_output_from_viewers":true
    }
   }
  },
  {
   "cell_type":"code",
   "source":[
    "Select model, speed, hd\n",
    "from PC\n",
    "where cd in('12x','24x') and price < 600"
   ],
   "execution_count":null,
   "outputs":[
    
   ],
   "metadata":{
    "datalore":{
     "node_id":"TiQUZyy55TvuoQqyt6stRU",
     "type":"SQL",
     "hide_input_from_viewers":true,
     "hide_output_from_viewers":true,
     "sql_cell_properties":{
      "variableName":"df_5"
     }
    }
   }
  },
  {
   "cell_type":"markdown",
   "source":[
    "Задание: 6 (Serge I: 2002-10-28)\n",
    "Для каждого производителя, выпускающего ПК-блокноты c объёмом жесткого диска не менее 10 Гбайт, найти скорости таких ПК-блокнотов. Вывод: производитель, скорость."
   ],
   "attachments":{
    
   },
   "metadata":{
    "datalore":{
     "node_id":"e4NdJ4QvfZh55fUtcca3tP",
     "type":"MD",
     "hide_input_from_viewers":true,
     "hide_output_from_viewers":true
    }
   }
  },
  {
   "cell_type":"code",
   "source":[
    "Select distinct p.maker, l.speed\n",
    "from Product p\n",
    "join Laptop l on l.model = p.model\n",
    "where l.hd >= 10 and p.type = 'Laptop'\n",
    "order by p.maker, l.speed"
   ],
   "execution_count":null,
   "outputs":[
    
   ],
   "metadata":{
    "datalore":{
     "node_id":"789fKB2pYJbSKAR7Oayb3c",
     "type":"SQL",
     "hide_input_from_viewers":true,
     "hide_output_from_viewers":true,
     "sql_cell_properties":{
      "variableName":"df_6"
     }
    }
   }
  },
  {
   "cell_type":"markdown",
   "source":[
    "Задание: 7 (Serge I: 2002-11-02)\n",
    "Найдите номера моделей и цены всех имеющихся в продаже продуктов (любого типа) производителя B (латинская буква)."
   ],
   "attachments":{
    
   },
   "metadata":{
    "datalore":{
     "node_id":"tOIaUca1axrSekkHREE0er",
     "type":"MD",
     "hide_input_from_viewers":true,
     "hide_output_from_viewers":true
    }
   }
  },
  {
   "cell_type":"code",
   "source":[
    "Select l.model, l.price\n",
    "from Product p\n",
    "join Laptop l on l.model = p.model\n",
    "where p.maker = 'B'\n",
    "union\n",
    "Select l.model, l.price\n",
    "from Product p\n",
    "join PC l on l.model = p.model\n",
    "where p.maker = 'B'\n",
    "union\n",
    "Select l.model, l.price\n",
    "from Product p\n",
    "join Printer l on l.model = p.model\n",
    "where p.maker = 'B'"
   ],
   "execution_count":null,
   "outputs":[
    
   ],
   "metadata":{
    "datalore":{
     "node_id":"n4LNUaJ8V1idoGgHTfAM4G",
     "type":"SQL",
     "hide_input_from_viewers":true,
     "hide_output_from_viewers":true,
     "sql_cell_properties":{
      "variableName":"df_7"
     }
    }
   }
  },
  {
   "cell_type":"markdown",
   "source":[
    "Задание: 8 (Serge I: 2003-02-03)\n",
    "Найдите производителя, выпускающего ПК, но не ПК-блокноты."
   ],
   "attachments":{
    
   },
   "metadata":{
    "datalore":{
     "node_id":"NUmVpAfREvVE84qfTeXJkz",
     "type":"MD",
     "hide_input_from_viewers":true,
     "hide_output_from_viewers":true
    }
   }
  },
  {
   "cell_type":"code",
   "source":[
    "Select distinct maker\n",
    "from Product \n",
    "where type = 'PC' and maker not in (Select maker from Product where type = 'Laptop')"
   ],
   "execution_count":null,
   "outputs":[
    
   ],
   "metadata":{
    "datalore":{
     "node_id":"6KUeSRFwDwhyvnu8Wg6WJ7",
     "type":"SQL",
     "hide_input_from_viewers":true,
     "hide_output_from_viewers":true,
     "sql_cell_properties":{
      "variableName":"df_8"
     }
    }
   }
  },
  {
   "cell_type":"markdown",
   "source":[
    "Задание: 9 (Serge I: 2002-11-02)\n",
    "Найдите производителей ПК с процессором не менее 450 Мгц. Вывести: Maker"
   ],
   "attachments":{
    
   },
   "metadata":{
    "datalore":{
     "node_id":"LJFHrtgu22idRE9teYfgLx",
     "type":"MD",
     "hide_input_from_viewers":true,
     "hide_output_from_viewers":true
    }
   }
  },
  {
   "cell_type":"code",
   "source":[
    "Select distinct p.maker\n",
    "from Product p\n",
    "join PC pc on pc.model= p.model\n",
    "where pc.speed >= 450"
   ],
   "execution_count":null,
   "outputs":[
    
   ],
   "metadata":{
    "datalore":{
     "node_id":"tXZuNeZU5dh05aRg2txMQV",
     "type":"SQL",
     "hide_input_from_viewers":true,
     "hide_output_from_viewers":true,
     "sql_cell_properties":{
      "variableName":"df_9"
     }
    }
   }
  },
  {
   "cell_type":"markdown",
   "source":[
    "Задание: 10 (Serge I: 2002-09-23)\n",
    "Найдите модели принтеров, имеющих самую высокую цену. Вывести: model, price"
   ],
   "attachments":{
    
   },
   "metadata":{
    "datalore":{
     "node_id":"GTSXWEBGSI48DqnSNKD7T6",
     "type":"MD",
     "hide_input_from_viewers":true,
     "hide_output_from_viewers":true
    }
   }
  },
  {
   "cell_type":"code",
   "source":[
    "Select model, price\n",
    "from Printer \n",
    "where price = (select max(price) from Printer)"
   ],
   "execution_count":null,
   "outputs":[
    
   ],
   "metadata":{
    "datalore":{
     "node_id":"iEp3wpxQiNVIYkd0tjEsOh",
     "type":"SQL",
     "hide_input_from_viewers":true,
     "hide_output_from_viewers":true,
     "sql_cell_properties":{
      "variableName":"df_10"
     }
    }
   }
  },
  {
   "cell_type":"markdown",
   "source":[
    "Задание: 11 (Serge I: 2002-11-02)\n",
    "Найдите среднюю скорость ПК."
   ],
   "attachments":{
    
   },
   "metadata":{
    "datalore":{
     "node_id":"uxIPkj42upueLr3Zuui5V8",
     "type":"MD",
     "hide_input_from_viewers":true,
     "hide_output_from_viewers":true
    }
   }
  },
  {
   "cell_type":"code",
   "source":[
    "Select avg(speed)\n",
    "from PC"
   ],
   "execution_count":null,
   "outputs":[
    
   ],
   "metadata":{
    "datalore":{
     "node_id":"Gy6tgeODY1107M63uUqQVw",
     "type":"SQL",
     "hide_input_from_viewers":true,
     "hide_output_from_viewers":true,
     "sql_cell_properties":{
      "variableName":"df_11"
     }
    }
   }
  },
  {
   "cell_type":"markdown",
   "source":[
    "Задание: 12 (Serge I: 2002-11-02)\n",
    "Найдите среднюю скорость ПК-блокнотов, цена которых превышает 1000 дол."
   ],
   "attachments":{
    
   },
   "metadata":{
    "datalore":{
     "node_id":"CsGRyMe2eRfJJBM3ZJHDuH",
     "type":"MD",
     "hide_input_from_viewers":true,
     "hide_output_from_viewers":true
    }
   }
  },
  {
   "cell_type":"code",
   "source":[
    "select avg(speed)\n",
    "from Laptop\n",
    "where price > 1000"
   ],
   "execution_count":null,
   "outputs":[
    
   ],
   "metadata":{
    "datalore":{
     "node_id":"ZuOjld3xzihCDDfGICP9NT",
     "type":"SQL",
     "hide_input_from_viewers":true,
     "hide_output_from_viewers":true,
     "sql_cell_properties":{
      "variableName":"df_12"
     }
    }
   }
  },
  {
   "cell_type":"markdown",
   "source":[
    "Задание: 13 (Serge I: 2002-11-02)\n",
    "Найдите среднюю скорость ПК, выпущенных производителем A."
   ],
   "attachments":{
    
   },
   "metadata":{
    "datalore":{
     "node_id":"AkA5RDeFXmDDbFnV3B8YgD",
     "type":"MD",
     "hide_input_from_viewers":true,
     "hide_output_from_viewers":true
    }
   }
  },
  {
   "cell_type":"code",
   "source":[
    "Select avg(c.speed)\n",
    "from PC c\n",
    "join Product p on c.model = p.model\n",
    "where p.maker = 'A'"
   ],
   "execution_count":null,
   "outputs":[
    
   ],
   "metadata":{
    "datalore":{
     "node_id":"r05faqc5wmOKbq5Cpoiw85",
     "type":"SQL",
     "hide_input_from_viewers":true,
     "hide_output_from_viewers":true,
     "sql_cell_properties":{
      "variableName":"df_13"
     }
    }
   }
  },
  {
   "cell_type":"markdown",
   "source":[
    "Краткая информация о базе данных \"Корабли\":\n",
    "\n",
    "Рассматривается БД кораблей, участвовавших во второй мировой войне. Имеются следующие отношения:\\\n",
    "Classes (class, type, country, numGuns, bore, displacement)\\\n",
    "Ships (name, class, launched)\\\n",
    "Battles (name, date)\\\n",
    "Outcomes (ship, battle, result)\\\n",
    "Корабли в «классах» построены по одному и тому же проекту, и классу присваивается либо имя первого корабля, построенного по данному проекту, либо названию класса дается имя проекта, которое не совпадает ни с одним из кораблей в БД. Корабль, давший название классу, называется головным.\\\n",
    "Отношение Classes содержит имя класса, тип (bb для боевого (линейного) корабля или bc для боевого крейсера), страну, в которой построен корабль, число главных орудий, калибр орудий (диаметр ствола орудия в дюймах) и водоизмещение ( вес в тоннах).\\\n",
    "В отношении Ships записаны название корабля, имя его класса и год спуска на воду.\\\n",
    "В отношение Battles включены название и дата битвы, в которой участвовали корабли.\\\n",
    "В отношении Outcomes – результат участия данного корабля в битве (потоплен-sunk, поврежден - damaged или невредим - OK).\\\n",
    "Замечания.\n",
    " 1) В отношение Outcomes могут входить корабли, отсутствующие в отношении Ships. \n",
    " 2) Потопленный корабль в последующих битвах участия не принимает."
   ],
   "attachments":{
    
   },
   "metadata":{
    "datalore":{
     "node_id":"EhMBFtFIwpQNuIaMAiz4WA",
     "type":"MD",
     "hide_input_from_viewers":true,
     "hide_output_from_viewers":true
    }
   }
  },
  {
   "cell_type":"markdown",
   "source":[
    "Задание: 14 (Serge I: 2002-11-05)\n",
    "Найдите класс, имя и страну для кораблей из таблицы Ships, имеющих не менее 10 орудий."
   ],
   "attachments":{
    
   },
   "metadata":{
    "datalore":{
     "node_id":"2pZ3IBHyUOf1JCpyTD7vc5",
     "type":"MD",
     "hide_input_from_viewers":true,
     "hide_output_from_viewers":true
    }
   }
  },
  {
   "cell_type":"code",
   "source":[
    "Select s.class, s.name, c.country\n",
    "from Ships s\n",
    "join Classes c on s.class = c.class\n",
    "where c. numGuns >= 10"
   ],
   "execution_count":null,
   "outputs":[
    
   ],
   "metadata":{
    "datalore":{
     "node_id":"kqHdsqMeictR657rszgRAZ",
     "type":"SQL",
     "hide_input_from_viewers":true,
     "hide_output_from_viewers":true,
     "sql_cell_properties":{
      "variableName":"df_14"
     }
    }
   }
  },
  {
   "cell_type":"markdown",
   "source":[
    "Задание: 15 (Serge I: 2003-02-03)\n",
    "Найдите размеры жестких дисков, совпадающих у двух и более PC. Вывести: HD"
   ],
   "attachments":{
    
   },
   "metadata":{
    "datalore":{
     "node_id":"OfB0oGSd0QmpCV6fH7lXzt",
     "type":"MD",
     "hide_input_from_viewers":true,
     "hide_output_from_viewers":true
    }
   }
  },
  {
   "cell_type":"code",
   "source":[
    "Select hd\n",
    "from PC\n",
    "group by hd\n",
    "having count(hd) > 1"
   ],
   "execution_count":null,
   "outputs":[
    
   ],
   "metadata":{
    "datalore":{
     "node_id":"aTQWydvfd7i2DlIUewFTMN",
     "type":"SQL",
     "hide_input_from_viewers":true,
     "hide_output_from_viewers":true,
     "sql_cell_properties":{
      "variableName":"df_15"
     }
    }
   }
  },
  {
   "cell_type":"markdown",
   "source":[
    "Задание: 16 (Serge I: 2003-02-03)\n",
    "Найдите пары моделей PC, имеющих одинаковые скорость и RAM. В результате каждая пара указывается только один раз, т.е. (i,j), но не (j,i), Порядок вывода: модель с большим номером, модель с меньшим номером, скорость и RAM."
   ],
   "attachments":{
    
   },
   "metadata":{
    "datalore":{
     "node_id":"lybapqLe9WGLb2moIqVDwT",
     "type":"MD",
     "hide_input_from_viewers":true,
     "hide_output_from_viewers":true
    }
   }
  },
  {
   "cell_type":"code",
   "source":[
    "Select distinct p.model, c.model, p.speed, p.ram\n",
    "from PC p, PC c\n",
    "where p.speed = c.speed and p.ram = c.ram and p.model > c.model\n",
    "order by p.model desc, c.model desc"
   ],
   "execution_count":null,
   "outputs":[
    
   ],
   "metadata":{
    "datalore":{
     "node_id":"8p9UHeh5lRmBJjQBdnOlFb",
     "type":"SQL",
     "hide_input_from_viewers":true,
     "hide_output_from_viewers":true,
     "sql_cell_properties":{
      "variableName":"df_16"
     }
    }
   }
  },
  {
   "cell_type":"markdown",
   "source":[
    "Задание: 17 (Serge I: 2003-02-03)\n",
    "Найдите модели ПК-блокнотов, скорость которых меньше скорости каждого из ПК.\n",
    "Вывести: type, model, speed"
   ],
   "attachments":{
    
   },
   "metadata":{
    "datalore":{
     "node_id":"BXwOiBH0zF2QfSW13N5OVs",
     "type":"MD",
     "hide_input_from_viewers":true,
     "hide_output_from_viewers":true
    }
   }
  },
  {
   "cell_type":"code",
   "source":[
    "select distinct p.type, l.model, l.speed\n",
    "from Laptop l\n",
    "join Product p on p.model = l.model\n",
    "where l.speed < ALL(select speed from PC)"
   ],
   "execution_count":null,
   "outputs":[
    
   ],
   "metadata":{
    "datalore":{
     "node_id":"AfW7pwBjJP0x0P0GnTusrD",
     "type":"SQL",
     "hide_input_from_viewers":true,
     "hide_output_from_viewers":true,
     "sql_cell_properties":{
      "variableName":"df_17"
     }
    }
   }
  },
  {
   "cell_type":"markdown",
   "source":[
    "Задание: 18 (Serge I: 2003-02-03)\n",
    "Найдите производителей самых дешевых цветных принтеров. Вывести: maker, price"
   ],
   "attachments":{
    
   },
   "metadata":{
    "datalore":{
     "node_id":"yQNSKTVvG9pi09HqVcje5C",
     "type":"MD",
     "hide_input_from_viewers":true,
     "hide_output_from_viewers":true
    }
   }
  },
  {
   "cell_type":"code",
   "source":[
    "select distinct p1.maker, p2.price\n",
    "from Product p1\n",
    "join Printer p2 on p1.model = p2.model\n",
    "where p2.color = 'y' and p2.price in (select min(price) from Printer where color = 'y')"
   ],
   "execution_count":null,
   "outputs":[
    
   ],
   "metadata":{
    "datalore":{
     "node_id":"5Dwa6GtrqDSGmoWa30IUpb",
     "type":"SQL",
     "hide_input_from_viewers":true,
     "hide_output_from_viewers":true,
     "sql_cell_properties":{
      "variableName":"df_18"
     }
    }
   }
  },
  {
   "cell_type":"markdown",
   "source":[
    "Задание: 19 (Serge I: 2003-02-13)\n",
    "Для каждого производителя, имеющего модели в таблице Laptop, найдите средний размер экрана выпускаемых им ПК-блокнотов.\n",
    "Вывести: maker, средний размер экрана."
   ],
   "attachments":{
    
   },
   "metadata":{
    "datalore":{
     "node_id":"51gzP36Yi0mV1oMd4dwwEr",
     "type":"MD",
     "hide_input_from_viewers":true,
     "hide_output_from_viewers":true
    }
   }
  },
  {
   "cell_type":"code",
   "source":[
    "select p.maker, avg(l.screen)\n",
    "from Product p\n",
    "join Laptop l on p.model = l.model\n",
    "where p.type = 'laptop'\n",
    "group by p.maker"
   ],
   "execution_count":null,
   "outputs":[
    
   ],
   "metadata":{
    "datalore":{
     "node_id":"g3zJSxLE4wCcMd54mBMA0m",
     "type":"SQL",
     "hide_input_from_viewers":true,
     "hide_output_from_viewers":true,
     "sql_cell_properties":{
      "variableName":"df_19"
     }
    }
   }
  },
  {
   "cell_type":"markdown",
   "source":[
    "Задание: 20 (Serge I: 2003-02-13)\n",
    "Найдите производителей, выпускающих по меньшей мере три различных модели ПК. Вывести: Maker, число моделей ПК."
   ],
   "attachments":{
    
   },
   "metadata":{
    "datalore":{
     "node_id":"CKOmZ0GaDaab77jSy0Z24R",
     "type":"MD",
     "hide_input_from_viewers":true,
     "hide_output_from_viewers":true
    }
   }
  },
  {
   "cell_type":"code",
   "source":[
    "select maker, count(distinct model) as num_models\n",
    "from Product\n",
    "where type = 'PC'\n",
    "group by maker\n",
    "having count(distinct model) >= 3"
   ],
   "execution_count":null,
   "outputs":[
    
   ],
   "metadata":{
    "datalore":{
     "node_id":"fklUngxIbv9tTYJPKeYH2T",
     "type":"SQL",
     "hide_input_from_viewers":true,
     "hide_output_from_viewers":true,
     "sql_cell_properties":{
      "variableName":"df_20"
     }
    }
   }
  },
  {
   "cell_type":"markdown",
   "source":[
    "Задание: 21 (Serge I: 2003-02-13)\n",
    "Найдите максимальную цену ПК, выпускаемых каждым производителем, у которого есть модели в таблице PC.\n",
    "Вывести: maker, максимальная цена."
   ],
   "attachments":{
    
   },
   "metadata":{
    "datalore":{
     "node_id":"pPNkLvhDayQnPkTzrv7ASx",
     "type":"MD",
     "hide_input_from_viewers":true,
     "hide_output_from_viewers":true
    }
   }
  },
  {
   "cell_type":"code",
   "source":[
    "select p2.maker, max(p1.price)\n",
    "from PC p1\n",
    "join Product p2 on p1.model=p2.model\n",
    "group by p2.maker"
   ],
   "execution_count":null,
   "outputs":[
    
   ],
   "metadata":{
    "datalore":{
     "node_id":"19MbthV60osdbMEZK4ULLq",
     "type":"SQL",
     "hide_input_from_viewers":true,
     "hide_output_from_viewers":true,
     "sql_cell_properties":{
      "variableName":"df_21"
     }
    }
   }
  },
  {
   "cell_type":"markdown",
   "source":[
    "Задание: 22 (Serge I: 2003-02-13)\n",
    "Для каждого значения скорости ПК, превышающего 600 МГц, определите среднюю цену ПК с такой же скоростью. Вывести: speed, средняя цена."
   ],
   "attachments":{
    
   },
   "metadata":{
    "datalore":{
     "node_id":"JFF3UIBSwIY1mKGu0M8hr1",
     "type":"MD",
     "hide_input_from_viewers":true,
     "hide_output_from_viewers":true
    }
   }
  },
  {
   "cell_type":"code",
   "source":[
    "select speed, avg(price)\n",
    "from PC\n",
    "where speed > 600\n",
    "group by speed"
   ],
   "execution_count":null,
   "outputs":[
    
   ],
   "metadata":{
    "datalore":{
     "node_id":"J3xoVFlj504IYN2LMxXXy6",
     "type":"SQL",
     "hide_input_from_viewers":true,
     "hide_output_from_viewers":true,
     "sql_cell_properties":{
      "variableName":"df_22"
     }
    }
   }
  },
  {
   "cell_type":"markdown",
   "source":[
    "Задание: 23 (Serge I: 2003-02-14)\n",
    "Найдите производителей, которые производили бы как ПК\n",
    "со скоростью не менее 750 МГц, так и ПК-блокноты со скоростью не менее 750 МГц.\n",
    "Вывести: Maker"
   ],
   "attachments":{
    
   },
   "metadata":{
    "datalore":{
     "node_id":"pA7L2eueJtmqOKkPNpoMk1",
     "type":"MD",
     "hide_input_from_viewers":true,
     "hide_output_from_viewers":true
    }
   }
  },
  {
   "cell_type":"code",
   "source":[
    "select distinct maker \n",
    "from Product \n",
    "where maker IN (\n",
    "  select maker \n",
    "  from Product p\n",
    "  join PC on p.model = PC.model \n",
    "  where PC.speed >= 750\n",
    "  intersect\n",
    "  select maker \n",
    "  from Product p\n",
    "  join Laptop l on p.model = l.model \n",
    "  where l.speed >= 750\n",
    ")\n",
    "and type in ('PC', 'Laptop')"
   ],
   "execution_count":null,
   "outputs":[
    
   ],
   "metadata":{
    "datalore":{
     "node_id":"DJQLOHzDniFMSCQ52tpYcN",
     "type":"SQL",
     "hide_input_from_viewers":true,
     "hide_output_from_viewers":true,
     "sql_cell_properties":{
      "variableName":"df_23"
     }
    }
   }
  },
  {
   "cell_type":"markdown",
   "source":[
    "Задание: 24 (Serge I: 2003-02-03)\n",
    "Перечислите номера моделей любых типов, имеющих самую высокую цену по всей имеющейся в базе данных продукции."
   ],
   "attachments":{
    
   },
   "metadata":{
    "datalore":{
     "node_id":"8CSn3qd5eQDQxaABhj2yHh",
     "type":"MD",
     "hide_input_from_viewers":true,
     "hide_output_from_viewers":true
    }
   }
  },
  {
   "cell_type":"code",
   "source":[
    "with top_price as (select model, price\n",
    "from PC \n",
    "where price =\n",
    "(select max(price) price\n",
    "from PC)\n",
    "union\n",
    "select model, price\n",
    "from Laptop \n",
    "where price =\n",
    "(select max(price) price\n",
    "from Laptop)\n",
    "union\n",
    "select model, price\n",
    "from Printer \n",
    "where price =\n",
    "(select max(price) price\n",
    "from Printer))\n",
    "\n",
    "select model from top_price\n",
    "where price = (select max(price) from top_price)"
   ],
   "execution_count":null,
   "outputs":[
    
   ],
   "metadata":{
    "datalore":{
     "node_id":"7dQH4JXnrUszb450zhtyWt",
     "type":"SQL",
     "hide_input_from_viewers":true,
     "hide_output_from_viewers":true,
     "sql_cell_properties":{
      "variableName":"df_24"
     }
    }
   }
  },
  {
   "cell_type":"markdown",
   "source":[
    "Задание: 25 (Serge I: 2003-02-14)\n",
    "Найдите производителей принтеров, которые производят ПК с наименьшим объемом RAM и с самым быстрым процессором среди всех ПК, имеющих наименьший объем RAM. Вывести: Maker"
   ],
   "attachments":{
    
   },
   "metadata":{
    "datalore":{
     "node_id":"k8OrozfSXXiKQSG1YaXhBe",
     "type":"MD",
     "hide_input_from_viewers":true,
     "hide_output_from_viewers":true
    }
   }
  },
  {
   "cell_type":"code",
   "source":[
    "# Ваш запрос вернул правильные данные на основной базе, но не прошел тест на проверочной базе\n",
    "select distinct maker\n",
    "from Product\n",
    "where type = 'Printer'\n",
    "and maker in(\n",
    "select maker\n",
    "from Product\n",
    "where model in(\n",
    "select model\n",
    "from PC\n",
    "where speed in(\n",
    "select max(speed)\n",
    "from PC\n",
    "where ram in(\n",
    "select min(ram)\n",
    "from PC))))"
   ],
   "execution_count":null,
   "outputs":[
    
   ],
   "metadata":{
    "datalore":{
     "node_id":"bZhLfDr7fIPk8CVU28O9CP",
     "type":"SQL",
     "hide_input_from_viewers":true,
     "hide_output_from_viewers":true,
     "sql_cell_properties":{
      "variableName":"df_25"
     }
    }
   }
  },
  {
   "cell_type":"code",
   "source":[
    "# Ваш запрос не прошел проверку на третьей проверочной базе\n",
    "with PC_Printer_maker as (select maker, ram, speed\n",
    "from PC \n",
    "join Product p on p.model = PC.model\n",
    "where maker in(\n",
    "select distinct maker from Product\n",
    "where type = 'Printer')\n",
    "and type = 'PC')\n",
    "\n",
    "\n",
    "select distinct maker from PC_Printer_maker\n",
    "where ram in (select MIN(ram) from PC_Printer_maker)\n",
    "and speed in (select max(speed) from PC_Printer_maker\n",
    "where ram in (select MIN(ram) from PC_Printer_maker))"
   ],
   "execution_count":null,
   "outputs":[
    
   ],
   "metadata":{
    "datalore":{
     "node_id":"kKrzPULFabRD8A2Lp9Oex2",
     "type":"SQL",
     "hide_input_from_viewers":true,
     "hide_output_from_viewers":true,
     "sql_cell_properties":{
      "variableName":"df_28"
     }
    }
   }
  },
  {
   "cell_type":"markdown",
   "source":[
    "Задание: 26 (Serge I: 2003-02-14)\n",
    "Найдите среднюю цену ПК и ПК-блокнотов, выпущенных производителем A (латинская буква). Вывести: одна общая средняя цена."
   ],
   "attachments":{
    
   },
   "metadata":{
    "datalore":{
     "node_id":"CN2spM4lURo8HVwhOpsjML",
     "type":"MD",
     "hide_input_from_viewers":true,
     "hide_output_from_viewers":true
    }
   }
  },
  {
   "cell_type":"code",
   "source":[
    "select avg(price) as AVG_price\n",
    "from (\n",
    "select price\n",
    "from PC\n",
    "where model in(\n",
    "select model\n",
    "from Product\n",
    "where maker = 'A' and type = 'PC')\n",
    "union all\n",
    "select price\n",
    "from Laptop\n",
    "where model in(\n",
    "select model\n",
    "from Product\n",
    "where maker = 'A' and type = 'Laptop')\n",
    ") as prices"
   ],
   "execution_count":null,
   "outputs":[
    
   ],
   "metadata":{
    "datalore":{
     "node_id":"MEeSnoV930oxGRWG91Hf6p",
     "type":"SQL",
     "hide_input_from_viewers":true,
     "hide_output_from_viewers":true,
     "sql_cell_properties":{
      "variableName":"df_27"
     }
    }
   }
  },
  {
   "cell_type":"markdown",
   "source":[
    "Задание: 27 (Serge I: 2003-02-03)\n",
    "Найдите средний размер диска ПК каждого из тех производителей, которые выпускают и принтеры. Вывести: maker, средний размер HD."
   ],
   "attachments":{
    
   },
   "metadata":{
    "datalore":{
     "node_id":"CcRqL59DZCIGm1DT3gwMK1",
     "type":"MD",
     "hide_input_from_viewers":true,
     "hide_output_from_viewers":true
    }
   }
  },
  {
   "cell_type":"code",
   "source":[
    "select maker, avg(hd) as AVG_hd\n",
    "from Product p \n",
    "join PC on p.model = PC.model\n",
    "where maker in (\n",
    "select maker\n",
    "from Product\n",
    "where type = 'Printer')\n",
    "group by maker"
   ],
   "execution_count":null,
   "outputs":[
    
   ],
   "metadata":{
    "datalore":{
     "node_id":"CmOwA1NI5jWjLNacSoVqMR",
     "type":"SQL",
     "hide_input_from_viewers":true,
     "hide_output_from_viewers":true,
     "sql_cell_properties":{
      "variableName":"df_29"
     }
    }
   }
  },
  {
   "cell_type":"markdown",
   "source":[
    "Задание: 28 (Serge I: 2012-05-04)\n",
    "Используя таблицу Product, определить количество производителей, выпускающих по одной модели."
   ],
   "attachments":{
    
   },
   "metadata":{
    "datalore":{
     "node_id":"vmyz37NutliF98RS5h7Rq9",
     "type":"MD",
     "hide_input_from_viewers":true,
     "hide_output_from_viewers":true
    }
   }
  },
  {
   "cell_type":"code",
   "source":[
    "select count(one_model_maker)\n",
    "from (\n",
    "select count(model) one_model_maker\n",
    "from Product\n",
    "group by maker\n",
    "having count(maker) = 1) as one_model_maker_table"
   ],
   "execution_count":null,
   "outputs":[
    
   ],
   "metadata":{
    "datalore":{
     "node_id":"WGrkCzV4XqBABVLDrs41WS",
     "type":"SQL",
     "hide_input_from_viewers":true,
     "hide_output_from_viewers":true,
     "sql_cell_properties":{
      "variableName":"df_30"
     }
    }
   }
  },
  {
   "cell_type":"markdown",
   "source":[
    "Задание: 29 (Serge I: 2003-02-14)\n",
    "В предположении, что приход и расход денег на каждом пункте приема фиксируется не чаще одного раза в день [т.е. первичный ключ (пункт, дата)], написать запрос с выходными данными (пункт, дата, приход, расход). Использовать таблицы Income_o и Outcome_o."
   ],
   "attachments":{
    
   },
   "metadata":{
    "datalore":{
     "node_id":"kkTkXkFpDFk1AiULesP9F5",
     "type":"MD",
     "hide_input_from_viewers":true,
     "hide_output_from_viewers":true
    }
   }
  },
  {
   "cell_type":"markdown",
   "source":[
    "\n",
    "Краткая информация о базе данных \"Фирма вторсырья\"\n",
    "\n",
    "Фирма имеет несколько пунктов приема вторсырья. Каждый пункт получает деньги для их выдачи сдатчикам вторсырья. Сведения о получении денег на пунктах приема записываются в таблицу:\\\n",
    "Income_o(point, date, inc)\\\n",
    "Первичным ключом является (point, date). При этом в столбец date записывается только дата (без времени), т.е. прием денег (inc) на каждом пункте производится не чаще одного раза в день.\\\n",
    "Сведения о выдаче денег сдатчикам вторсырья записываются в таблицу:\\\n",
    "Outcome_o(point, date, out)\n",
    "В этой таблице также первичный ключ (point, date) гарантирует отчетность каждого пункта о выданных деньгах (out) не чаще одного раза в день.\\\n",
    "В случае, когда приход и расход денег может фиксироваться несколько раз в день, используется другая схема с таблицами, имеющими первичный ключ code:\\\n",
    "Income(code, point, date, inc)\\\n",
    "Outcome(code, point, date, out)\\\n",
    "Здесь также значения столбца date не содержат времени."
   ],
   "attachments":{
    
   },
   "metadata":{
    "datalore":{
     "node_id":"JA3nGSpPh22NXF9M8d6sbQ",
     "type":"MD",
     "hide_input_from_viewers":true,
     "hide_output_from_viewers":true
    }
   }
  },
  {
   "cell_type":"code",
   "source":[
    "select i.*, o.out\n",
    "from Income_o i\n",
    "join Outcome_o o on i.point = o.point and i.date = o.date"
   ],
   "execution_count":null,
   "outputs":[
    
   ],
   "metadata":{
    "datalore":{
     "node_id":"XnCSFclB84T8DKSCHhP1P9",
     "type":"SQL",
     "hide_input_from_viewers":true,
     "hide_output_from_viewers":true,
     "sql_cell_properties":{
      "variableName":"df_31"
     }
    }
   }
  },
  {
   "cell_type":"markdown",
   "source":[
    "Задание: 30 (Serge I: 2003-02-14)\n",
    "В предположении, что приход и расход денег на каждом пункте приема фиксируется произвольное число раз (первичным ключом в таблицах является столбец code), требуется получить таблицу, в которой каждому пункту за каждую дату выполнения операций будет соответствовать одна строка.\n",
    "Вывод: point, date, суммарный расход пункта за день (out), суммарный приход пункта за день (inc). Отсутствующие значения считать неопределенными (NULL)."
   ],
   "attachments":{
    
   },
   "metadata":{
    "datalore":{
     "node_id":"PgA12jGwegu4m7x2uDon9E",
     "type":"MD",
     "hide_input_from_viewers":true,
     "hide_output_from_viewers":true
    }
   }
  },
  {
   "cell_type":"code",
   "source":[
    
   ],
   "execution_count":null,
   "outputs":[
    
   ],
   "metadata":{
    "datalore":{
     "node_id":"nzBNwBWXhaXiCDQSn9v4Yb",
     "type":"CODE",
     "hide_input_from_viewers":true,
     "hide_output_from_viewers":true
    }
   }
  }
 ],
 "metadata":{
  "kernelspec":{
   "display_name":"Python",
   "language":"python",
   "name":"python"
  },
  "datalore":{
   "version":1,
   "computation_mode":"JUPYTER",
   "package_manager":"pip",
   "base_environment":"default",
   "packages":[
    
   ]
  }
 },
 "nbformat":4,
 "nbformat_minor":4
}